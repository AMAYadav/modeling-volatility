{
 "cells": [
  {
   "cell_type": "markdown",
   "metadata": {
    "colab_type": "text",
    "id": "view-in-github"
   },
   "source": [
    "<a href=\"https://colab.research.google.com/github/fintechsteve/modeling-volatility/blob/master/Part_04a_Understanding_Turbulence_Signals.ipynb\" target=\"_parent\"><img src=\"https://colab.research.google.com/assets/colab-badge.svg\" alt=\"Open In Colab\"/></a>"
   ]
  },
  {
   "cell_type": "markdown",
   "metadata": {
    "colab_type": "text",
    "id": "BtCSSGGdu4Qt"
   },
   "source": [
    "## Part 04 (a): Understanding Turbulence Signals\n",
    "\n",
    "### In this section you will:\n",
    "\n",
    "\n",
    "*   Learn about Turbulence and its use in investment management\n",
    "*   Use a matrix of currency returns to calculate turbulence.\n",
    "*   Explore the time series properties of turbulence\n",
    "\n",
    "### Intro\n",
    "\n",
    "Turbulence is a heuristic measure of volatility made popular by Chow et al. (1999) in \"[Optimal Portfolios in Good Times and Bad](https://doi.org/10.2469/faj.v55.n3.2273)\" based on the distance metric proposed by Mahalanobis in \"[On the generalised distance in statistics](http://insa.nic.in/writereaddata/UpLoadedFiles/PINSA/Vol02_1936_1_Art05.pdf)\".\n",
    "\n",
    "In statistical terms, the metric $d_t$ describes how abnormal a set of returns are by comparing them against a normal approximation of the historic distribution of returns:\n",
    "\n",
    "\\begin{equation*}\n",
    "d_t = \\left( r_t - \\mathbf{\\mu} \\right) \\mathbf{\\Sigma}^{-1} \\left( r_t - \\mathbf{\\mu} \\right)'\n",
    "\\end{equation*}\n",
    "\n",
    "Where $\\mathbf{\\Sigma}$ and $\\mathbf{\\mu}$ are the covariance and mean return measured over the past $n$ days."
   ]
  },
  {
   "cell_type": "markdown",
   "metadata": {
    "colab_type": "text",
    "id": "ETMoGdnNrtjj"
   },
   "source": [
    "## Import all necessary libraries\n",
    "\n",
    "For this piece, we will need the following packages to be available to our environment:\n",
    "\n",
    "*   Numpy and Pandas (For data manipulation)\n",
    "*   DateTime (For basic date manipulation)\n",
    "*   Matplotlib (For timeseries vizualization)\n",
    "\n",
    "If the packages are not available, install the with \"pip install X\""
   ]
  },
  {
   "cell_type": "code",
   "execution_count": null,
   "metadata": {
    "colab": {},
    "colab_type": "code",
    "id": "FS6GYKq6T-ih"
   },
   "outputs": [],
   "source": [
    "import numpy as np, pandas as pd\n",
    "import statistics\n",
    "from datetime import datetime, timedelta\n",
    "import pickle\n",
    "import matplotlib.pyplot as plt\n",
    "%matplotlib inline"
   ]
  },
  {
   "cell_type": "markdown",
   "metadata": {
    "colab_type": "text",
    "id": "wBoMCDKYsdli"
   },
   "source": [
    "### Read in data from previously stored returns.pkl file\n",
    "\n"
   ]
  },
  {
   "cell_type": "code",
   "execution_count": null,
   "metadata": {
    "cellView": "both",
    "colab": {
     "base_uri": "https://localhost:8080/",
     "height": 549
    },
    "colab_type": "code",
    "id": "cFySsoztT-i9",
    "outputId": "8495eefc-671e-4942-a0ee-56543c378082"
   },
   "outputs": [],
   "source": [
    "with open('./returns.pkl', 'rb') as f:\n",
    "    returns = pickle.load(f)\n",
    "    f.close()\n",
    "returns.head(10)"
   ]
  },
  {
   "cell_type": "markdown",
   "metadata": {
    "colab_type": "text",
    "id": "WPfZk0NLtIaU"
   },
   "source": [
    "### Calculate a covariance and mean of returns\n",
    "For now, we will calcualte turbulence using the full sample covariance and mean.\n",
    "\n",
    "df.cov() and df.mean() are needed."
   ]
  },
  {
   "cell_type": "code",
   "execution_count": null,
   "metadata": {
    "colab": {
     "base_uri": "https://localhost:8080/",
     "height": 348
    },
    "colab_type": "code",
    "id": "cyFwsRh7T-jC",
    "outputId": "981bfe2a-8689-4ae8-fdd8-2f2bb65b04df"
   },
   "outputs": [],
   "source": [
    "retcov = returns.cov()\n",
    "retcov"
   ]
  },
  {
   "cell_type": "code",
   "execution_count": null,
   "metadata": {
    "colab": {
     "base_uri": "https://localhost:8080/",
     "height": 187
    },
    "colab_type": "code",
    "id": "ZYRisZw66GDy",
    "outputId": "7df8432f-d2a4-47c1-856c-49d0d99972cc"
   },
   "outputs": [],
   "source": [
    "retmean = returns.mean()\n",
    "retmean"
   ]
  },
  {
   "cell_type": "markdown",
   "metadata": {
    "colab_type": "text",
    "id": "nrZTZ568uGXu"
   },
   "source": [
    "### Calculate turbulence by demeaning and applying inverse covariance matrix\n",
    "\n",
    "np.linalg.pinv is a quick way of calculating the inverse of a covariance matrix.\n",
    "np.einsum is a useful tool for matrix algebra. einsum('ij,ij->i',A, B) calculates the sumproduct of rows of A and B."
   ]
  },
  {
   "cell_type": "code",
   "execution_count": null,
   "metadata": {
    "colab": {
     "base_uri": "https://localhost:8080/",
     "height": 204
    },
    "colab_type": "code",
    "id": "5GYgPevt22DJ",
    "outputId": "0d71aed7-94e6-4945-e662-ca8297bae002"
   },
   "outputs": [],
   "source": [
    "retinvcov = np.linalg.pinv(retcov)\n",
    "turbulence = pd.DataFrame(np.einsum('ij,ij->i',(returns - retmean),(returns-retmean)@retinvcov),index=returns.index,columns=['daily'])\n",
    "turbulence.head()"
   ]
  },
  {
   "cell_type": "code",
   "execution_count": null,
   "metadata": {
    "colab": {
     "base_uri": "https://localhost:8080/",
     "height": 354
    },
    "colab_type": "code",
    "id": "MjKhquX373So",
    "outputId": "b033ec1e-7d2d-45fc-8012-a23a37ae487f"
   },
   "outputs": [],
   "source": [
    "fig, axes = plt.subplots(1, 1, figsize=(10, 5))\n",
    "turbulence.plot(subplots=True, ax=axes, sharex=False, sharey=False, legend=False)"
   ]
  },
  {
   "cell_type": "markdown",
   "metadata": {
    "colab_type": "text",
    "id": "N20M0VTMyxil"
   },
   "source": [
    "### Demonstrate that contemporaneously turbulence is concurrrent with high index volatility\n",
    "\n"
   ]
  },
  {
   "cell_type": "code",
   "execution_count": null,
   "metadata": {
    "colab": {},
    "colab_type": "code",
    "id": "naWuvBdzu-NZ"
   },
   "outputs": [],
   "source": [
    "dxy_weight = [0, 0.119, 0.036, 0, 0.136, 0.576, 0, 0, 0.091]\n",
    "dxy = returns.dot(dxy_weight)"
   ]
  },
  {
   "cell_type": "code",
   "execution_count": null,
   "metadata": {
    "colab": {
     "base_uri": "https://localhost:8080/",
     "height": 111
    },
    "colab_type": "code",
    "id": "VL5tpBzRSQJp",
    "outputId": "533863c3-6f28-4897-bad5-eb371fdb37c4"
   },
   "outputs": [],
   "source": [
    "highturbulence = turbulence['daily']>np.percentile(turbulence['daily'],80)\n",
    "pd.DataFrame([[np.sqrt(261)*dxy[highturbulence].std(), np.sqrt(261)*dxy[~highturbulence].std()], [sum(highturbulence), sum(~highturbulence)]], index=['std','N'], columns=['High Turb','Low Turb'])"
   ]
  },
  {
   "cell_type": "markdown",
   "metadata": {
    "colab_type": "text",
    "id": "byOlnZO40EDx"
   },
   "source": [
    "### Demonstrate that turbulence leads to persistently high volatility days"
   ]
  },
  {
   "cell_type": "code",
   "execution_count": null,
   "metadata": {
    "colab": {
     "base_uri": "https://localhost:8080/",
     "height": 390
    },
    "colab_type": "code",
    "id": "stRMHt7qy6Pr",
    "outputId": "d3feb0f9-2659-4159-f484-7706411d3029"
   },
   "outputs": [],
   "source": [
    "leading_dxy = pd.DataFrame([dxy.shift(-i) for i in range(0, 11)]).T\n",
    "subsequent_vol = pd.DataFrame([leading_dxy[highturbulence].std(), leading_dxy[~highturbulence].std()],index=['High Turb','Low Turb']).T\n",
    "subsequent_vol"
   ]
  },
  {
   "cell_type": "code",
   "execution_count": null,
   "metadata": {
    "colab": {
     "base_uri": "https://localhost:8080/",
     "height": 364
    },
    "colab_type": "code",
    "id": "-93ZyVJIPwv6",
    "outputId": "2c18930d-c218-480e-e971-25f8ab0bfc92"
   },
   "outputs": [],
   "source": [
    "subsequent_vol.plot()"
   ]
  },
  {
   "cell_type": "code",
   "execution_count": null,
   "metadata": {
    "colab": {},
    "colab_type": "code",
    "id": "Zcaj07aCaX6o"
   },
   "outputs": [],
   "source": []
  }
 ],
 "metadata": {
  "colab": {
   "collapsed_sections": [],
   "include_colab_link": true,
   "name": "Part_04_Understanding_Turbulence_Signals.ipynb",
   "provenance": [],
   "version": "0.3.2"
  },
  "kernelspec": {
   "display_name": "Python 3",
   "language": "python",
   "name": "python3"
  },
  "language_info": {
   "codemirror_mode": {
    "name": "ipython",
    "version": 3
   },
   "file_extension": ".py",
   "mimetype": "text/x-python",
   "name": "python",
   "nbconvert_exporter": "python",
   "pygments_lexer": "ipython3",
   "version": "3.7.3"
  }
 },
 "nbformat": 4,
 "nbformat_minor": 1
}
