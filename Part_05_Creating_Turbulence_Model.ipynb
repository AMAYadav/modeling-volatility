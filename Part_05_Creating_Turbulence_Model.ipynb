{
  "nbformat": 4,
  "nbformat_minor": 0,
  "metadata": {
    "colab": {
      "name": "Part_05_Creating_Turbulence_Model.ipynb",
      "version": "0.3.2",
      "provenance": [],
      "collapsed_sections": [],
      "include_colab_link": true
    },
    "kernelspec": {
      "display_name": "Python 3",
      "language": "python",
      "name": "python3"
    }
  },
  "cells": [
    {
      "cell_type": "markdown",
      "metadata": {
        "id": "view-in-github",
        "colab_type": "text"
      },
      "source": [
        "<a href=\"https://colab.research.google.com/github/fintechsteve/modeling-volatility/blob/master/Part_05_Creating_Turbulence_Model.ipynb\" target=\"_parent\"><img src=\"https://colab.research.google.com/assets/colab-badge.svg\" alt=\"Open In Colab\"/></a>"
      ]
    },
    {
      "metadata": {
        "id": "BtCSSGGdu4Qt",
        "colab_type": "text"
      },
      "cell_type": "markdown",
      "source": [
        "## Part 05: Creating a Turbulence Model\n",
        "\n",
        "### In this section you will:\n",
        "\n",
        "\n",
        "*   Create a turbulence function that estimates turbulence with a rolling window.\n",
        "*   Transform a turbulence signal into set of dynamic weights. Track performance of the model.\n",
        "*   Optimize the lookback and smoothing window.\n"
      ]
    },
    {
      "metadata": {
        "id": "ETMoGdnNrtjj",
        "colab_type": "text"
      },
      "cell_type": "markdown",
      "source": [
        "## Import all necessary libraries\n",
        "\n",
        "For this piece, we will need the following packages to be available to our environment:\n",
        "\n",
        "*   Numpy and Pandas (For data manipulation)\n",
        "*   DateTime (For basic date manipulation)\n",
        "*   Matplotlib (For timeseries vizualization)\n",
        "\n",
        "If the packages are not available, install the with \"pip install X\""
      ]
    },
    {
      "metadata": {
        "id": "FS6GYKq6T-ih",
        "colab_type": "code",
        "colab": {}
      },
      "cell_type": "code",
      "source": [
        "import numpy as np, pandas as pd\n",
        "from datetime import datetime, timedelta\n",
        "import pickle\n",
        "import matplotlib.pyplot as plt"
      ],
      "execution_count": 0,
      "outputs": []
    },
    {
      "metadata": {
        "id": "wBoMCDKYsdli",
        "colab_type": "text"
      },
      "cell_type": "markdown",
      "source": [
        "### Read in data from previously stored returns.pkl file\n",
        "\n"
      ]
    },
    {
      "metadata": {
        "id": "cFySsoztT-i9",
        "colab_type": "code",
        "cellView": "both",
        "outputId": "ae14f89e-f32e-4a79-f015-a761c65b0d14",
        "colab": {
          "base_uri": "https://localhost:8080/",
          "height": 359
        }
      },
      "cell_type": "code",
      "source": [
        "with open('./returns.pkl', 'rb') as f:\n",
        "    returns = pickle.load(f)\n",
        "    f.close()\n",
        "returns.head(10)"
      ],
      "execution_count": 74,
      "outputs": [
        {
          "output_type": "execute_result",
          "data": {
            "text/html": [
              "<div>\n",
              "<style scoped>\n",
              "    .dataframe tbody tr th:only-of-type {\n",
              "        vertical-align: middle;\n",
              "    }\n",
              "\n",
              "    .dataframe tbody tr th {\n",
              "        vertical-align: top;\n",
              "    }\n",
              "\n",
              "    .dataframe thead th {\n",
              "        text-align: right;\n",
              "    }\n",
              "</style>\n",
              "<table border=\"1\" class=\"dataframe\">\n",
              "  <thead>\n",
              "    <tr style=\"text-align: right;\">\n",
              "      <th></th>\n",
              "      <th>AUD</th>\n",
              "      <th>CAD</th>\n",
              "      <th>CHF</th>\n",
              "      <th>EUR</th>\n",
              "      <th>GBP</th>\n",
              "      <th>JPY</th>\n",
              "      <th>NOK</th>\n",
              "      <th>NZD</th>\n",
              "      <th>SEK</th>\n",
              "    </tr>\n",
              "  </thead>\n",
              "  <tbody>\n",
              "    <tr>\n",
              "      <th>1975-01-02</th>\n",
              "      <td>-0.002129</td>\n",
              "      <td>-1.712061e-03</td>\n",
              "      <td>-0.009915</td>\n",
              "      <td>-0.003544</td>\n",
              "      <td>-0.005745</td>\n",
              "      <td>-0.001502</td>\n",
              "      <td>-0.003299</td>\n",
              "      <td>0.000536</td>\n",
              "      <td>-0.004704</td>\n",
              "    </tr>\n",
              "    <tr>\n",
              "      <th>1975-01-03</th>\n",
              "      <td>-0.000947</td>\n",
              "      <td>1.517425e-05</td>\n",
              "      <td>0.008500</td>\n",
              "      <td>0.007886</td>\n",
              "      <td>0.003424</td>\n",
              "      <td>0.002711</td>\n",
              "      <td>0.008801</td>\n",
              "      <td>-0.001924</td>\n",
              "      <td>0.007113</td>\n",
              "    </tr>\n",
              "    <tr>\n",
              "      <th>1975-01-06</th>\n",
              "      <td>-0.001158</td>\n",
              "      <td>6.677374e-04</td>\n",
              "      <td>-0.001023</td>\n",
              "      <td>0.008174</td>\n",
              "      <td>0.002346</td>\n",
              "      <td>-0.004728</td>\n",
              "      <td>0.002759</td>\n",
              "      <td>-0.001129</td>\n",
              "      <td>0.009237</td>\n",
              "    </tr>\n",
              "    <tr>\n",
              "      <th>1975-01-07</th>\n",
              "      <td>0.004193</td>\n",
              "      <td>-1.726304e-03</td>\n",
              "      <td>0.001702</td>\n",
              "      <td>0.002150</td>\n",
              "      <td>0.001702</td>\n",
              "      <td>0.002410</td>\n",
              "      <td>0.005434</td>\n",
              "      <td>0.004567</td>\n",
              "      <td>-0.001466</td>\n",
              "    </tr>\n",
              "    <tr>\n",
              "      <th>1975-01-08</th>\n",
              "      <td>-0.001489</td>\n",
              "      <td>-2.000930e-04</td>\n",
              "      <td>-0.015237</td>\n",
              "      <td>-0.008650</td>\n",
              "      <td>-0.001997</td>\n",
              "      <td>0.000122</td>\n",
              "      <td>-0.006315</td>\n",
              "      <td>-0.000034</td>\n",
              "      <td>-0.006188</td>\n",
              "    </tr>\n",
              "    <tr>\n",
              "      <th>1975-01-09</th>\n",
              "      <td>-0.000324</td>\n",
              "      <td>-3.120108e-03</td>\n",
              "      <td>0.000298</td>\n",
              "      <td>0.004764</td>\n",
              "      <td>0.000298</td>\n",
              "      <td>-0.000409</td>\n",
              "      <td>-0.000114</td>\n",
              "      <td>-0.001217</td>\n",
              "      <td>-0.000751</td>\n",
              "    </tr>\n",
              "    <tr>\n",
              "      <th>1975-01-10</th>\n",
              "      <td>0.000077</td>\n",
              "      <td>-1.283429e-03</td>\n",
              "      <td>0.001489</td>\n",
              "      <td>0.001489</td>\n",
              "      <td>0.001489</td>\n",
              "      <td>0.000075</td>\n",
              "      <td>0.006256</td>\n",
              "      <td>0.000311</td>\n",
              "      <td>0.001489</td>\n",
              "    </tr>\n",
              "    <tr>\n",
              "      <th>1975-01-13</th>\n",
              "      <td>0.000579</td>\n",
              "      <td>-3.152212e-07</td>\n",
              "      <td>0.001789</td>\n",
              "      <td>-0.001210</td>\n",
              "      <td>0.000127</td>\n",
              "      <td>-0.000578</td>\n",
              "      <td>0.000542</td>\n",
              "      <td>0.000969</td>\n",
              "      <td>-0.002488</td>\n",
              "    </tr>\n",
              "    <tr>\n",
              "      <th>1975-01-14</th>\n",
              "      <td>-0.000699</td>\n",
              "      <td>7.303998e-04</td>\n",
              "      <td>-0.005132</td>\n",
              "      <td>-0.006698</td>\n",
              "      <td>-0.001827</td>\n",
              "      <td>0.000291</td>\n",
              "      <td>-0.006558</td>\n",
              "      <td>-0.000762</td>\n",
              "      <td>-0.007795</td>\n",
              "    </tr>\n",
              "    <tr>\n",
              "      <th>1975-01-15</th>\n",
              "      <td>-0.000934</td>\n",
              "      <td>1.198868e-03</td>\n",
              "      <td>-0.002078</td>\n",
              "      <td>0.001797</td>\n",
              "      <td>-0.000426</td>\n",
              "      <td>-0.002542</td>\n",
              "      <td>-0.002276</td>\n",
              "      <td>-0.000594</td>\n",
              "      <td>0.000094</td>\n",
              "    </tr>\n",
              "  </tbody>\n",
              "</table>\n",
              "</div>"
            ],
            "text/plain": [
              "                 AUD           CAD       CHF       EUR       GBP       JPY  \\\n",
              "1975-01-02 -0.002129 -1.712061e-03 -0.009915 -0.003544 -0.005745 -0.001502   \n",
              "1975-01-03 -0.000947  1.517425e-05  0.008500  0.007886  0.003424  0.002711   \n",
              "1975-01-06 -0.001158  6.677374e-04 -0.001023  0.008174  0.002346 -0.004728   \n",
              "1975-01-07  0.004193 -1.726304e-03  0.001702  0.002150  0.001702  0.002410   \n",
              "1975-01-08 -0.001489 -2.000930e-04 -0.015237 -0.008650 -0.001997  0.000122   \n",
              "1975-01-09 -0.000324 -3.120108e-03  0.000298  0.004764  0.000298 -0.000409   \n",
              "1975-01-10  0.000077 -1.283429e-03  0.001489  0.001489  0.001489  0.000075   \n",
              "1975-01-13  0.000579 -3.152212e-07  0.001789 -0.001210  0.000127 -0.000578   \n",
              "1975-01-14 -0.000699  7.303998e-04 -0.005132 -0.006698 -0.001827  0.000291   \n",
              "1975-01-15 -0.000934  1.198868e-03 -0.002078  0.001797 -0.000426 -0.002542   \n",
              "\n",
              "                 NOK       NZD       SEK  \n",
              "1975-01-02 -0.003299  0.000536 -0.004704  \n",
              "1975-01-03  0.008801 -0.001924  0.007113  \n",
              "1975-01-06  0.002759 -0.001129  0.009237  \n",
              "1975-01-07  0.005434  0.004567 -0.001466  \n",
              "1975-01-08 -0.006315 -0.000034 -0.006188  \n",
              "1975-01-09 -0.000114 -0.001217 -0.000751  \n",
              "1975-01-10  0.006256  0.000311  0.001489  \n",
              "1975-01-13  0.000542  0.000969 -0.002488  \n",
              "1975-01-14 -0.006558 -0.000762 -0.007795  \n",
              "1975-01-15 -0.002276 -0.000594  0.000094  "
            ]
          },
          "metadata": {
            "tags": []
          },
          "execution_count": 74
        }
      ]
    },
    {
      "metadata": {
        "id": "WPfZk0NLtIaU",
        "colab_type": "text"
      },
      "cell_type": "markdown",
      "source": [
        "### Create a function that calculates turbulence for the whole window supplied using the last row as the observed return\n",
        "\n",
        "Note that for faster computation we can replace ``` np.linalg.pinv(covmat)@(r - mu) ``` with ``` np.linalg.lstsq(covmat, r - mu)[0] ```\n",
        "\n",
        "Also note that a more proper calculation of turbulence would only use rows 1:n-1 to calculate mean and covariance. But everybody seems to include n, so we aren't going to get upset here because it is simpler."
      ]
    },
    {
      "metadata": {
        "id": "cyFwsRh7T-jC",
        "colab_type": "code",
        "colab": {}
      },
      "cell_type": "code",
      "source": [
        "def simple_turbulence(rets):\n",
        "  meanret = rets.mean()\n",
        "  covrets = rets.cov()\n",
        "  return pd.DataFrame((rets[-1:]-meanret)@np.linalg.lstsq(covrets,(rets[-1:]-meanret).T, rcond=None)[0],index=[rets.index[-1]],columns=['daily'])"
      ],
      "execution_count": 0,
      "outputs": []
    },
    {
      "metadata": {
        "id": "qinK625FmwO3",
        "colab_type": "code",
        "colab": {
          "base_uri": "https://localhost:8080/",
          "height": 80
        },
        "outputId": "55e1b5ca-b697-4f0f-cca5-7cbf11ec3442"
      },
      "cell_type": "code",
      "source": [
        "simple_turbulence(returns)"
      ],
      "execution_count": 36,
      "outputs": [
        {
          "output_type": "execute_result",
          "data": {
            "text/html": [
              "<div>\n",
              "<style scoped>\n",
              "    .dataframe tbody tr th:only-of-type {\n",
              "        vertical-align: middle;\n",
              "    }\n",
              "\n",
              "    .dataframe tbody tr th {\n",
              "        vertical-align: top;\n",
              "    }\n",
              "\n",
              "    .dataframe thead th {\n",
              "        text-align: right;\n",
              "    }\n",
              "</style>\n",
              "<table border=\"1\" class=\"dataframe\">\n",
              "  <thead>\n",
              "    <tr style=\"text-align: right;\">\n",
              "      <th></th>\n",
              "      <th>daily</th>\n",
              "    </tr>\n",
              "  </thead>\n",
              "  <tbody>\n",
              "    <tr>\n",
              "      <th>2017-12-26</th>\n",
              "      <td>1.944164</td>\n",
              "    </tr>\n",
              "  </tbody>\n",
              "</table>\n",
              "</div>"
            ],
            "text/plain": [
              "               daily\n",
              "2017-12-26  1.944164"
            ]
          },
          "metadata": {
            "tags": []
          },
          "execution_count": 36
        }
      ]
    },
    {
      "metadata": {
        "id": "6rL7V05_kAzg",
        "colab_type": "text"
      },
      "cell_type": "markdown",
      "source": [
        "### Create a function that calculates rolling turbulence given a lookback window and a smoothing window\n",
        "\n",
        "To do this, we are going to create a function ```roll``` that generates a rolling window of returns for a specified window length, and a function that applies the turbulence calculation to that window."
      ]
    },
    {
      "metadata": {
        "id": "ZYRisZw66GDy",
        "colab_type": "code",
        "colab": {}
      },
      "cell_type": "code",
      "source": [
        "def roll(df, w):\n",
        "    for i in range(df.shape[0] - w + 1):\n",
        "        yield pd.DataFrame(df.values[i:i+w, :], df.index[i:i+w], df.columns)\n",
        "  \n",
        "def rolling_turbulence(rets, lookback=260, smoothing=20):\n",
        "    roll_turb = pd.concat([simple_turbulence(retwindow) for retwindow in roll(rets, lookback)], axis=0)\n",
        "    roll_turb_smooth = pd.DataFrame(roll_turb.rolling(smoothing).mean()).rename(columns={'daily':'smoothed'})\n",
        "    rets = rets.join(roll_turb)\n",
        "    rets = rets.join(roll_turb_smooth)\n",
        "    return rets[['daily','smoothed']]"
      ],
      "execution_count": 0,
      "outputs": []
    },
    {
      "metadata": {
        "id": "al1TiJa-msmW",
        "colab_type": "code",
        "colab": {
          "base_uri": "https://localhost:8080/",
          "height": 669
        },
        "outputId": "557da09e-5728-41af-f072-6d1a8ecc7087"
      },
      "cell_type": "code",
      "source": [
        "roll_turb = rolling_turbulence(returns, lookback=260, smoothing=20)\n",
        "roll_turb.tail(20)"
      ],
      "execution_count": 72,
      "outputs": [
        {
          "output_type": "execute_result",
          "data": {
            "text/html": [
              "<div>\n",
              "<style scoped>\n",
              "    .dataframe tbody tr th:only-of-type {\n",
              "        vertical-align: middle;\n",
              "    }\n",
              "\n",
              "    .dataframe tbody tr th {\n",
              "        vertical-align: top;\n",
              "    }\n",
              "\n",
              "    .dataframe thead th {\n",
              "        text-align: right;\n",
              "    }\n",
              "</style>\n",
              "<table border=\"1\" class=\"dataframe\">\n",
              "  <thead>\n",
              "    <tr style=\"text-align: right;\">\n",
              "      <th></th>\n",
              "      <th>daily</th>\n",
              "      <th>smoothed</th>\n",
              "    </tr>\n",
              "  </thead>\n",
              "  <tbody>\n",
              "    <tr>\n",
              "      <th>2017-11-29</th>\n",
              "      <td>11.708329</td>\n",
              "      <td>8.198902</td>\n",
              "    </tr>\n",
              "    <tr>\n",
              "      <th>2017-11-30</th>\n",
              "      <td>19.434739</td>\n",
              "      <td>8.275519</td>\n",
              "    </tr>\n",
              "    <tr>\n",
              "      <th>2017-12-01</th>\n",
              "      <td>16.035338</td>\n",
              "      <td>8.625853</td>\n",
              "    </tr>\n",
              "    <tr>\n",
              "      <th>2017-12-04</th>\n",
              "      <td>3.472929</td>\n",
              "      <td>8.539207</td>\n",
              "    </tr>\n",
              "    <tr>\n",
              "      <th>2017-12-05</th>\n",
              "      <td>4.495685</td>\n",
              "      <td>8.672033</td>\n",
              "    </tr>\n",
              "    <tr>\n",
              "      <th>2017-12-06</th>\n",
              "      <td>15.095148</td>\n",
              "      <td>9.194906</td>\n",
              "    </tr>\n",
              "    <tr>\n",
              "      <th>2017-12-07</th>\n",
              "      <td>6.858294</td>\n",
              "      <td>9.277124</td>\n",
              "    </tr>\n",
              "    <tr>\n",
              "      <th>2017-12-08</th>\n",
              "      <td>4.493710</td>\n",
              "      <td>9.385128</td>\n",
              "    </tr>\n",
              "    <tr>\n",
              "      <th>2017-12-11</th>\n",
              "      <td>15.851664</td>\n",
              "      <td>9.848611</td>\n",
              "    </tr>\n",
              "    <tr>\n",
              "      <th>2017-12-12</th>\n",
              "      <td>14.919482</td>\n",
              "      <td>9.333394</td>\n",
              "    </tr>\n",
              "    <tr>\n",
              "      <th>2017-12-13</th>\n",
              "      <td>7.104382</td>\n",
              "      <td>9.255318</td>\n",
              "    </tr>\n",
              "    <tr>\n",
              "      <th>2017-12-14</th>\n",
              "      <td>14.024887</td>\n",
              "      <td>9.301566</td>\n",
              "    </tr>\n",
              "    <tr>\n",
              "      <th>2017-12-15</th>\n",
              "      <td>9.508751</td>\n",
              "      <td>9.201255</td>\n",
              "    </tr>\n",
              "    <tr>\n",
              "      <th>2017-12-18</th>\n",
              "      <td>10.218734</td>\n",
              "      <td>9.534421</td>\n",
              "    </tr>\n",
              "    <tr>\n",
              "      <th>2017-12-19</th>\n",
              "      <td>2.355405</td>\n",
              "      <td>9.312686</td>\n",
              "    </tr>\n",
              "    <tr>\n",
              "      <th>2017-12-20</th>\n",
              "      <td>9.792659</td>\n",
              "      <td>9.515570</td>\n",
              "    </tr>\n",
              "    <tr>\n",
              "      <th>2017-12-21</th>\n",
              "      <td>11.585900</td>\n",
              "      <td>9.753695</td>\n",
              "    </tr>\n",
              "    <tr>\n",
              "      <th>2017-12-22</th>\n",
              "      <td>10.544862</td>\n",
              "      <td>9.921964</td>\n",
              "    </tr>\n",
              "    <tr>\n",
              "      <th>2017-12-25</th>\n",
              "      <td>0.023829</td>\n",
              "      <td>9.718984</td>\n",
              "    </tr>\n",
              "    <tr>\n",
              "      <th>2017-12-26</th>\n",
              "      <td>2.041302</td>\n",
              "      <td>9.478301</td>\n",
              "    </tr>\n",
              "  </tbody>\n",
              "</table>\n",
              "</div>"
            ],
            "text/plain": [
              "                daily  smoothed\n",
              "2017-11-29  11.708329  8.198902\n",
              "2017-11-30  19.434739  8.275519\n",
              "2017-12-01  16.035338  8.625853\n",
              "2017-12-04   3.472929  8.539207\n",
              "2017-12-05   4.495685  8.672033\n",
              "2017-12-06  15.095148  9.194906\n",
              "2017-12-07   6.858294  9.277124\n",
              "2017-12-08   4.493710  9.385128\n",
              "2017-12-11  15.851664  9.848611\n",
              "2017-12-12  14.919482  9.333394\n",
              "2017-12-13   7.104382  9.255318\n",
              "2017-12-14  14.024887  9.301566\n",
              "2017-12-15   9.508751  9.201255\n",
              "2017-12-18  10.218734  9.534421\n",
              "2017-12-19   2.355405  9.312686\n",
              "2017-12-20   9.792659  9.515570\n",
              "2017-12-21  11.585900  9.753695\n",
              "2017-12-22  10.544862  9.921964\n",
              "2017-12-25   0.023829  9.718984\n",
              "2017-12-26   2.041302  9.478301"
            ]
          },
          "metadata": {
            "tags": []
          },
          "execution_count": 72
        }
      ]
    },
    {
      "metadata": {
        "id": "lX2SH9yqI1e7",
        "colab_type": "code",
        "colab": {
          "base_uri": "https://localhost:8080/",
          "height": 364
        },
        "outputId": "7b7a3f9a-d90f-4e6e-cf02-4155de17ef49"
      },
      "cell_type": "code",
      "source": [
        "roll_turb.plot()"
      ],
      "execution_count": 75,
      "outputs": [
        {
          "output_type": "execute_result",
          "data": {
            "text/plain": [
              "<matplotlib.axes._subplots.AxesSubplot at 0x7fcf31907080>"
            ]
          },
          "metadata": {
            "tags": []
          },
          "execution_count": 75
        },
        {
          "output_type": "display_data",
          "data": {
            "image/png": "[encoded data removed]",
            "text/plain": [
              "<Figure size 576x396 with 1 Axes>"
            ]
          },
          "metadata": {
            "tags": []
          }
        }
      ]
    },
    {
      "metadata": {
        "id": "nrZTZ568uGXu",
        "colab_type": "text"
      },
      "cell_type": "markdown",
      "source": [
        "### Convert rolling turbulence into a weight (And do so in a function)\n",
        "\n"
      ]
    },
    {
      "metadata": {
        "id": "5GYgPevt22DJ",
        "colab_type": "code",
        "outputId": "640342d4-7c3e-4833-dcf7-0f01209203e5",
        "colab": {
          "base_uri": "https://localhost:8080/",
          "height": 1071
        }
      },
      "cell_type": "code",
      "source": [
        "roll_turb['smoothed'].rank()/roll_turb['smoothed'].count()"
      ],
      "execution_count": 78,
      "outputs": [
        {
          "output_type": "execute_result",
          "data": {
            "text/plain": [
              "1975-01-02         NaN\n",
              "1975-01-03         NaN\n",
              "1975-01-06         NaN\n",
              "1975-01-07         NaN\n",
              "1975-01-08         NaN\n",
              "1975-01-09         NaN\n",
              "1975-01-10         NaN\n",
              "1975-01-13         NaN\n",
              "1975-01-14         NaN\n",
              "1975-01-15         NaN\n",
              "1975-01-16         NaN\n",
              "1975-01-17         NaN\n",
              "1975-01-20         NaN\n",
              "1975-01-21         NaN\n",
              "1975-01-22         NaN\n",
              "1975-01-23         NaN\n",
              "1975-01-24         NaN\n",
              "1975-01-27         NaN\n",
              "1975-01-28         NaN\n",
              "1975-01-29         NaN\n",
              "1975-01-30         NaN\n",
              "1975-01-31         NaN\n",
              "1975-02-03         NaN\n",
              "1975-02-04         NaN\n",
              "1975-02-05         NaN\n",
              "1975-02-06         NaN\n",
              "1975-02-07         NaN\n",
              "1975-02-10         NaN\n",
              "1975-02-11         NaN\n",
              "1975-02-12         NaN\n",
              "                ...   \n",
              "2017-11-15    0.672641\n",
              "2017-11-16    0.579188\n",
              "2017-11-17    0.576262\n",
              "2017-11-20    0.582388\n",
              "2017-11-21    0.570775\n",
              "2017-11-22    0.496617\n",
              "2017-11-23    0.472842\n",
              "2017-11-24    0.439466\n",
              "2017-11-27    0.446324\n",
              "2017-11-28    0.455194\n",
              "2017-11-29    0.479517\n",
              "2017-11-30    0.486650\n",
              "2017-12-01    0.523043\n",
              "2017-12-04    0.514631\n",
              "2017-12-05    0.527249\n",
              "2017-12-06    0.580285\n",
              "2017-12-07    0.588698\n",
              "2017-12-08    0.598574\n",
              "2017-12-11    0.643014\n",
              "2017-12-12    0.594184\n",
              "2017-12-13    0.585863\n",
              "2017-12-14    0.590527\n",
              "2017-12-15    0.581291\n",
              "2017-12-18    0.612290\n",
              "2017-12-19    0.591715\n",
              "2017-12-20    0.610552\n",
              "2017-12-21    0.633138\n",
              "2017-12-22    0.648592\n",
              "2017-12-25    0.629846\n",
              "2017-12-26    0.607260\n",
              "Name: smoothed, Length: 11214, dtype: float64"
            ]
          },
          "metadata": {
            "tags": []
          },
          "execution_count": 78
        }
      ]
    },
    {
      "metadata": {
        "id": "MjKhquX373So",
        "colab_type": "code",
        "outputId": "b033ec1e-7d2d-45fc-8012-a23a37ae487f",
        "colab": {
          "base_uri": "https://localhost:8080/",
          "height": 354
        }
      },
      "cell_type": "code",
      "source": [
        "fig, axes = plt.subplots(1, 1, figsize=(10, 5))\n",
        "turbulence.plot(subplots=True, ax=axes, sharex=False, sharey=False, legend=False)"
      ],
      "execution_count": 67,
      "outputs": [
        {
          "output_type": "execute_result",
          "data": {
            "text/plain": [
              "array([<matplotlib.axes._subplots.AxesSubplot object at 0x7fa7d4283048>],\n",
              "      dtype=object)"
            ]
          },
          "metadata": {
            "tags": []
          },
          "execution_count": 67
        },
        {
          "output_type": "display_data",
          "data": {
            "image/png": "[encoded data removed]",
            "text/plain": [
              "<Figure size 720x360 with 1 Axes>"
            ]
          },
          "metadata": {
            "tags": []
          }
        }
      ]
    },
    {
      "metadata": {
        "id": "N20M0VTMyxil",
        "colab_type": "text"
      },
      "cell_type": "markdown",
      "source": [
        "### Demonstrate that contemporaneously turbulence is concurrrent with high index volatility\n",
        "\n"
      ]
    },
    {
      "metadata": {
        "id": "naWuvBdzu-NZ",
        "colab_type": "code",
        "colab": {}
      },
      "cell_type": "code",
      "source": [
        "dxy_weight = [0, 0.119, 0.036, 0, 0.136, 0.576, 0, 0, 0.091]\n",
        "dxy = returns.dot(dxy_weight)"
      ],
      "execution_count": 0,
      "outputs": []
    },
    {
      "metadata": {
        "id": "VL5tpBzRSQJp",
        "colab_type": "code",
        "colab": {
          "base_uri": "https://localhost:8080/",
          "height": 111
        },
        "outputId": "533863c3-6f28-4897-bad5-eb371fdb37c4"
      },
      "cell_type": "code",
      "source": [
        "highturbulence = turbulence['daily']>np.percentile(turbulence['daily'],80)\n",
        "pd.DataFrame([[np.sqrt(261)*dxy[highturbulence].std(), np.sqrt(261)*dxy[~highturbulence].std()], [sum(highturbulence), sum(~highturbulence)]], index=['std','N'], columns=['High Turb','Low Turb'])"
      ],
      "execution_count": 97,
      "outputs": [
        {
          "output_type": "execute_result",
          "data": {
            "text/html": [
              "<div>\n",
              "<style scoped>\n",
              "    .dataframe tbody tr th:only-of-type {\n",
              "        vertical-align: middle;\n",
              "    }\n",
              "\n",
              "    .dataframe tbody tr th {\n",
              "        vertical-align: top;\n",
              "    }\n",
              "\n",
              "    .dataframe thead th {\n",
              "        text-align: right;\n",
              "    }\n",
              "</style>\n",
              "<table border=\"1\" class=\"dataframe\">\n",
              "  <thead>\n",
              "    <tr style=\"text-align: right;\">\n",
              "      <th></th>\n",
              "      <th>High Turb</th>\n",
              "      <th>Low Turb</th>\n",
              "    </tr>\n",
              "  </thead>\n",
              "  <tbody>\n",
              "    <tr>\n",
              "      <th>std</th>\n",
              "      <td>0.122616</td>\n",
              "      <td>0.057833</td>\n",
              "    </tr>\n",
              "    <tr>\n",
              "      <th>N</th>\n",
              "      <td>2243.000000</td>\n",
              "      <td>8971.000000</td>\n",
              "    </tr>\n",
              "  </tbody>\n",
              "</table>\n",
              "</div>"
            ],
            "text/plain": [
              "       High Turb     Low Turb\n",
              "std     0.122616     0.057833\n",
              "N    2243.000000  8971.000000"
            ]
          },
          "metadata": {
            "tags": []
          },
          "execution_count": 97
        }
      ]
    },
    {
      "metadata": {
        "id": "byOlnZO40EDx",
        "colab_type": "text"
      },
      "cell_type": "markdown",
      "source": [
        "### Demonstrate that turbulence leads to persistently high volatility days"
      ]
    },
    {
      "metadata": {
        "id": "stRMHt7qy6Pr",
        "colab_type": "code",
        "colab": {
          "base_uri": "https://localhost:8080/",
          "height": 390
        },
        "outputId": "d3feb0f9-2659-4159-f484-7706411d3029"
      },
      "cell_type": "code",
      "source": [
        "leading_dxy = pd.DataFrame([dxy.shift(-i) for i in range(0, 11)]).T\n",
        "subsequent_vol = pd.DataFrame([leading_dxy[highturbulence].std(), leading_dxy[~highturbulence].std()],index=['High Turb','Low Turb']).T\n",
        "subsequent_vol"
      ],
      "execution_count": 123,
      "outputs": [
        {
          "output_type": "execute_result",
          "data": {
            "text/html": [
              "<div>\n",
              "<style scoped>\n",
              "    .dataframe tbody tr th:only-of-type {\n",
              "        vertical-align: middle;\n",
              "    }\n",
              "\n",
              "    .dataframe tbody tr th {\n",
              "        vertical-align: top;\n",
              "    }\n",
              "\n",
              "    .dataframe thead th {\n",
              "        text-align: right;\n",
              "    }\n",
              "</style>\n",
              "<table border=\"1\" class=\"dataframe\">\n",
              "  <thead>\n",
              "    <tr style=\"text-align: right;\">\n",
              "      <th></th>\n",
              "      <th>High Turb</th>\n",
              "      <th>Low Turb</th>\n",
              "    </tr>\n",
              "  </thead>\n",
              "  <tbody>\n",
              "    <tr>\n",
              "      <th>0</th>\n",
              "      <td>0.007590</td>\n",
              "      <td>0.003580</td>\n",
              "    </tr>\n",
              "    <tr>\n",
              "      <th>1</th>\n",
              "      <td>0.005493</td>\n",
              "      <td>0.004446</td>\n",
              "    </tr>\n",
              "    <tr>\n",
              "      <th>2</th>\n",
              "      <td>0.005453</td>\n",
              "      <td>0.004458</td>\n",
              "    </tr>\n",
              "    <tr>\n",
              "      <th>3</th>\n",
              "      <td>0.005319</td>\n",
              "      <td>0.004499</td>\n",
              "    </tr>\n",
              "    <tr>\n",
              "      <th>4</th>\n",
              "      <td>0.005441</td>\n",
              "      <td>0.004461</td>\n",
              "    </tr>\n",
              "    <tr>\n",
              "      <th>5</th>\n",
              "      <td>0.005424</td>\n",
              "      <td>0.004467</td>\n",
              "    </tr>\n",
              "    <tr>\n",
              "      <th>6</th>\n",
              "      <td>0.005321</td>\n",
              "      <td>0.004499</td>\n",
              "    </tr>\n",
              "    <tr>\n",
              "      <th>7</th>\n",
              "      <td>0.005109</td>\n",
              "      <td>0.004560</td>\n",
              "    </tr>\n",
              "    <tr>\n",
              "      <th>8</th>\n",
              "      <td>0.005221</td>\n",
              "      <td>0.004529</td>\n",
              "    </tr>\n",
              "    <tr>\n",
              "      <th>9</th>\n",
              "      <td>0.005095</td>\n",
              "      <td>0.004565</td>\n",
              "    </tr>\n",
              "    <tr>\n",
              "      <th>10</th>\n",
              "      <td>0.005267</td>\n",
              "      <td>0.004516</td>\n",
              "    </tr>\n",
              "  </tbody>\n",
              "</table>\n",
              "</div>"
            ],
            "text/plain": [
              "    High Turb  Low Turb\n",
              "0    0.007590  0.003580\n",
              "1    0.005493  0.004446\n",
              "2    0.005453  0.004458\n",
              "3    0.005319  0.004499\n",
              "4    0.005441  0.004461\n",
              "5    0.005424  0.004467\n",
              "6    0.005321  0.004499\n",
              "7    0.005109  0.004560\n",
              "8    0.005221  0.004529\n",
              "9    0.005095  0.004565\n",
              "10   0.005267  0.004516"
            ]
          },
          "metadata": {
            "tags": []
          },
          "execution_count": 123
        }
      ]
    },
    {
      "metadata": {
        "id": "-93ZyVJIPwv6",
        "colab_type": "code",
        "colab": {
          "base_uri": "https://localhost:8080/",
          "height": 364
        },
        "outputId": "2c18930d-c218-480e-e971-25f8ab0bfc92"
      },
      "cell_type": "code",
      "source": [
        "subsequent_vol.plot()"
      ],
      "execution_count": 124,
      "outputs": [
        {
          "output_type": "execute_result",
          "data": {
            "text/plain": [
              "<matplotlib.axes._subplots.AxesSubplot at 0x7fa7d435cda0>"
            ]
          },
          "metadata": {
            "tags": []
          },
          "execution_count": 124
        },
        {
          "output_type": "display_data",
          "data": {
            "image/png": "[encoded data removed]",
            "text/plain": [
              "<Figure size 576x396 with 1 Axes>"
            ]
          },
          "metadata": {
            "tags": []
          }
        }
      ]
    },
    {
      "metadata": {
        "id": "Zcaj07aCaX6o",
        "colab_type": "code",
        "colab": {}
      },
      "cell_type": "code",
      "source": [
        ""
      ],
      "execution_count": 0,
      "outputs": []
    }
  ]
}