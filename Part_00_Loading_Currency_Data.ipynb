{
  "nbformat": 4,
  "nbformat_minor": 0,
  "metadata": {
    "colab": {
      "name": "Matlab_to_Python.ipynb",
      "version": "0.3.2",
      "provenance": []
    },
    "kernelspec": {
      "display_name": "Python 3",
      "language": "python",
      "name": "python3"
    }
  },
  "cells": [
    {
      "metadata": {
        "id": "FS6GYKq6T-ih",
        "colab_type": "code",
        "colab": {}
      },
      "cell_type": "code",
      "source": [
        "import scipy.io as sio\n",
        "import numpy as np\n",
        "from datetime import datetime, timedelta\n",
        "import pickle"
      ],
      "execution_count": 0,
      "outputs": []
    },
    {
      "metadata": {
        "id": "shwjOgZ2T-il",
        "colab_type": "code",
        "colab": {}
      },
      "cell_type": "code",
      "source": [
        "currency_returns_data = sio.loadmat(r'C:\\Users\\websi\\Documents\\MATLAB\\currency_returns.mat')"
      ],
      "execution_count": 0,
      "outputs": []
    },
    {
      "metadata": {
        "scrolled": false,
        "id": "gEbj2vLJT-in",
        "colab_type": "code",
        "colab": {},
        "outputId": "391abf77-93b9-43c3-99c7-ff6e77e8d6ba"
      },
      "cell_type": "code",
      "source": [
        "currency_returns_data"
      ],
      "execution_count": 0,
      "outputs": [
        {
          "output_type": "execute_result",
          "data": {
            "text/plain": [
              "{'__header__': b'MATLAB 5.0 MAT-file, Platform: PCWIN64, Created on: Sat Jan 27 11:53:15 2018',\n",
              " '__version__': '1.0',\n",
              " '__globals__': [],\n",
              " 'returns': array([[(array([[-2.12900106e-03, -1.71206104e-03, -9.91521557e-03, ...,\n",
              "         -3.29878880e-03,  5.36361955e-04, -4.70411991e-03],\n",
              "        [-9.47180214e-04,  1.51742541e-05,  8.50026858e-03, ...,\n",
              "          8.80088593e-03, -1.92421681e-03,  7.11298082e-03],\n",
              "        [-1.15760422e-03,  6.67737395e-04, -1.02331388e-03, ...,\n",
              "          2.75925552e-03, -1.12861462e-03,  9.23671454e-03],\n",
              "        ...,\n",
              "        [ 2.98895387e-03, -2.11656802e-03, -6.56698323e-04, ...,\n",
              "          6.15875912e-03, -5.70084800e-04,  6.65421992e-03],\n",
              "        [ 0.00000000e+00,  0.00000000e+00,  0.00000000e+00, ...,\n",
              "          0.00000000e+00,  0.00000000e+00,  0.00000000e+00],\n",
              "        [ 1.29567245e-04,  3.97450024e-03,  2.02101859e-04, ...,\n",
              "          5.64571346e-04,  1.49732620e-03,  6.52682886e-04]]), array([[array(['AUD'], dtype='<U3'), array(['CAD'], dtype='<U3'),\n",
              "         array(['CHF'], dtype='<U3'), array(['EUR'], dtype='<U3'),\n",
              "         array(['GBP'], dtype='<U3'), array(['JPY'], dtype='<U3'),\n",
              "         array(['NOK'], dtype='<U3'), array(['NZD'], dtype='<U3'),\n",
              "         array(['SEK'], dtype='<U3')]], dtype=object), array([[721356],\n",
              "        [721357],\n",
              "        [721360],\n",
              "        ...,\n",
              "        [737051],\n",
              "        [737054],\n",
              "        [737055]]))]],\n",
              "       dtype=[('data', 'O'), ('names', 'O'), ('dates', 'O')])}"
            ]
          },
          "metadata": {
            "tags": []
          },
          "execution_count": 12
        }
      ]
    },
    {
      "metadata": {
        "id": "GGaomOOuT-is",
        "colab_type": "code",
        "colab": {}
      },
      "cell_type": "code",
      "source": [
        "currency_returns = {'names': []}"
      ],
      "execution_count": 0,
      "outputs": []
    },
    {
      "metadata": {
        "id": "fOp5cH2aT-iv",
        "colab_type": "code",
        "colab": {}
      },
      "cell_type": "code",
      "source": [
        "#Simplify structure of currency names into character array\n",
        "for arrayel in currency_returns_data['returns']['names'][0][0][0]:\n",
        "    currency_returns['names'].append(arrayel[0])"
      ],
      "execution_count": 0,
      "outputs": []
    },
    {
      "metadata": {
        "id": "z2wba1vPT-ix",
        "colab_type": "code",
        "colab": {}
      },
      "cell_type": "code",
      "source": [
        "# Convert dates from matlab datenum into python datetime\n",
        "datenum_to_datetime = lambda t: datetime.fromordinal(t) - timedelta(days = 366)\n",
        "currency_returns['dates'] = np.array([datenum_to_datetime(dt) for dt in currency_returns_data['returns']['dates'][0][0]])"
      ],
      "execution_count": 0,
      "outputs": []
    },
    {
      "metadata": {
        "id": "hwWKPZjfT-iz",
        "colab_type": "code",
        "colab": {}
      },
      "cell_type": "code",
      "source": [
        "# Simplify currency returns into a TxN matrix.\n",
        "currency_returns['data'] = currency_returns_data['returns']['data'][0][0]"
      ],
      "execution_count": 0,
      "outputs": []
    },
    {
      "metadata": {
        "id": "VdImO14GT-i1",
        "colab_type": "code",
        "colab": {},
        "outputId": "2fe6e80c-8c6f-4072-acdb-582250ea2ba2"
      },
      "cell_type": "code",
      "source": [
        "currency_returns"
      ],
      "execution_count": 0,
      "outputs": [
        {
          "output_type": "execute_result",
          "data": {
            "text/plain": [
              "{'names': ['AUD', 'CAD', 'CHF', 'EUR', 'GBP', 'JPY', 'NOK', 'NZD', 'SEK'],\n",
              " 'dates': array([datetime.datetime(1975, 1, 2, 0, 0),\n",
              "        datetime.datetime(1975, 1, 3, 0, 0),\n",
              "        datetime.datetime(1975, 1, 6, 0, 0), ...,\n",
              "        datetime.datetime(2017, 12, 22, 0, 0),\n",
              "        datetime.datetime(2017, 12, 25, 0, 0),\n",
              "        datetime.datetime(2017, 12, 26, 0, 0)], dtype=object),\n",
              " 'data': array([[-2.12900106e-03, -1.71206104e-03, -9.91521557e-03, ...,\n",
              "         -3.29878880e-03,  5.36361955e-04, -4.70411991e-03],\n",
              "        [-9.47180214e-04,  1.51742541e-05,  8.50026858e-03, ...,\n",
              "          8.80088593e-03, -1.92421681e-03,  7.11298082e-03],\n",
              "        [-1.15760422e-03,  6.67737395e-04, -1.02331388e-03, ...,\n",
              "          2.75925552e-03, -1.12861462e-03,  9.23671454e-03],\n",
              "        ...,\n",
              "        [ 2.98895387e-03, -2.11656802e-03, -6.56698323e-04, ...,\n",
              "          6.15875912e-03, -5.70084800e-04,  6.65421992e-03],\n",
              "        [ 0.00000000e+00,  0.00000000e+00,  0.00000000e+00, ...,\n",
              "          0.00000000e+00,  0.00000000e+00,  0.00000000e+00],\n",
              "        [ 1.29567245e-04,  3.97450024e-03,  2.02101859e-04, ...,\n",
              "          5.64571346e-04,  1.49732620e-03,  6.52682886e-04]])}"
            ]
          },
          "metadata": {
            "tags": []
          },
          "execution_count": 68
        }
      ]
    },
    {
      "metadata": {
        "id": "nUiK80ATT-i7",
        "colab_type": "code",
        "colab": {}
      },
      "cell_type": "code",
      "source": [
        "output = open('currency_returns.pkl', 'wb')\n",
        "pickle.dump(currency_returns, output)\n",
        "output.close()"
      ],
      "execution_count": 0,
      "outputs": []
    },
    {
      "metadata": {
        "id": "cFySsoztT-i9",
        "colab_type": "code",
        "colab": {}
      },
      "cell_type": "code",
      "source": [
        "pkl_file = open('currency_returns.pkl','rb')\n",
        "currency_returns2 = pickle.load(pkl_file)\n",
        "pkl_file.close()"
      ],
      "execution_count": 0,
      "outputs": []
    },
    {
      "metadata": {
        "id": "49_gUPbFT-i_",
        "colab_type": "code",
        "colab": {},
        "outputId": "672de19a-6f43-4c1b-c043-0883635b2d93"
      },
      "cell_type": "code",
      "source": [
        "currency_returns2"
      ],
      "execution_count": 0,
      "outputs": [
        {
          "output_type": "execute_result",
          "data": {
            "text/plain": [
              "{'names': ['AUD', 'CAD', 'CHF', 'EUR', 'GBP', 'JPY', 'NOK', 'NZD', 'SEK'],\n",
              " 'dates': array([datetime.datetime(1975, 1, 2, 0, 0),\n",
              "        datetime.datetime(1975, 1, 3, 0, 0),\n",
              "        datetime.datetime(1975, 1, 6, 0, 0), ...,\n",
              "        datetime.datetime(2017, 12, 22, 0, 0),\n",
              "        datetime.datetime(2017, 12, 25, 0, 0),\n",
              "        datetime.datetime(2017, 12, 26, 0, 0)], dtype=object),\n",
              " 'data': array([[-2.12900106e-03, -1.71206104e-03, -9.91521557e-03, ...,\n",
              "         -3.29878880e-03,  5.36361955e-04, -4.70411991e-03],\n",
              "        [-9.47180214e-04,  1.51742541e-05,  8.50026858e-03, ...,\n",
              "          8.80088593e-03, -1.92421681e-03,  7.11298082e-03],\n",
              "        [-1.15760422e-03,  6.67737395e-04, -1.02331388e-03, ...,\n",
              "          2.75925552e-03, -1.12861462e-03,  9.23671454e-03],\n",
              "        ...,\n",
              "        [ 2.98895387e-03, -2.11656802e-03, -6.56698323e-04, ...,\n",
              "          6.15875912e-03, -5.70084800e-04,  6.65421992e-03],\n",
              "        [ 0.00000000e+00,  0.00000000e+00,  0.00000000e+00, ...,\n",
              "          0.00000000e+00,  0.00000000e+00,  0.00000000e+00],\n",
              "        [ 1.29567245e-04,  3.97450024e-03,  2.02101859e-04, ...,\n",
              "          5.64571346e-04,  1.49732620e-03,  6.52682886e-04]])}"
            ]
          },
          "metadata": {
            "tags": []
          },
          "execution_count": 75
        }
      ]
    },
    {
      "metadata": {
        "id": "cyFwsRh7T-jC",
        "colab_type": "code",
        "colab": {}
      },
      "cell_type": "code",
      "source": [
        ""
      ],
      "execution_count": 0,
      "outputs": []
    }
  ]
}