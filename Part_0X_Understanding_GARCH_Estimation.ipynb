{
 "cells": [
  {
   "cell_type": "markdown",
   "metadata": {
    "colab_type": "text",
    "id": "view-in-github"
   },
   "source": [
    "<a href=\"https://colab.research.google.com/github/fintechsteve/modeling-volatility/blob/master/Part_04_Understanding_Turbulence_Signals.ipynb\" target=\"_parent\"><img src=\"https://colab.research.google.com/assets/colab-badge.svg\" alt=\"Open In Colab\"/></a>"
   ]
  },
  {
   "cell_type": "markdown",
   "metadata": {
    "colab_type": "text",
    "id": "BtCSSGGdu4Qt"
   },
   "source": [
    "# Part ??: Understanding GARCH Estimation\n",
    "\n",
    "### In this section you will:\n",
    "\n",
    "\n",
    "*   Learn about GARCH estimation and its use in investment management\n",
    "*   Fit a GARCH Model to currency data\n",
    "*   Use a GARCH Model forecast volitility\n",
    "\n",
    "\n",
    "### Intro\n",
    "\n",
    "GARCH (Generalized Autoregressive Conditional Heteroskedastic) Estimation is used to model the variance of a time series.  Applied to investment management, a GARCH model can be used to model, and therefore predict, asset volatility.\n",
    "\n",
    "?? include citations \n",
    "Engle, Robert F. (1982). \"Autoregressive Conditional Heteroscedasticity with Estimates of the Variance of United Kingdom Inflation\". Econometrica. 50 (4): 987–1007. doi:10.2307/1912773. JSTOR 1912773.\n",
    "Bollerslev, Tim (1986). \"Generalized Autoregressive Conditional Heteroskedasticity\". Journal of Econometrics. 31 (3): 307–327. CiteSeerX 10.1.1.468.2892. doi:10.1016/0304-4076(86)90063-1.\n",
    "??\n",
    "\n",
    "Consider first an ARCH (Autoregressive Conditional Heteroskedastic) model.  This model assumes that the variance at time $t$ ($\\sigma^2_t$) depends linearly on the error $\\epsilon_t$,  at a fixed number ($q$) of previous time periods.  When ${q = 1}$ and assuming that the time series ${r_t}$  is stationary with constant mean ${\\mu}$ we have the ARCH(1) model:\n",
    "\n",
    "\\begin{eqnarray*}\n",
    "   r_t    & = & \\mu + \\epsilon_t \\\\\n",
    "   \\epsilon_t & = & \\sigma_t e_t \\\\\n",
    "   \\sigma^2_t & = & \\omega + \\alpha \\epsilon_{t-1}^2\n",
    "\\end{eqnarray*}\n",
    "\n",
    "More generally for ${q > 1}$ we have ARCH(q):\n",
    "\n",
    "\\begin{eqnarray*}\n",
    "   \\sigma^2_t & = & \\omega + \\sum_{i=1}^{q}\\alpha_i \\epsilon_{t-i}^2 \n",
    "\\end{eqnarray*}\n",
    "\n",
    "The ARCH model captures the idea that the volatility of the series may change through time.  For example ( give financial example with short period of high vol). A time series that exhibits periods with increased (or decreased) volatility is called conditional heteroskedastic. \n",
    "\n",
    "The ARCH model may be extended to a GARCH model by adding linear dependance on a fixed number ($p$) of past variances.  For ${p = 1}$  and ${q = 1}$ the GARCH(1,1) model is\n",
    "\n",
    "\\begin{eqnarray*}\n",
    "   r_t    & = & \\mu + \\epsilon_t \\\\\n",
    "   \\epsilon_t & = & \\sigma_t e_t \\\\\n",
    "   \\sigma^2_t & = & \\omega + \\alpha \\epsilon_{t-1}^2 + \\beta \\sigma^2_{t-1}\n",
    "\\end{eqnarray*}\n",
    "\n",
    "More generally for ${p > 1}$ and ${q > 1}$ we have GARCH(p,q):\n",
    "\n",
    "\\begin{eqnarray*}\n",
    "   \\sigma^2_t & = & \\omega + \\sum_{i=1}^{q}\\alpha_i \\epsilon_{t-i}^2 + \\sum_{j=1}^{p}\\beta_j \\sigma^2_{t-j}\n",
    "\\end{eqnarray*}"
   ]
  },
  {
   "cell_type": "markdown",
   "metadata": {
    "colab_type": "text",
    "id": "ETMoGdnNrtjj"
   },
   "source": [
    "## Import all necessary libraries\n",
    "\n",
    "For this piece, we will need the following packages to be available to our environment:\n",
    "\n",
    "*   Numpy and Pandas (For data manipulation)\n",
    "*   Arch (For GARCH estimation)\n",
    "\n",
    "If the packages are not available, install the with \"pip install X\""
   ]
  },
  {
   "cell_type": "code",
   "execution_count": 1,
   "metadata": {
    "colab": {},
    "colab_type": "code",
    "collapsed": true,
    "id": "FS6GYKq6T-ih"
   },
   "outputs": [],
   "source": [
    "import numpy as np, pandas as pd\n",
    "import pickle\n",
    "from arch import arch_model"
   ]
  },
  {
   "cell_type": "markdown",
   "metadata": {
    "colab_type": "text",
    "id": "wBoMCDKYsdli"
   },
   "source": [
    "### Read in data from previously stored returns.pkl file\n",
    "\n"
   ]
  },
  {
   "cell_type": "code",
   "execution_count": 5,
   "metadata": {
    "cellView": "both",
    "colab": {
     "base_uri": "https://localhost:8080/",
     "height": 549
    },
    "colab_type": "code",
    "collapsed": false,
    "id": "cFySsoztT-i9",
    "outputId": "8495eefc-671e-4942-a0ee-56543c378082"
   },
   "outputs": [
    {
     "data": {
      "text/html": [
       "<div>\n",
       "<style>\n",
       "    .dataframe thead tr:only-child th {\n",
       "        text-align: right;\n",
       "    }\n",
       "\n",
       "    .dataframe thead th {\n",
       "        text-align: left;\n",
       "    }\n",
       "\n",
       "    .dataframe tbody tr th {\n",
       "        vertical-align: top;\n",
       "    }\n",
       "</style>\n",
       "<table border=\"1\" class=\"dataframe\">\n",
       "  <thead>\n",
       "    <tr style=\"text-align: right;\">\n",
       "      <th></th>\n",
       "      <th>AUD</th>\n",
       "      <th>CAD</th>\n",
       "      <th>CHF</th>\n",
       "      <th>EUR</th>\n",
       "      <th>GBP</th>\n",
       "      <th>JPY</th>\n",
       "      <th>NOK</th>\n",
       "      <th>NZD</th>\n",
       "      <th>SEK</th>\n",
       "    </tr>\n",
       "  </thead>\n",
       "  <tbody>\n",
       "    <tr>\n",
       "      <th>1975-01-02</th>\n",
       "      <td>-0.002129</td>\n",
       "      <td>-1.712061e-03</td>\n",
       "      <td>-0.009915</td>\n",
       "      <td>-0.003544</td>\n",
       "      <td>-0.005745</td>\n",
       "      <td>-0.001502</td>\n",
       "      <td>-0.003299</td>\n",
       "      <td>0.000536</td>\n",
       "      <td>-0.004704</td>\n",
       "    </tr>\n",
       "    <tr>\n",
       "      <th>1975-01-03</th>\n",
       "      <td>-0.000947</td>\n",
       "      <td>1.517425e-05</td>\n",
       "      <td>0.008500</td>\n",
       "      <td>0.007886</td>\n",
       "      <td>0.003424</td>\n",
       "      <td>0.002711</td>\n",
       "      <td>0.008801</td>\n",
       "      <td>-0.001924</td>\n",
       "      <td>0.007113</td>\n",
       "    </tr>\n",
       "    <tr>\n",
       "      <th>1975-01-06</th>\n",
       "      <td>-0.001158</td>\n",
       "      <td>6.677374e-04</td>\n",
       "      <td>-0.001023</td>\n",
       "      <td>0.008174</td>\n",
       "      <td>0.002346</td>\n",
       "      <td>-0.004728</td>\n",
       "      <td>0.002759</td>\n",
       "      <td>-0.001129</td>\n",
       "      <td>0.009237</td>\n",
       "    </tr>\n",
       "    <tr>\n",
       "      <th>1975-01-07</th>\n",
       "      <td>0.004193</td>\n",
       "      <td>-1.726304e-03</td>\n",
       "      <td>0.001702</td>\n",
       "      <td>0.002150</td>\n",
       "      <td>0.001702</td>\n",
       "      <td>0.002410</td>\n",
       "      <td>0.005434</td>\n",
       "      <td>0.004567</td>\n",
       "      <td>-0.001466</td>\n",
       "    </tr>\n",
       "    <tr>\n",
       "      <th>1975-01-08</th>\n",
       "      <td>-0.001489</td>\n",
       "      <td>-2.000930e-04</td>\n",
       "      <td>-0.015237</td>\n",
       "      <td>-0.008650</td>\n",
       "      <td>-0.001997</td>\n",
       "      <td>0.000122</td>\n",
       "      <td>-0.006315</td>\n",
       "      <td>-0.000034</td>\n",
       "      <td>-0.006188</td>\n",
       "    </tr>\n",
       "    <tr>\n",
       "      <th>1975-01-09</th>\n",
       "      <td>-0.000324</td>\n",
       "      <td>-3.120108e-03</td>\n",
       "      <td>0.000298</td>\n",
       "      <td>0.004764</td>\n",
       "      <td>0.000298</td>\n",
       "      <td>-0.000409</td>\n",
       "      <td>-0.000114</td>\n",
       "      <td>-0.001217</td>\n",
       "      <td>-0.000751</td>\n",
       "    </tr>\n",
       "    <tr>\n",
       "      <th>1975-01-10</th>\n",
       "      <td>0.000077</td>\n",
       "      <td>-1.283429e-03</td>\n",
       "      <td>0.001489</td>\n",
       "      <td>0.001489</td>\n",
       "      <td>0.001489</td>\n",
       "      <td>0.000075</td>\n",
       "      <td>0.006256</td>\n",
       "      <td>0.000311</td>\n",
       "      <td>0.001489</td>\n",
       "    </tr>\n",
       "    <tr>\n",
       "      <th>1975-01-13</th>\n",
       "      <td>0.000579</td>\n",
       "      <td>-3.152212e-07</td>\n",
       "      <td>0.001789</td>\n",
       "      <td>-0.001210</td>\n",
       "      <td>0.000127</td>\n",
       "      <td>-0.000578</td>\n",
       "      <td>0.000542</td>\n",
       "      <td>0.000969</td>\n",
       "      <td>-0.002488</td>\n",
       "    </tr>\n",
       "    <tr>\n",
       "      <th>1975-01-14</th>\n",
       "      <td>-0.000699</td>\n",
       "      <td>7.303998e-04</td>\n",
       "      <td>-0.005132</td>\n",
       "      <td>-0.006698</td>\n",
       "      <td>-0.001827</td>\n",
       "      <td>0.000291</td>\n",
       "      <td>-0.006558</td>\n",
       "      <td>-0.000762</td>\n",
       "      <td>-0.007795</td>\n",
       "    </tr>\n",
       "    <tr>\n",
       "      <th>1975-01-15</th>\n",
       "      <td>-0.000934</td>\n",
       "      <td>1.198868e-03</td>\n",
       "      <td>-0.002078</td>\n",
       "      <td>0.001797</td>\n",
       "      <td>-0.000426</td>\n",
       "      <td>-0.002542</td>\n",
       "      <td>-0.002276</td>\n",
       "      <td>-0.000594</td>\n",
       "      <td>0.000094</td>\n",
       "    </tr>\n",
       "  </tbody>\n",
       "</table>\n",
       "</div>"
      ],
      "text/plain": [
       "                 AUD           CAD       CHF       EUR       GBP       JPY  \\\n",
       "1975-01-02 -0.002129 -1.712061e-03 -0.009915 -0.003544 -0.005745 -0.001502   \n",
       "1975-01-03 -0.000947  1.517425e-05  0.008500  0.007886  0.003424  0.002711   \n",
       "1975-01-06 -0.001158  6.677374e-04 -0.001023  0.008174  0.002346 -0.004728   \n",
       "1975-01-07  0.004193 -1.726304e-03  0.001702  0.002150  0.001702  0.002410   \n",
       "1975-01-08 -0.001489 -2.000930e-04 -0.015237 -0.008650 -0.001997  0.000122   \n",
       "1975-01-09 -0.000324 -3.120108e-03  0.000298  0.004764  0.000298 -0.000409   \n",
       "1975-01-10  0.000077 -1.283429e-03  0.001489  0.001489  0.001489  0.000075   \n",
       "1975-01-13  0.000579 -3.152212e-07  0.001789 -0.001210  0.000127 -0.000578   \n",
       "1975-01-14 -0.000699  7.303998e-04 -0.005132 -0.006698 -0.001827  0.000291   \n",
       "1975-01-15 -0.000934  1.198868e-03 -0.002078  0.001797 -0.000426 -0.002542   \n",
       "\n",
       "                 NOK       NZD       SEK  \n",
       "1975-01-02 -0.003299  0.000536 -0.004704  \n",
       "1975-01-03  0.008801 -0.001924  0.007113  \n",
       "1975-01-06  0.002759 -0.001129  0.009237  \n",
       "1975-01-07  0.005434  0.004567 -0.001466  \n",
       "1975-01-08 -0.006315 -0.000034 -0.006188  \n",
       "1975-01-09 -0.000114 -0.001217 -0.000751  \n",
       "1975-01-10  0.006256  0.000311  0.001489  \n",
       "1975-01-13  0.000542  0.000969 -0.002488  \n",
       "1975-01-14 -0.006558 -0.000762 -0.007795  \n",
       "1975-01-15 -0.002276 -0.000594  0.000094  "
      ]
     },
     "execution_count": 5,
     "metadata": {},
     "output_type": "execute_result"
    }
   ],
   "source": [
    "with open('./returns.pkl', 'rb') as f:\n",
    "    returns = pickle.load(f)\n",
    "    f.close()\n",
    "returns.head(10)"
   ]
  },
  {
   "cell_type": "markdown",
   "metadata": {
    "colab_type": "text",
    "id": "N20M0VTMyxil"
   },
   "source": [
    "### Calculate DXY Index\n",
    "**Note: this should probably be saved in part 2 rather than recaluated\n",
    "\n",
    "In this part we scale the DXY Index to avoid numerical instabilities in the model fitting that may arise for inputs near zero."
   ]
  },
  {
   "cell_type": "code",
   "execution_count": 7,
   "metadata": {
    "colab": {},
    "colab_type": "code",
    "collapsed": false,
    "id": "naWuvBdzu-NZ"
   },
   "outputs": [
    {
     "data": {
      "text/plain": [
       "1975-01-02   -0.263509\n",
       "1975-01-03    0.298223\n",
       "1975-01-06   -0.152101\n",
       "1975-01-07    0.134179\n",
       "1975-01-08   -0.133663\n",
       "1975-01-09   -0.062415\n",
       "1975-01-10    0.028212\n",
       "1975-01-13   -0.047792\n",
       "1975-01-14   -0.088794\n",
       "1975-01-15   -0.144571\n",
       "dtype: float64"
      ]
     },
     "execution_count": 7,
     "metadata": {},
     "output_type": "execute_result"
    }
   ],
   "source": [
    "dxy_weight = [0, 0.119, 0.036, 0, 0.136, 0.576, 0, 0, 0.091]\n",
    "dxy = returns.dot(dxy_weight)\n",
    "scaled_dxy = 100*dxy\n",
    "scaled_dxy.head(10)"
   ]
  },
  {
   "cell_type": "markdown",
   "metadata": {
    "colab_type": "text",
    "id": "byOlnZO40EDx"
   },
   "source": [
    "### Estimate a GARCH(1,1) model for the DXY Index"
   ]
  },
  {
   "cell_type": "code",
   "execution_count": 49,
   "metadata": {
    "colab": {
     "base_uri": "https://localhost:8080/",
     "height": 390
    },
    "colab_type": "code",
    "collapsed": false,
    "id": "stRMHt7qy6Pr",
    "outputId": "d3feb0f9-2659-4159-f484-7706411d3029"
   },
   "outputs": [
    {
     "name": "stdout",
     "output_type": "stream",
     "text": [
      "Iteration:      5,   Func. Count:     40,   Neg. LLF: 6811.526379279518\n",
      "Iteration:     10,   Func. Count:     81,   Neg. LLF: 6805.28464578078\n",
      "Iteration:     15,   Func. Count:    116,   Neg. LLF: 6797.496139704385\n",
      "Optimization terminated successfully.    (Exit mode 0)\n",
      "            Current function value: 6797.351618871784\n",
      "            Iterations: 19\n",
      "            Function evaluations: 136\n",
      "            Gradient evaluations: 18\n",
      "                     Constant Mean - GARCH Model Results                      \n",
      "==============================================================================\n",
      "Dep. Variable:                   None   R-squared:                      -0.000\n",
      "Mean Model:             Constant Mean   Adj. R-squared:                 -0.000\n",
      "Vol Model:                      GARCH   Log-Likelihood:               -6797.35\n",
      "Distribution:                  Normal   AIC:                           13602.7\n",
      "Method:            Maximum Likelihood   BIC:                           13632.0\n",
      "                                        No. Observations:                11214\n",
      "Date:                Fri, Apr 12 2019   Df Residuals:                    11210\n",
      "Time:                        15:36:37   Df Model:                            4\n",
      "                                  Mean Model                                 \n",
      "=============================================================================\n",
      "                 coef    std err          t      P>|t|       95.0% Conf. Int.\n",
      "-----------------------------------------------------------------------------\n",
      "mu         1.8657e-03  3.968e-03      0.470      0.638 [-5.912e-03,9.643e-03]\n",
      "                              Volatility Model                              \n",
      "============================================================================\n",
      "                 coef    std err          t      P>|t|      95.0% Conf. Int.\n",
      "----------------------------------------------------------------------------\n",
      "omega      9.5954e-04  4.482e-04      2.141  3.230e-02 [8.102e-05,1.838e-03]\n",
      "alpha[1]       0.0422  7.137e-03      5.916  3.299e-09 [2.823e-02,5.621e-02]\n",
      "beta[1]        0.9552  7.963e-03    119.964      0.000     [  0.940,  0.971]\n",
      "============================================================================\n",
      "\n",
      "Covariance estimator: robust\n"
     ]
    }
   ],
   "source": [
    "am = arch_model(scaled_dxy, mean = 'Constant', vol='GARCH', p=1, q=1)\n",
    "res = am.fit(update_freq=5)\n",
    "print(res.summary())"
   ]
  },
  {
   "cell_type": "markdown",
   "metadata": {},
   "source": [
    "The above model corresponds to ${\\alpha  = .0422}$,  ${\\beta = .9552}$, ${\\omega = 9.5954e-04}$ and ${\\mu = 1.8657e-03}$ in the frame work described above\n",
    "\n",
    "\\begin{eqnarray}\n",
    "   r_t    & = & \\mu + \\epsilon_t \\\\\n",
    "   \\epsilon_t & = & \\sigma_t e_t \\\\\n",
    "   \\sigma^2_t & = & \\omega + \\alpha \\epsilon_{t-1}^2 + \\beta \\sigma^2_{t-1}\n",
    "\\end{eqnarray}\n"
   ]
  },
  {
   "cell_type": "markdown",
   "metadata": {},
   "source": [
    "### Forecast volitility for the DXY Index\n",
    "\n",
    "Now we can use this model to forecast the future variance"
   ]
  },
  {
   "cell_type": "code",
   "execution_count": 55,
   "metadata": {
    "colab": {
     "base_uri": "https://localhost:8080/",
     "height": 364
    },
    "colab_type": "code",
    "collapsed": false,
    "id": "-93ZyVJIPwv6",
    "outputId": "2c18930d-c218-480e-e971-25f8ab0bfc92"
   },
   "outputs": [
    {
     "name": "stdout",
     "output_type": "stream",
     "text": [
      "2017-12-26 00:00:00\n",
      "0.0871872134006\n"
     ]
    }
   ],
   "source": [
    "forecasts = res.forecast(horizon = 1)\n",
    "print(forecasts.variance.index[-1])\n",
    "print(forecasts.variance.values[-1, -1])"
   ]
  },
  {
   "cell_type": "markdown",
   "metadata": {},
   "source": [
    "Next we use a rolling window to forecast the one day volitility for the last 100 days of our sample.  For each of the 100 days we use the prior 250 days to fit a GARCH model and forecast a one day horizon."
   ]
  },
  {
   "cell_type": "code",
   "execution_count": 44,
   "metadata": {
    "collapsed": false
   },
   "outputs": [
    {
     "data": {
      "text/html": [
       "<div>\n",
       "<style>\n",
       "    .dataframe thead tr:only-child th {\n",
       "        text-align: right;\n",
       "    }\n",
       "\n",
       "    .dataframe thead th {\n",
       "        text-align: left;\n",
       "    }\n",
       "\n",
       "    .dataframe tbody tr th {\n",
       "        vertical-align: top;\n",
       "    }\n",
       "</style>\n",
       "<table border=\"1\" class=\"dataframe\">\n",
       "  <thead>\n",
       "    <tr style=\"text-align: right;\">\n",
       "      <th></th>\n",
       "      <th>date</th>\n",
       "      <th>var</th>\n",
       "    </tr>\n",
       "  </thead>\n",
       "  <tbody>\n",
       "    <tr>\n",
       "      <th>0</th>\n",
       "      <td>2017-08-09</td>\n",
       "      <td>0.175976</td>\n",
       "    </tr>\n",
       "    <tr>\n",
       "      <th>1</th>\n",
       "      <td>2017-08-10</td>\n",
       "      <td>0.175047</td>\n",
       "    </tr>\n",
       "    <tr>\n",
       "      <th>2</th>\n",
       "      <td>2017-08-11</td>\n",
       "      <td>0.168307</td>\n",
       "    </tr>\n",
       "    <tr>\n",
       "      <th>3</th>\n",
       "      <td>2017-08-14</td>\n",
       "      <td>0.168621</td>\n",
       "    </tr>\n",
       "    <tr>\n",
       "      <th>4</th>\n",
       "      <td>2017-08-15</td>\n",
       "      <td>0.186811</td>\n",
       "    </tr>\n",
       "    <tr>\n",
       "      <th>5</th>\n",
       "      <td>2017-08-16</td>\n",
       "      <td>0.180792</td>\n",
       "    </tr>\n",
       "    <tr>\n",
       "      <th>6</th>\n",
       "      <td>2017-08-17</td>\n",
       "      <td>0.186759</td>\n",
       "    </tr>\n",
       "    <tr>\n",
       "      <th>7</th>\n",
       "      <td>2017-08-18</td>\n",
       "      <td>0.194278</td>\n",
       "    </tr>\n",
       "    <tr>\n",
       "      <th>8</th>\n",
       "      <td>2017-08-21</td>\n",
       "      <td>0.189412</td>\n",
       "    </tr>\n",
       "    <tr>\n",
       "      <th>9</th>\n",
       "      <td>2017-08-22</td>\n",
       "      <td>0.198055</td>\n",
       "    </tr>\n",
       "  </tbody>\n",
       "</table>\n",
       "</div>"
      ],
      "text/plain": [
       "        date       var\n",
       "0 2017-08-09  0.175976\n",
       "1 2017-08-10  0.175047\n",
       "2 2017-08-11  0.168307\n",
       "3 2017-08-14  0.168621\n",
       "4 2017-08-15  0.186811\n",
       "5 2017-08-16  0.180792\n",
       "6 2017-08-17  0.186759\n",
       "7 2017-08-18  0.194278\n",
       "8 2017-08-21  0.189412\n",
       "9 2017-08-22  0.198055"
      ]
     },
     "execution_count": 44,
     "metadata": {},
     "output_type": "execute_result"
    },
    {
     "data": {
      "image/png": "[encoded data removed]",
      "text/plain": [
       "<matplotlib.figure.Figure at 0xd67dac8>"
      ]
     },
     "metadata": {
      "needs_background": "light"
     },
     "output_type": "display_data"
    }
   ],
   "source": [
    "lookback_window = 250\n",
    "f = []\n",
    "for i in range(1,100):\n",
    "    am = arch_model(scaled_dxy[-i-lookback_window:-i], mean = 'Constant', vol='GARCH', p=1, q=1)\n",
    "    res = am.fit(disp='off')\n",
    "    forecasts = res.forecast(horizon = 1)\n",
    "    f.append({'var': forecasts.variance.iloc[-1, -1], 'date':forecasts.variance.index[-1]})\n",
    "    \n",
    "d = pd.DataFrame(f[::-1])\n",
    "d.plot()\n",
    "d.head(10)"
   ]
  },
  {
   "cell_type": "markdown",
   "metadata": {},
   "source": [
    "### Selecting values for p and q\n",
    "\n",
    "picking p and q?  also look back window, goodness of fit, etc.?"
   ]
  },
  {
   "cell_type": "code",
   "execution_count": null,
   "metadata": {
    "collapsed": true
   },
   "outputs": [],
   "source": []
  },
  {
   "cell_type": "code",
   "execution_count": null,
   "metadata": {
    "collapsed": true
   },
   "outputs": [],
   "source": []
  }
 ],
 "metadata": {
  "anaconda-cloud": {},
  "colab": {
   "collapsed_sections": [],
   "include_colab_link": true,
   "name": "Part_??_Understanding_GARCH_Estimation.ipynb",
   "provenance": [],
   "version": "0.3.2"
  },
  "kernelspec": {
   "display_name": "Python [conda env:Python3]",
   "language": "python",
   "name": "conda-env-Python3-py"
  },
  "language_info": {
   "codemirror_mode": {
    "name": "ipython",
    "version": 3
   },
   "file_extension": ".py",
   "mimetype": "text/x-python",
   "name": "python",
   "nbconvert_exporter": "python",
   "pygments_lexer": "ipython3",
   "version": "3.5.4"
  }
 },
 "nbformat": 4,
 "nbformat_minor": 0
}
