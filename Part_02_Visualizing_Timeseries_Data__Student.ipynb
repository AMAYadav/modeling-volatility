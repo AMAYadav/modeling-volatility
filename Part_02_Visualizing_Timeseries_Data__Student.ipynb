{
 "cells": [
  {
   "cell_type": "markdown",
   "metadata": {
    "colab_type": "text",
    "id": "BtCSSGGdu4Qt"
   },
   "source": [
    "## Part 02: Time-series properties of data and currency baskets\n",
    "\n",
    "### In this section you will:\n",
    "\n",
    "\n",
    "*   Read in data from the file you saved per Part 01on the web.\n",
    "*   Create a pandas dataframe to add rows and columns to the data.\n",
    "*   Use Seaborn to plot the data to check it has loaded correctly.\n",
    "\n",
    "### Before you begin:\n",
    "\n",
    "*   Make sure you have saved the file \"returns.pkl\" to your directory \n",
    "\n",
    "\n",
    "### Import necessary libraries and open saved pickle file"
   ]
  },
  {
   "cell_type": "code",
   "execution_count": null,
   "metadata": {
    "colab": {},
    "colab_type": "code",
    "id": "FS6GYKq6T-ih"
   },
   "outputs": [],
   "source": [
    "import cloudpickle as cp\n",
    "import numpy as np, pandas as pd\n",
    "from datetime import datetime, timedelta\n",
    "import pickle\n",
    "import urllib.request, urllib.parse, urllib.error\n",
    "import matplotlib.pyplot as plt\n",
    "import seaborn as sns\n",
    "%matplotlib inline\n",
    "from pandas.plotting import autocorrelation_plot\n",
    "from statsmodels.graphics.tsaplots import plot_acf, plot_pacf"
   ]
  },
  {
   "cell_type": "code",
   "execution_count": null,
   "metadata": {
    "cellView": "both",
    "colab": {},
    "colab_type": "code",
    "id": "cFySsoztT-i9"
   },
   "outputs": [],
   "source": [
    "with open('./returns.pkl', 'rb') as f:\n",
    "    returns = pickle.load(f)\n",
    "    f.close()"
   ]
  },
  {
   "cell_type": "markdown",
   "metadata": {
    "colab_type": "text",
    "id": "vDZOW_1XI9q3"
   },
   "source": [
    "### Data Exploration\n",
    "Let's get a sense of the dataset, check for missing values and generate plots to see interactions between features.\n",
    "\n",
    "### Step 1 - General info on dataframe and check for missing data (good practice)"
   ]
  },
  {
   "cell_type": "code",
   "execution_count": null,
   "metadata": {
    "colab": {
     "base_uri": "https://localhost:8080/",
     "height": 366
    },
    "colab_type": "code",
    "id": "5GYgPevt22DJ",
    "outputId": "cc03d7f3-ba5c-47b2-9b5f-8108aaab3a1b"
   },
   "outputs": [],
   "source": [
    "# Get a sense of the data you're working with by running describe() and info() functions in pandas\n",
    "returns.describe() # You could get the same result graphically with a boxplot for each feature - due to size fo dataset, takes longer to run, so we skip for this tutorial"
   ]
  },
  {
   "cell_type": "code",
   "execution_count": null,
   "metadata": {},
   "outputs": [],
   "source": [
    "# Checking for missing values, and extracting count if applicable\n",
    "returns.info()\n",
    "returns.isnull().sum() #returns count of missing value per feature(column)"
   ]
  },
  {
   "cell_type": "markdown",
   "metadata": {
    "colab_type": "text",
    "id": "FKAWrkn6QaBf"
   },
   "source": [
    "### Step 2 - Calculate autocorrelations with multiple lags using basic functions"
   ]
  },
  {
   "cell_type": "markdown",
   "metadata": {},
   "source": [
    "#### Calculate autocorrelation(using tips from this stackoverflow post: https://stackoverflow.com/questions/26083293/calculating-autocorrelation-of-pandas-dataframe-along-each-column)"
   ]
  },
  {
   "cell_type": "code",
   "execution_count": null,
   "metadata": {},
   "outputs": [],
   "source": [
    "def df_autocorr(df, lag=1, axis=0):\n",
    "    \"\"\"Compute full-sample column-wise autocorrelation for a DataFrame.\"\"\"\n",
    "    return df.apply(lambda col: col.autocorr(lag), axis=axis)\n",
    "\n",
    "def df_rolling_autocorr(df, window, lag=1):\n",
    "    \"\"\"Compute rolling column-wise autocorrelation for a DataFrame.\"\"\"\n",
    "\n",
    "    return (df.rolling(window=window)\n",
    "        .corr(df.shift(lag))) # could .dropna() here"
   ]
  },
  {
   "cell_type": "code",
   "execution_count": null,
   "metadata": {
    "colab": {
     "base_uri": "https://localhost:8080/",
     "height": 669
    },
    "colab_type": "code",
    "id": "EkNg2yHdJzwb",
    "outputId": "8de06b57-3097-4a0b-ec80-a8ef08120be0"
   },
   "outputs": [],
   "source": [
    "autocorr_vec = lambda lag: df_autocorr(returns**2,lag=lag)\n",
    "returns_autocorr = pd.DataFrame(list(map(autocorr_vec, range(1,21))),index=range(1,21))\n",
    "returns_autocorr"
   ]
  },
  {
   "cell_type": "markdown",
   "metadata": {
    "colab_type": "text",
    "id": "b513UiPCI9ri"
   },
   "source": [
    "### Step 3 - Calculate DXY index (which is calculated by taking a weighted average of currencies with weights:\n",
    "Euro (EUR), 57.6% weight\n",
    "Japanese yen (JPY) 13.6% weight\n",
    "Pound sterling (GBP), 11.9% weight\n",
    "Canadian dollar (CAD), 9.1% weight\n",
    "Swedish krona (SEK), 4.2% weight\n",
    "Swiss franc (CHF) 3.6% weight\n"
   ]
  },
  {
   "cell_type": "code",
   "execution_count": null,
   "metadata": {
    "colab": {
     "base_uri": "https://localhost:8080/",
     "height": 238
    },
    "colab_type": "code",
    "id": "pMgQU25VI9rj",
    "outputId": "ca42b7ed-732e-4764-b14e-bffeeb3e93d1"
   },
   "outputs": [],
   "source": [
    "dxy_weight = [0, 0.119, 0.036, 0, 0.136, 0.576, 0, 0, 0.091]\n",
    "dxy = returns.dot(dxy_weight)\n",
    "# print(dxy)\n",
    "returns['DXY'] = dxy.copy()\n",
    "print(returns.head())"
   ]
  },
  {
   "cell_type": "markdown",
   "metadata": {
    "colab_type": "text",
    "id": "_ljFMtJkQieA"
   },
   "source": [
    "### Step 4- Calculate autocorrelation and partial autocorrelation functions with the statsmodels package to get error bounds on plots\n",
    "\n",
    "#### An autocorrelation function (ACF) is a plot of the calculated correlation of the time series observations with values of the same series at previous times (lag). The ACF indicates how well a value relates to its previous lagged values (both direct and indirect relationships of dependence)"
   ]
  },
  {
   "cell_type": "code",
   "execution_count": null,
   "metadata": {
    "colab": {
     "base_uri": "https://localhost:8080/",
     "height": 543
    },
    "colab_type": "code",
    "id": "OgljzZpQM-Or",
    "outputId": "6529d39b-3199-466b-a349-2f5e832eb391"
   },
   "outputs": [],
   "source": [
    "plot_acf(returns['DXY']**2, lags=20)"
   ]
  },
  {
   "cell_type": "markdown",
   "metadata": {},
   "source": [
    "#### A partial autocorrelation function (PACF) is a plot of is a summary of the relationship between an observation in a time series with observations at prior time steps with the relationships of intervening observations removed. The PACF indicates how well a value relates to its last lagged values (only direct relationship of dependence)"
   ]
  },
  {
   "cell_type": "code",
   "execution_count": null,
   "metadata": {
    "colab": {
     "base_uri": "https://localhost:8080/",
     "height": 543
    },
    "colab_type": "code",
    "id": "JS0IuhiWNo28",
    "outputId": "8bbca86d-631a-411c-e871-083da889f09a"
   },
   "outputs": [],
   "source": [
    "plot_pacf(returns['DXY']**2, lags=20)"
   ]
  },
  {
   "cell_type": "markdown",
   "metadata": {},
   "source": [
    "### Step 5 - More exploration. Let's see how each currency correlates to one another.\n",
    "#### Run seaborn plot and look at marginal distributions (histograms) and joint distributions (scatter plots) to see correlation between features. If you plot with a regression line,you will see the strength of correlation between features."
   ]
  },
  {
   "cell_type": "code",
   "execution_count": null,
   "metadata": {
    "colab": {
     "base_uri": "https://localhost:8080/",
     "height": 1663
    },
    "colab_type": "code",
    "id": "0DopfpRuI9q-",
    "outputId": "350f7d81-156b-4dcc-853b-d8e528c4a0c5"
   },
   "outputs": [],
   "source": [
    "sns.pairplot(returns, kind = \"reg\")"
   ]
  },
  {
   "cell_type": "code",
   "execution_count": null,
   "metadata": {},
   "outputs": [],
   "source": [
    "X = pd.concat([dxy, dxy.cumsum(), dxy**2], axis=1)\n",
    "X.columns = ['DXY','DXY (Cumulative)','DXY squared']\n",
    "X /= X.max()\n",
    "X['DXY squared'] -= 1\n",
    "X.plot(figsize = (10,8))\n",
    "plt.axis('off')"
   ]
  },
  {
   "cell_type": "code",
   "execution_count": null,
   "metadata": {},
   "outputs": [],
   "source": []
  }
 ],
 "metadata": {
  "colab": {
   "name": "Matlab_to_Python.ipynb",
   "provenance": [],
   "version": "0.3.2"
  },
  "kernelspec": {
   "display_name": "Python [conda env:modeliing-volatility] *",
   "language": "python",
   "name": "conda-env-modeliing-volatility-py"
  },
  "language_info": {
   "codemirror_mode": {
    "name": "ipython",
    "version": 3
   },
   "file_extension": ".py",
   "mimetype": "text/x-python",
   "name": "python",
   "nbconvert_exporter": "python",
   "pygments_lexer": "ipython3",
   "version": "3.7.3"
  }
 },
 "nbformat": 4,
 "nbformat_minor": 1
}
