{
 "cells": [
  {
   "cell_type": "code",
   "execution_count": 70,
   "metadata": {},
   "outputs": [],
   "source": [
    "import scipy.io as sio\n",
    "import numpy as np\n",
    "from datetime import datetime, timedelta\n",
    "import pickle"
   ]
  },
  {
   "cell_type": "code",
   "execution_count": 11,
   "metadata": {},
   "outputs": [],
   "source": [
    "currency_returns_data = sio.loadmat(r'C:\\Users\\websi\\Documents\\MATLAB\\currency_returns.mat')"
   ]
  },
  {
   "cell_type": "code",
   "execution_count": 12,
   "metadata": {
    "scrolled": false
   },
   "outputs": [
    {
     "data": {
      "text/plain": [
       "{'__header__': b'MATLAB 5.0 MAT-file, Platform: PCWIN64, Created on: Sat Jan 27 11:53:15 2018',\n",
       " '__version__': '1.0',\n",
       " '__globals__': [],\n",
       " 'returns': array([[(array([[-2.12900106e-03, -1.71206104e-03, -9.91521557e-03, ...,\n",
       "         -3.29878880e-03,  5.36361955e-04, -4.70411991e-03],\n",
       "        [-9.47180214e-04,  1.51742541e-05,  8.50026858e-03, ...,\n",
       "          8.80088593e-03, -1.92421681e-03,  7.11298082e-03],\n",
       "        [-1.15760422e-03,  6.67737395e-04, -1.02331388e-03, ...,\n",
       "          2.75925552e-03, -1.12861462e-03,  9.23671454e-03],\n",
       "        ...,\n",
       "        [ 2.98895387e-03, -2.11656802e-03, -6.56698323e-04, ...,\n",
       "          6.15875912e-03, -5.70084800e-04,  6.65421992e-03],\n",
       "        [ 0.00000000e+00,  0.00000000e+00,  0.00000000e+00, ...,\n",
       "          0.00000000e+00,  0.00000000e+00,  0.00000000e+00],\n",
       "        [ 1.29567245e-04,  3.97450024e-03,  2.02101859e-04, ...,\n",
       "          5.64571346e-04,  1.49732620e-03,  6.52682886e-04]]), array([[array(['AUD'], dtype='<U3'), array(['CAD'], dtype='<U3'),\n",
       "         array(['CHF'], dtype='<U3'), array(['EUR'], dtype='<U3'),\n",
       "         array(['GBP'], dtype='<U3'), array(['JPY'], dtype='<U3'),\n",
       "         array(['NOK'], dtype='<U3'), array(['NZD'], dtype='<U3'),\n",
       "         array(['SEK'], dtype='<U3')]], dtype=object), array([[721356],\n",
       "        [721357],\n",
       "        [721360],\n",
       "        ...,\n",
       "        [737051],\n",
       "        [737054],\n",
       "        [737055]]))]],\n",
       "       dtype=[('data', 'O'), ('names', 'O'), ('dates', 'O')])}"
      ]
     },
     "execution_count": 12,
     "metadata": {},
     "output_type": "execute_result"
    }
   ],
   "source": [
    "currency_returns_data"
   ]
  },
  {
   "cell_type": "code",
   "execution_count": 41,
   "metadata": {},
   "outputs": [],
   "source": [
    "currency_returns = {'names': []}"
   ]
  },
  {
   "cell_type": "code",
   "execution_count": 42,
   "metadata": {},
   "outputs": [],
   "source": [
    "#Simplify structure of currency names into character array\n",
    "for arrayel in currency_returns_data['returns']['names'][0][0][0]:\n",
    "    currency_returns['names'].append(arrayel[0])"
   ]
  },
  {
   "cell_type": "code",
   "execution_count": 64,
   "metadata": {},
   "outputs": [],
   "source": [
    "# Convert dates from matlab datenum into python datetime\n",
    "datenum_to_datetime = lambda t: datetime.fromordinal(t) - timedelta(days = 366)\n",
    "currency_returns['dates'] = np.array([datenum_to_datetime(dt) for dt in currency_returns_data['returns']['dates'][0][0]])"
   ]
  },
  {
   "cell_type": "code",
   "execution_count": 67,
   "metadata": {},
   "outputs": [],
   "source": [
    "# Simplify currency returns into a TxN matrix.\n",
    "currency_returns['data'] = currency_returns_data['returns']['data'][0][0]"
   ]
  },
  {
   "cell_type": "code",
   "execution_count": 68,
   "metadata": {},
   "outputs": [
    {
     "data": {
      "text/plain": [
       "{'names': ['AUD', 'CAD', 'CHF', 'EUR', 'GBP', 'JPY', 'NOK', 'NZD', 'SEK'],\n",
       " 'dates': array([datetime.datetime(1975, 1, 2, 0, 0),\n",
       "        datetime.datetime(1975, 1, 3, 0, 0),\n",
       "        datetime.datetime(1975, 1, 6, 0, 0), ...,\n",
       "        datetime.datetime(2017, 12, 22, 0, 0),\n",
       "        datetime.datetime(2017, 12, 25, 0, 0),\n",
       "        datetime.datetime(2017, 12, 26, 0, 0)], dtype=object),\n",
       " 'data': array([[-2.12900106e-03, -1.71206104e-03, -9.91521557e-03, ...,\n",
       "         -3.29878880e-03,  5.36361955e-04, -4.70411991e-03],\n",
       "        [-9.47180214e-04,  1.51742541e-05,  8.50026858e-03, ...,\n",
       "          8.80088593e-03, -1.92421681e-03,  7.11298082e-03],\n",
       "        [-1.15760422e-03,  6.67737395e-04, -1.02331388e-03, ...,\n",
       "          2.75925552e-03, -1.12861462e-03,  9.23671454e-03],\n",
       "        ...,\n",
       "        [ 2.98895387e-03, -2.11656802e-03, -6.56698323e-04, ...,\n",
       "          6.15875912e-03, -5.70084800e-04,  6.65421992e-03],\n",
       "        [ 0.00000000e+00,  0.00000000e+00,  0.00000000e+00, ...,\n",
       "          0.00000000e+00,  0.00000000e+00,  0.00000000e+00],\n",
       "        [ 1.29567245e-04,  3.97450024e-03,  2.02101859e-04, ...,\n",
       "          5.64571346e-04,  1.49732620e-03,  6.52682886e-04]])}"
      ]
     },
     "execution_count": 68,
     "metadata": {},
     "output_type": "execute_result"
    }
   ],
   "source": [
    "currency_returns"
   ]
  },
  {
   "cell_type": "code",
   "execution_count": 71,
   "metadata": {},
   "outputs": [],
   "source": [
    "output = open('currency_returns.pkl', 'wb')\n",
    "pickle.dump(currency_returns, output)\n",
    "output.close()"
   ]
  },
  {
   "cell_type": "code",
   "execution_count": 74,
   "metadata": {},
   "outputs": [],
   "source": [
    "pkl_file = open('currency_returns.pkl','rb')\n",
    "currency_returns2 = pickle.load(pkl_file)\n",
    "pkl_file.close()"
   ]
  },
  {
   "cell_type": "code",
   "execution_count": 75,
   "metadata": {},
   "outputs": [
    {
     "data": {
      "text/plain": [
       "{'names': ['AUD', 'CAD', 'CHF', 'EUR', 'GBP', 'JPY', 'NOK', 'NZD', 'SEK'],\n",
       " 'dates': array([datetime.datetime(1975, 1, 2, 0, 0),\n",
       "        datetime.datetime(1975, 1, 3, 0, 0),\n",
       "        datetime.datetime(1975, 1, 6, 0, 0), ...,\n",
       "        datetime.datetime(2017, 12, 22, 0, 0),\n",
       "        datetime.datetime(2017, 12, 25, 0, 0),\n",
       "        datetime.datetime(2017, 12, 26, 0, 0)], dtype=object),\n",
       " 'data': array([[-2.12900106e-03, -1.71206104e-03, -9.91521557e-03, ...,\n",
       "         -3.29878880e-03,  5.36361955e-04, -4.70411991e-03],\n",
       "        [-9.47180214e-04,  1.51742541e-05,  8.50026858e-03, ...,\n",
       "          8.80088593e-03, -1.92421681e-03,  7.11298082e-03],\n",
       "        [-1.15760422e-03,  6.67737395e-04, -1.02331388e-03, ...,\n",
       "          2.75925552e-03, -1.12861462e-03,  9.23671454e-03],\n",
       "        ...,\n",
       "        [ 2.98895387e-03, -2.11656802e-03, -6.56698323e-04, ...,\n",
       "          6.15875912e-03, -5.70084800e-04,  6.65421992e-03],\n",
       "        [ 0.00000000e+00,  0.00000000e+00,  0.00000000e+00, ...,\n",
       "          0.00000000e+00,  0.00000000e+00,  0.00000000e+00],\n",
       "        [ 1.29567245e-04,  3.97450024e-03,  2.02101859e-04, ...,\n",
       "          5.64571346e-04,  1.49732620e-03,  6.52682886e-04]])}"
      ]
     },
     "execution_count": 75,
     "metadata": {},
     "output_type": "execute_result"
    }
   ],
   "source": [
    "currency_returns2"
   ]
  },
  {
   "cell_type": "code",
   "execution_count": null,
   "metadata": {},
   "outputs": [],
   "source": []
  }
 ],
 "metadata": {
  "kernelspec": {
   "display_name": "Python 3",
   "language": "python",
   "name": "python3"
  },
  "language_info": {
   "codemirror_mode": {
    "name": "ipython",
    "version": 3
   },
   "file_extension": ".py",
   "mimetype": "text/x-python",
   "name": "python",
   "nbconvert_exporter": "python",
   "pygments_lexer": "ipython3",
   "version": "3.6.6"
  }
 },
 "nbformat": 4,
 "nbformat_minor": 2
}
