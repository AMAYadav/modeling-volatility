{
 "cells": [
  {
   "cell_type": "markdown",
   "metadata": {
    "colab_type": "text",
    "id": "view-in-github"
   },
   "source": [
    "<a href=\"https://colab.research.google.com/github/fintechsteve/modeling-volatility/blob/master/Part_04_Understanding_Turbulence_Signals.ipynb\" target=\"_parent\"><img src=\"https://colab.research.google.com/assets/colab-badge.svg\" alt=\"Open In Colab\"/></a>"
   ]
  },
  {
   "cell_type": "markdown",
   "metadata": {
    "colab_type": "text",
    "id": "BtCSSGGdu4Qt"
   },
   "source": [
    "# Part 05 (a): Understanding GARCH Estimation\n",
    "\n",
    "### In this section you will:\n",
    "\n",
    "\n",
    "*   Learn about GARCH estimation and its use in investment management\n",
    "*   Fit a GARCH Model to currency data\n",
    "*   Use a GARCH Model forecast volatility\n",
    "\n",
    "\n",
    "### Intro\n",
    "\n",
    "GARCH (Generalized Autoregressive Conditional Heteroskedastic) Estimation is used to model the variance of a time series.  Applied to investment management, a GARCH model can be used to model, and therefore predict, asset volatility.  Such models were proposed in \"[Generalized Autoregressive Conditional Heteroskedasticity](https://doi.org/10.1016/0304-4076%2886%2990063-1)\"\n",
    "\n",
    "Before we define a GARCH model, consider first an ARCH (Autoregressive Conditional Heteroskedastic) model.  This model assumes that the variance at time $t$ ($\\sigma^2_t$) depends linearly on the error $\\epsilon_t$,  at a fixed number ($q$) of previous time periods.  When ${q = 1}$ and assuming that the time series ${r_t}$  is stationary with constant mean ${\\mu}$ we have the ARCH(1) model:\n",
    "\n",
    "\\begin{eqnarray*}\n",
    "   r_t    & = & \\mu + \\epsilon_t \\\\\n",
    "   \\epsilon_t & = & \\sigma_t e_t \\\\\n",
    "   \\sigma^2_t & = & \\omega + \\alpha \\epsilon_{t-1}^2\n",
    "\\end{eqnarray*}\n",
    "\n",
    "More generally for ${q > 1}$ we have ARCH(q):\n",
    "\n",
    "\\begin{eqnarray*}\n",
    "   \\sigma^2_t & = & \\omega + \\sum_{i=1}^{q}\\alpha_i \\epsilon_{t-i}^2 \n",
    "\\end{eqnarray*}\n",
    "\n",
    "The ARCH model captures the idea that the volatility of the series may change through time.  For example, a financial market may exhibit a period of low volatility followed by a period of high volatility. A time series that exhibits periods with increased (or decreased) volatility is called conditional heteroskedastic. \n",
    "\n",
    "The ARCH model may be extended to a GARCH model by adding linear dependence on a fixed number ($p$) of past variances.  For ${p = 1}$  and ${q = 1}$ the GARCH(1,1) model is\n",
    "\n",
    "\\begin{eqnarray*}\n",
    "   r_t    & = & \\mu + \\epsilon_t \\\\\n",
    "   \\epsilon_t & = & \\sigma_t e_t \\\\\n",
    "   \\sigma^2_t & = & \\omega + \\alpha \\epsilon_{t-1}^2 + \\beta \\sigma^2_{t-1}\n",
    "\\end{eqnarray*}\n",
    "\n",
    "More generally for ${p > 1}$ and ${q > 1}$ we have GARCH(p,q):\n",
    "\n",
    "\\begin{eqnarray*}\n",
    "   \\sigma^2_t & = & \\omega + \\sum_{i=1}^{q}\\alpha_i \\epsilon_{t-i}^2 + \\sum_{j=1}^{p}\\beta_j \\sigma^2_{t-j}\n",
    "\\end{eqnarray*}"
   ]
  },
  {
   "cell_type": "markdown",
   "metadata": {
    "colab_type": "text",
    "id": "ETMoGdnNrtjj"
   },
   "source": [
    "## Import all necessary libraries\n",
    "\n",
    "For this piece, we will need the following packages to be available to our environment:\n",
    "\n",
    "*   Pickle (For loading the data)\n",
    "*   Numpy and Pandas (For data manipulation)\n",
    "*   Arch (For GARCH estimation)\n",
    "*   Matplotlib and Seaborn(For time series visualization)\n",
    "\n",
    "If the packages are not available, install the with \"pip install X\" or \"conda install -c bashtage arch\""
   ]
  },
  {
   "cell_type": "code",
   "execution_count": 5,
   "metadata": {
    "colab": {},
    "colab_type": "code",
    "id": "FS6GYKq6T-ih"
   },
   "outputs": [],
   "source": [
    "import numpy as np, pandas as pd\n",
    "import pickle\n",
    "from arch import arch_model\n",
    "import matplotlib.pyplot as plt\n",
    "import seaborn as sns\n",
    "%matplotlib inline"
   ]
  },
  {
   "cell_type": "markdown",
   "metadata": {
    "colab_type": "text",
    "id": "wBoMCDKYsdli"
   },
   "source": [
    "### Read in data from previously stored returns.pkl file\n",
    "\n"
   ]
  },
  {
   "cell_type": "code",
   "execution_count": 6,
   "metadata": {
    "cellView": "both",
    "colab": {
     "base_uri": "https://localhost:8080/",
     "height": 549
    },
    "colab_type": "code",
    "id": "cFySsoztT-i9",
    "outputId": "8495eefc-671e-4942-a0ee-56543c378082",
    "scrolled": true
   },
   "outputs": [
    {
     "data": {
      "text/html": [
       "<div>\n",
       "<style>\n",
       "    .dataframe thead tr:only-child th {\n",
       "        text-align: right;\n",
       "    }\n",
       "\n",
       "    .dataframe thead th {\n",
       "        text-align: left;\n",
       "    }\n",
       "\n",
       "    .dataframe tbody tr th {\n",
       "        vertical-align: top;\n",
       "    }\n",
       "</style>\n",
       "<table border=\"1\" class=\"dataframe\">\n",
       "  <thead>\n",
       "    <tr style=\"text-align: right;\">\n",
       "      <th></th>\n",
       "      <th>AUD</th>\n",
       "      <th>CAD</th>\n",
       "      <th>CHF</th>\n",
       "      <th>EUR</th>\n",
       "      <th>GBP</th>\n",
       "      <th>JPY</th>\n",
       "      <th>NOK</th>\n",
       "      <th>NZD</th>\n",
       "      <th>SEK</th>\n",
       "    </tr>\n",
       "  </thead>\n",
       "  <tbody>\n",
       "    <tr>\n",
       "      <th>1975-01-02</th>\n",
       "      <td>-0.002129</td>\n",
       "      <td>-1.712061e-03</td>\n",
       "      <td>-0.009915</td>\n",
       "      <td>-0.003544</td>\n",
       "      <td>-0.005745</td>\n",
       "      <td>-0.001502</td>\n",
       "      <td>-0.003299</td>\n",
       "      <td>0.000536</td>\n",
       "      <td>-0.004704</td>\n",
       "    </tr>\n",
       "    <tr>\n",
       "      <th>1975-01-03</th>\n",
       "      <td>-0.000947</td>\n",
       "      <td>1.517425e-05</td>\n",
       "      <td>0.008500</td>\n",
       "      <td>0.007886</td>\n",
       "      <td>0.003424</td>\n",
       "      <td>0.002711</td>\n",
       "      <td>0.008801</td>\n",
       "      <td>-0.001924</td>\n",
       "      <td>0.007113</td>\n",
       "    </tr>\n",
       "    <tr>\n",
       "      <th>1975-01-06</th>\n",
       "      <td>-0.001158</td>\n",
       "      <td>6.677374e-04</td>\n",
       "      <td>-0.001023</td>\n",
       "      <td>0.008174</td>\n",
       "      <td>0.002346</td>\n",
       "      <td>-0.004728</td>\n",
       "      <td>0.002759</td>\n",
       "      <td>-0.001129</td>\n",
       "      <td>0.009237</td>\n",
       "    </tr>\n",
       "    <tr>\n",
       "      <th>1975-01-07</th>\n",
       "      <td>0.004193</td>\n",
       "      <td>-1.726304e-03</td>\n",
       "      <td>0.001702</td>\n",
       "      <td>0.002150</td>\n",
       "      <td>0.001702</td>\n",
       "      <td>0.002410</td>\n",
       "      <td>0.005434</td>\n",
       "      <td>0.004567</td>\n",
       "      <td>-0.001466</td>\n",
       "    </tr>\n",
       "    <tr>\n",
       "      <th>1975-01-08</th>\n",
       "      <td>-0.001489</td>\n",
       "      <td>-2.000930e-04</td>\n",
       "      <td>-0.015237</td>\n",
       "      <td>-0.008650</td>\n",
       "      <td>-0.001997</td>\n",
       "      <td>0.000122</td>\n",
       "      <td>-0.006315</td>\n",
       "      <td>-0.000034</td>\n",
       "      <td>-0.006188</td>\n",
       "    </tr>\n",
       "    <tr>\n",
       "      <th>1975-01-09</th>\n",
       "      <td>-0.000324</td>\n",
       "      <td>-3.120108e-03</td>\n",
       "      <td>0.000298</td>\n",
       "      <td>0.004764</td>\n",
       "      <td>0.000298</td>\n",
       "      <td>-0.000409</td>\n",
       "      <td>-0.000114</td>\n",
       "      <td>-0.001217</td>\n",
       "      <td>-0.000751</td>\n",
       "    </tr>\n",
       "    <tr>\n",
       "      <th>1975-01-10</th>\n",
       "      <td>0.000077</td>\n",
       "      <td>-1.283429e-03</td>\n",
       "      <td>0.001489</td>\n",
       "      <td>0.001489</td>\n",
       "      <td>0.001489</td>\n",
       "      <td>0.000075</td>\n",
       "      <td>0.006256</td>\n",
       "      <td>0.000311</td>\n",
       "      <td>0.001489</td>\n",
       "    </tr>\n",
       "    <tr>\n",
       "      <th>1975-01-13</th>\n",
       "      <td>0.000579</td>\n",
       "      <td>-3.152212e-07</td>\n",
       "      <td>0.001789</td>\n",
       "      <td>-0.001210</td>\n",
       "      <td>0.000127</td>\n",
       "      <td>-0.000578</td>\n",
       "      <td>0.000542</td>\n",
       "      <td>0.000969</td>\n",
       "      <td>-0.002488</td>\n",
       "    </tr>\n",
       "    <tr>\n",
       "      <th>1975-01-14</th>\n",
       "      <td>-0.000699</td>\n",
       "      <td>7.303998e-04</td>\n",
       "      <td>-0.005132</td>\n",
       "      <td>-0.006698</td>\n",
       "      <td>-0.001827</td>\n",
       "      <td>0.000291</td>\n",
       "      <td>-0.006558</td>\n",
       "      <td>-0.000762</td>\n",
       "      <td>-0.007795</td>\n",
       "    </tr>\n",
       "    <tr>\n",
       "      <th>1975-01-15</th>\n",
       "      <td>-0.000934</td>\n",
       "      <td>1.198868e-03</td>\n",
       "      <td>-0.002078</td>\n",
       "      <td>0.001797</td>\n",
       "      <td>-0.000426</td>\n",
       "      <td>-0.002542</td>\n",
       "      <td>-0.002276</td>\n",
       "      <td>-0.000594</td>\n",
       "      <td>0.000094</td>\n",
       "    </tr>\n",
       "  </tbody>\n",
       "</table>\n",
       "</div>"
      ],
      "text/plain": [
       "                 AUD           CAD       CHF       EUR       GBP       JPY  \\\n",
       "1975-01-02 -0.002129 -1.712061e-03 -0.009915 -0.003544 -0.005745 -0.001502   \n",
       "1975-01-03 -0.000947  1.517425e-05  0.008500  0.007886  0.003424  0.002711   \n",
       "1975-01-06 -0.001158  6.677374e-04 -0.001023  0.008174  0.002346 -0.004728   \n",
       "1975-01-07  0.004193 -1.726304e-03  0.001702  0.002150  0.001702  0.002410   \n",
       "1975-01-08 -0.001489 -2.000930e-04 -0.015237 -0.008650 -0.001997  0.000122   \n",
       "1975-01-09 -0.000324 -3.120108e-03  0.000298  0.004764  0.000298 -0.000409   \n",
       "1975-01-10  0.000077 -1.283429e-03  0.001489  0.001489  0.001489  0.000075   \n",
       "1975-01-13  0.000579 -3.152212e-07  0.001789 -0.001210  0.000127 -0.000578   \n",
       "1975-01-14 -0.000699  7.303998e-04 -0.005132 -0.006698 -0.001827  0.000291   \n",
       "1975-01-15 -0.000934  1.198868e-03 -0.002078  0.001797 -0.000426 -0.002542   \n",
       "\n",
       "                 NOK       NZD       SEK  \n",
       "1975-01-02 -0.003299  0.000536 -0.004704  \n",
       "1975-01-03  0.008801 -0.001924  0.007113  \n",
       "1975-01-06  0.002759 -0.001129  0.009237  \n",
       "1975-01-07  0.005434  0.004567 -0.001466  \n",
       "1975-01-08 -0.006315 -0.000034 -0.006188  \n",
       "1975-01-09 -0.000114 -0.001217 -0.000751  \n",
       "1975-01-10  0.006256  0.000311  0.001489  \n",
       "1975-01-13  0.000542  0.000969 -0.002488  \n",
       "1975-01-14 -0.006558 -0.000762 -0.007795  \n",
       "1975-01-15 -0.002276 -0.000594  0.000094  "
      ]
     },
     "execution_count": 6,
     "metadata": {},
     "output_type": "execute_result"
    }
   ],
   "source": [
    "with open('./returns.pkl', 'rb') as f:\n",
    "    returns = pickle.load(f)\n",
    "    f.close()\n",
    "returns.head(10)"
   ]
  },
  {
   "cell_type": "markdown",
   "metadata": {
    "colab_type": "text",
    "id": "N20M0VTMyxil"
   },
   "source": [
    "### Calculate DXY Index\n",
    "\n",
    "In this part we scale the DXY Index to avoid numerical instabilities in the model fitting that may arise for inputs near zero."
   ]
  },
  {
   "cell_type": "code",
   "execution_count": 7,
   "metadata": {
    "colab": {},
    "colab_type": "code",
    "id": "naWuvBdzu-NZ"
   },
   "outputs": [
    {
     "data": {
      "text/plain": [
       "1975-01-02   -0.263509\n",
       "1975-01-03    0.298223\n",
       "1975-01-06   -0.152101\n",
       "1975-01-07    0.134179\n",
       "1975-01-08   -0.133663\n",
       "1975-01-09   -0.062415\n",
       "1975-01-10    0.028212\n",
       "1975-01-13   -0.047792\n",
       "1975-01-14   -0.088794\n",
       "1975-01-15   -0.144571\n",
       "dtype: float64"
      ]
     },
     "execution_count": 7,
     "metadata": {},
     "output_type": "execute_result"
    }
   ],
   "source": [
    "dxy_weight = [0, 0.119, 0.036, 0, 0.136, 0.576, 0, 0, 0.091]\n",
    "dxy = returns.dot(dxy_weight)\n",
    "scaled_dxy = 10000*dxy\n",
    "scaled_dxy.head(10)"
   ]
  },
  {
   "cell_type": "markdown",
   "metadata": {
    "colab_type": "text",
    "id": "byOlnZO40EDx"
   },
   "source": [
    "### Estimate a GARCH(1,1) model for the DXY Index"
   ]
  },
  {
   "cell_type": "code",
   "execution_count": 8,
   "metadata": {
    "colab": {
     "base_uri": "https://localhost:8080/",
     "height": 390
    },
    "colab_type": "code",
    "id": "stRMHt7qy6Pr",
    "outputId": "d3feb0f9-2659-4159-f484-7706411d3029"
   },
   "outputs": [
    {
     "name": "stdout",
     "output_type": "stream",
     "text": [
      "Iteration:      5,   Func. Count:     40,   Neg. LLF: 6811.526379279518\n",
      "Iteration:     10,   Func. Count:     81,   Neg. LLF: 6805.28464578078\n",
      "Iteration:     15,   Func. Count:    116,   Neg. LLF: 6797.496139704385\n",
      "Optimization terminated successfully.    (Exit mode 0)\n",
      "            Current function value: 6797.351618871784\n",
      "            Iterations: 19\n",
      "            Function evaluations: 136\n",
      "            Gradient evaluations: 18\n",
      "                     Constant Mean - GARCH Model Results                      \n",
      "==============================================================================\n",
      "Dep. Variable:                   None   R-squared:                      -0.000\n",
      "Mean Model:             Constant Mean   Adj. R-squared:                 -0.000\n",
      "Vol Model:                      GARCH   Log-Likelihood:               -6797.35\n",
      "Distribution:                  Normal   AIC:                           13602.7\n",
      "Method:            Maximum Likelihood   BIC:                           13632.0\n",
      "                                        No. Observations:                11214\n",
      "Date:                Fri, Apr 26 2019   Df Residuals:                    11210\n",
      "Time:                        11:47:14   Df Model:                            4\n",
      "                                  Mean Model                                 \n",
      "=============================================================================\n",
      "                 coef    std err          t      P>|t|       95.0% Conf. Int.\n",
      "-----------------------------------------------------------------------------\n",
      "mu         1.8657e-03  3.968e-03      0.470      0.638 [-5.912e-03,9.643e-03]\n",
      "                              Volatility Model                              \n",
      "============================================================================\n",
      "                 coef    std err          t      P>|t|      95.0% Conf. Int.\n",
      "----------------------------------------------------------------------------\n",
      "omega      9.5954e-04  4.482e-04      2.141  3.230e-02 [8.102e-05,1.838e-03]\n",
      "alpha[1]       0.0422  7.137e-03      5.916  3.299e-09 [2.823e-02,5.621e-02]\n",
      "beta[1]        0.9552  7.963e-03    119.964      0.000     [  0.940,  0.971]\n",
      "============================================================================\n",
      "\n",
      "Covariance estimator: robust\n"
     ]
    }
   ],
   "source": [
    "am = arch_model(scaled_dxy, mean = 'Constant', vol='GARCH', p=1, q=1)\n",
    "res = am.fit(update_freq=5)\n",
    "print(res.summary())"
   ]
  },
  {
   "cell_type": "markdown",
   "metadata": {},
   "source": [
    "The above model corresponds to ${\\alpha  = .0422}$,  ${\\beta = .9552}$, ${\\omega = 9.5954e-04}$ and ${\\mu = 1.8657e-03}$ in the frame work described above\n",
    "\n",
    "\\begin{eqnarray}\n",
    "   r_t    & = & \\mu + \\epsilon_t \\\\\n",
    "   \\epsilon_t & = & \\sigma_t e_t \\\\\n",
    "   \\sigma^2_t & = & \\omega + \\alpha \\epsilon_{t-1}^2 + \\beta \\sigma^2_{t-1}\n",
    "\\end{eqnarray}\n"
   ]
  },
  {
   "cell_type": "markdown",
   "metadata": {},
   "source": [
    "### Forecast volatility for the DXY Index\n",
    "\n",
    "Now we can use this model to forecast the future variance (volatility)."
   ]
  },
  {
   "cell_type": "code",
   "execution_count": 9,
   "metadata": {
    "colab": {
     "base_uri": "https://localhost:8080/",
     "height": 364
    },
    "colab_type": "code",
    "id": "-93ZyVJIPwv6",
    "outputId": "2c18930d-c218-480e-e971-25f8ab0bfc92"
   },
   "outputs": [
    {
     "name": "stdout",
     "output_type": "stream",
     "text": [
      "2017-12-26 00:00:00\n",
      "0.0871872134006\n"
     ]
    }
   ],
   "source": [
    "forecasts = res.forecast(horizon = 1)\n",
    "print(forecasts.variance.index[-1])\n",
    "print(forecasts.variance.values[-1, -1]/10000)"
   ]
  },
  {
   "cell_type": "markdown",
   "metadata": {},
   "source": [
    "Next we use a rolling window to forecast the one day volatility.  For each day we use the prior 260 days to fit a GARCH model and forecast a one day horizon."
   ]
  },
  {
   "cell_type": "code",
   "execution_count": 24,
   "metadata": {},
   "outputs": [
    {
     "data": {
      "text/html": [
       "<div>\n",
       "<style>\n",
       "    .dataframe thead tr:only-child th {\n",
       "        text-align: right;\n",
       "    }\n",
       "\n",
       "    .dataframe thead th {\n",
       "        text-align: left;\n",
       "    }\n",
       "\n",
       "    .dataframe tbody tr th {\n",
       "        vertical-align: top;\n",
       "    }\n",
       "</style>\n",
       "<table border=\"1\" class=\"dataframe\">\n",
       "  <thead>\n",
       "    <tr style=\"text-align: right;\">\n",
       "      <th></th>\n",
       "      <th>date</th>\n",
       "      <th>var</th>\n",
       "    </tr>\n",
       "  </thead>\n",
       "  <tbody>\n",
       "    <tr>\n",
       "      <th>0</th>\n",
       "      <td>2017-08-08</td>\n",
       "      <td>0.000018</td>\n",
       "    </tr>\n",
       "    <tr>\n",
       "      <th>1</th>\n",
       "      <td>2017-08-09</td>\n",
       "      <td>0.000019</td>\n",
       "    </tr>\n",
       "    <tr>\n",
       "      <th>2</th>\n",
       "      <td>2017-08-10</td>\n",
       "      <td>0.000019</td>\n",
       "    </tr>\n",
       "    <tr>\n",
       "      <th>3</th>\n",
       "      <td>2017-08-11</td>\n",
       "      <td>0.000018</td>\n",
       "    </tr>\n",
       "    <tr>\n",
       "      <th>4</th>\n",
       "      <td>2017-08-14</td>\n",
       "      <td>0.000017</td>\n",
       "    </tr>\n",
       "    <tr>\n",
       "      <th>5</th>\n",
       "      <td>2017-08-15</td>\n",
       "      <td>0.000019</td>\n",
       "    </tr>\n",
       "    <tr>\n",
       "      <th>6</th>\n",
       "      <td>2017-08-16</td>\n",
       "      <td>0.000018</td>\n",
       "    </tr>\n",
       "    <tr>\n",
       "      <th>7</th>\n",
       "      <td>2017-08-17</td>\n",
       "      <td>0.000019</td>\n",
       "    </tr>\n",
       "    <tr>\n",
       "      <th>8</th>\n",
       "      <td>2017-08-18</td>\n",
       "      <td>0.000020</td>\n",
       "    </tr>\n",
       "    <tr>\n",
       "      <th>9</th>\n",
       "      <td>2017-08-21</td>\n",
       "      <td>0.000019</td>\n",
       "    </tr>\n",
       "  </tbody>\n",
       "</table>\n",
       "</div>"
      ],
      "text/plain": [
       "        date       var\n",
       "0 2017-08-08  0.000018\n",
       "1 2017-08-09  0.000019\n",
       "2 2017-08-10  0.000019\n",
       "3 2017-08-11  0.000018\n",
       "4 2017-08-14  0.000017\n",
       "5 2017-08-15  0.000019\n",
       "6 2017-08-16  0.000018\n",
       "7 2017-08-17  0.000019\n",
       "8 2017-08-18  0.000020\n",
       "9 2017-08-21  0.000019"
      ]
     },
     "execution_count": 24,
     "metadata": {},
     "output_type": "execute_result"
    }
   ],
   "source": [
    "n_days = 100\n",
    "lookback_window = 260\n",
    "horizon = 1\n",
    "f = []\n",
    "for i in range(1,n_days+1):\n",
    "    am = arch_model(scaled_dxy[-i-lookback_window:-i], mean = 'Constant', vol='GARCH', p=1, q=1)\n",
    "    res = am.fit(disp='off')\n",
    "    forecasts = res.forecast(horizon = horizon)\n",
    "    f.append({'var': forecasts.variance.iloc[-1, -1]/10000, 'date':forecasts.variance.index[-1]})\n",
    "    \n",
    "df_vol_pred = pd.DataFrame(f[::-1])\n",
    "df_vol_pred.head(10)"
   ]
  },
  {
   "cell_type": "code",
   "execution_count": 25,
   "metadata": {},
   "outputs": [
    {
     "data": {
      "text/plain": [
       "<matplotlib.axes._subplots.AxesSubplot at 0xab0df98>"
      ]
     },
     "execution_count": 25,
     "metadata": {},
     "output_type": "execute_result"
    },
    {
     "data": {
      "image/png": "[encoded data removed]",
      "text/plain": [
       "<Figure size 432x288 with 1 Axes>"
      ]
     },
     "metadata": {
      "needs_background": "light"
     },
     "output_type": "display_data"
    }
   ],
   "source": [
    "sns.lineplot(x='date',y='var',data=df_vol_pred)"
   ]
  },
  {
   "cell_type": "markdown",
   "metadata": {},
   "source": [
    "Next we can compare with daily volatility."
   ]
  },
  {
   "cell_type": "code",
   "execution_count": 15,
   "metadata": {},
   "outputs": [
    {
     "data": {
      "text/plain": [
       "[<matplotlib.lines.Line2D at 0x781deb8>]"
      ]
     },
     "execution_count": 15,
     "metadata": {},
     "output_type": "execute_result"
    },
    {
     "data": {
      "image/png": "[encoded data removed]",
      "text/plain": [
       "<Figure size 432x288 with 1 Axes>"
      ]
     },
     "metadata": {
      "needs_background": "light"
     },
     "output_type": "display_data"
    }
   ],
   "source": [
    "dxy_sq = (dxy**2)\n",
    "plt.plot(dxy_sq.values[-n_days:])"
   ]
  },
  {
   "cell_type": "markdown",
   "metadata": {},
   "source": [
    "Now we can compute a rolling one day volatility forecast for the entire period.  We compute forcasts for ${p}$ = 1, 2, and 3 and ${q}$ = 1, 2, and 3.  Note: this step is time consuming.  You may wish to load presaved data rather than running it live."
   ]
  },
  {
   "cell_type": "code",
   "execution_count": 26,
   "metadata": {},
   "outputs": [
    {
     "name": "stderr",
     "output_type": "stream",
     "text": [
      "C:\\Users\\scates\\AppData\\Local\\Continuum\\Anaconda2\\envs\\Python3\\lib\\site-packages\\arch\\univariate\\base.py:577: ConvergenceWarning: \n",
      "The optimizer returned code 8. The message is:\n",
      "Positive directional derivative for linesearch\n",
      "See scipy.optimize.fmin_slsqp for code meaning.\n",
      "\n",
      "  ConvergenceWarning)\n",
      "C:\\Users\\scates\\AppData\\Local\\Continuum\\Anaconda2\\envs\\Python3\\lib\\site-packages\\arch\\univariate\\base.py:577: ConvergenceWarning: \n",
      "The optimizer returned code 8. The message is:\n",
      "Positive directional derivative for linesearch\n",
      "See scipy.optimize.fmin_slsqp for code meaning.\n",
      "\n",
      "  ConvergenceWarning)\n",
      "C:\\Users\\scates\\AppData\\Local\\Continuum\\Anaconda2\\envs\\Python3\\lib\\site-packages\\arch\\univariate\\base.py:577: ConvergenceWarning: \n",
      "The optimizer returned code 8. The message is:\n",
      "Positive directional derivative for linesearch\n",
      "See scipy.optimize.fmin_slsqp for code meaning.\n",
      "\n",
      "  ConvergenceWarning)\n",
      "C:\\Users\\scates\\AppData\\Local\\Continuum\\Anaconda2\\envs\\Python3\\lib\\site-packages\\arch\\univariate\\base.py:577: ConvergenceWarning: \n",
      "The optimizer returned code 8. The message is:\n",
      "Positive directional derivative for linesearch\n",
      "See scipy.optimize.fmin_slsqp for code meaning.\n",
      "\n",
      "  ConvergenceWarning)\n",
      "C:\\Users\\scates\\AppData\\Local\\Continuum\\Anaconda2\\envs\\Python3\\lib\\site-packages\\arch\\univariate\\base.py:577: ConvergenceWarning: \n",
      "The optimizer returned code 8. The message is:\n",
      "Positive directional derivative for linesearch\n",
      "See scipy.optimize.fmin_slsqp for code meaning.\n",
      "\n",
      "  ConvergenceWarning)\n",
      "C:\\Users\\scates\\AppData\\Local\\Continuum\\Anaconda2\\envs\\Python3\\lib\\site-packages\\arch\\univariate\\base.py:577: ConvergenceWarning: \n",
      "The optimizer returned code 8. The message is:\n",
      "Positive directional derivative for linesearch\n",
      "See scipy.optimize.fmin_slsqp for code meaning.\n",
      "\n",
      "  ConvergenceWarning)\n",
      "C:\\Users\\scates\\AppData\\Local\\Continuum\\Anaconda2\\envs\\Python3\\lib\\site-packages\\arch\\univariate\\base.py:577: ConvergenceWarning: \n",
      "The optimizer returned code 8. The message is:\n",
      "Positive directional derivative for linesearch\n",
      "See scipy.optimize.fmin_slsqp for code meaning.\n",
      "\n",
      "  ConvergenceWarning)\n",
      "C:\\Users\\scates\\AppData\\Local\\Continuum\\Anaconda2\\envs\\Python3\\lib\\site-packages\\arch\\univariate\\base.py:577: ConvergenceWarning: \n",
      "The optimizer returned code 8. The message is:\n",
      "Positive directional derivative for linesearch\n",
      "See scipy.optimize.fmin_slsqp for code meaning.\n",
      "\n",
      "  ConvergenceWarning)\n",
      "C:\\Users\\scates\\AppData\\Local\\Continuum\\Anaconda2\\envs\\Python3\\lib\\site-packages\\arch\\univariate\\base.py:577: ConvergenceWarning: \n",
      "The optimizer returned code 8. The message is:\n",
      "Positive directional derivative for linesearch\n",
      "See scipy.optimize.fmin_slsqp for code meaning.\n",
      "\n",
      "  ConvergenceWarning)\n",
      "C:\\Users\\scates\\AppData\\Local\\Continuum\\Anaconda2\\envs\\Python3\\lib\\site-packages\\arch\\univariate\\base.py:577: ConvergenceWarning: \n",
      "The optimizer returned code 8. The message is:\n",
      "Positive directional derivative for linesearch\n",
      "See scipy.optimize.fmin_slsqp for code meaning.\n",
      "\n",
      "  ConvergenceWarning)\n",
      "C:\\Users\\scates\\AppData\\Local\\Continuum\\Anaconda2\\envs\\Python3\\lib\\site-packages\\arch\\univariate\\base.py:577: ConvergenceWarning: \n",
      "The optimizer returned code 8. The message is:\n",
      "Positive directional derivative for linesearch\n",
      "See scipy.optimize.fmin_slsqp for code meaning.\n",
      "\n",
      "  ConvergenceWarning)\n",
      "C:\\Users\\scates\\AppData\\Local\\Continuum\\Anaconda2\\envs\\Python3\\lib\\site-packages\\arch\\univariate\\base.py:577: ConvergenceWarning: \n",
      "The optimizer returned code 8. The message is:\n",
      "Positive directional derivative for linesearch\n",
      "See scipy.optimize.fmin_slsqp for code meaning.\n",
      "\n",
      "  ConvergenceWarning)\n",
      "C:\\Users\\scates\\AppData\\Local\\Continuum\\Anaconda2\\envs\\Python3\\lib\\site-packages\\arch\\univariate\\base.py:577: ConvergenceWarning: \n",
      "The optimizer returned code 8. The message is:\n",
      "Positive directional derivative for linesearch\n",
      "See scipy.optimize.fmin_slsqp for code meaning.\n",
      "\n",
      "  ConvergenceWarning)\n",
      "C:\\Users\\scates\\AppData\\Local\\Continuum\\Anaconda2\\envs\\Python3\\lib\\site-packages\\arch\\univariate\\base.py:577: ConvergenceWarning: \n",
      "The optimizer returned code 8. The message is:\n",
      "Positive directional derivative for linesearch\n",
      "See scipy.optimize.fmin_slsqp for code meaning.\n",
      "\n",
      "  ConvergenceWarning)\n",
      "C:\\Users\\scates\\AppData\\Local\\Continuum\\Anaconda2\\envs\\Python3\\lib\\site-packages\\arch\\univariate\\base.py:577: ConvergenceWarning: \n",
      "The optimizer returned code 8. The message is:\n",
      "Positive directional derivative for linesearch\n",
      "See scipy.optimize.fmin_slsqp for code meaning.\n",
      "\n",
      "  ConvergenceWarning)\n",
      "C:\\Users\\scates\\AppData\\Local\\Continuum\\Anaconda2\\envs\\Python3\\lib\\site-packages\\arch\\univariate\\base.py:577: ConvergenceWarning: \n",
      "The optimizer returned code 8. The message is:\n",
      "Positive directional derivative for linesearch\n",
      "See scipy.optimize.fmin_slsqp for code meaning.\n",
      "\n",
      "  ConvergenceWarning)\n",
      "C:\\Users\\scates\\AppData\\Local\\Continuum\\Anaconda2\\envs\\Python3\\lib\\site-packages\\arch\\univariate\\base.py:577: ConvergenceWarning: \n",
      "The optimizer returned code 8. The message is:\n",
      "Positive directional derivative for linesearch\n",
      "See scipy.optimize.fmin_slsqp for code meaning.\n",
      "\n",
      "  ConvergenceWarning)\n",
      "C:\\Users\\scates\\AppData\\Local\\Continuum\\Anaconda2\\envs\\Python3\\lib\\site-packages\\arch\\univariate\\base.py:577: ConvergenceWarning: \n",
      "The optimizer returned code 8. The message is:\n",
      "Positive directional derivative for linesearch\n",
      "See scipy.optimize.fmin_slsqp for code meaning.\n",
      "\n",
      "  ConvergenceWarning)\n",
      "C:\\Users\\scates\\AppData\\Local\\Continuum\\Anaconda2\\envs\\Python3\\lib\\site-packages\\arch\\univariate\\base.py:577: ConvergenceWarning: \n",
      "The optimizer returned code 8. The message is:\n",
      "Positive directional derivative for linesearch\n",
      "See scipy.optimize.fmin_slsqp for code meaning.\n",
      "\n",
      "  ConvergenceWarning)\n",
      "C:\\Users\\scates\\AppData\\Local\\Continuum\\Anaconda2\\envs\\Python3\\lib\\site-packages\\arch\\univariate\\base.py:577: ConvergenceWarning: \n",
      "The optimizer returned code 8. The message is:\n",
      "Positive directional derivative for linesearch\n",
      "See scipy.optimize.fmin_slsqp for code meaning.\n",
      "\n",
      "  ConvergenceWarning)\n"
     ]
    },
    {
     "ename": "KeyboardInterrupt",
     "evalue": "",
     "output_type": "error",
     "traceback": [
      "\u001b[1;31m---------------------------------------------------------------------------\u001b[0m",
      "\u001b[1;31mKeyboardInterrupt\u001b[0m                         Traceback (most recent call last)",
      "\u001b[1;32m<ipython-input-26-a8363bdb86ce>\u001b[0m in \u001b[0;36m<module>\u001b[1;34m()\u001b[0m\n\u001b[0;32m      7\u001b[0m         \u001b[1;32mfor\u001b[0m \u001b[0mi\u001b[0m \u001b[1;32min\u001b[0m \u001b[0mrange\u001b[0m\u001b[1;33m(\u001b[0m\u001b[0mn_days\u001b[0m\u001b[1;33m+\u001b[0m\u001b[1;36m1\u001b[0m\u001b[1;33m,\u001b[0m \u001b[1;36m1\u001b[0m\u001b[1;33m,\u001b[0m \u001b[1;33m-\u001b[0m\u001b[1;36m1\u001b[0m\u001b[1;33m)\u001b[0m\u001b[1;33m:\u001b[0m\u001b[1;33m\u001b[0m\u001b[0m\n\u001b[0;32m      8\u001b[0m             \u001b[0mam\u001b[0m \u001b[1;33m=\u001b[0m \u001b[0march_model\u001b[0m\u001b[1;33m(\u001b[0m\u001b[0mscaled_dxy\u001b[0m\u001b[1;33m[\u001b[0m\u001b[1;33m-\u001b[0m\u001b[0mi\u001b[0m\u001b[1;33m-\u001b[0m\u001b[0mlookback_window\u001b[0m\u001b[1;33m:\u001b[0m\u001b[1;33m-\u001b[0m\u001b[0mi\u001b[0m\u001b[1;33m]\u001b[0m\u001b[1;33m,\u001b[0m \u001b[0mmean\u001b[0m \u001b[1;33m=\u001b[0m \u001b[1;34m'Constant'\u001b[0m\u001b[1;33m,\u001b[0m \u001b[0mvol\u001b[0m\u001b[1;33m=\u001b[0m\u001b[1;34m'GARCH'\u001b[0m\u001b[1;33m,\u001b[0m \u001b[0mp\u001b[0m\u001b[1;33m=\u001b[0m\u001b[0mp\u001b[0m\u001b[1;33m,\u001b[0m \u001b[0mq\u001b[0m\u001b[1;33m=\u001b[0m\u001b[0mq\u001b[0m\u001b[1;33m)\u001b[0m\u001b[1;33m\u001b[0m\u001b[0m\n\u001b[1;32m----> 9\u001b[1;33m             \u001b[0mres\u001b[0m \u001b[1;33m=\u001b[0m \u001b[0mam\u001b[0m\u001b[1;33m.\u001b[0m\u001b[0mfit\u001b[0m\u001b[1;33m(\u001b[0m\u001b[0mdisp\u001b[0m\u001b[1;33m=\u001b[0m\u001b[1;34m'off'\u001b[0m\u001b[1;33m)\u001b[0m\u001b[1;33m\u001b[0m\u001b[0m\n\u001b[0m\u001b[0;32m     10\u001b[0m             \u001b[0mforecasts\u001b[0m \u001b[1;33m=\u001b[0m \u001b[0mres\u001b[0m\u001b[1;33m.\u001b[0m\u001b[0mforecast\u001b[0m\u001b[1;33m(\u001b[0m\u001b[0mhorizon\u001b[0m \u001b[1;33m=\u001b[0m \u001b[0mhorizon\u001b[0m\u001b[1;33m)\u001b[0m\u001b[1;33m\u001b[0m\u001b[0m\n\u001b[0;32m     11\u001b[0m             \u001b[0mf\u001b[0m\u001b[1;33m.\u001b[0m\u001b[0mappend\u001b[0m\u001b[1;33m(\u001b[0m\u001b[1;33m{\u001b[0m\u001b[1;34m'var'\u001b[0m\u001b[1;33m:\u001b[0m \u001b[0mforecasts\u001b[0m\u001b[1;33m.\u001b[0m\u001b[0mvariance\u001b[0m\u001b[1;33m.\u001b[0m\u001b[0miloc\u001b[0m\u001b[1;33m[\u001b[0m\u001b[1;33m-\u001b[0m\u001b[1;36m1\u001b[0m\u001b[1;33m,\u001b[0m \u001b[1;33m-\u001b[0m\u001b[1;36m1\u001b[0m\u001b[1;33m]\u001b[0m\u001b[1;33m/\u001b[0m\u001b[1;36m10000\u001b[0m\u001b[1;33m,\u001b[0m \u001b[1;34m'date'\u001b[0m\u001b[1;33m:\u001b[0m\u001b[0mforecasts\u001b[0m\u001b[1;33m.\u001b[0m\u001b[0mvariance\u001b[0m\u001b[1;33m.\u001b[0m\u001b[0mindex\u001b[0m\u001b[1;33m[\u001b[0m\u001b[1;33m-\u001b[0m\u001b[1;36m1\u001b[0m\u001b[1;33m]\u001b[0m\u001b[1;33m,\u001b[0m \u001b[1;34m'p'\u001b[0m\u001b[1;33m:\u001b[0m\u001b[0mp\u001b[0m\u001b[1;33m,\u001b[0m \u001b[1;34m'q'\u001b[0m\u001b[1;33m:\u001b[0m\u001b[0mq\u001b[0m\u001b[1;33m}\u001b[0m\u001b[1;33m)\u001b[0m\u001b[1;33m\u001b[0m\u001b[0m\n",
      "\u001b[1;32m~\\AppData\\Local\\Continuum\\Anaconda2\\envs\\Python3\\lib\\site-packages\\arch\\univariate\\base.py\u001b[0m in \u001b[0;36mfit\u001b[1;34m(self, update_freq, disp, starting_values, cov_type, show_warning, first_obs, last_obs, tol, options, backcast)\u001b[0m\n\u001b[0;32m    478\u001b[0m         \u001b[0mself\u001b[0m\u001b[1;33m.\u001b[0m\u001b[0m_adjust_sample\u001b[0m\u001b[1;33m(\u001b[0m\u001b[0mfirst_obs\u001b[0m\u001b[1;33m,\u001b[0m \u001b[0mlast_obs\u001b[0m\u001b[1;33m)\u001b[0m\u001b[1;33m\u001b[0m\u001b[0m\n\u001b[0;32m    479\u001b[0m \u001b[1;33m\u001b[0m\u001b[0m\n\u001b[1;32m--> 480\u001b[1;33m         \u001b[0mresids\u001b[0m \u001b[1;33m=\u001b[0m \u001b[0mself\u001b[0m\u001b[1;33m.\u001b[0m\u001b[0mresids\u001b[0m\u001b[1;33m(\u001b[0m\u001b[0mself\u001b[0m\u001b[1;33m.\u001b[0m\u001b[0mstarting_values\u001b[0m\u001b[1;33m(\u001b[0m\u001b[1;33m)\u001b[0m\u001b[1;33m)\u001b[0m\u001b[1;33m\u001b[0m\u001b[0m\n\u001b[0m\u001b[0;32m    481\u001b[0m         \u001b[1;32mif\u001b[0m \u001b[0mbackcast\u001b[0m \u001b[1;32mis\u001b[0m \u001b[1;32mNone\u001b[0m\u001b[1;33m:\u001b[0m\u001b[1;33m\u001b[0m\u001b[0m\n\u001b[0;32m    482\u001b[0m             \u001b[0mbackcast\u001b[0m \u001b[1;33m=\u001b[0m \u001b[0mv\u001b[0m\u001b[1;33m.\u001b[0m\u001b[0mbackcast\u001b[0m\u001b[1;33m(\u001b[0m\u001b[0mresids\u001b[0m\u001b[1;33m)\u001b[0m\u001b[1;33m\u001b[0m\u001b[0m\n",
      "\u001b[1;32m~\\AppData\\Local\\Continuum\\Anaconda2\\envs\\Python3\\lib\\site-packages\\arch\\univariate\\base.py\u001b[0m in \u001b[0;36mstarting_values\u001b[1;34m(self)\u001b[0m\n\u001b[0;32m    630\u001b[0m             \u001b[0mStarting\u001b[0m \u001b[0mvalues\u001b[0m\u001b[1;33m\u001b[0m\u001b[0m\n\u001b[0;32m    631\u001b[0m         \"\"\"\n\u001b[1;32m--> 632\u001b[1;33m         \u001b[0mparams\u001b[0m \u001b[1;33m=\u001b[0m \u001b[0mnp\u001b[0m\u001b[1;33m.\u001b[0m\u001b[0masarray\u001b[0m\u001b[1;33m(\u001b[0m\u001b[0mself\u001b[0m\u001b[1;33m.\u001b[0m\u001b[0m_fit_no_arch_normal_errors\u001b[0m\u001b[1;33m(\u001b[0m\u001b[1;33m)\u001b[0m\u001b[1;33m.\u001b[0m\u001b[0mparams\u001b[0m\u001b[1;33m)\u001b[0m\u001b[1;33m\u001b[0m\u001b[0m\n\u001b[0m\u001b[0;32m    633\u001b[0m         \u001b[1;31m# Remove sigma2\u001b[0m\u001b[1;33m\u001b[0m\u001b[1;33m\u001b[0m\u001b[0m\n\u001b[0;32m    634\u001b[0m         \u001b[1;32mif\u001b[0m \u001b[0mparams\u001b[0m\u001b[1;33m.\u001b[0m\u001b[0mshape\u001b[0m\u001b[1;33m[\u001b[0m\u001b[1;36m0\u001b[0m\u001b[1;33m]\u001b[0m \u001b[1;33m==\u001b[0m \u001b[1;36m1\u001b[0m\u001b[1;33m:\u001b[0m\u001b[1;33m\u001b[0m\u001b[0m\n",
      "\u001b[1;32m~\\AppData\\Local\\Continuum\\Anaconda2\\envs\\Python3\\lib\\site-packages\\arch\\univariate\\mean.py\u001b[0m in \u001b[0;36m_fit_no_arch_normal_errors\u001b[1;34m(self, cov_type)\u001b[0m\n\u001b[0;32m    581\u001b[0m             \u001b[0mscores\u001b[0m\u001b[1;33m[\u001b[0m\u001b[1;33m:\u001b[0m\u001b[1;33m,\u001b[0m \u001b[1;33m:\u001b[0m\u001b[0mself\u001b[0m\u001b[1;33m.\u001b[0m\u001b[0mnum_params\u001b[0m\u001b[1;33m]\u001b[0m \u001b[1;33m=\u001b[0m \u001b[0mx\u001b[0m \u001b[1;33m*\u001b[0m \u001b[0me\u001b[0m\u001b[1;33m[\u001b[0m\u001b[1;33m:\u001b[0m\u001b[1;33m,\u001b[0m \u001b[1;32mNone\u001b[0m\u001b[1;33m]\u001b[0m\u001b[1;33m\u001b[0m\u001b[0m\n\u001b[0;32m    582\u001b[0m             \u001b[0mscores\u001b[0m\u001b[1;33m[\u001b[0m\u001b[1;33m:\u001b[0m\u001b[1;33m,\u001b[0m \u001b[1;33m-\u001b[0m\u001b[1;36m1\u001b[0m\u001b[1;33m]\u001b[0m \u001b[1;33m=\u001b[0m \u001b[0me\u001b[0m \u001b[1;33m**\u001b[0m \u001b[1;36m2.0\u001b[0m \u001b[1;33m-\u001b[0m \u001b[0msigma2\u001b[0m\u001b[1;33m\u001b[0m\u001b[0m\n\u001b[1;32m--> 583\u001b[1;33m             \u001b[0mscore_cov\u001b[0m \u001b[1;33m=\u001b[0m \u001b[0mscores\u001b[0m\u001b[1;33m.\u001b[0m\u001b[0mT\u001b[0m\u001b[1;33m.\u001b[0m\u001b[0mdot\u001b[0m\u001b[1;33m(\u001b[0m\u001b[0mscores\u001b[0m\u001b[1;33m)\u001b[0m \u001b[1;33m/\u001b[0m \u001b[0mnobs\u001b[0m\u001b[1;33m\u001b[0m\u001b[0m\n\u001b[0m\u001b[0;32m    584\u001b[0m             \u001b[0mparam_cov\u001b[0m \u001b[1;33m=\u001b[0m \u001b[0mhessian\u001b[0m\u001b[1;33m.\u001b[0m\u001b[0mdot\u001b[0m\u001b[1;33m(\u001b[0m\u001b[0mscore_cov\u001b[0m\u001b[1;33m)\u001b[0m\u001b[1;33m.\u001b[0m\u001b[0mdot\u001b[0m\u001b[1;33m(\u001b[0m\u001b[0mhessian\u001b[0m\u001b[1;33m)\u001b[0m \u001b[1;33m/\u001b[0m \u001b[0mnobs\u001b[0m\u001b[1;33m\u001b[0m\u001b[0m\n\u001b[0;32m    585\u001b[0m             \u001b[0mcov_type\u001b[0m \u001b[1;33m=\u001b[0m \u001b[0mCOV_TYPES\u001b[0m\u001b[1;33m[\u001b[0m\u001b[1;34m'white'\u001b[0m\u001b[1;33m]\u001b[0m\u001b[1;33m\u001b[0m\u001b[0m\n",
      "\u001b[1;31mKeyboardInterrupt\u001b[0m: "
     ]
    }
   ],
   "source": [
    "n_days = dxy.size-260\n",
    "lookback_window = 260\n",
    "horizon = 1\n",
    "f = []\n",
    "for p in range(1,4):\n",
    "    for q in range(1,4):\n",
    "        for i in range(n_days+1, 1, -1):\n",
    "            am = arch_model(scaled_dxy[-i-lookback_window:-i], mean = 'Constant', vol='GARCH', p=p, q=q)\n",
    "            res = am.fit(disp='off')\n",
    "            forecasts = res.forecast(horizon = horizon)\n",
    "            f.append({'var': forecasts.variance.iloc[-1, -1]/10000, 'date':forecasts.variance.index[-1], 'p':p, 'q':q})\n",
    "            \n",
    "df_vol_pred = pd.DataFrame(f)\n",
    "df_vol_pred.to_pickle('./vol_pred.pkl')"
   ]
  },
  {
   "cell_type": "code",
   "execution_count": null,
   "metadata": {
    "collapsed": true
   },
   "outputs": [],
   "source": []
  }
 ],
 "metadata": {
  "anaconda-cloud": {},
  "colab": {
   "collapsed_sections": [],
   "include_colab_link": true,
   "name": "Part_??_Understanding_GARCH_Estimation.ipynb",
   "provenance": [],
   "version": "0.3.2"
  },
  "kernelspec": {
   "display_name": "Python 3",
   "language": "python",
   "name": "python3"
  },
  "language_info": {
   "codemirror_mode": {
    "name": "ipython",
    "version": 3
   },
   "file_extension": ".py",
   "mimetype": "text/x-python",
   "name": "python",
   "nbconvert_exporter": "python",
   "pygments_lexer": "ipython3",
   "version": "3.6.1"
  }
 },
 "nbformat": 4,
 "nbformat_minor": 1
}
