{
 "cells": [
  {
   "cell_type": "markdown",
   "metadata": {},
   "source": [
    "## Part 6a - Machine learning for volatility prediction\n",
    "\n",
    "### In this section, we will apply conventional machine learning algorithms to model volatility.\n",
    "\n",
    "#### We will consider our data to be stationary, relying on our ACF plot nearing zero. Usually, time series analysis require you to run rigourous test for stationarity because most time series models assume constant mean and variance. When dealing with non-stationary data, you may want to transfor the data before applying a model\n",
    "##### See https://otexts.com/fpp2/stationarity.html for more information on stationarity in time series.\n",
    "\n",
    "#### Please also note that it is good practice to check for persistence in your prediction (to make sure that prediction at time t is not merely the value at time t-1)\n",
    "\n",
    "#### Furthermore, for simplicity, we will not run hyper parameter tuning to train ARIMA models, but this should be considered when running a thorough experiment. Please see https://machinelearningmastery.com/grid-search-arima-hyperparameters-with-python/"
   ]
  },
  {
   "cell_type": "code",
   "execution_count": 1,
   "metadata": {
    "collapsed": true
   },
   "outputs": [],
   "source": [
    "import numpy as np, pandas as pd\n",
    "from datetime import datetime, timedelta\n",
    "import pickle\n",
    "import matplotlib.pyplot as plt\n",
    "%matplotlib inline\n",
    "import bisect\n",
    "from scipy import stats\n",
    "import seaborn as sns\n",
    "from sklearn import linear_model\n",
    "from sklearn import tree\n",
    "import sklearn"
   ]
  },
  {
   "cell_type": "markdown",
   "metadata": {},
   "source": [
    "### 1) Open the pickle files from the previous modules."
   ]
  },
  {
   "cell_type": "code",
   "execution_count": 2,
   "metadata": {
    "collapsed": true
   },
   "outputs": [],
   "source": [
    "with open('./returns.pkl', 'rb') as f:\n",
    "  returns = pickle.load(f)\n",
    "  f.close()\n",
    "with open('./turb_model_perf_stats.pkl', 'rb') as f:\n",
    "  turb_model_perf_stats = pickle.load(f)\n",
    "  f.close()\n",
    "with open('./turb_model_weights.pkl', 'rb') as f:\n",
    "  turb_model_weights = pickle.load(f)\n",
    "  f.close()\n",
    "with open('./dxy.pkl', 'rb') as f:\n",
    "  dxy = pickle.load(f)\n",
    "  f.close()\n",
    "with open('./dxy_forward_sq.pkl', 'rb') as f:\n",
    "  dxy_forward_sq = pickle.load(f)\n",
    "  f.close()"
   ]
  },
  {
   "cell_type": "markdown",
   "metadata": {},
   "source": [
    "### 2) Preview data to confirm everything is consistent with results from previous modules"
   ]
  },
  {
   "cell_type": "code",
   "execution_count": 3,
   "metadata": {},
   "outputs": [
    {
     "name": "stdout",
     "output_type": "stream",
     "text": [
      "                 AUD       CAD       CHF       EUR       GBP       JPY  \\\n",
      "1975-01-02 -0.002129 -0.001712 -0.009915 -0.003544 -0.005745 -0.001502   \n",
      "1975-01-03 -0.000947  0.000015  0.008500  0.007886  0.003424  0.002711   \n",
      "1975-01-06 -0.001158  0.000668 -0.001023  0.008174  0.002346 -0.004728   \n",
      "1975-01-07  0.004193 -0.001726  0.001702  0.002150  0.001702  0.002410   \n",
      "1975-01-08 -0.001489 -0.000200 -0.015237 -0.008650 -0.001997  0.000122   \n",
      "\n",
      "                 NOK       NZD       SEK  \n",
      "1975-01-02 -0.003299  0.000536 -0.004704  \n",
      "1975-01-03  0.008801 -0.001924  0.007113  \n",
      "1975-01-06  0.002759 -0.001129  0.009237  \n",
      "1975-01-07  0.005434  0.004567 -0.001466  \n",
      "1975-01-08 -0.006315 -0.000034 -0.006188  \n"
     ]
    }
   ],
   "source": [
    "print(returns.head())"
   ]
  },
  {
   "cell_type": "code",
   "execution_count": 4,
   "metadata": {},
   "outputs": [
    {
     "name": "stdout",
     "output_type": "stream",
     "text": [
      "                     insample rmse insample excess rmse out-of-sample rmse  \\\n",
      "lookbacks smoothings                                                         \n",
      "65        1             0.00327657         -5.48214e-05           0.003141   \n",
      "          5             0.00314802         -0.000184387         0.00312619   \n",
      "          10            0.00318987         -0.000143484         0.00317671   \n",
      "          20            0.00316473         -0.000171045         0.00321694   \n",
      "          40            0.00320098         -0.000140053         0.00320426   \n",
      "130       1             0.00326596         -7.85186e-05         0.00304906   \n",
      "          5             0.00314005          -0.00020514         0.00300011   \n",
      "          10            0.00318002         -0.000166609         0.00303926   \n",
      "          20             0.0031926          -0.00015542         0.00308299   \n",
      "          40            0.00325105         -0.000102043         0.00308918   \n",
      "\n",
      "                     out-of-sample excess rmse estimation rmse  \\\n",
      "lookbacks smoothings                                             \n",
      "65        1                       -6.57115e-05      0.00315795   \n",
      "          5                       -8.05235e-05      0.00313188   \n",
      "          10                      -3.00031e-05      0.00316503   \n",
      "          20                       1.02317e-05      0.00317329   \n",
      "          40                      -2.45619e-06      0.00320354   \n",
      "130       1                       -0.000157652      0.00307776   \n",
      "          5                       -0.000206602      0.00301712   \n",
      "          10                      -0.000167453      0.00306886   \n",
      "          20                      -0.000123727      0.00310073   \n",
      "          40                       -0.00011754      0.00314822   \n",
      "\n",
      "                     estimation excess rmse  \n",
      "lookbacks smoothings                         \n",
      "65        1                    -0.000240038  \n",
      "          5                    -0.000266111  \n",
      "          10                   -0.000232953  \n",
      "          20                   -0.000224695  \n",
      "          40                   -0.000194447  \n",
      "130       1                    -0.000320228  \n",
      "          5                    -0.000380867  \n",
      "          10                   -0.000329127  \n",
      "          20                   -0.000297262  \n",
      "          40                   -0.000249768  \n"
     ]
    }
   ],
   "source": [
    "print(turb_model_perf_stats.head(10))"
   ]
  },
  {
   "cell_type": "code",
   "execution_count": 5,
   "metadata": {},
   "outputs": [
    {
     "name": "stdout",
     "output_type": "stream",
     "text": [
      "lookbacks        65                                                130  \\\n",
      "smoothings        1         5         10        20        40        1    \n",
      "1977-02-22  0.902193  0.960381  0.652799  0.866186  0.753031  0.827634   \n",
      "1977-02-23  0.957112  0.969314  0.715591  0.887417  0.789597  0.909198   \n",
      "1977-02-24  0.132156  0.743057  0.540824  0.798403  0.761048  0.173153   \n",
      "1977-02-25  0.209975  0.503787  0.416019  0.765875  0.719398  0.192020   \n",
      "1977-02-28  0.178149  0.384346  0.609253  0.774250  0.646461  0.115763   \n",
      "\n",
      "lookbacks                                             ...          390  \\\n",
      "smoothings        5         10        20        40    ...           1    \n",
      "1977-02-22  0.928993  0.710573  0.906490  0.849277    ...     0.869097   \n",
      "1977-02-23  0.938041  0.727505  0.908463  0.867697    ...     0.920257   \n",
      "1977-02-24  0.701023  0.588305  0.860525  0.831056    ...     0.228252   \n",
      "1977-02-25  0.493116  0.471746  0.809627  0.799366    ...     0.183099   \n",
      "1977-02-28  0.324941  0.522544  0.773723  0.733413    ...     0.290389   \n",
      "\n",
      "lookbacks                                                520            \\\n",
      "smoothings        5         10        20        40        1         5    \n",
      "1977-02-22  0.918532  0.501764  0.747557  0.802046  0.875266  0.902642   \n",
      "1977-02-23  0.941750  0.543059  0.758994  0.818125  0.921030  0.932467   \n",
      "1977-02-24  0.763682  0.442000  0.718445  0.798079  0.235632  0.758415   \n",
      "1977-02-25  0.568201  0.357751  0.682054  0.773648  0.195828  0.579250   \n",
      "1977-02-28  0.469113  0.571695  0.695987  0.745250  0.293316  0.490200   \n",
      "\n",
      "lookbacks                                 \n",
      "smoothings        10        20        40  \n",
      "1977-02-22  0.534869  0.766189  0.806182  \n",
      "1977-02-23  0.578801  0.769823  0.817987  \n",
      "1977-02-24  0.480486  0.747809  0.796308  \n",
      "1977-02-25  0.405630  0.716392  0.772698  \n",
      "1977-02-28  0.569631  0.730284  0.751878  \n",
      "\n",
      "[5 rows x 25 columns]\n"
     ]
    }
   ],
   "source": [
    "print(turb_model_weights.dropna().head())"
   ]
  },
  {
   "cell_type": "code",
   "execution_count": 6,
   "metadata": {},
   "outputs": [
    {
     "name": "stdout",
     "output_type": "stream",
     "text": [
      "                 DXY\n",
      "1975-01-02 -0.002635\n",
      "1975-01-03  0.002982\n",
      "1975-01-06 -0.001521\n",
      "1975-01-07  0.001342\n",
      "1975-01-08 -0.001337\n"
     ]
    }
   ],
   "source": [
    "dxy.columns = ['DXY']\n",
    "print(dxy.head())"
   ]
  },
  {
   "cell_type": "code",
   "execution_count": 7,
   "metadata": {},
   "outputs": [
    {
     "name": "stdout",
     "output_type": "stream",
     "text": [
      "             DXY_forward\n",
      "1975-01-02  8.893707e-06\n",
      "1975-01-03  2.313472e-06\n",
      "1975-01-06  1.800401e-06\n",
      "1975-01-07  1.786578e-06\n",
      "1975-01-08  3.895592e-07\n"
     ]
    }
   ],
   "source": [
    "dxy_forward_sq.columns = ['DXY_forward']\n",
    "print(dxy_forward_sq.head())"
   ]
  },
  {
   "cell_type": "code",
   "execution_count": 8,
   "metadata": {},
   "outputs": [
    {
     "data": {
      "text/plain": [
       "(390, 5)"
      ]
     },
     "execution_count": 8,
     "metadata": {},
     "output_type": "execute_result"
    }
   ],
   "source": [
    "best_turb_model = turb_model_perf_stats['out-of-sample excess rmse'].astype(float).idxmin(axis=0)\n",
    "best_turb_model"
   ]
  },
  {
   "cell_type": "code",
   "execution_count": 9,
   "metadata": {},
   "outputs": [
    {
     "data": {
      "text/plain": [
       "2017-12-20    0.397595\n",
       "2017-12-21    0.413557\n",
       "2017-12-22    0.364842\n",
       "2017-12-25    0.515962\n",
       "2017-12-26    0.508914\n",
       "Name: (390, 5), dtype: float64"
      ]
     },
     "execution_count": 9,
     "metadata": {},
     "output_type": "execute_result"
    }
   ],
   "source": [
    "# turb_model_weights.columns\n",
    "best_model_weights = turb_model_weights.loc[:,best_turb_model]\n",
    "best_model_weights.tail()"
   ]
  },
  {
   "cell_type": "code",
   "execution_count": 10,
   "metadata": {},
   "outputs": [
    {
     "data": {
      "text/html": [
       "<div>\n",
       "<style>\n",
       "    .dataframe thead tr:only-child th {\n",
       "        text-align: right;\n",
       "    }\n",
       "\n",
       "    .dataframe thead th {\n",
       "        text-align: left;\n",
       "    }\n",
       "\n",
       "    .dataframe tbody tr th {\n",
       "        vertical-align: top;\n",
       "    }\n",
       "</style>\n",
       "<table border=\"1\" class=\"dataframe\">\n",
       "  <thead>\n",
       "    <tr>\n",
       "      <th>lookbacks</th>\n",
       "      <th colspan=\"5\" halign=\"left\">65</th>\n",
       "      <th colspan=\"5\" halign=\"left\">130</th>\n",
       "      <th>...</th>\n",
       "      <th>260</th>\n",
       "      <th colspan=\"4\" halign=\"left\">390</th>\n",
       "      <th colspan=\"5\" halign=\"left\">520</th>\n",
       "    </tr>\n",
       "    <tr>\n",
       "      <th>smoothings</th>\n",
       "      <th>1</th>\n",
       "      <th>5</th>\n",
       "      <th>10</th>\n",
       "      <th>20</th>\n",
       "      <th>40</th>\n",
       "      <th>1</th>\n",
       "      <th>5</th>\n",
       "      <th>10</th>\n",
       "      <th>20</th>\n",
       "      <th>40</th>\n",
       "      <th>...</th>\n",
       "      <th>40</th>\n",
       "      <th>1</th>\n",
       "      <th>10</th>\n",
       "      <th>20</th>\n",
       "      <th>40</th>\n",
       "      <th>1</th>\n",
       "      <th>5</th>\n",
       "      <th>10</th>\n",
       "      <th>20</th>\n",
       "      <th>40</th>\n",
       "    </tr>\n",
       "  </thead>\n",
       "  <tbody>\n",
       "    <tr>\n",
       "      <th>2017-12-13</th>\n",
       "      <td>0.523190</td>\n",
       "      <td>0.436978</td>\n",
       "      <td>0.334565</td>\n",
       "      <td>0.512466</td>\n",
       "      <td>0.475362</td>\n",
       "      <td>0.423742</td>\n",
       "      <td>0.385523</td>\n",
       "      <td>0.350856</td>\n",
       "      <td>0.477214</td>\n",
       "      <td>0.451575</td>\n",
       "      <td>...</td>\n",
       "      <td>0.384428</td>\n",
       "      <td>0.435377</td>\n",
       "      <td>0.294667</td>\n",
       "      <td>0.451029</td>\n",
       "      <td>0.466277</td>\n",
       "      <td>0.447850</td>\n",
       "      <td>0.345974</td>\n",
       "      <td>0.336532</td>\n",
       "      <td>0.514854</td>\n",
       "      <td>0.541747</td>\n",
       "    </tr>\n",
       "    <tr>\n",
       "      <th>2017-12-14</th>\n",
       "      <td>0.199690</td>\n",
       "      <td>0.298505</td>\n",
       "      <td>0.383942</td>\n",
       "      <td>0.492209</td>\n",
       "      <td>0.517990</td>\n",
       "      <td>0.233294</td>\n",
       "      <td>0.310582</td>\n",
       "      <td>0.385509</td>\n",
       "      <td>0.471296</td>\n",
       "      <td>0.491979</td>\n",
       "      <td>...</td>\n",
       "      <td>0.425493</td>\n",
       "      <td>0.193455</td>\n",
       "      <td>0.329944</td>\n",
       "      <td>0.451237</td>\n",
       "      <td>0.522865</td>\n",
       "      <td>0.223074</td>\n",
       "      <td>0.282914</td>\n",
       "      <td>0.378759</td>\n",
       "      <td>0.515281</td>\n",
       "      <td>0.584460</td>\n",
       "    </tr>\n",
       "    <tr>\n",
       "      <th>2017-12-15</th>\n",
       "      <td>0.556763</td>\n",
       "      <td>0.308992</td>\n",
       "      <td>0.503110</td>\n",
       "      <td>0.507012</td>\n",
       "      <td>0.533242</td>\n",
       "      <td>0.426887</td>\n",
       "      <td>0.276751</td>\n",
       "      <td>0.447332</td>\n",
       "      <td>0.486092</td>\n",
       "      <td>0.502872</td>\n",
       "      <td>...</td>\n",
       "      <td>0.433015</td>\n",
       "      <td>0.370961</td>\n",
       "      <td>0.370409</td>\n",
       "      <td>0.456852</td>\n",
       "      <td>0.530173</td>\n",
       "      <td>0.356748</td>\n",
       "      <td>0.235194</td>\n",
       "      <td>0.409682</td>\n",
       "      <td>0.510579</td>\n",
       "      <td>0.588968</td>\n",
       "    </tr>\n",
       "    <tr>\n",
       "      <th>2017-12-18</th>\n",
       "      <td>0.262371</td>\n",
       "      <td>0.313070</td>\n",
       "      <td>0.407854</td>\n",
       "      <td>0.450331</td>\n",
       "      <td>0.494916</td>\n",
       "      <td>0.303656</td>\n",
       "      <td>0.328482</td>\n",
       "      <td>0.387872</td>\n",
       "      <td>0.450582</td>\n",
       "      <td>0.481481</td>\n",
       "      <td>...</td>\n",
       "      <td>0.413092</td>\n",
       "      <td>0.286040</td>\n",
       "      <td>0.328076</td>\n",
       "      <td>0.432314</td>\n",
       "      <td>0.512007</td>\n",
       "      <td>0.292891</td>\n",
       "      <td>0.291223</td>\n",
       "      <td>0.362977</td>\n",
       "      <td>0.471041</td>\n",
       "      <td>0.573514</td>\n",
       "    </tr>\n",
       "    <tr>\n",
       "      <th>2017-12-19</th>\n",
       "      <td>0.807297</td>\n",
       "      <td>0.480287</td>\n",
       "      <td>0.426905</td>\n",
       "      <td>0.462992</td>\n",
       "      <td>0.506648</td>\n",
       "      <td>0.845519</td>\n",
       "      <td>0.473249</td>\n",
       "      <td>0.404213</td>\n",
       "      <td>0.465772</td>\n",
       "      <td>0.496732</td>\n",
       "      <td>...</td>\n",
       "      <td>0.430169</td>\n",
       "      <td>0.874275</td>\n",
       "      <td>0.337829</td>\n",
       "      <td>0.449574</td>\n",
       "      <td>0.527668</td>\n",
       "      <td>0.859940</td>\n",
       "      <td>0.463357</td>\n",
       "      <td>0.368949</td>\n",
       "      <td>0.491558</td>\n",
       "      <td>0.585963</td>\n",
       "    </tr>\n",
       "    <tr>\n",
       "      <th>2017-12-20</th>\n",
       "      <td>0.296332</td>\n",
       "      <td>0.405904</td>\n",
       "      <td>0.440902</td>\n",
       "      <td>0.448968</td>\n",
       "      <td>0.543801</td>\n",
       "      <td>0.350629</td>\n",
       "      <td>0.455350</td>\n",
       "      <td>0.443591</td>\n",
       "      <td>0.455317</td>\n",
       "      <td>0.532581</td>\n",
       "      <td>...</td>\n",
       "      <td>0.457410</td>\n",
       "      <td>0.266984</td>\n",
       "      <td>0.373521</td>\n",
       "      <td>0.430859</td>\n",
       "      <td>0.544373</td>\n",
       "      <td>0.265432</td>\n",
       "      <td>0.405198</td>\n",
       "      <td>0.403924</td>\n",
       "      <td>0.460782</td>\n",
       "      <td>0.596480</td>\n",
       "    </tr>\n",
       "    <tr>\n",
       "      <th>2017-12-21</th>\n",
       "      <td>0.297108</td>\n",
       "      <td>0.453680</td>\n",
       "      <td>0.373445</td>\n",
       "      <td>0.435333</td>\n",
       "      <td>0.549863</td>\n",
       "      <td>0.305621</td>\n",
       "      <td>0.489575</td>\n",
       "      <td>0.408742</td>\n",
       "      <td>0.438153</td>\n",
       "      <td>0.538721</td>\n",
       "      <td>...</td>\n",
       "      <td>0.457003</td>\n",
       "      <td>0.227423</td>\n",
       "      <td>0.337207</td>\n",
       "      <td>0.413184</td>\n",
       "      <td>0.535811</td>\n",
       "      <td>0.304172</td>\n",
       "      <td>0.440562</td>\n",
       "      <td>0.374707</td>\n",
       "      <td>0.445608</td>\n",
       "      <td>0.595407</td>\n",
       "    </tr>\n",
       "    <tr>\n",
       "      <th>2017-12-22</th>\n",
       "      <td>0.560644</td>\n",
       "      <td>0.454846</td>\n",
       "      <td>0.383942</td>\n",
       "      <td>0.430269</td>\n",
       "      <td>0.571373</td>\n",
       "      <td>0.439662</td>\n",
       "      <td>0.493509</td>\n",
       "      <td>0.387675</td>\n",
       "      <td>0.432235</td>\n",
       "      <td>0.551000</td>\n",
       "      <td>...</td>\n",
       "      <td>0.464932</td>\n",
       "      <td>0.228045</td>\n",
       "      <td>0.291554</td>\n",
       "      <td>0.400083</td>\n",
       "      <td>0.543120</td>\n",
       "      <td>0.230736</td>\n",
       "      <td>0.395824</td>\n",
       "      <td>0.316272</td>\n",
       "      <td>0.425305</td>\n",
       "      <td>0.600129</td>\n",
       "    </tr>\n",
       "    <tr>\n",
       "      <th>2017-12-25</th>\n",
       "      <td>0.995343</td>\n",
       "      <td>0.723441</td>\n",
       "      <td>0.520801</td>\n",
       "      <td>0.473120</td>\n",
       "      <td>0.585452</td>\n",
       "      <td>0.995283</td>\n",
       "      <td>0.699646</td>\n",
       "      <td>0.519984</td>\n",
       "      <td>0.457289</td>\n",
       "      <td>0.561695</td>\n",
       "      <td>...</td>\n",
       "      <td>0.473674</td>\n",
       "      <td>0.997929</td>\n",
       "      <td>0.396555</td>\n",
       "      <td>0.409233</td>\n",
       "      <td>0.554395</td>\n",
       "      <td>0.997233</td>\n",
       "      <td>0.549638</td>\n",
       "      <td>0.426957</td>\n",
       "      <td>0.439410</td>\n",
       "      <td>0.609573</td>\n",
       "    </tr>\n",
       "    <tr>\n",
       "      <th>2017-12-26</th>\n",
       "      <td>0.878129</td>\n",
       "      <td>0.743445</td>\n",
       "      <td>0.658631</td>\n",
       "      <td>0.497663</td>\n",
       "      <td>0.598162</td>\n",
       "      <td>0.920008</td>\n",
       "      <td>0.721873</td>\n",
       "      <td>0.637527</td>\n",
       "      <td>0.487670</td>\n",
       "      <td>0.576352</td>\n",
       "      <td>...</td>\n",
       "      <td>0.485871</td>\n",
       "      <td>0.829950</td>\n",
       "      <td>0.509234</td>\n",
       "      <td>0.419838</td>\n",
       "      <td>0.560033</td>\n",
       "      <td>0.845040</td>\n",
       "      <td>0.546868</td>\n",
       "      <td>0.534869</td>\n",
       "      <td>0.452233</td>\n",
       "      <td>0.616227</td>\n",
       "    </tr>\n",
       "  </tbody>\n",
       "</table>\n",
       "<p>10 rows × 24 columns</p>\n",
       "</div>"
      ],
      "text/plain": [
       "lookbacks        65                                                130  \\\n",
       "smoothings        1         5         10        20        40        1    \n",
       "2017-12-13  0.523190  0.436978  0.334565  0.512466  0.475362  0.423742   \n",
       "2017-12-14  0.199690  0.298505  0.383942  0.492209  0.517990  0.233294   \n",
       "2017-12-15  0.556763  0.308992  0.503110  0.507012  0.533242  0.426887   \n",
       "2017-12-18  0.262371  0.313070  0.407854  0.450331  0.494916  0.303656   \n",
       "2017-12-19  0.807297  0.480287  0.426905  0.462992  0.506648  0.845519   \n",
       "2017-12-20  0.296332  0.405904  0.440902  0.448968  0.543801  0.350629   \n",
       "2017-12-21  0.297108  0.453680  0.373445  0.435333  0.549863  0.305621   \n",
       "2017-12-22  0.560644  0.454846  0.383942  0.430269  0.571373  0.439662   \n",
       "2017-12-25  0.995343  0.723441  0.520801  0.473120  0.585452  0.995283   \n",
       "2017-12-26  0.878129  0.743445  0.658631  0.497663  0.598162  0.920008   \n",
       "\n",
       "lookbacks                                             ...          260  \\\n",
       "smoothings        5         10        20        40    ...           40   \n",
       "2017-12-13  0.385523  0.350856  0.477214  0.451575    ...     0.384428   \n",
       "2017-12-14  0.310582  0.385509  0.471296  0.491979    ...     0.425493   \n",
       "2017-12-15  0.276751  0.447332  0.486092  0.502872    ...     0.433015   \n",
       "2017-12-18  0.328482  0.387872  0.450582  0.481481    ...     0.413092   \n",
       "2017-12-19  0.473249  0.404213  0.465772  0.496732    ...     0.430169   \n",
       "2017-12-20  0.455350  0.443591  0.455317  0.532581    ...     0.457410   \n",
       "2017-12-21  0.489575  0.408742  0.438153  0.538721    ...     0.457003   \n",
       "2017-12-22  0.493509  0.387675  0.432235  0.551000    ...     0.464932   \n",
       "2017-12-25  0.699646  0.519984  0.457289  0.561695    ...     0.473674   \n",
       "2017-12-26  0.721873  0.637527  0.487670  0.576352    ...     0.485871   \n",
       "\n",
       "lookbacks        390                                     520            \\\n",
       "smoothings        1         10        20        40        1         5    \n",
       "2017-12-13  0.435377  0.294667  0.451029  0.466277  0.447850  0.345974   \n",
       "2017-12-14  0.193455  0.329944  0.451237  0.522865  0.223074  0.282914   \n",
       "2017-12-15  0.370961  0.370409  0.456852  0.530173  0.356748  0.235194   \n",
       "2017-12-18  0.286040  0.328076  0.432314  0.512007  0.292891  0.291223   \n",
       "2017-12-19  0.874275  0.337829  0.449574  0.527668  0.859940  0.463357   \n",
       "2017-12-20  0.266984  0.373521  0.430859  0.544373  0.265432  0.405198   \n",
       "2017-12-21  0.227423  0.337207  0.413184  0.535811  0.304172  0.440562   \n",
       "2017-12-22  0.228045  0.291554  0.400083  0.543120  0.230736  0.395824   \n",
       "2017-12-25  0.997929  0.396555  0.409233  0.554395  0.997233  0.549638   \n",
       "2017-12-26  0.829950  0.509234  0.419838  0.560033  0.845040  0.546868   \n",
       "\n",
       "lookbacks                                 \n",
       "smoothings        10        20        40  \n",
       "2017-12-13  0.336532  0.514854  0.541747  \n",
       "2017-12-14  0.378759  0.515281  0.584460  \n",
       "2017-12-15  0.409682  0.510579  0.588968  \n",
       "2017-12-18  0.362977  0.471041  0.573514  \n",
       "2017-12-19  0.368949  0.491558  0.585963  \n",
       "2017-12-20  0.403924  0.460782  0.596480  \n",
       "2017-12-21  0.374707  0.445608  0.595407  \n",
       "2017-12-22  0.316272  0.425305  0.600129  \n",
       "2017-12-25  0.426957  0.439410  0.609573  \n",
       "2017-12-26  0.534869  0.452233  0.616227  \n",
       "\n",
       "[10 rows x 24 columns]"
      ]
     },
     "execution_count": 10,
     "metadata": {},
     "output_type": "execute_result"
    }
   ],
   "source": [
    "other_model_weights = turb_model_weights.drop(best_turb_model, axis=1)\n",
    "other_model_weights.tail(10)"
   ]
  },
  {
   "cell_type": "code",
   "execution_count": 11,
   "metadata": {
    "collapsed": true
   },
   "outputs": [],
   "source": [
    "best_model_vol = (1-best_model_weights).multiply(dxy_forward_sq[dxy_forward_sq.columns[0]])\n"
   ]
  },
  {
   "cell_type": "code",
   "execution_count": 12,
   "metadata": {},
   "outputs": [
    {
     "data": {
      "text/plain": [
       "<matplotlib.axes._subplots.AxesSubplot at 0x12606d080>"
      ]
     },
     "execution_count": 12,
     "metadata": {},
     "output_type": "execute_result"
    },
    {
     "data": {
      "image/png": "[encoded data removed]",
      "text/plain": [
       "<matplotlib.figure.Figure at 0x10fbda438>"
      ]
     },
     "metadata": {},
     "output_type": "display_data"
    }
   ],
   "source": [
    "dxy_excess = dxy_forward_sq['DXY_forward']-best_model_vol\n",
    "dxy_excess.columns=['DXY_Excess']\n",
    "pd.concat([dxy_forward_sq['DXY_forward'],dxy_excess],axis=1).plot()"
   ]
  },
  {
   "cell_type": "code",
   "execution_count": 13,
   "metadata": {},
   "outputs": [
    {
     "data": {
      "text/plain": [
       "9.041396742928302e-06"
      ]
     },
     "execution_count": 13,
     "metadata": {},
     "output_type": "execute_result"
    }
   ],
   "source": [
    "dxy_excess.mean()"
   ]
  },
  {
   "cell_type": "code",
   "execution_count": 14,
   "metadata": {
    "collapsed": true
   },
   "outputs": [],
   "source": [
    "weights_excess = other_model_weights.subtract(best_model_weights,axis='index')"
   ]
  },
  {
   "cell_type": "code",
   "execution_count": 15,
   "metadata": {},
   "outputs": [
    {
     "data": {
      "text/html": [
       "<div>\n",
       "<style>\n",
       "    .dataframe thead tr:only-child th {\n",
       "        text-align: right;\n",
       "    }\n",
       "\n",
       "    .dataframe thead th {\n",
       "        text-align: left;\n",
       "    }\n",
       "\n",
       "    .dataframe tbody tr th {\n",
       "        vertical-align: top;\n",
       "    }\n",
       "</style>\n",
       "<table border=\"1\" class=\"dataframe\">\n",
       "  <thead>\n",
       "    <tr>\n",
       "      <th>lookbacks</th>\n",
       "      <th colspan=\"5\" halign=\"left\">65</th>\n",
       "      <th colspan=\"5\" halign=\"left\">130</th>\n",
       "      <th>...</th>\n",
       "      <th>260</th>\n",
       "      <th colspan=\"4\" halign=\"left\">390</th>\n",
       "      <th colspan=\"5\" halign=\"left\">520</th>\n",
       "    </tr>\n",
       "    <tr>\n",
       "      <th>smoothings</th>\n",
       "      <th>1</th>\n",
       "      <th>5</th>\n",
       "      <th>10</th>\n",
       "      <th>20</th>\n",
       "      <th>40</th>\n",
       "      <th>1</th>\n",
       "      <th>5</th>\n",
       "      <th>10</th>\n",
       "      <th>20</th>\n",
       "      <th>40</th>\n",
       "      <th>...</th>\n",
       "      <th>40</th>\n",
       "      <th>1</th>\n",
       "      <th>10</th>\n",
       "      <th>20</th>\n",
       "      <th>40</th>\n",
       "      <th>1</th>\n",
       "      <th>5</th>\n",
       "      <th>10</th>\n",
       "      <th>20</th>\n",
       "      <th>40</th>\n",
       "    </tr>\n",
       "  </thead>\n",
       "  <tbody>\n",
       "    <tr>\n",
       "      <th>2017-12-13</th>\n",
       "      <td>0.196698</td>\n",
       "      <td>0.110486</td>\n",
       "      <td>0.008072</td>\n",
       "      <td>0.185973</td>\n",
       "      <td>0.148869</td>\n",
       "      <td>0.097250</td>\n",
       "      <td>0.059031</td>\n",
       "      <td>0.024364</td>\n",
       "      <td>0.150722</td>\n",
       "      <td>0.125082</td>\n",
       "      <td>...</td>\n",
       "      <td>0.057935</td>\n",
       "      <td>0.108884</td>\n",
       "      <td>-0.031826</td>\n",
       "      <td>0.124537</td>\n",
       "      <td>0.139784</td>\n",
       "      <td>0.121358</td>\n",
       "      <td>0.019481</td>\n",
       "      <td>0.010040</td>\n",
       "      <td>0.188361</td>\n",
       "      <td>0.215255</td>\n",
       "    </tr>\n",
       "    <tr>\n",
       "      <th>2017-12-14</th>\n",
       "      <td>-0.057773</td>\n",
       "      <td>0.041042</td>\n",
       "      <td>0.126480</td>\n",
       "      <td>0.234746</td>\n",
       "      <td>0.260527</td>\n",
       "      <td>-0.024169</td>\n",
       "      <td>0.053120</td>\n",
       "      <td>0.128046</td>\n",
       "      <td>0.213833</td>\n",
       "      <td>0.234516</td>\n",
       "      <td>...</td>\n",
       "      <td>0.168030</td>\n",
       "      <td>-0.064008</td>\n",
       "      <td>0.072481</td>\n",
       "      <td>0.193775</td>\n",
       "      <td>0.265402</td>\n",
       "      <td>-0.034389</td>\n",
       "      <td>0.025452</td>\n",
       "      <td>0.121296</td>\n",
       "      <td>0.257818</td>\n",
       "      <td>0.326997</td>\n",
       "    </tr>\n",
       "    <tr>\n",
       "      <th>2017-12-15</th>\n",
       "      <td>0.335785</td>\n",
       "      <td>0.088014</td>\n",
       "      <td>0.282132</td>\n",
       "      <td>0.286034</td>\n",
       "      <td>0.312264</td>\n",
       "      <td>0.205908</td>\n",
       "      <td>0.055772</td>\n",
       "      <td>0.226354</td>\n",
       "      <td>0.265113</td>\n",
       "      <td>0.281893</td>\n",
       "      <td>...</td>\n",
       "      <td>0.212036</td>\n",
       "      <td>0.149983</td>\n",
       "      <td>0.149430</td>\n",
       "      <td>0.235873</td>\n",
       "      <td>0.309195</td>\n",
       "      <td>0.135769</td>\n",
       "      <td>0.014215</td>\n",
       "      <td>0.188704</td>\n",
       "      <td>0.289601</td>\n",
       "      <td>0.367989</td>\n",
       "    </tr>\n",
       "    <tr>\n",
       "      <th>2017-12-18</th>\n",
       "      <td>-0.014370</td>\n",
       "      <td>0.036329</td>\n",
       "      <td>0.131113</td>\n",
       "      <td>0.173590</td>\n",
       "      <td>0.218175</td>\n",
       "      <td>0.026914</td>\n",
       "      <td>0.051740</td>\n",
       "      <td>0.111130</td>\n",
       "      <td>0.173841</td>\n",
       "      <td>0.204740</td>\n",
       "      <td>...</td>\n",
       "      <td>0.136351</td>\n",
       "      <td>0.009298</td>\n",
       "      <td>0.051335</td>\n",
       "      <td>0.155573</td>\n",
       "      <td>0.235265</td>\n",
       "      <td>0.016149</td>\n",
       "      <td>0.014482</td>\n",
       "      <td>0.086236</td>\n",
       "      <td>0.194300</td>\n",
       "      <td>0.296772</td>\n",
       "    </tr>\n",
       "    <tr>\n",
       "      <th>2017-12-19</th>\n",
       "      <td>0.367206</td>\n",
       "      <td>0.040196</td>\n",
       "      <td>-0.013186</td>\n",
       "      <td>0.022901</td>\n",
       "      <td>0.066557</td>\n",
       "      <td>0.405428</td>\n",
       "      <td>0.033158</td>\n",
       "      <td>-0.035878</td>\n",
       "      <td>0.025681</td>\n",
       "      <td>0.056641</td>\n",
       "      <td>...</td>\n",
       "      <td>-0.009922</td>\n",
       "      <td>0.434184</td>\n",
       "      <td>-0.102262</td>\n",
       "      <td>0.009483</td>\n",
       "      <td>0.087576</td>\n",
       "      <td>0.419849</td>\n",
       "      <td>0.023266</td>\n",
       "      <td>-0.071143</td>\n",
       "      <td>0.051467</td>\n",
       "      <td>0.145871</td>\n",
       "    </tr>\n",
       "    <tr>\n",
       "      <th>2017-12-20</th>\n",
       "      <td>-0.101263</td>\n",
       "      <td>0.008309</td>\n",
       "      <td>0.043307</td>\n",
       "      <td>0.051372</td>\n",
       "      <td>0.146206</td>\n",
       "      <td>-0.046966</td>\n",
       "      <td>0.057755</td>\n",
       "      <td>0.045996</td>\n",
       "      <td>0.057721</td>\n",
       "      <td>0.134985</td>\n",
       "      <td>...</td>\n",
       "      <td>0.059815</td>\n",
       "      <td>-0.130611</td>\n",
       "      <td>-0.024074</td>\n",
       "      <td>0.033263</td>\n",
       "      <td>0.146777</td>\n",
       "      <td>-0.132163</td>\n",
       "      <td>0.007603</td>\n",
       "      <td>0.006329</td>\n",
       "      <td>0.063187</td>\n",
       "      <td>0.198885</td>\n",
       "    </tr>\n",
       "    <tr>\n",
       "      <th>2017-12-21</th>\n",
       "      <td>-0.116449</td>\n",
       "      <td>0.040123</td>\n",
       "      <td>-0.040112</td>\n",
       "      <td>0.021776</td>\n",
       "      <td>0.136306</td>\n",
       "      <td>-0.107936</td>\n",
       "      <td>0.076018</td>\n",
       "      <td>-0.004815</td>\n",
       "      <td>0.024596</td>\n",
       "      <td>0.125163</td>\n",
       "      <td>...</td>\n",
       "      <td>0.043446</td>\n",
       "      <td>-0.186134</td>\n",
       "      <td>-0.076350</td>\n",
       "      <td>-0.000374</td>\n",
       "      <td>0.122254</td>\n",
       "      <td>-0.109385</td>\n",
       "      <td>0.027005</td>\n",
       "      <td>-0.038850</td>\n",
       "      <td>0.032051</td>\n",
       "      <td>0.181850</td>\n",
       "    </tr>\n",
       "    <tr>\n",
       "      <th>2017-12-22</th>\n",
       "      <td>0.195802</td>\n",
       "      <td>0.090003</td>\n",
       "      <td>0.019100</td>\n",
       "      <td>0.065426</td>\n",
       "      <td>0.206530</td>\n",
       "      <td>0.074819</td>\n",
       "      <td>0.128667</td>\n",
       "      <td>0.022832</td>\n",
       "      <td>0.067393</td>\n",
       "      <td>0.186158</td>\n",
       "      <td>...</td>\n",
       "      <td>0.100089</td>\n",
       "      <td>-0.136798</td>\n",
       "      <td>-0.073288</td>\n",
       "      <td>0.035241</td>\n",
       "      <td>0.178277</td>\n",
       "      <td>-0.134106</td>\n",
       "      <td>0.030982</td>\n",
       "      <td>-0.048570</td>\n",
       "      <td>0.060462</td>\n",
       "      <td>0.235286</td>\n",
       "    </tr>\n",
       "    <tr>\n",
       "      <th>2017-12-25</th>\n",
       "      <td>0.479381</td>\n",
       "      <td>0.207480</td>\n",
       "      <td>0.004839</td>\n",
       "      <td>-0.042841</td>\n",
       "      <td>0.069490</td>\n",
       "      <td>0.479321</td>\n",
       "      <td>0.183684</td>\n",
       "      <td>0.004022</td>\n",
       "      <td>-0.058672</td>\n",
       "      <td>0.045734</td>\n",
       "      <td>...</td>\n",
       "      <td>-0.042288</td>\n",
       "      <td>0.481967</td>\n",
       "      <td>-0.119407</td>\n",
       "      <td>-0.106729</td>\n",
       "      <td>0.038434</td>\n",
       "      <td>0.481271</td>\n",
       "      <td>0.033676</td>\n",
       "      <td>-0.089005</td>\n",
       "      <td>-0.076552</td>\n",
       "      <td>0.093611</td>\n",
       "    </tr>\n",
       "    <tr>\n",
       "      <th>2017-12-26</th>\n",
       "      <td>0.369215</td>\n",
       "      <td>0.234532</td>\n",
       "      <td>0.149718</td>\n",
       "      <td>-0.011251</td>\n",
       "      <td>0.089248</td>\n",
       "      <td>0.411094</td>\n",
       "      <td>0.212959</td>\n",
       "      <td>0.128613</td>\n",
       "      <td>-0.021244</td>\n",
       "      <td>0.067438</td>\n",
       "      <td>...</td>\n",
       "      <td>-0.023043</td>\n",
       "      <td>0.321037</td>\n",
       "      <td>0.000321</td>\n",
       "      <td>-0.089076</td>\n",
       "      <td>0.051120</td>\n",
       "      <td>0.336127</td>\n",
       "      <td>0.037955</td>\n",
       "      <td>0.025955</td>\n",
       "      <td>-0.056680</td>\n",
       "      <td>0.107313</td>\n",
       "    </tr>\n",
       "  </tbody>\n",
       "</table>\n",
       "<p>10 rows × 24 columns</p>\n",
       "</div>"
      ],
      "text/plain": [
       "lookbacks        65                                                130  \\\n",
       "smoothings        1         5         10        20        40        1    \n",
       "2017-12-13  0.196698  0.110486  0.008072  0.185973  0.148869  0.097250   \n",
       "2017-12-14 -0.057773  0.041042  0.126480  0.234746  0.260527 -0.024169   \n",
       "2017-12-15  0.335785  0.088014  0.282132  0.286034  0.312264  0.205908   \n",
       "2017-12-18 -0.014370  0.036329  0.131113  0.173590  0.218175  0.026914   \n",
       "2017-12-19  0.367206  0.040196 -0.013186  0.022901  0.066557  0.405428   \n",
       "2017-12-20 -0.101263  0.008309  0.043307  0.051372  0.146206 -0.046966   \n",
       "2017-12-21 -0.116449  0.040123 -0.040112  0.021776  0.136306 -0.107936   \n",
       "2017-12-22  0.195802  0.090003  0.019100  0.065426  0.206530  0.074819   \n",
       "2017-12-25  0.479381  0.207480  0.004839 -0.042841  0.069490  0.479321   \n",
       "2017-12-26  0.369215  0.234532  0.149718 -0.011251  0.089248  0.411094   \n",
       "\n",
       "lookbacks                                             ...          260  \\\n",
       "smoothings        5         10        20        40    ...           40   \n",
       "2017-12-13  0.059031  0.024364  0.150722  0.125082    ...     0.057935   \n",
       "2017-12-14  0.053120  0.128046  0.213833  0.234516    ...     0.168030   \n",
       "2017-12-15  0.055772  0.226354  0.265113  0.281893    ...     0.212036   \n",
       "2017-12-18  0.051740  0.111130  0.173841  0.204740    ...     0.136351   \n",
       "2017-12-19  0.033158 -0.035878  0.025681  0.056641    ...    -0.009922   \n",
       "2017-12-20  0.057755  0.045996  0.057721  0.134985    ...     0.059815   \n",
       "2017-12-21  0.076018 -0.004815  0.024596  0.125163    ...     0.043446   \n",
       "2017-12-22  0.128667  0.022832  0.067393  0.186158    ...     0.100089   \n",
       "2017-12-25  0.183684  0.004022 -0.058672  0.045734    ...    -0.042288   \n",
       "2017-12-26  0.212959  0.128613 -0.021244  0.067438    ...    -0.023043   \n",
       "\n",
       "lookbacks        390                                     520            \\\n",
       "smoothings        1         10        20        40        1         5    \n",
       "2017-12-13  0.108884 -0.031826  0.124537  0.139784  0.121358  0.019481   \n",
       "2017-12-14 -0.064008  0.072481  0.193775  0.265402 -0.034389  0.025452   \n",
       "2017-12-15  0.149983  0.149430  0.235873  0.309195  0.135769  0.014215   \n",
       "2017-12-18  0.009298  0.051335  0.155573  0.235265  0.016149  0.014482   \n",
       "2017-12-19  0.434184 -0.102262  0.009483  0.087576  0.419849  0.023266   \n",
       "2017-12-20 -0.130611 -0.024074  0.033263  0.146777 -0.132163  0.007603   \n",
       "2017-12-21 -0.186134 -0.076350 -0.000374  0.122254 -0.109385  0.027005   \n",
       "2017-12-22 -0.136798 -0.073288  0.035241  0.178277 -0.134106  0.030982   \n",
       "2017-12-25  0.481967 -0.119407 -0.106729  0.038434  0.481271  0.033676   \n",
       "2017-12-26  0.321037  0.000321 -0.089076  0.051120  0.336127  0.037955   \n",
       "\n",
       "lookbacks                                 \n",
       "smoothings        10        20        40  \n",
       "2017-12-13  0.010040  0.188361  0.215255  \n",
       "2017-12-14  0.121296  0.257818  0.326997  \n",
       "2017-12-15  0.188704  0.289601  0.367989  \n",
       "2017-12-18  0.086236  0.194300  0.296772  \n",
       "2017-12-19 -0.071143  0.051467  0.145871  \n",
       "2017-12-20  0.006329  0.063187  0.198885  \n",
       "2017-12-21 -0.038850  0.032051  0.181850  \n",
       "2017-12-22 -0.048570  0.060462  0.235286  \n",
       "2017-12-25 -0.089005 -0.076552  0.093611  \n",
       "2017-12-26  0.025955 -0.056680  0.107313  \n",
       "\n",
       "[10 rows x 24 columns]"
      ]
     },
     "execution_count": 15,
     "metadata": {},
     "output_type": "execute_result"
    }
   ],
   "source": [
    "weights_excess.tail(10)"
   ]
  },
  {
   "cell_type": "code",
   "execution_count": 16,
   "metadata": {},
   "outputs": [
    {
     "data": {
      "text/html": [
       "<div>\n",
       "<style>\n",
       "    .dataframe thead tr:only-child th {\n",
       "        text-align: right;\n",
       "    }\n",
       "\n",
       "    .dataframe thead th {\n",
       "        text-align: left;\n",
       "    }\n",
       "\n",
       "    .dataframe tbody tr th {\n",
       "        vertical-align: top;\n",
       "    }\n",
       "</style>\n",
       "<table border=\"1\" class=\"dataframe\">\n",
       "  <thead>\n",
       "    <tr>\n",
       "      <th>lookbacks</th>\n",
       "      <th colspan=\"5\" halign=\"left\">65</th>\n",
       "      <th colspan=\"5\" halign=\"left\">130</th>\n",
       "      <th>...</th>\n",
       "      <th>260</th>\n",
       "      <th colspan=\"4\" halign=\"left\">390</th>\n",
       "      <th colspan=\"5\" halign=\"left\">520</th>\n",
       "    </tr>\n",
       "    <tr>\n",
       "      <th>smoothings</th>\n",
       "      <th>1</th>\n",
       "      <th>5</th>\n",
       "      <th>10</th>\n",
       "      <th>20</th>\n",
       "      <th>40</th>\n",
       "      <th>1</th>\n",
       "      <th>5</th>\n",
       "      <th>10</th>\n",
       "      <th>20</th>\n",
       "      <th>40</th>\n",
       "      <th>...</th>\n",
       "      <th>40</th>\n",
       "      <th>1</th>\n",
       "      <th>10</th>\n",
       "      <th>20</th>\n",
       "      <th>40</th>\n",
       "      <th>1</th>\n",
       "      <th>5</th>\n",
       "      <th>10</th>\n",
       "      <th>20</th>\n",
       "      <th>40</th>\n",
       "    </tr>\n",
       "  </thead>\n",
       "  <tbody>\n",
       "    <tr>\n",
       "      <th>2017-12-13</th>\n",
       "      <td>-1.847478e-06</td>\n",
       "      <td>-1.037732e-06</td>\n",
       "      <td>-7.581604e-08</td>\n",
       "      <td>-1.746749e-06</td>\n",
       "      <td>-1.398249e-06</td>\n",
       "      <td>-9.134138e-07</td>\n",
       "      <td>-5.544437e-07</td>\n",
       "      <td>-2.288374e-07</td>\n",
       "      <td>-1.415651e-06</td>\n",
       "      <td>-1.174829e-06</td>\n",
       "      <td>...</td>\n",
       "      <td>-5.441545e-07</td>\n",
       "      <td>-1.022694e-06</td>\n",
       "      <td>2.989209e-07</td>\n",
       "      <td>-1.169708e-06</td>\n",
       "      <td>-1.312920e-06</td>\n",
       "      <td>-1.139848e-06</td>\n",
       "      <td>-1.829751e-07</td>\n",
       "      <td>-9.429824e-08</td>\n",
       "      <td>-1.769175e-06</td>\n",
       "      <td>-2.021772e-06</td>\n",
       "    </tr>\n",
       "    <tr>\n",
       "      <th>2017-12-14</th>\n",
       "      <td>1.886183e-07</td>\n",
       "      <td>-1.339938e-07</td>\n",
       "      <td>-4.129320e-07</td>\n",
       "      <td>-7.664007e-07</td>\n",
       "      <td>-8.505708e-07</td>\n",
       "      <td>7.890601e-08</td>\n",
       "      <td>-1.734250e-07</td>\n",
       "      <td>-4.180463e-07</td>\n",
       "      <td>-6.981248e-07</td>\n",
       "      <td>-7.656492e-07</td>\n",
       "      <td>...</td>\n",
       "      <td>-5.485865e-07</td>\n",
       "      <td>2.089732e-07</td>\n",
       "      <td>-2.366374e-07</td>\n",
       "      <td>-6.326366e-07</td>\n",
       "      <td>-8.664870e-07</td>\n",
       "      <td>1.122736e-07</td>\n",
       "      <td>-8.309479e-08</td>\n",
       "      <td>-3.960084e-07</td>\n",
       "      <td>-8.417271e-07</td>\n",
       "      <td>-1.067584e-06</td>\n",
       "    </tr>\n",
       "    <tr>\n",
       "      <th>2017-12-15</th>\n",
       "      <td>-3.081213e-06</td>\n",
       "      <td>-8.076268e-07</td>\n",
       "      <td>-2.588888e-06</td>\n",
       "      <td>-2.624690e-06</td>\n",
       "      <td>-2.865381e-06</td>\n",
       "      <td>-1.889448e-06</td>\n",
       "      <td>-5.117742e-07</td>\n",
       "      <td>-2.077058e-06</td>\n",
       "      <td>-2.432724e-06</td>\n",
       "      <td>-2.586699e-06</td>\n",
       "      <td>...</td>\n",
       "      <td>-1.945680e-06</td>\n",
       "      <td>-1.376265e-06</td>\n",
       "      <td>-1.371197e-06</td>\n",
       "      <td>-2.164411e-06</td>\n",
       "      <td>-2.837222e-06</td>\n",
       "      <td>-1.245839e-06</td>\n",
       "      <td>-1.304430e-07</td>\n",
       "      <td>-1.731576e-06</td>\n",
       "      <td>-2.657423e-06</td>\n",
       "      <td>-3.376727e-06</td>\n",
       "    </tr>\n",
       "    <tr>\n",
       "      <th>2017-12-18</th>\n",
       "      <td>2.605896e-07</td>\n",
       "      <td>-6.588103e-07</td>\n",
       "      <td>-2.377654e-06</td>\n",
       "      <td>-3.147957e-06</td>\n",
       "      <td>-3.956478e-06</td>\n",
       "      <td>-4.880773e-07</td>\n",
       "      <td>-9.382806e-07</td>\n",
       "      <td>-2.015288e-06</td>\n",
       "      <td>-3.152506e-06</td>\n",
       "      <td>-3.712851e-06</td>\n",
       "      <td>...</td>\n",
       "      <td>-2.472647e-06</td>\n",
       "      <td>-1.686228e-07</td>\n",
       "      <td>-9.309335e-07</td>\n",
       "      <td>-2.821234e-06</td>\n",
       "      <td>-4.266409e-06</td>\n",
       "      <td>-2.928587e-07</td>\n",
       "      <td>-2.626149e-07</td>\n",
       "      <td>-1.563841e-06</td>\n",
       "      <td>-3.523516e-06</td>\n",
       "      <td>-5.381804e-06</td>\n",
       "    </tr>\n",
       "    <tr>\n",
       "      <th>2017-12-19</th>\n",
       "      <td>-1.686404e-08</td>\n",
       "      <td>-1.846026e-09</td>\n",
       "      <td>6.055754e-10</td>\n",
       "      <td>-1.051719e-09</td>\n",
       "      <td>-3.056664e-09</td>\n",
       "      <td>-1.861941e-08</td>\n",
       "      <td>-1.522802e-09</td>\n",
       "      <td>1.647700e-09</td>\n",
       "      <td>-1.179415e-09</td>\n",
       "      <td>-2.601250e-09</td>\n",
       "      <td>...</td>\n",
       "      <td>4.556933e-10</td>\n",
       "      <td>-1.994005e-08</td>\n",
       "      <td>4.696409e-09</td>\n",
       "      <td>-4.354875e-10</td>\n",
       "      <td>-4.021976e-09</td>\n",
       "      <td>-1.928172e-08</td>\n",
       "      <td>-1.068512e-09</td>\n",
       "      <td>3.267250e-09</td>\n",
       "      <td>-2.363632e-09</td>\n",
       "      <td>-6.699198e-09</td>\n",
       "    </tr>\n",
       "    <tr>\n",
       "      <th>2017-12-20</th>\n",
       "      <td>8.860815e-08</td>\n",
       "      <td>-7.270354e-09</td>\n",
       "      <td>-3.789458e-08</td>\n",
       "      <td>-4.495225e-08</td>\n",
       "      <td>-1.279344e-07</td>\n",
       "      <td>4.109697e-08</td>\n",
       "      <td>-5.053708e-08</td>\n",
       "      <td>-4.024774e-08</td>\n",
       "      <td>-5.050778e-08</td>\n",
       "      <td>-1.181161e-07</td>\n",
       "      <td>...</td>\n",
       "      <td>-5.233957e-08</td>\n",
       "      <td>1.142885e-07</td>\n",
       "      <td>2.106534e-08</td>\n",
       "      <td>-2.910648e-08</td>\n",
       "      <td>-1.284342e-07</td>\n",
       "      <td>1.156467e-07</td>\n",
       "      <td>-6.652641e-09</td>\n",
       "      <td>-5.537813e-09</td>\n",
       "      <td>-5.529032e-08</td>\n",
       "      <td>-1.740297e-07</td>\n",
       "    </tr>\n",
       "    <tr>\n",
       "      <th>2017-12-21</th>\n",
       "      <td>1.190332e-07</td>\n",
       "      <td>-4.101359e-08</td>\n",
       "      <td>4.100266e-08</td>\n",
       "      <td>-2.225915e-08</td>\n",
       "      <td>-1.393310e-07</td>\n",
       "      <td>1.103316e-07</td>\n",
       "      <td>-7.770504e-08</td>\n",
       "      <td>4.922205e-09</td>\n",
       "      <td>-2.514215e-08</td>\n",
       "      <td>-1.279412e-07</td>\n",
       "      <td>...</td>\n",
       "      <td>-4.441047e-08</td>\n",
       "      <td>1.902648e-07</td>\n",
       "      <td>7.804482e-08</td>\n",
       "      <td>3.818914e-10</td>\n",
       "      <td>-1.249673e-07</td>\n",
       "      <td>1.118129e-07</td>\n",
       "      <td>-2.760455e-08</td>\n",
       "      <td>3.971269e-08</td>\n",
       "      <td>-3.276215e-08</td>\n",
       "      <td>-1.858854e-07</td>\n",
       "    </tr>\n",
       "    <tr>\n",
       "      <th>2017-12-22</th>\n",
       "      <td>-0.000000e+00</td>\n",
       "      <td>-0.000000e+00</td>\n",
       "      <td>-0.000000e+00</td>\n",
       "      <td>-0.000000e+00</td>\n",
       "      <td>-0.000000e+00</td>\n",
       "      <td>-0.000000e+00</td>\n",
       "      <td>-0.000000e+00</td>\n",
       "      <td>-0.000000e+00</td>\n",
       "      <td>-0.000000e+00</td>\n",
       "      <td>-0.000000e+00</td>\n",
       "      <td>...</td>\n",
       "      <td>-0.000000e+00</td>\n",
       "      <td>0.000000e+00</td>\n",
       "      <td>0.000000e+00</td>\n",
       "      <td>-0.000000e+00</td>\n",
       "      <td>-0.000000e+00</td>\n",
       "      <td>0.000000e+00</td>\n",
       "      <td>-0.000000e+00</td>\n",
       "      <td>0.000000e+00</td>\n",
       "      <td>-0.000000e+00</td>\n",
       "      <td>-0.000000e+00</td>\n",
       "    </tr>\n",
       "    <tr>\n",
       "      <th>2017-12-25</th>\n",
       "      <td>-8.071184e-07</td>\n",
       "      <td>-3.493270e-07</td>\n",
       "      <td>-8.147403e-09</td>\n",
       "      <td>7.213088e-08</td>\n",
       "      <td>-1.169979e-07</td>\n",
       "      <td>-8.070182e-07</td>\n",
       "      <td>-3.092632e-07</td>\n",
       "      <td>-6.772376e-09</td>\n",
       "      <td>9.878500e-08</td>\n",
       "      <td>-7.700013e-08</td>\n",
       "      <td>...</td>\n",
       "      <td>7.119958e-08</td>\n",
       "      <td>-8.114728e-07</td>\n",
       "      <td>2.010411e-07</td>\n",
       "      <td>1.796966e-07</td>\n",
       "      <td>-6.470952e-08</td>\n",
       "      <td>-8.103011e-07</td>\n",
       "      <td>-5.669921e-08</td>\n",
       "      <td>1.498552e-07</td>\n",
       "      <td>1.288878e-07</td>\n",
       "      <td>-1.576100e-07</td>\n",
       "    </tr>\n",
       "    <tr>\n",
       "      <th>2017-12-26</th>\n",
       "      <td>NaN</td>\n",
       "      <td>NaN</td>\n",
       "      <td>NaN</td>\n",
       "      <td>NaN</td>\n",
       "      <td>NaN</td>\n",
       "      <td>NaN</td>\n",
       "      <td>NaN</td>\n",
       "      <td>NaN</td>\n",
       "      <td>NaN</td>\n",
       "      <td>NaN</td>\n",
       "      <td>...</td>\n",
       "      <td>NaN</td>\n",
       "      <td>NaN</td>\n",
       "      <td>NaN</td>\n",
       "      <td>NaN</td>\n",
       "      <td>NaN</td>\n",
       "      <td>NaN</td>\n",
       "      <td>NaN</td>\n",
       "      <td>NaN</td>\n",
       "      <td>NaN</td>\n",
       "      <td>NaN</td>\n",
       "    </tr>\n",
       "  </tbody>\n",
       "</table>\n",
       "<p>10 rows × 24 columns</p>\n",
       "</div>"
      ],
      "text/plain": [
       "lookbacks            65                                             \\\n",
       "smoothings            1             5             10            20   \n",
       "2017-12-13 -1.847478e-06 -1.037732e-06 -7.581604e-08 -1.746749e-06   \n",
       "2017-12-14  1.886183e-07 -1.339938e-07 -4.129320e-07 -7.664007e-07   \n",
       "2017-12-15 -3.081213e-06 -8.076268e-07 -2.588888e-06 -2.624690e-06   \n",
       "2017-12-18  2.605896e-07 -6.588103e-07 -2.377654e-06 -3.147957e-06   \n",
       "2017-12-19 -1.686404e-08 -1.846026e-09  6.055754e-10 -1.051719e-09   \n",
       "2017-12-20  8.860815e-08 -7.270354e-09 -3.789458e-08 -4.495225e-08   \n",
       "2017-12-21  1.190332e-07 -4.101359e-08  4.100266e-08 -2.225915e-08   \n",
       "2017-12-22 -0.000000e+00 -0.000000e+00 -0.000000e+00 -0.000000e+00   \n",
       "2017-12-25 -8.071184e-07 -3.493270e-07 -8.147403e-09  7.213088e-08   \n",
       "2017-12-26           NaN           NaN           NaN           NaN   \n",
       "\n",
       "lookbacks                          130                              \\\n",
       "smoothings            40            1             5             10   \n",
       "2017-12-13 -1.398249e-06 -9.134138e-07 -5.544437e-07 -2.288374e-07   \n",
       "2017-12-14 -8.505708e-07  7.890601e-08 -1.734250e-07 -4.180463e-07   \n",
       "2017-12-15 -2.865381e-06 -1.889448e-06 -5.117742e-07 -2.077058e-06   \n",
       "2017-12-18 -3.956478e-06 -4.880773e-07 -9.382806e-07 -2.015288e-06   \n",
       "2017-12-19 -3.056664e-09 -1.861941e-08 -1.522802e-09  1.647700e-09   \n",
       "2017-12-20 -1.279344e-07  4.109697e-08 -5.053708e-08 -4.024774e-08   \n",
       "2017-12-21 -1.393310e-07  1.103316e-07 -7.770504e-08  4.922205e-09   \n",
       "2017-12-22 -0.000000e+00 -0.000000e+00 -0.000000e+00 -0.000000e+00   \n",
       "2017-12-25 -1.169979e-07 -8.070182e-07 -3.092632e-07 -6.772376e-09   \n",
       "2017-12-26           NaN           NaN           NaN           NaN   \n",
       "\n",
       "lookbacks                                   ...                260  \\\n",
       "smoothings            20            40      ...                 40   \n",
       "2017-12-13 -1.415651e-06 -1.174829e-06      ...      -5.441545e-07   \n",
       "2017-12-14 -6.981248e-07 -7.656492e-07      ...      -5.485865e-07   \n",
       "2017-12-15 -2.432724e-06 -2.586699e-06      ...      -1.945680e-06   \n",
       "2017-12-18 -3.152506e-06 -3.712851e-06      ...      -2.472647e-06   \n",
       "2017-12-19 -1.179415e-09 -2.601250e-09      ...       4.556933e-10   \n",
       "2017-12-20 -5.050778e-08 -1.181161e-07      ...      -5.233957e-08   \n",
       "2017-12-21 -2.514215e-08 -1.279412e-07      ...      -4.441047e-08   \n",
       "2017-12-22 -0.000000e+00 -0.000000e+00      ...      -0.000000e+00   \n",
       "2017-12-25  9.878500e-08 -7.700013e-08      ...       7.119958e-08   \n",
       "2017-12-26           NaN           NaN      ...                NaN   \n",
       "\n",
       "lookbacks            390                                            \\\n",
       "smoothings            1             10            20            40   \n",
       "2017-12-13 -1.022694e-06  2.989209e-07 -1.169708e-06 -1.312920e-06   \n",
       "2017-12-14  2.089732e-07 -2.366374e-07 -6.326366e-07 -8.664870e-07   \n",
       "2017-12-15 -1.376265e-06 -1.371197e-06 -2.164411e-06 -2.837222e-06   \n",
       "2017-12-18 -1.686228e-07 -9.309335e-07 -2.821234e-06 -4.266409e-06   \n",
       "2017-12-19 -1.994005e-08  4.696409e-09 -4.354875e-10 -4.021976e-09   \n",
       "2017-12-20  1.142885e-07  2.106534e-08 -2.910648e-08 -1.284342e-07   \n",
       "2017-12-21  1.902648e-07  7.804482e-08  3.818914e-10 -1.249673e-07   \n",
       "2017-12-22  0.000000e+00  0.000000e+00 -0.000000e+00 -0.000000e+00   \n",
       "2017-12-25 -8.114728e-07  2.010411e-07  1.796966e-07 -6.470952e-08   \n",
       "2017-12-26           NaN           NaN           NaN           NaN   \n",
       "\n",
       "lookbacks            520                                            \\\n",
       "smoothings            1             5             10            20   \n",
       "2017-12-13 -1.139848e-06 -1.829751e-07 -9.429824e-08 -1.769175e-06   \n",
       "2017-12-14  1.122736e-07 -8.309479e-08 -3.960084e-07 -8.417271e-07   \n",
       "2017-12-15 -1.245839e-06 -1.304430e-07 -1.731576e-06 -2.657423e-06   \n",
       "2017-12-18 -2.928587e-07 -2.626149e-07 -1.563841e-06 -3.523516e-06   \n",
       "2017-12-19 -1.928172e-08 -1.068512e-09  3.267250e-09 -2.363632e-09   \n",
       "2017-12-20  1.156467e-07 -6.652641e-09 -5.537813e-09 -5.529032e-08   \n",
       "2017-12-21  1.118129e-07 -2.760455e-08  3.971269e-08 -3.276215e-08   \n",
       "2017-12-22  0.000000e+00 -0.000000e+00  0.000000e+00 -0.000000e+00   \n",
       "2017-12-25 -8.103011e-07 -5.669921e-08  1.498552e-07  1.288878e-07   \n",
       "2017-12-26           NaN           NaN           NaN           NaN   \n",
       "\n",
       "lookbacks                 \n",
       "smoothings            40  \n",
       "2017-12-13 -2.021772e-06  \n",
       "2017-12-14 -1.067584e-06  \n",
       "2017-12-15 -3.376727e-06  \n",
       "2017-12-18 -5.381804e-06  \n",
       "2017-12-19 -6.699198e-09  \n",
       "2017-12-20 -1.740297e-07  \n",
       "2017-12-21 -1.858854e-07  \n",
       "2017-12-22 -0.000000e+00  \n",
       "2017-12-25 -1.576100e-07  \n",
       "2017-12-26           NaN  \n",
       "\n",
       "[10 rows x 24 columns]"
      ]
     },
     "execution_count": 16,
     "metadata": {},
     "output_type": "execute_result"
    }
   ],
   "source": [
    "vol_excess = weights_excess.multiply(-dxy_forward_sq['DXY_forward'],axis=0)\n",
    "vol_excess.tail(10)"
   ]
  },
  {
   "cell_type": "markdown",
   "metadata": {},
   "source": [
    "### 3) Regressions\n",
    "#### 3-a) Linear Regression"
   ]
  },
  {
   "cell_type": "code",
   "execution_count": 17,
   "metadata": {
    "collapsed": true
   },
   "outputs": [],
   "source": [
    "framework_params = {'insample_start_date': '1975-01-02',\n",
    "                    'insample_end_date': '1994-12-31',\n",
    "                    'estimationsample_start_date': '1995-01-01',\n",
    "                    'estimationsample_end_date': '2004-12-31',\n",
    "                    'outofsample_start_date': '2005-01-01',\n",
    "                    'outofsample_end_date': '2017-12-26',\n",
    "                    'verbose': False}\n",
    "\n",
    "X_insample = vol_excess.loc[framework_params['insample_start_date']:framework_params['insample_end_date']].dropna()\n",
    "y_insample = dxy_excess.loc[X_insample.index]\n",
    "X_estimation = vol_excess.loc[framework_params['estimationsample_start_date']:framework_params['estimationsample_end_date']].dropna()\n",
    "y_estimation = dxy_excess.loc[X_estimation.index]\n",
    "X_outsample = vol_excess.loc[framework_params['outofsample_start_date']:framework_params['outofsample_end_date']].dropna()\n",
    "y_outsample = dxy_excess.loc[X_outsample.index]\n",
    "\n",
    "reg_linear = linear_model.LinearRegression(fit_intercept=False).fit(X_insample, y_insample)\n",
    "rmse_linear_reg = sklearn.metrics.mean_squared_error(y_insample, reg_linear.predict(X_insample))"
   ]
  },
  {
   "cell_type": "code",
   "execution_count": 18,
   "metadata": {},
   "outputs": [
    {
     "name": "stdout",
     "output_type": "stream",
     "text": [
      "the R^2 coefficient is: 0.008354942737250126\n",
      "the RMSE is:5.539694122806824e-10\n"
     ]
    }
   ],
   "source": [
    "print(\"the R^2 coefficient is: %s\"%reg_linear.score(X_insample, y_insample)) # Very poor fit\n",
    "print(\"the RMSE is:%s\"%rmse_linear_reg)"
   ]
  },
  {
   "cell_type": "code",
   "execution_count": 19,
   "metadata": {},
   "outputs": [
    {
     "name": "stdout",
     "output_type": "stream",
     "text": [
      "[-0.18640245  1.03532492 -1.85525039  1.99360702 -0.44659235  0.37888127\n",
      "  0.23227859  1.55189676 -2.36314289  0.84813361 -0.38768989 -0.52263728\n",
      " -1.61223817 -0.21500821  1.00387026  0.32612755  1.07524769 -0.1383104\n",
      " -1.0848709  -0.20001688 -1.41361772  0.60219675  0.74357709  0.05191246]\n"
     ]
    }
   ],
   "source": [
    "print(reg_linear.coef_)"
   ]
  },
  {
   "cell_type": "code",
   "execution_count": 20,
   "metadata": {},
   "outputs": [
    {
     "data": {
      "image/png": "[encoded data removed]",
      "text/plain": [
       "<matplotlib.figure.Figure at 0x1263a1128>"
      ]
     },
     "metadata": {},
     "output_type": "display_data"
    }
   ],
   "source": [
    "#We plot the resulting regression line\n",
    "plt.scatter(X_insample.index, y_insample)\n",
    "plt.plot(X_insample.index, reg_linear.predict(X_insample), color='red', linewidth=1)\n",
    "plt.xlabel('volatility excess - In sample')\n",
    "plt.ylabel('DXY Excess - In sample')\n",
    "plt.show()"
   ]
  },
  {
   "cell_type": "code",
   "execution_count": 21,
   "metadata": {},
   "outputs": [
    {
     "name": "stdout",
     "output_type": "stream",
     "text": [
      "the prediction RMSE for outsample data is: 7.499859485113975e-10\n"
     ]
    }
   ],
   "source": [
    "#We confirm prediction power\n",
    "rmse_linear_reg_predict = sklearn.metrics.mean_squared_error(y_outsample, reg_linear.predict(X_outsample))\n",
    "print(\"the prediction RMSE for outsample data is: %s\"%rmse_linear_reg_predict)"
   ]
  },
  {
   "cell_type": "code",
   "execution_count": 22,
   "metadata": {},
   "outputs": [
    {
     "data": {
      "image/png": "[encoded data removed]",
      "text/plain": [
       "<matplotlib.figure.Figure at 0x1263ca2b0>"
      ]
     },
     "metadata": {},
     "output_type": "display_data"
    }
   ],
   "source": [
    "plt.scatter(X_outsample.index, y_outsample)\n",
    "plt.plot(X_outsample.index, reg_linear.predict(X_outsample), color='red', linewidth=1)\n",
    "plt.xlabel('Volatility Excess - Out of sample')\n",
    "plt.ylabel('DXY Excess - Out of sample')\n",
    "plt.show()"
   ]
  },
  {
   "cell_type": "markdown",
   "metadata": {},
   "source": [
    "#### 3-b) Lasso regression (L1 regularization)"
   ]
  },
  {
   "cell_type": "code",
   "execution_count": 23,
   "metadata": {},
   "outputs": [
    {
     "name": "stdout",
     "output_type": "stream",
     "text": [
      "the R^2 coefficient is: -0.19392094586508926\n",
      "the RMSE with insample is: 6.669681655209764e-10\n",
      "the RMSE with outsample is: 4.5001461993562507e-10\n",
      "[ 0.  0.  0.  0.  0.  0.  0.  0.  0. -0. -0. -0. -0.  0.  0.  0. -0.  0.\n",
      " -0.  0.  0.  0.  0.  0.]\n"
     ]
    }
   ],
   "source": [
    "reg_lasso = linear_model.Lasso(fit_intercept=False).fit(X_insample, y_insample)\n",
    "rmse_lasso_reg = sklearn.metrics.mean_squared_error(y_insample, reg_lasso.predict(X_insample))\n",
    "print(\"the R^2 coefficient is: %s\"%reg_lasso.score(X_insample, y_insample)) # still poor fit\n",
    "print(\"the RMSE with insample is: %s\"%rmse_lasso_reg)\n",
    "print(\"the RMSE with outsample is: %s\"%sklearn.metrics.mean_squared_error(y_outsample, reg_lasso.predict(X_outsample)))\n",
    "print(reg_lasso.coef_)"
   ]
  },
  {
   "cell_type": "code",
   "execution_count": 24,
   "metadata": {},
   "outputs": [
    {
     "data": {
      "image/png": "[encoded data removed]",
      "text/plain": [
       "<matplotlib.figure.Figure at 0x126517588>"
      ]
     },
     "metadata": {},
     "output_type": "display_data"
    }
   ],
   "source": [
    "plt.scatter(X_outsample.index, y_outsample)\n",
    "plt.plot(X_outsample.index, reg_lasso.predict(X_outsample), color='red', linewidth=1)\n",
    "plt.xlabel('Volatility Excess - Out of sample')\n",
    "plt.ylabel('DXY Excess - Out of sample')\n",
    "plt.show()"
   ]
  },
  {
   "cell_type": "markdown",
   "metadata": {},
   "source": [
    "#### 3-c) Ridge regression (L2 regularization)"
   ]
  },
  {
   "cell_type": "code",
   "execution_count": 25,
   "metadata": {},
   "outputs": [
    {
     "name": "stdout",
     "output_type": "stream",
     "text": [
      "the R^2 coefficient is: -0.19392082638074015\n",
      "the RMSE with insample is: 6.66968098772623e-10\n",
      "the RMSE with outsample is: 4.500147372809486e-10\n",
      "[ 1.06749973e-07  1.64202310e-07  7.25739199e-08  2.14610760e-07\n",
      "  1.94019784e-07  6.18923747e-08  6.16472295e-08  1.92628338e-08\n",
      "  3.52151747e-08 -1.45747530e-09 -6.64032936e-09 -5.67917718e-08\n",
      " -4.52586977e-08  7.83147803e-09  8.55021678e-09  2.65523385e-08\n",
      " -1.02754463e-08  2.07346062e-08 -3.15154652e-08  3.64567303e-08\n",
      "  2.05222867e-08  2.86705336e-08  8.40471740e-08  3.99651957e-08]\n"
     ]
    }
   ],
   "source": [
    "reg_ridge = linear_model.Ridge(fit_intercept=False).fit(X_insample, y_insample)\n",
    "rmse_ridge_reg = sklearn.metrics.mean_squared_error(y_insample, reg_ridge.predict(X_insample))\n",
    "print(\"the R^2 coefficient is: %s\"%reg_ridge.score(X_insample, y_insample)) # still poor fit\n",
    "print(\"the RMSE with insample is: %s\"%rmse_ridge_reg)\n",
    "print(\"the RMSE with outsample is: %s\"%sklearn.metrics.mean_squared_error(y_outsample, reg_ridge.predict(X_outsample)))\n",
    "print(reg_ridge.coef_)"
   ]
  },
  {
   "cell_type": "markdown",
   "metadata": {},
   "source": [
    "#### 3-d) Elastic Net Regression"
   ]
  },
  {
   "cell_type": "code",
   "execution_count": 26,
   "metadata": {},
   "outputs": [
    {
     "name": "stdout",
     "output_type": "stream",
     "text": [
      "the R^2 coefficient is: -0.19392094586508926\n",
      "the RMSE with insample is: 6.669681655209764e-10\n",
      "the RMSE with outsample is: 4.5001461993562507e-10\n",
      "[ 0.  0.  0.  0.  0.  0.  0.  0.  0. -0. -0. -0. -0.  0.  0.  0. -0.  0.\n",
      " -0.  0.  0.  0.  0.  0.]\n"
     ]
    }
   ],
   "source": [
    "reg_en = linear_model.ElasticNet(fit_intercept=False).fit(X_insample, y_insample)\n",
    "rmse_en_reg = sklearn.metrics.mean_squared_error(y_insample, reg_en.predict(X_insample))\n",
    "print(\"the R^2 coefficient is: %s\"%reg_en.score(X_insample, y_insample)) # still poor fit\n",
    "print(\"the RMSE with insample is: %s\"%rmse_en_reg)\n",
    "print(\"the RMSE with outsample is: %s\"%sklearn.metrics.mean_squared_error(y_outsample, reg_en.predict(X_outsample)))\n",
    "print(reg_en.coef_)"
   ]
  },
  {
   "cell_type": "markdown",
   "metadata": {},
   "source": [
    "### 4) ARIMA\n",
    "#### We first check for seasonality and trend."
   ]
  },
  {
   "cell_type": "code",
   "execution_count": 27,
   "metadata": {},
   "outputs": [
    {
     "name": "stderr",
     "output_type": "stream",
     "text": [
      "/Users/agxi/anaconda/lib/python3.6/site-packages/statsmodels/compat/pandas.py:56: FutureWarning: The pandas.core.datetools module is deprecated and will be removed in a future version. Please use the pandas.tseries module instead.\n",
      "  from pandas.core import datetools\n"
     ]
    },
    {
     "data": {
      "image/png": "[encoded data removed]",
      "text/plain": [
       "<matplotlib.figure.Figure at 0x12e34fac8>"
      ]
     },
     "metadata": {},
     "output_type": "display_data"
    }
   ],
   "source": [
    "import statsmodels.api as sm\n",
    "from pylab import rcParams\n",
    "rcParams['figure.figsize'] = 18, 8\n",
    "decomposition = sm.tsa.seasonal_decompose(y_insample, model='additive')\n",
    "fig = decomposition.plot()\n",
    "plt.show()"
   ]
  },
  {
   "cell_type": "code",
   "execution_count": 28,
   "metadata": {},
   "outputs": [
    {
     "name": "stderr",
     "output_type": "stream",
     "text": [
      "/Users/agxi/anaconda/lib/python3.6/site-packages/statsmodels/tsa/kalmanf/kalmanfilter.py:646: FutureWarning: Conversion of the second argument of issubdtype from `float` to `np.floating` is deprecated. In future, it will be treated as `np.float64 == np.dtype(float).type`.\n",
      "  if issubdtype(paramsdtype, float):\n",
      "/Users/agxi/anaconda/lib/python3.6/site-packages/statsmodels/tsa/kalmanf/kalmanfilter.py:650: FutureWarning: Conversion of the second argument of issubdtype from `complex` to `np.complexfloating` is deprecated. In future, it will be treated as `np.complex128 == np.dtype(complex).type`.\n",
      "  elif issubdtype(paramsdtype, complex):\n"
     ]
    },
    {
     "name": "stdout",
     "output_type": "stream",
     "text": [
      "the ARIMA prediction RMSE for outsample data is: 5.546109800101161e-10\n"
     ]
    },
    {
     "name": "stderr",
     "output_type": "stream",
     "text": [
      "/Users/agxi/anaconda/lib/python3.6/site-packages/statsmodels/base/model.py:473: HessianInversionWarning: Inverting hessian failed, no bse or cov_params available\n",
      "  'available', HessianInversionWarning)\n",
      "/Users/agxi/anaconda/lib/python3.6/site-packages/statsmodels/tsa/kalmanf/kalmanfilter.py:577: FutureWarning: Conversion of the second argument of issubdtype from `float` to `np.floating` is deprecated. In future, it will be treated as `np.float64 == np.dtype(float).type`.\n",
      "  if issubdtype(paramsdtype, float):\n"
     ]
    }
   ],
   "source": [
    "from statsmodels.tsa.arima_model import ARIMA\n",
    "# fit model\n",
    "model_arima = ARIMA(y_insample, order=(7, 0, 1))\n",
    "model_arima_fit = model_arima.fit(disp=False)\n",
    "# predictions\n",
    "y_predict_arima = model_arima_fit.predict(start=y_insample.index[0], end=y_insample.index[-1])\n",
    "# print(model_arima_fit.summary())\n",
    "\n",
    "#We confirm prediction power\n",
    "rmse_arima_predict = sklearn.metrics.mean_squared_error(y_insample, y_predict_arima)\n",
    "print(\"the ARIMA prediction RMSE for outsample data is: %s\"%rmse_arima_predict)"
   ]
  },
  {
   "cell_type": "code",
   "execution_count": 29,
   "metadata": {},
   "outputs": [
    {
     "data": {
      "image/png": "[encoded data removed]",
      "text/plain": [
       "<matplotlib.figure.Figure at 0x12f31e4a8>"
      ]
     },
     "metadata": {},
     "output_type": "display_data"
    }
   ],
   "source": [
    "#We plot the resulting regression line\n",
    "plt.scatter(X_insample.index, y_insample)\n",
    "plt.plot(X_insample.index, y_predict_arima, color='red', linewidth=1)\n",
    "plt.xlabel('volatility excess - In sample')\n",
    "plt.ylabel('DXY Excess - In sample')\n",
    "plt.show()"
   ]
  },
  {
   "cell_type": "markdown",
   "metadata": {},
   "source": [
    "### 5) Random forrest model (ensemble)"
   ]
  },
  {
   "cell_type": "code",
   "execution_count": 30,
   "metadata": {},
   "outputs": [
    {
     "name": "stdout",
     "output_type": "stream",
     "text": [
      "the RMSE with random forrest is:3.8806243580185787e-10\n"
     ]
    }
   ],
   "source": [
    "from sklearn.ensemble import RandomForestRegressor\n",
    "rf = RandomForestRegressor(n_estimators = 1000, random_state = 42) # we use 1,000 decision trees to start the model\n",
    "# Train the rf model\n",
    "rf.fit(X_insample, y_insample);\n",
    "\n",
    "# Test the rf model on out of sample data\n",
    "rf_predict = rf.predict(X_outsample)\n",
    "rmse_rf_predict = sklearn.metrics.mean_squared_error(y_outsample, rf_predict)\n",
    "print(\"the RMSE with random forrest is:%s\"%rmse_rf_predict)"
   ]
  },
  {
   "cell_type": "code",
   "execution_count": 31,
   "metadata": {},
   "outputs": [
    {
     "data": {
      "image/png": "[encoded data removed]",
      "text/plain": [
       "<matplotlib.figure.Figure at 0x128abe160>"
      ]
     },
     "metadata": {},
     "output_type": "display_data"
    }
   ],
   "source": [
    "# Plotting the rf results\n",
    "plt.scatter(X_outsample.index, y_outsample)\n",
    "plt.plot(X_outsample.index, rf_predict, color='red', linewidth=1)\n",
    "plt.xlabel('volatility excess - Out of sample')\n",
    "plt.ylabel('DXY Excess - Out of sample')\n",
    "plt.show()"
   ]
  },
  {
   "cell_type": "markdown",
   "metadata": {},
   "source": [
    "### 6) Support Vector Regression (SVR)"
   ]
  },
  {
   "cell_type": "code",
   "execution_count": 32,
   "metadata": {},
   "outputs": [
    {
     "name": "stdout",
     "output_type": "stream",
     "text": [
      "the RMSE with insample is: 4.649504175572978e-08\n",
      "the RMSE with outsample is: 4.7281443340674485e-08\n"
     ]
    }
   ],
   "source": [
    "from sklearn.svm import SVR\n",
    "svr = SVR(kernel='linear')\n",
    "svr_model = svr.fit(X_insample, y_insample)\n",
    "rmse_svr = sklearn.metrics.mean_squared_error(y_insample, svr.predict(X_insample))\n",
    "print(\"the RMSE with insample is: %s\"%rmse_svr)\n",
    "print(\"the RMSE with outsample is: %s\"%sklearn.metrics.mean_squared_error(y_outsample, svr.predict(X_outsample)))"
   ]
  },
  {
   "cell_type": "code",
   "execution_count": 33,
   "metadata": {},
   "outputs": [
    {
     "data": {
      "image/png": "[encoded data removed]",
      "text/plain": [
       "<matplotlib.figure.Figure at 0x12e60c860>"
      ]
     },
     "metadata": {},
     "output_type": "display_data"
    }
   ],
   "source": [
    "# Plotting results\n",
    "plt.scatter(X_outsample.index, y_outsample)\n",
    "plt.plot(X_outsample.index, svr.predict(X_outsample), color='red', linewidth=1)\n",
    "plt.xlabel('volatility excess - Out of sample')\n",
    "plt.ylabel('DXY Excess - Out of sample')\n",
    "plt.show()"
   ]
  },
  {
   "cell_type": "markdown",
   "metadata": {},
   "source": [
    "## Summary of Results (In Sample):"
   ]
  },
  {
   "cell_type": "code",
   "execution_count": 34,
   "metadata": {},
   "outputs": [
    {
     "name": "stdout",
     "output_type": "stream",
     "text": [
      "Linear regression RMSE in sample = 5.539694122806824e-10\n",
      "Lasso regression RMSE in sample = 6.669681655209764e-10\n",
      "Ridge regression RMSE in sample = 6.66968098772623e-10\n",
      "Elastic Net regression RMSE in sample = 6.669681655209764e-10\n",
      "ARIMA model RMSE in sample = 5.546109800101161e-10\n",
      "Random forrest RMSE in sample = 3.8806243580185787e-10\n",
      "SVR RMSE in sample = 4.649504175572978e-08\n"
     ]
    }
   ],
   "source": [
    "#Linear Regression performance\n",
    "print(\"Linear regression RMSE in sample = %s\"%rmse_linear_reg)\n",
    "# Lasso Regression\n",
    "print(\"Lasso regression RMSE in sample = %s\"%rmse_lasso_reg)\n",
    "# Ridge regression\n",
    "print(\"Ridge regression RMSE in sample = %s\"%rmse_ridge_reg)\n",
    "# Elastic Net regression\n",
    "print(\"Elastic Net regression RMSE in sample = %s\"%rmse_en_reg)\n",
    "# ARIMA\n",
    "print(\"ARIMA model RMSE in sample = %s\"%rmse_arima_predict)\n",
    "#Random forrest\n",
    "print(\"Random forrest RMSE in sample = %s\"%rmse_rf_predict)\n",
    "#SVR\n",
    "print(\"SVR RMSE in sample = %s\"%rmse_svr)\n"
   ]
  },
  {
   "cell_type": "markdown",
   "metadata": {},
   "source": [
    "### 7) LSTM"
   ]
  },
  {
   "cell_type": "code",
   "execution_count": 35,
   "metadata": {
    "scrolled": true
   },
   "outputs": [
    {
     "name": "stderr",
     "output_type": "stream",
     "text": [
      "/Users/agxi/anaconda/lib/python3.6/site-packages/h5py/__init__.py:34: FutureWarning: Conversion of the second argument of issubdtype from `float` to `np.floating` is deprecated. In future, it will be treated as `np.float64 == np.dtype(float).type`.\n",
      "  from ._conv import register_converters as _register_converters\n",
      "Using TensorFlow backend.\n"
     ]
    },
    {
     "ename": "TypeError",
     "evalue": "while_loop() got an unexpected keyword argument 'maximum_iterations'",
     "output_type": "error",
     "traceback": [
      "\u001b[0;31m---------------------------------------------------------------------------\u001b[0m",
      "\u001b[0;31mTypeError\u001b[0m                                 Traceback (most recent call last)",
      "\u001b[0;32m<ipython-input-35-799e7735a5db>\u001b[0m in \u001b[0;36m<module>\u001b[0;34m()\u001b[0m\n\u001b[1;32m      5\u001b[0m \u001b[0;34m\u001b[0m\u001b[0m\n\u001b[1;32m      6\u001b[0m \u001b[0mlstm_model\u001b[0m \u001b[0;34m=\u001b[0m \u001b[0mSequential\u001b[0m\u001b[0;34m(\u001b[0m\u001b[0;34m)\u001b[0m\u001b[0;34m\u001b[0m\u001b[0m\n\u001b[0;32m----> 7\u001b[0;31m \u001b[0mlstm_model\u001b[0m\u001b[0;34m.\u001b[0m\u001b[0madd\u001b[0m\u001b[0;34m(\u001b[0m\u001b[0mLSTM\u001b[0m\u001b[0;34m(\u001b[0m\u001b[0;36m10\u001b[0m\u001b[0;34m,\u001b[0m \u001b[0minput_shape\u001b[0m\u001b[0;34m=\u001b[0m\u001b[0;34m(\u001b[0m\u001b[0;36m1\u001b[0m\u001b[0;34m,\u001b[0m \u001b[0;36m1\u001b[0m\u001b[0;34m)\u001b[0m\u001b[0;34m)\u001b[0m\u001b[0;34m)\u001b[0m\u001b[0;34m\u001b[0m\u001b[0m\n\u001b[0m\u001b[1;32m      8\u001b[0m \u001b[0mlstm_model\u001b[0m\u001b[0;34m.\u001b[0m\u001b[0madd\u001b[0m\u001b[0;34m(\u001b[0m\u001b[0mDense\u001b[0m\u001b[0;34m(\u001b[0m\u001b[0;36m1\u001b[0m\u001b[0;34m)\u001b[0m\u001b[0;34m)\u001b[0m\u001b[0;34m\u001b[0m\u001b[0m\n\u001b[1;32m      9\u001b[0m \u001b[0mlstm_model\u001b[0m\u001b[0;34m.\u001b[0m\u001b[0mcompile\u001b[0m\u001b[0;34m(\u001b[0m\u001b[0mloss\u001b[0m\u001b[0;34m=\u001b[0m\u001b[0;34m'mean_squared_error'\u001b[0m\u001b[0;34m,\u001b[0m \u001b[0moptimizer\u001b[0m\u001b[0;34m=\u001b[0m\u001b[0;34m'adam'\u001b[0m\u001b[0;34m)\u001b[0m\u001b[0;34m\u001b[0m\u001b[0m\n",
      "\u001b[0;32m/Users/agxi/anaconda/lib/python3.6/site-packages/keras/engine/sequential.py\u001b[0m in \u001b[0;36madd\u001b[0;34m(self, layer)\u001b[0m\n\u001b[1;32m    162\u001b[0m                     \u001b[0;31m# and create the node connecting the current layer\u001b[0m\u001b[0;34m\u001b[0m\u001b[0;34m\u001b[0m\u001b[0m\n\u001b[1;32m    163\u001b[0m                     \u001b[0;31m# to the input layer we just created.\u001b[0m\u001b[0;34m\u001b[0m\u001b[0;34m\u001b[0m\u001b[0m\n\u001b[0;32m--> 164\u001b[0;31m                     \u001b[0mlayer\u001b[0m\u001b[0;34m(\u001b[0m\u001b[0mx\u001b[0m\u001b[0;34m)\u001b[0m\u001b[0;34m\u001b[0m\u001b[0m\n\u001b[0m\u001b[1;32m    165\u001b[0m                     \u001b[0mset_inputs\u001b[0m \u001b[0;34m=\u001b[0m \u001b[0;32mTrue\u001b[0m\u001b[0;34m\u001b[0m\u001b[0m\n\u001b[1;32m    166\u001b[0m                 \u001b[0;32melse\u001b[0m\u001b[0;34m:\u001b[0m\u001b[0;34m\u001b[0m\u001b[0m\n",
      "\u001b[0;32m/Users/agxi/anaconda/lib/python3.6/site-packages/keras/layers/recurrent.py\u001b[0m in \u001b[0;36m__call__\u001b[0;34m(self, inputs, initial_state, constants, **kwargs)\u001b[0m\n\u001b[1;32m    498\u001b[0m \u001b[0;34m\u001b[0m\u001b[0m\n\u001b[1;32m    499\u001b[0m         \u001b[0;32mif\u001b[0m \u001b[0minitial_state\u001b[0m \u001b[0;32mis\u001b[0m \u001b[0;32mNone\u001b[0m \u001b[0;32mand\u001b[0m \u001b[0mconstants\u001b[0m \u001b[0;32mis\u001b[0m \u001b[0;32mNone\u001b[0m\u001b[0;34m:\u001b[0m\u001b[0;34m\u001b[0m\u001b[0m\n\u001b[0;32m--> 500\u001b[0;31m             \u001b[0;32mreturn\u001b[0m \u001b[0msuper\u001b[0m\u001b[0;34m(\u001b[0m\u001b[0mRNN\u001b[0m\u001b[0;34m,\u001b[0m \u001b[0mself\u001b[0m\u001b[0;34m)\u001b[0m\u001b[0;34m.\u001b[0m\u001b[0m__call__\u001b[0m\u001b[0;34m(\u001b[0m\u001b[0minputs\u001b[0m\u001b[0;34m,\u001b[0m \u001b[0;34m**\u001b[0m\u001b[0mkwargs\u001b[0m\u001b[0;34m)\u001b[0m\u001b[0;34m\u001b[0m\u001b[0m\n\u001b[0m\u001b[1;32m    501\u001b[0m \u001b[0;34m\u001b[0m\u001b[0m\n\u001b[1;32m    502\u001b[0m         \u001b[0;31m# If any of `initial_state` or `constants` are specified and are Keras\u001b[0m\u001b[0;34m\u001b[0m\u001b[0;34m\u001b[0m\u001b[0m\n",
      "\u001b[0;32m/Users/agxi/anaconda/lib/python3.6/site-packages/keras/engine/base_layer.py\u001b[0m in \u001b[0;36m__call__\u001b[0;34m(self, inputs, **kwargs)\u001b[0m\n\u001b[1;32m    455\u001b[0m             \u001b[0;31m# Actually call the layer,\u001b[0m\u001b[0;34m\u001b[0m\u001b[0;34m\u001b[0m\u001b[0m\n\u001b[1;32m    456\u001b[0m             \u001b[0;31m# collecting output(s), mask(s), and shape(s).\u001b[0m\u001b[0;34m\u001b[0m\u001b[0;34m\u001b[0m\u001b[0m\n\u001b[0;32m--> 457\u001b[0;31m             \u001b[0moutput\u001b[0m \u001b[0;34m=\u001b[0m \u001b[0mself\u001b[0m\u001b[0;34m.\u001b[0m\u001b[0mcall\u001b[0m\u001b[0;34m(\u001b[0m\u001b[0minputs\u001b[0m\u001b[0;34m,\u001b[0m \u001b[0;34m**\u001b[0m\u001b[0mkwargs\u001b[0m\u001b[0;34m)\u001b[0m\u001b[0;34m\u001b[0m\u001b[0m\n\u001b[0m\u001b[1;32m    458\u001b[0m             \u001b[0moutput_mask\u001b[0m \u001b[0;34m=\u001b[0m \u001b[0mself\u001b[0m\u001b[0;34m.\u001b[0m\u001b[0mcompute_mask\u001b[0m\u001b[0;34m(\u001b[0m\u001b[0minputs\u001b[0m\u001b[0;34m,\u001b[0m \u001b[0mprevious_mask\u001b[0m\u001b[0;34m)\u001b[0m\u001b[0;34m\u001b[0m\u001b[0m\n\u001b[1;32m    459\u001b[0m \u001b[0;34m\u001b[0m\u001b[0m\n",
      "\u001b[0;32m/Users/agxi/anaconda/lib/python3.6/site-packages/keras/layers/recurrent.py\u001b[0m in \u001b[0;36mcall\u001b[0;34m(self, inputs, mask, training, initial_state)\u001b[0m\n\u001b[1;32m   2110\u001b[0m                                       \u001b[0mmask\u001b[0m\u001b[0;34m=\u001b[0m\u001b[0mmask\u001b[0m\u001b[0;34m,\u001b[0m\u001b[0;34m\u001b[0m\u001b[0m\n\u001b[1;32m   2111\u001b[0m                                       \u001b[0mtraining\u001b[0m\u001b[0;34m=\u001b[0m\u001b[0mtraining\u001b[0m\u001b[0;34m,\u001b[0m\u001b[0;34m\u001b[0m\u001b[0m\n\u001b[0;32m-> 2112\u001b[0;31m                                       initial_state=initial_state)\n\u001b[0m\u001b[1;32m   2113\u001b[0m \u001b[0;34m\u001b[0m\u001b[0m\n\u001b[1;32m   2114\u001b[0m     \u001b[0;34m@\u001b[0m\u001b[0mproperty\u001b[0m\u001b[0;34m\u001b[0m\u001b[0m\n",
      "\u001b[0;32m/Users/agxi/anaconda/lib/python3.6/site-packages/keras/layers/recurrent.py\u001b[0m in \u001b[0;36mcall\u001b[0;34m(self, inputs, mask, training, initial_state, constants)\u001b[0m\n\u001b[1;32m    607\u001b[0m                                              \u001b[0mmask\u001b[0m\u001b[0;34m=\u001b[0m\u001b[0mmask\u001b[0m\u001b[0;34m,\u001b[0m\u001b[0;34m\u001b[0m\u001b[0m\n\u001b[1;32m    608\u001b[0m                                              \u001b[0munroll\u001b[0m\u001b[0;34m=\u001b[0m\u001b[0mself\u001b[0m\u001b[0;34m.\u001b[0m\u001b[0munroll\u001b[0m\u001b[0;34m,\u001b[0m\u001b[0;34m\u001b[0m\u001b[0m\n\u001b[0;32m--> 609\u001b[0;31m                                              input_length=timesteps)\n\u001b[0m\u001b[1;32m    610\u001b[0m         \u001b[0;32mif\u001b[0m \u001b[0mself\u001b[0m\u001b[0;34m.\u001b[0m\u001b[0mstateful\u001b[0m\u001b[0;34m:\u001b[0m\u001b[0;34m\u001b[0m\u001b[0m\n\u001b[1;32m    611\u001b[0m             \u001b[0mupdates\u001b[0m \u001b[0;34m=\u001b[0m \u001b[0;34m[\u001b[0m\u001b[0;34m]\u001b[0m\u001b[0;34m\u001b[0m\u001b[0m\n",
      "\u001b[0;32m/Users/agxi/anaconda/lib/python3.6/site-packages/keras/backend/tensorflow_backend.py\u001b[0m in \u001b[0;36mrnn\u001b[0;34m(step_function, inputs, initial_states, go_backwards, mask, constants, unroll, input_length)\u001b[0m\n\u001b[1;32m   2960\u001b[0m             \u001b[0mparallel_iterations\u001b[0m\u001b[0;34m=\u001b[0m\u001b[0;36m32\u001b[0m\u001b[0;34m,\u001b[0m\u001b[0;34m\u001b[0m\u001b[0m\n\u001b[1;32m   2961\u001b[0m             \u001b[0mswap_memory\u001b[0m\u001b[0;34m=\u001b[0m\u001b[0;32mTrue\u001b[0m\u001b[0;34m,\u001b[0m\u001b[0;34m\u001b[0m\u001b[0m\n\u001b[0;32m-> 2962\u001b[0;31m             maximum_iterations=input_length)\n\u001b[0m\u001b[1;32m   2963\u001b[0m         \u001b[0mlast_time\u001b[0m \u001b[0;34m=\u001b[0m \u001b[0mfinal_outputs\u001b[0m\u001b[0;34m[\u001b[0m\u001b[0;36m0\u001b[0m\u001b[0;34m]\u001b[0m\u001b[0;34m\u001b[0m\u001b[0m\n\u001b[1;32m   2964\u001b[0m         \u001b[0moutput_ta\u001b[0m \u001b[0;34m=\u001b[0m \u001b[0mfinal_outputs\u001b[0m\u001b[0;34m[\u001b[0m\u001b[0;36m1\u001b[0m\u001b[0;34m]\u001b[0m\u001b[0;34m\u001b[0m\u001b[0m\n",
      "\u001b[0;31mTypeError\u001b[0m: while_loop() got an unexpected keyword argument 'maximum_iterations'"
     ]
    }
   ],
   "source": [
    "import math\n",
    "from keras.models import Sequential\n",
    "from keras.layers import Dense\n",
    "from keras.layers import LSTM\n",
    "\n",
    "lstm_model = Sequential()\n",
    "lstm_model.add(LSTM(10, input_shape=(1, 1)))\n",
    "lstm_model.add(Dense(1))\n",
    "lstm_model.compile(loss='mean_squared_error', optimizer='adam')\n",
    "lstm_model.fit(X_insample, y_insample, epochs=100, batch_size=1, verbose=2)\n",
    "\n",
    "# make predictions\n",
    "y_predict_lstm_insample = lstm_model.predict(X_insample)\n",
    "y_predict_lstm_outsample = lstm_model.predict(X_outsample)\n",
    "\n",
    "rmse_lstm = sklearn.metrics.mean_squared_error(y_insample, y_predict_lstm_insample)\n",
    "print(\"the RMSE with insample is: %s\"%rmse_lstm)\n",
    "print(\"the RMSE with outsample is: %s\"%sklearn.metrics.mean_squared_error(y_outsample, y_predict_lstm_outsample))"
   ]
  },
  {
   "cell_type": "code",
   "execution_count": null,
   "metadata": {
    "collapsed": true
   },
   "outputs": [],
   "source": []
  }
 ],
 "metadata": {
  "kernelspec": {
   "display_name": "Python 3",
   "language": "python",
   "name": "python3"
  },
  "language_info": {
   "codemirror_mode": {
    "name": "ipython",
    "version": 3
   },
   "file_extension": ".py",
   "mimetype": "text/x-python",
   "name": "python",
   "nbconvert_exporter": "python",
   "pygments_lexer": "ipython3",
   "version": "3.6.1"
  }
 },
 "nbformat": 4,
 "nbformat_minor": 2
}
