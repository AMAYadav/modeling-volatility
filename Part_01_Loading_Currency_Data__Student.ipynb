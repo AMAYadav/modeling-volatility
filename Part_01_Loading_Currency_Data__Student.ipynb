{
 "cells": [
  {
   "cell_type": "markdown",
   "metadata": {
    "colab_type": "text",
    "id": "view-in-github"
   },
   "source": [
    "<a href=\"https://colab.research.google.com/github/fintechsteve/modeling-volatility/blob/master/Part_01_Loading_Currency_Data.ipynb\" target=\"_parent\"><img src=\"https://colab.research.google.com/assets/colab-badge.svg\" alt=\"Open In Colab\"/></a>"
   ]
  },
  {
   "cell_type": "markdown",
   "metadata": {
    "colab_type": "text",
    "id": "BtCSSGGdu4Qt"
   },
   "source": [
    "## Part 01: Loading data, visually inspecting and saving locally\n",
    "\n",
    "### In this section you will:\n",
    "\n",
    "\n",
    "*   Read in data from a file on the web.\n",
    "*   Create a pandas dataframe to add rows and columns to the data.\n",
    "*   Use Seaborn to plot the data to check it has loaded correctly.\n",
    "\n",
    "### Before you begin:\n",
    "\n",
    "*   Make sure you have set up an environment in either Google Colab, Anaconda or your preferred Python library.\n",
    "*   Registered for Github and created your own fork\n",
    "*   Link the fork to your colab or anaconda environment to \n",
    "\n",
    "### For help setting up your environment, please check Part 00\n",
    "\n",
    "### Intro\n",
    "As we start exploring currency returns, we are going to load the data from the repository, visually inspect it and save a copy locally for quick reference later.\n",
    "\n",
    "Data is stored in a pickle file containing a dictionary, currency_returns, with three arrays:\n",
    "\n",
    "**currency_returns.data:**  A TxN array of daily currency returns\n",
    "\n",
    "**currency_returns.dates:** A Tx1 array of datetime arrays indicating the date associated with the rows of the return data\n",
    "\n",
    "**currency_returns.names:** A 1xN array of currency codes indicating the currency assoicated with the columns of the return data"
   ]
  },
  {
   "cell_type": "code",
   "execution_count": null,
   "metadata": {
    "colab": {},
    "colab_type": "code",
    "id": "FS6GYKq6T-ih"
   },
   "outputs": [],
   "source": [
    "import cloudpickle as cp\n",
    "import numpy as np, pandas as pd\n",
    "from datetime import datetime, timedelta\n",
    "import pickle\n",
    "import urllib.request, urllib.parse, urllib.error\n",
    "import matplotlib.pyplot as plt\n",
    "import seaborn as sns\n",
    "%matplotlib inline"
   ]
  },
  {
   "cell_type": "code",
   "execution_count": null,
   "metadata": {
    "cellView": "both",
    "colab": {
     "base_uri": "https://localhost:8080/",
     "height": 357
    },
    "colab_type": "code",
    "id": "cFySsoztT-i9",
    "outputId": "d47c1d42-0d44-4df0-f428-d9e6d4251590"
   },
   "outputs": [],
   "source": [
    "currency_returns = cp.load(urllib.request.urlopen('https://github.com/fintechsteve/data/blob/master/currency_returns.pkl?raw=true'))\n",
    "currency_returns"
   ]
  },
  {
   "cell_type": "code",
   "execution_count": null,
   "metadata": {
    "colab": {
     "base_uri": "https://localhost:8080/",
     "height": 359
    },
    "colab_type": "code",
    "id": "cyFwsRh7T-jC",
    "outputId": "1dd6a598-b8a1-4579-bb30-6bf9f67b2298",
    "scrolled": true
   },
   "outputs": [],
   "source": [
    "returns = pd.DataFrame(currency_returns['data'], columns=currency_returns['names'], index=currency_returns['dates'])\n",
    "returns.head(10)"
   ]
  },
  {
   "cell_type": "markdown",
   "metadata": {
    "collapsed": true
   },
   "source": [
    "### Save file locally to use in following sections of this tutorial"
   ]
  },
  {
   "cell_type": "code",
   "execution_count": null,
   "metadata": {
    "colab": {},
    "colab_type": "code",
    "id": "N7HLQuLI3yTa"
   },
   "outputs": [],
   "source": [
    "returns.to_pickle('./returns.pkl')"
   ]
  },
  {
   "cell_type": "code",
   "execution_count": null,
   "metadata": {},
   "outputs": [],
   "source": []
  }
 ],
 "metadata": {
  "colab": {
   "include_colab_link": true,
   "name": "Part_01_Loading_Currency_Data.ipynb",
   "provenance": [],
   "version": "0.3.2"
  },
  "kernelspec": {
   "display_name": "Python 3",
   "language": "python",
   "name": "python3"
  },
  "language_info": {
   "codemirror_mode": {
    "name": "ipython",
    "version": 3
   },
   "file_extension": ".py",
   "mimetype": "text/x-python",
   "name": "python",
   "nbconvert_exporter": "python",
   "pygments_lexer": "ipython3",
   "version": "3.7.3"
  }
 },
 "nbformat": 4,
 "nbformat_minor": 1
}
