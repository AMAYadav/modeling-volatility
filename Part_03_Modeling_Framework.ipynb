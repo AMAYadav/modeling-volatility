{
  "nbformat": 4,
  "nbformat_minor": 0,
  "metadata": {
    "colab": {
      "name": "Part_03_Modeling_Framework.ipynb",
      "version": "0.3.2",
      "provenance": [],
      "collapsed_sections": [],
      "include_colab_link": true
    },
    "kernelspec": {
      "display_name": "Python 3",
      "language": "python",
      "name": "python3"
    }
  },
  "cells": [
    {
      "cell_type": "markdown",
      "metadata": {
        "id": "view-in-github",
        "colab_type": "text"
      },
      "source": [
        "<a href=\"https://colab.research.google.com/github/fintechsteve/modeling-volatility/blob/master/Part_03_Modeling_Framework.ipynb\" target=\"_parent\"><img src=\"https://colab.research.google.com/assets/colab-badge.svg\" alt=\"Open In Colab\"/></a>"
      ]
    },
    {
      "metadata": {
        "id": "BtCSSGGdu4Qt",
        "colab_type": "text"
      },
      "cell_type": "markdown",
      "source": [
        "## Part 03: Building a Modeling Framework\n",
        "\n",
        "### In this section you will:\n",
        "\n",
        "\n",
        "*   Understand the importance of creating holdback samples\n",
        "*   Explore some of the challenges of setting up a performance metric for data science models in a backtesting framework.\n",
        "*   Create a generalized function that can be used to provide in- and out-of-sample performance metrics\n"
      ]
    },
    {
      "metadata": {
        "id": "ETMoGdnNrtjj",
        "colab_type": "text"
      },
      "cell_type": "markdown",
      "source": [
        "## Import all necessary libraries\n",
        "\n",
        "For this piece, we will need the following packages to be available to our environment:\n",
        "\n",
        "*   Numpy and Pandas (For data manipulation)\n",
        "*   DateTime (For basic date manipulation)\n",
        "*   Matplotlib (For timeseries vizualization)\n",
        "\n",
        "If the packages are not available, install the with \"pip install X\""
      ]
    },
    {
      "metadata": {
        "id": "FS6GYKq6T-ih",
        "colab_type": "code",
        "colab": {}
      },
      "cell_type": "code",
      "source": [
        "import numpy as np, pandas as pd\n",
        "from datetime import datetime, timedelta\n",
        "import pickle\n",
        "import matplotlib.pyplot as plt\n",
        "%matplotlib inline"
      ],
      "execution_count": 0,
      "outputs": []
    },
    {
      "metadata": {
        "id": "wBoMCDKYsdli",
        "colab_type": "text"
      },
      "cell_type": "markdown",
      "source": [
        "### Read in data from previously stored returns.pkl file\n",
        "\n"
      ]
    },
    {
      "metadata": {
        "id": "cFySsoztT-i9",
        "colab_type": "code",
        "cellView": "both",
        "outputId": "094f5627-887d-485e-ca50-31e0951c81a7",
        "colab": {
          "base_uri": "https://localhost:8080/",
          "height": 359
        }
      },
      "cell_type": "code",
      "source": [
        "with open('./returns.pkl', 'rb') as f:\n",
        "    returns = pickle.load(f)\n",
        "    f.close()\n",
        "returns.head(10)"
      ],
      "execution_count": 2,
      "outputs": [
        {
          "output_type": "execute_result",
          "data": {
            "text/html": [
              "<div>\n",
              "<style scoped>\n",
              "    .dataframe tbody tr th:only-of-type {\n",
              "        vertical-align: middle;\n",
              "    }\n",
              "\n",
              "    .dataframe tbody tr th {\n",
              "        vertical-align: top;\n",
              "    }\n",
              "\n",
              "    .dataframe thead th {\n",
              "        text-align: right;\n",
              "    }\n",
              "</style>\n",
              "<table border=\"1\" class=\"dataframe\">\n",
              "  <thead>\n",
              "    <tr style=\"text-align: right;\">\n",
              "      <th></th>\n",
              "      <th>AUD</th>\n",
              "      <th>CAD</th>\n",
              "      <th>CHF</th>\n",
              "      <th>EUR</th>\n",
              "      <th>GBP</th>\n",
              "      <th>JPY</th>\n",
              "      <th>NOK</th>\n",
              "      <th>NZD</th>\n",
              "      <th>SEK</th>\n",
              "    </tr>\n",
              "  </thead>\n",
              "  <tbody>\n",
              "    <tr>\n",
              "      <th>1975-01-02</th>\n",
              "      <td>-0.002129</td>\n",
              "      <td>-1.712061e-03</td>\n",
              "      <td>-0.009915</td>\n",
              "      <td>-0.003544</td>\n",
              "      <td>-0.005745</td>\n",
              "      <td>-0.001502</td>\n",
              "      <td>-0.003299</td>\n",
              "      <td>0.000536</td>\n",
              "      <td>-0.004704</td>\n",
              "    </tr>\n",
              "    <tr>\n",
              "      <th>1975-01-03</th>\n",
              "      <td>-0.000947</td>\n",
              "      <td>1.517425e-05</td>\n",
              "      <td>0.008500</td>\n",
              "      <td>0.007886</td>\n",
              "      <td>0.003424</td>\n",
              "      <td>0.002711</td>\n",
              "      <td>0.008801</td>\n",
              "      <td>-0.001924</td>\n",
              "      <td>0.007113</td>\n",
              "    </tr>\n",
              "    <tr>\n",
              "      <th>1975-01-06</th>\n",
              "      <td>-0.001158</td>\n",
              "      <td>6.677374e-04</td>\n",
              "      <td>-0.001023</td>\n",
              "      <td>0.008174</td>\n",
              "      <td>0.002346</td>\n",
              "      <td>-0.004728</td>\n",
              "      <td>0.002759</td>\n",
              "      <td>-0.001129</td>\n",
              "      <td>0.009237</td>\n",
              "    </tr>\n",
              "    <tr>\n",
              "      <th>1975-01-07</th>\n",
              "      <td>0.004193</td>\n",
              "      <td>-1.726304e-03</td>\n",
              "      <td>0.001702</td>\n",
              "      <td>0.002150</td>\n",
              "      <td>0.001702</td>\n",
              "      <td>0.002410</td>\n",
              "      <td>0.005434</td>\n",
              "      <td>0.004567</td>\n",
              "      <td>-0.001466</td>\n",
              "    </tr>\n",
              "    <tr>\n",
              "      <th>1975-01-08</th>\n",
              "      <td>-0.001489</td>\n",
              "      <td>-2.000930e-04</td>\n",
              "      <td>-0.015237</td>\n",
              "      <td>-0.008650</td>\n",
              "      <td>-0.001997</td>\n",
              "      <td>0.000122</td>\n",
              "      <td>-0.006315</td>\n",
              "      <td>-0.000034</td>\n",
              "      <td>-0.006188</td>\n",
              "    </tr>\n",
              "    <tr>\n",
              "      <th>1975-01-09</th>\n",
              "      <td>-0.000324</td>\n",
              "      <td>-3.120108e-03</td>\n",
              "      <td>0.000298</td>\n",
              "      <td>0.004764</td>\n",
              "      <td>0.000298</td>\n",
              "      <td>-0.000409</td>\n",
              "      <td>-0.000114</td>\n",
              "      <td>-0.001217</td>\n",
              "      <td>-0.000751</td>\n",
              "    </tr>\n",
              "    <tr>\n",
              "      <th>1975-01-10</th>\n",
              "      <td>0.000077</td>\n",
              "      <td>-1.283429e-03</td>\n",
              "      <td>0.001489</td>\n",
              "      <td>0.001489</td>\n",
              "      <td>0.001489</td>\n",
              "      <td>0.000075</td>\n",
              "      <td>0.006256</td>\n",
              "      <td>0.000311</td>\n",
              "      <td>0.001489</td>\n",
              "    </tr>\n",
              "    <tr>\n",
              "      <th>1975-01-13</th>\n",
              "      <td>0.000579</td>\n",
              "      <td>-3.152212e-07</td>\n",
              "      <td>0.001789</td>\n",
              "      <td>-0.001210</td>\n",
              "      <td>0.000127</td>\n",
              "      <td>-0.000578</td>\n",
              "      <td>0.000542</td>\n",
              "      <td>0.000969</td>\n",
              "      <td>-0.002488</td>\n",
              "    </tr>\n",
              "    <tr>\n",
              "      <th>1975-01-14</th>\n",
              "      <td>-0.000699</td>\n",
              "      <td>7.303998e-04</td>\n",
              "      <td>-0.005132</td>\n",
              "      <td>-0.006698</td>\n",
              "      <td>-0.001827</td>\n",
              "      <td>0.000291</td>\n",
              "      <td>-0.006558</td>\n",
              "      <td>-0.000762</td>\n",
              "      <td>-0.007795</td>\n",
              "    </tr>\n",
              "    <tr>\n",
              "      <th>1975-01-15</th>\n",
              "      <td>-0.000934</td>\n",
              "      <td>1.198868e-03</td>\n",
              "      <td>-0.002078</td>\n",
              "      <td>0.001797</td>\n",
              "      <td>-0.000426</td>\n",
              "      <td>-0.002542</td>\n",
              "      <td>-0.002276</td>\n",
              "      <td>-0.000594</td>\n",
              "      <td>0.000094</td>\n",
              "    </tr>\n",
              "  </tbody>\n",
              "</table>\n",
              "</div>"
            ],
            "text/plain": [
              "                 AUD           CAD       CHF       EUR       GBP       JPY  \\\n",
              "1975-01-02 -0.002129 -1.712061e-03 -0.009915 -0.003544 -0.005745 -0.001502   \n",
              "1975-01-03 -0.000947  1.517425e-05  0.008500  0.007886  0.003424  0.002711   \n",
              "1975-01-06 -0.001158  6.677374e-04 -0.001023  0.008174  0.002346 -0.004728   \n",
              "1975-01-07  0.004193 -1.726304e-03  0.001702  0.002150  0.001702  0.002410   \n",
              "1975-01-08 -0.001489 -2.000930e-04 -0.015237 -0.008650 -0.001997  0.000122   \n",
              "1975-01-09 -0.000324 -3.120108e-03  0.000298  0.004764  0.000298 -0.000409   \n",
              "1975-01-10  0.000077 -1.283429e-03  0.001489  0.001489  0.001489  0.000075   \n",
              "1975-01-13  0.000579 -3.152212e-07  0.001789 -0.001210  0.000127 -0.000578   \n",
              "1975-01-14 -0.000699  7.303998e-04 -0.005132 -0.006698 -0.001827  0.000291   \n",
              "1975-01-15 -0.000934  1.198868e-03 -0.002078  0.001797 -0.000426 -0.002542   \n",
              "\n",
              "                 NOK       NZD       SEK  \n",
              "1975-01-02 -0.003299  0.000536 -0.004704  \n",
              "1975-01-03  0.008801 -0.001924  0.007113  \n",
              "1975-01-06  0.002759 -0.001129  0.009237  \n",
              "1975-01-07  0.005434  0.004567 -0.001466  \n",
              "1975-01-08 -0.006315 -0.000034 -0.006188  \n",
              "1975-01-09 -0.000114 -0.001217 -0.000751  \n",
              "1975-01-10  0.006256  0.000311  0.001489  \n",
              "1975-01-13  0.000542  0.000969 -0.002488  \n",
              "1975-01-14 -0.006558 -0.000762 -0.007795  \n",
              "1975-01-15 -0.002276 -0.000594  0.000094  "
            ]
          },
          "metadata": {
            "tags": []
          },
          "execution_count": 2
        }
      ]
    },
    {
      "metadata": {
        "id": "WPfZk0NLtIaU",
        "colab_type": "text"
      },
      "cell_type": "markdown",
      "source": [
        "### The importance of creating a holdback sample\n",
        "\n",
        "When conducting data science around model building, it is important to understand the role that time plays in your modeling.\n",
        "\n",
        "All estimation must be done using historical data. Inferences that arise from \"forward looking\" data can bias our understanding and the model decision making process, so it is important that we exclude them from calculations.\n",
        "\n",
        "Unfortunately, we are not always clear about the ways in which \"forward looking\" can enter our modeling process and some disciplines are notoriously lax in their approach. The following \"forward looking\" data should be carefully controlled:\n",
        "\n",
        "1.   Back-casting signals and model weights over the period used for estimation (in-sample). While the performance in this sample can be a useful gut check, it is dangerous to place too much weight on these insights.\n",
        "\n",
        "2.   Data alignment and computational lag. If you run a model using data that goes through 5pm ET on a particular day, you probably can't implement a signal based on this until close of business the following day. If the data takes longer to reach your system (e.g. arrives with a 1 day processing lag) your effective lag may be longer. Performance between the date the model data is labeled and the earliest date a trade could be implemented should not be included in out-of-sample performance.\n",
        "\n",
        "3.   Data used for macro-parameter or hyper-parameter settings. This is where most financial data scientists get themselves into trouble. If you change the parameters for an estimation window or maximum number of lags in a model using some kind of objective critereon (be it error related, e.g. RMSE, AIC or performance related, e.g. mean return, sharpe ratio, information ratio), you cannot truly count the performance over the period used to make this decision as in-sample.\n",
        "\n",
        "   This becomes particularly problematic if you use the entire sample to reparameterize your model (e.g. because you found that the original parameterization did not work).\n",
        "\n"
      ]
    },
    {
      "metadata": {
        "id": "5Wdhf13bTZHw",
        "colab_type": "text"
      },
      "cell_type": "markdown",
      "source": [
        "## Best practice for backtesting\n",
        "\n",
        "Proper discipline around backtesting is critical and difficult to do right. At a minimum you should:\n",
        "\n",
        "* Create a holdback period and only look at performance during this period once you are confident you have finished changing parameters on your model.\n",
        "* Determine the method of evaluating your model and what you will do if your out-of-sample performance fails to meet the in-sample performance.\n",
        "* Parameterize your model using a subset of the non holdback period of data. Ideally use cross-validation methods to minimize overfitting.\n",
        "\n",
        "Ideally you should also test your model on different out of sample periods, subsamples of securities, etc to determine the robustness of your solution. However, there is an art to doing this in such a way that your testing does not influence or induce further model tweaking."
      ]
    },
    {
      "metadata": {
        "id": "TrOHQab8WKtX",
        "colab_type": "text"
      },
      "cell_type": "markdown",
      "source": [
        "## Creating a generic model and testing framework\n",
        "\n",
        "To help us understand our testing framework, lets create a generic model and a separate function that allows us to evaluate the performance of a model.\n",
        "\n",
        "We can think of a model as a function that takes in a set of input data, a set of parameters and produces a set of model weights.\n",
        "\n",
        "In the case of this example, the model weights represent be the fraction of exposure we maintain to the DXY basket (vs simply remaining hedged in our base USD currency).\n",
        "\n",
        "Input data are the currency returns matrix. And finally parameters include:\n",
        "\n",
        "1) Model parameters such as lookback windows for averaging, lag structure for timeseries estimators (such as maximum number of lags on AR and MA processes).\n",
        "2) Hyperparameters, such as the window over which parameter estimation vs cross-validation is done, parameters for turning signals into weights, etc.\n",
        "3) Modeling framework parameters, such as the extent of the holdback parameter and any framework driven constraints on the output (e.g. rescaling out of sample weights to be forced to be uniformly distributed ex post).\n"
      ]
    },
    {
      "metadata": {
        "id": "dgpMIQmXAivD",
        "colab_type": "text"
      },
      "cell_type": "markdown",
      "source": [
        "## A random model with a fixed seed\n",
        "\n",
        "To test our framework, let's create a model that generates random weights regardless of the input data and parameters.\n",
        "\n",
        "We will make the requirement that weights in-sample are uniformly distributed over [0,1] from a modeling framework perspective. However, it is easier (and better) to trust the model to do this, given our parameters."
      ]
    },
    {
      "metadata": {
        "id": "gmEZQCKjGAvi",
        "colab_type": "code",
        "outputId": "25586b78-1673-4882-aed5-017efcc9ed26",
        "colab": {
          "base_uri": "https://localhost:8080/",
          "height": 286
        }
      },
      "cell_type": "code",
      "source": [
        "rets = returns\n",
        "framework_params = {'insample_start_date': '1975-01-02',\n",
        "                    'insample_end_date': '2000-01-01'}\n",
        "model_params = {'seed': 1}\n",
        "np.random.seed(seed=model_params['seed'])\n",
        "randwts = pd.DataFrame(np.random.rand(rets['AUD'].count(),1), index=rets.index)\n",
        "randwts_insample = randwts[framework_params['insample_start_date']:framework_params['insample_end_date']]\n",
        "randwts_insample = randwts_insample.rank()/randwts_insample.count()\n",
        "randwts[framework_params['insample_start_date']:framework_params['insample_end_date']] = randwts_insample\n",
        "randwts.plot()"
      ],
      "execution_count": 3,
      "outputs": [
        {
          "output_type": "execute_result",
          "data": {
            "text/plain": [
              "<matplotlib.axes._subplots.AxesSubplot at 0x7fd5ba703d68>"
            ]
          },
          "metadata": {
            "tags": []
          },
          "execution_count": 3
        },
        {
          "output_type": "display_data",
          "data": {
            "image/png": "[encoded data removed]",
            "text/plain": [
              "<Figure size 432x288 with 1 Axes>"
            ]
          },
          "metadata": {
            "tags": []
          }
        }
      ]
    },
    {
      "metadata": {
        "id": "qinK625FmwO3",
        "colab_type": "code",
        "colab": {}
      },
      "cell_type": "code",
      "source": [
        "def random_model(rets, model_params, framework_params):\n",
        "  np.random.seed(seed=model_params['seed'])\n",
        "  randwts = pd.DataFrame(np.random.rand(rets['AUD'].count(),1), index=rets.index)\n",
        "  randwts_insample = randwts[framework_params['insample_start_date']:framework_params['insample_end_date']]\n",
        "  randwts_insample = randwts_insample.rank()/randwts_insample.count()\n",
        "  randwts[framework_params['insample_start_date']:framework_params['insample_end_date']] = randwts_insample\n",
        "  return randwts\n"
      ],
      "execution_count": 0,
      "outputs": []
    },
    {
      "metadata": {
        "id": "b7NGrGf0AhoE",
        "colab_type": "code",
        "outputId": "aa0fa43e-2dbf-4203-8293-957f4573b5ce",
        "colab": {
          "base_uri": "https://localhost:8080/",
          "height": 286
        }
      },
      "cell_type": "code",
      "source": [
        "framework_params = {'insample_start_date': '1975-01-02',\n",
        "                    'insample_end_date': '2000-01-01'}\n",
        "model_params = {'seed': 1}\n",
        "randwts = random_model(returns, model_params, framework_params)\n",
        "randwts.plot()"
      ],
      "execution_count": 5,
      "outputs": [
        {
          "output_type": "execute_result",
          "data": {
            "text/plain": [
              "<matplotlib.axes._subplots.AxesSubplot at 0x7fd5b7298588>"
            ]
          },
          "metadata": {
            "tags": []
          },
          "execution_count": 5
        },
        {
          "output_type": "display_data",
          "data": {
            "image/png": "[encoded data removed]",
            "text/plain": [
              "<Figure size 432x288 with 1 Axes>"
            ]
          },
          "metadata": {
            "tags": []
          }
        }
      ]
    },
    {
      "metadata": {
        "id": "6rL7V05_kAzg",
        "colab_type": "text"
      },
      "cell_type": "markdown",
      "source": [
        "### Create an evaluation function that calculates the relationship between weight and subsequent DXY index volatility\n",
        "\n",
        "The measure we are interested in is the subsequent volatility of the dxy index. For the sake of argument, we will simply use squared returns to proxy volatility (Generally currencies shouldn't have a trend if implemented using forwards to avoid interest rate differentials).\n",
        "\n",
        "Start by calculating the dxy index again:"
      ]
    },
    {
      "metadata": {
        "id": "ZYRisZw66GDy",
        "colab_type": "code",
        "outputId": "b536af5d-2ab3-4592-bc1b-a236f5a4c2ef",
        "colab": {
          "base_uri": "https://localhost:8080/",
          "height": 359
        }
      },
      "cell_type": "code",
      "source": [
        "dxy_weight = [0, 0.119, 0.036, 0, 0.136, 0.576, 0, 0, 0.091]\n",
        "dxy = pd.DataFrame(returns.dot(dxy_weight))\n",
        "dxy.head(10)\n"
      ],
      "execution_count": 6,
      "outputs": [
        {
          "output_type": "execute_result",
          "data": {
            "text/html": [
              "<div>\n",
              "<style scoped>\n",
              "    .dataframe tbody tr th:only-of-type {\n",
              "        vertical-align: middle;\n",
              "    }\n",
              "\n",
              "    .dataframe tbody tr th {\n",
              "        vertical-align: top;\n",
              "    }\n",
              "\n",
              "    .dataframe thead th {\n",
              "        text-align: right;\n",
              "    }\n",
              "</style>\n",
              "<table border=\"1\" class=\"dataframe\">\n",
              "  <thead>\n",
              "    <tr style=\"text-align: right;\">\n",
              "      <th></th>\n",
              "      <th>0</th>\n",
              "    </tr>\n",
              "  </thead>\n",
              "  <tbody>\n",
              "    <tr>\n",
              "      <th>1975-01-02</th>\n",
              "      <td>-0.002635</td>\n",
              "    </tr>\n",
              "    <tr>\n",
              "      <th>1975-01-03</th>\n",
              "      <td>0.002982</td>\n",
              "    </tr>\n",
              "    <tr>\n",
              "      <th>1975-01-06</th>\n",
              "      <td>-0.001521</td>\n",
              "    </tr>\n",
              "    <tr>\n",
              "      <th>1975-01-07</th>\n",
              "      <td>0.001342</td>\n",
              "    </tr>\n",
              "    <tr>\n",
              "      <th>1975-01-08</th>\n",
              "      <td>-0.001337</td>\n",
              "    </tr>\n",
              "    <tr>\n",
              "      <th>1975-01-09</th>\n",
              "      <td>-0.000624</td>\n",
              "    </tr>\n",
              "    <tr>\n",
              "      <th>1975-01-10</th>\n",
              "      <td>0.000282</td>\n",
              "    </tr>\n",
              "    <tr>\n",
              "      <th>1975-01-13</th>\n",
              "      <td>-0.000478</td>\n",
              "    </tr>\n",
              "    <tr>\n",
              "      <th>1975-01-14</th>\n",
              "      <td>-0.000888</td>\n",
              "    </tr>\n",
              "    <tr>\n",
              "      <th>1975-01-15</th>\n",
              "      <td>-0.001446</td>\n",
              "    </tr>\n",
              "  </tbody>\n",
              "</table>\n",
              "</div>"
            ],
            "text/plain": [
              "                   0\n",
              "1975-01-02 -0.002635\n",
              "1975-01-03  0.002982\n",
              "1975-01-06 -0.001521\n",
              "1975-01-07  0.001342\n",
              "1975-01-08 -0.001337\n",
              "1975-01-09 -0.000624\n",
              "1975-01-10  0.000282\n",
              "1975-01-13 -0.000478\n",
              "1975-01-14 -0.000888\n",
              "1975-01-15 -0.001446"
            ]
          },
          "metadata": {
            "tags": []
          },
          "execution_count": 6
        }
      ]
    },
    {
      "metadata": {
        "id": "DdLsnvvJKLkF",
        "colab_type": "text"
      },
      "cell_type": "markdown",
      "source": [
        "Now create forward looking squared returns. Note that we need to decide what horizon we measure volatility over. We assume here that it is an end of day decision to hedge volatility for the next day, so a 1 day forward lookahead rule is sufficient."
      ]
    },
    {
      "metadata": {
        "id": "al1TiJa-msmW",
        "colab_type": "code",
        "outputId": "8e51931f-9d15-4473-de83-8e2d962d2eae",
        "colab": {
          "base_uri": "https://localhost:8080/",
          "height": 359
        }
      },
      "cell_type": "code",
      "source": [
        "dxy_forward = dxy.shift(-1)\n",
        "dxy_forward_sq = dxy_forward**2\n",
        "dxy_forward_sq.head(10)\n"
      ],
      "execution_count": 7,
      "outputs": [
        {
          "output_type": "execute_result",
          "data": {
            "text/html": [
              "<div>\n",
              "<style scoped>\n",
              "    .dataframe tbody tr th:only-of-type {\n",
              "        vertical-align: middle;\n",
              "    }\n",
              "\n",
              "    .dataframe tbody tr th {\n",
              "        vertical-align: top;\n",
              "    }\n",
              "\n",
              "    .dataframe thead th {\n",
              "        text-align: right;\n",
              "    }\n",
              "</style>\n",
              "<table border=\"1\" class=\"dataframe\">\n",
              "  <thead>\n",
              "    <tr style=\"text-align: right;\">\n",
              "      <th></th>\n",
              "      <th>0</th>\n",
              "    </tr>\n",
              "  </thead>\n",
              "  <tbody>\n",
              "    <tr>\n",
              "      <th>1975-01-02</th>\n",
              "      <td>8.893707e-06</td>\n",
              "    </tr>\n",
              "    <tr>\n",
              "      <th>1975-01-03</th>\n",
              "      <td>2.313472e-06</td>\n",
              "    </tr>\n",
              "    <tr>\n",
              "      <th>1975-01-06</th>\n",
              "      <td>1.800401e-06</td>\n",
              "    </tr>\n",
              "    <tr>\n",
              "      <th>1975-01-07</th>\n",
              "      <td>1.786578e-06</td>\n",
              "    </tr>\n",
              "    <tr>\n",
              "      <th>1975-01-08</th>\n",
              "      <td>3.895592e-07</td>\n",
              "    </tr>\n",
              "    <tr>\n",
              "      <th>1975-01-09</th>\n",
              "      <td>7.959364e-08</td>\n",
              "    </tr>\n",
              "    <tr>\n",
              "      <th>1975-01-10</th>\n",
              "      <td>2.284055e-07</td>\n",
              "    </tr>\n",
              "    <tr>\n",
              "      <th>1975-01-13</th>\n",
              "      <td>7.884330e-07</td>\n",
              "    </tr>\n",
              "    <tr>\n",
              "      <th>1975-01-14</th>\n",
              "      <td>2.090064e-06</td>\n",
              "    </tr>\n",
              "    <tr>\n",
              "      <th>1975-01-15</th>\n",
              "      <td>5.130123e-06</td>\n",
              "    </tr>\n",
              "  </tbody>\n",
              "</table>\n",
              "</div>"
            ],
            "text/plain": [
              "                       0\n",
              "1975-01-02  8.893707e-06\n",
              "1975-01-03  2.313472e-06\n",
              "1975-01-06  1.800401e-06\n",
              "1975-01-07  1.786578e-06\n",
              "1975-01-08  3.895592e-07\n",
              "1975-01-09  7.959364e-08\n",
              "1975-01-10  2.284055e-07\n",
              "1975-01-13  7.884330e-07\n",
              "1975-01-14  2.090064e-06\n",
              "1975-01-15  5.130123e-06"
            ]
          },
          "metadata": {
            "tags": []
          },
          "execution_count": 7
        }
      ]
    },
    {
      "metadata": {
        "id": "Og4Ir3L-Kvii",
        "colab_type": "text"
      },
      "cell_type": "markdown",
      "source": [
        "We need a function that measures the volatility of a strategy by multiplying our weights by the forward-looking squared returns"
      ]
    },
    {
      "metadata": {
        "id": "lX2SH9yqI1e7",
        "colab_type": "code",
        "outputId": "32cac46a-18ef-405c-9499-86eeff580bd3",
        "colab": {
          "base_uri": "https://localhost:8080/",
          "height": 286
        }
      },
      "cell_type": "code",
      "source": [
        "model_vol = randwts*dxy_forward_sq\n",
        "model_vol.plot()\n"
      ],
      "execution_count": 8,
      "outputs": [
        {
          "output_type": "execute_result",
          "data": {
            "text/plain": [
              "<matplotlib.axes._subplots.AxesSubplot at 0x7fd5b7298d30>"
            ]
          },
          "metadata": {
            "tags": []
          },
          "execution_count": 8
        },
        {
          "output_type": "display_data",
          "data": {
            "image/png": "[encoded data removed]",
            "text/plain": [
              "<Figure size 432x288 with 1 Axes>"
            ]
          },
          "metadata": {
            "tags": []
          }
        }
      ]
    },
    {
      "metadata": {
        "id": "nrZTZ568uGXu",
        "colab_type": "text"
      },
      "cell_type": "markdown",
      "source": [
        "The problem with this is that a model biased towards zero has a lower volatility. We need a measure that takes into account the overall bias of the model and only gives credit for the ability to selectively identify periods of higher volatility. \n",
        "\n",
        "Note: Depending on what you are trying to measure, there is a choice to either demean over:\n",
        "a) just the in sample period.\n",
        "b) the whole sample.\n",
        "c) the in and out of sample periods separately.\n",
        "\n",
        "Method (b) risks introducing forward looking biases. Method (c) is appropriate if you believe that the performance out of sample will be systematically biased vs in sample. For the example below we use method (a)\n"
      ]
    },
    {
      "metadata": {
        "id": "lCW0NX0odY_R",
        "colab_type": "code",
        "colab": {}
      },
      "cell_type": "code",
      "source": [
        "def model_perf(model_wts, dxyfsq, framework_params):\n",
        "  model_vol = (model_wts)*dxyfsq\n",
        "  avgmodel_vol = np.mean(model_wts.loc[framework_params['insample_start_date']:framework_params['insample_end_date']])*dxyfsq\n",
        "  is_vol = np.sqrt(np.mean(model_vol.loc[framework_params['insample_start_date']:framework_params['insample_end_date']]))[0]\n",
        "  out_vol = np.sqrt(np.mean(model_vol.loc[framework_params['outofsample_start_date']:framework_params['outofsample_end_date']]))[0]\n",
        "\n",
        "  is_avg_vol = np.sqrt(np.mean(avgmodel_vol.loc[framework_params['insample_start_date']:framework_params['insample_end_date']]))[0]\n",
        "  out_avg_vol = np.sqrt(np.mean(avgmodel_vol.loc[framework_params['outofsample_start_date']:framework_params['outofsample_end_date']]))[0]\n",
        "\n",
        "  model_perf_stats = {'insample vol': is_vol, 'insample excess vol': is_vol - is_avg_vol,\n",
        "                      'out-of-sample vol': out_vol, 'out-of-sample excess vol': out_vol - out_avg_vol}\n",
        "  return model_perf_stats"
      ],
      "execution_count": 0,
      "outputs": []
    },
    {
      "metadata": {
        "id": "zqf9ivy6XYe4",
        "colab_type": "code",
        "outputId": "6ac14bdb-d9d3-4843-e567-5d244dd1b326",
        "colab": {
          "base_uri": "https://localhost:8080/",
          "height": 85
        }
      },
      "cell_type": "code",
      "source": [
        "rets = returns\n",
        "framework_params = {'insample_start_date': '1975-01-02',\n",
        "                    'insample_end_date': '2000-01-01',\n",
        "                    'outofsample_start_date': '2000-01-02',\n",
        "                    'outofsample_end_date': '2017-12-26'}\n",
        "model_perf_stats = model_perf(randwts, dxy_forward_sq, framework_params)\n",
        "model_perf_stats"
      ],
      "execution_count": 14,
      "outputs": [
        {
          "output_type": "execute_result",
          "data": {
            "text/plain": [
              "{'insample excess vol': 2.57785452127666e-05,\n",
              " 'insample vol': 0.00343030040977982,\n",
              " 'out-of-sample excess vol': -5.209308711301777e-05,\n",
              " 'out-of-sample vol': 0.0031106245804846506}"
            ]
          },
          "metadata": {
            "tags": []
          },
          "execution_count": 14
        }
      ]
    },
    {
      "metadata": {
        "id": "N2lwju84oWkG",
        "colab_type": "text"
      },
      "cell_type": "markdown",
      "source": [
        "### Exploring the properties of our performance statistics with 1,000 random models\n",
        "\n",
        "To better understand the statistics we have created, let's iterate over 1,000 random seeds and store the model performance statistics for each iteration."
      ]
    },
    {
      "metadata": {
        "id": "Zcaj07aCaX6o",
        "colab_type": "code",
        "colab": {}
      },
      "cell_type": "code",
      "source": [
        "framework_params = {'insample_start_date': '1975-01-02',\n",
        "                    'insample_end_date': '2000-01-01',\n",
        "                    'outofsample_start_date': '2000-01-02',\n",
        "                    'outofsample_end_date': '2017-12-26'}\n",
        "\n",
        "def random_models_by_seed(returns, framework_params, seed):\n",
        "  model_params = {'seed': seed}\n",
        "  randwts = random_model(returns, model_params, framework_params)\n",
        "  return model_perf(randwts, dxy_forward_sq, framework_params)\n",
        "\n",
        "rand_perf = pd.DataFrame(list(map(lambda x:random_models_by_seed(returns, framework_params, x), range(0,1000))))"
      ],
      "execution_count": 0,
      "outputs": []
    },
    {
      "metadata": {
        "id": "5bCh-IdiYaAT",
        "colab_type": "text"
      },
      "cell_type": "markdown",
      "source": [
        "We can plot the distribution of the performance statistics. We expect that the excess volatility should be centered around zeros - which appears to be the case.\n",
        "\n",
        "Unsurprisingly, there is no evidence to suggest that a random model is able to predict volatility in or out of sample.\n",
        "\n",
        "However, performing tests like this are important. They help us confirm that parts of our modeling framework are working. Given the ease of introducing coding errors, it is **vital** to do tests of the code with noise to ensure that there is no leakage of information or misinterpretation of the results from a more complex model."
      ]
    },
    {
      "metadata": {
        "id": "dMFhaNzNhe5l",
        "colab_type": "code",
        "colab": {
          "base_uri": "https://localhost:8080/",
          "height": 366
        },
        "outputId": "04200d93-863d-4cad-f09d-0d86e6573b51"
      },
      "cell_type": "code",
      "source": [
        "rand_perf.hist(bins=50)"
      ],
      "execution_count": 28,
      "outputs": [
        {
          "output_type": "execute_result",
          "data": {
            "text/plain": [
              "array([[<matplotlib.axes._subplots.AxesSubplot object at 0x7fd5b692b630>,\n",
              "        <matplotlib.axes._subplots.AxesSubplot object at 0x7fd5b68801d0>],\n",
              "       [<matplotlib.axes._subplots.AxesSubplot object at 0x7fd5b68a6710>,\n",
              "        <matplotlib.axes._subplots.AxesSubplot object at 0x7fd5b684dc88>]],\n",
              "      dtype=object)"
            ]
          },
          "metadata": {
            "tags": []
          },
          "execution_count": 28
        },
        {
          "output_type": "display_data",
          "data": {
            "image/png": "[encoded data removed]",
            "text/plain": [
              "<Figure size 432x288 with 4 Axes>"
            ]
          },
          "metadata": {
            "tags": []
          }
        }
      ]
    },
    {
      "metadata": {
        "id": "zMZuEE6YVNR8",
        "colab_type": "code",
        "colab": {
          "base_uri": "https://localhost:8080/",
          "height": 297
        },
        "outputId": "e668a559-91a4-4c8b-ee2a-a94e30f5cb47"
      },
      "cell_type": "code",
      "source": [
        "rand_perf.describe()"
      ],
      "execution_count": 29,
      "outputs": [
        {
          "output_type": "execute_result",
          "data": {
            "text/html": [
              "<div>\n",
              "<style scoped>\n",
              "    .dataframe tbody tr th:only-of-type {\n",
              "        vertical-align: middle;\n",
              "    }\n",
              "\n",
              "    .dataframe tbody tr th {\n",
              "        vertical-align: top;\n",
              "    }\n",
              "\n",
              "    .dataframe thead th {\n",
              "        text-align: right;\n",
              "    }\n",
              "</style>\n",
              "<table border=\"1\" class=\"dataframe\">\n",
              "  <thead>\n",
              "    <tr style=\"text-align: right;\">\n",
              "      <th></th>\n",
              "      <th>insample excess vol</th>\n",
              "      <th>insample vol</th>\n",
              "      <th>out-of-sample excess vol</th>\n",
              "      <th>out-of-sample vol</th>\n",
              "    </tr>\n",
              "  </thead>\n",
              "  <tbody>\n",
              "    <tr>\n",
              "      <th>count</th>\n",
              "      <td>9.990000e+02</td>\n",
              "      <td>999.000000</td>\n",
              "      <td>999.000000</td>\n",
              "      <td>999.000000</td>\n",
              "    </tr>\n",
              "    <tr>\n",
              "      <th>mean</th>\n",
              "      <td>-1.324965e-07</td>\n",
              "      <td>0.003404</td>\n",
              "      <td>-0.000001</td>\n",
              "      <td>0.003161</td>\n",
              "    </tr>\n",
              "    <tr>\n",
              "      <th>std</th>\n",
              "      <td>3.120394e-05</td>\n",
              "      <td>0.000031</td>\n",
              "      <td>0.000035</td>\n",
              "      <td>0.000035</td>\n",
              "    </tr>\n",
              "    <tr>\n",
              "      <th>min</th>\n",
              "      <td>-1.038719e-04</td>\n",
              "      <td>0.003301</td>\n",
              "      <td>-0.000120</td>\n",
              "      <td>0.003042</td>\n",
              "    </tr>\n",
              "    <tr>\n",
              "      <th>25%</th>\n",
              "      <td>-2.057374e-05</td>\n",
              "      <td>0.003384</td>\n",
              "      <td>-0.000025</td>\n",
              "      <td>0.003137</td>\n",
              "    </tr>\n",
              "    <tr>\n",
              "      <th>50%</th>\n",
              "      <td>2.515244e-07</td>\n",
              "      <td>0.003405</td>\n",
              "      <td>-0.000002</td>\n",
              "      <td>0.003161</td>\n",
              "    </tr>\n",
              "    <tr>\n",
              "      <th>75%</th>\n",
              "      <td>2.088470e-05</td>\n",
              "      <td>0.003425</td>\n",
              "      <td>0.000023</td>\n",
              "      <td>0.003185</td>\n",
              "    </tr>\n",
              "    <tr>\n",
              "      <th>max</th>\n",
              "      <td>8.810244e-05</td>\n",
              "      <td>0.003493</td>\n",
              "      <td>0.000102</td>\n",
              "      <td>0.003265</td>\n",
              "    </tr>\n",
              "  </tbody>\n",
              "</table>\n",
              "</div>"
            ],
            "text/plain": [
              "       insample excess vol  insample vol  out-of-sample excess vol  \\\n",
              "count         9.990000e+02    999.000000                999.000000   \n",
              "mean         -1.324965e-07      0.003404                 -0.000001   \n",
              "std           3.120394e-05      0.000031                  0.000035   \n",
              "min          -1.038719e-04      0.003301                 -0.000120   \n",
              "25%          -2.057374e-05      0.003384                 -0.000025   \n",
              "50%           2.515244e-07      0.003405                 -0.000002   \n",
              "75%           2.088470e-05      0.003425                  0.000023   \n",
              "max           8.810244e-05      0.003493                  0.000102   \n",
              "\n",
              "       out-of-sample vol  \n",
              "count         999.000000  \n",
              "mean            0.003161  \n",
              "std             0.000035  \n",
              "min             0.003042  \n",
              "25%             0.003137  \n",
              "50%             0.003161  \n",
              "75%             0.003185  \n",
              "max             0.003265  "
            ]
          },
          "metadata": {
            "tags": []
          },
          "execution_count": 29
        }
      ]
    },
    {
      "metadata": {
        "id": "Jf460k2NX70c",
        "colab_type": "code",
        "colab": {}
      },
      "cell_type": "code",
      "source": [
        ""
      ],
      "execution_count": 0,
      "outputs": []
    }
  ]
}