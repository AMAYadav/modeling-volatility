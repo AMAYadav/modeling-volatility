{
  "nbformat": 4,
  "nbformat_minor": 0,
  "metadata": {
    "colab": {
      "name": "Part_04_Understanding_Turbulence_Signals.ipynb",
      "version": "0.3.2",
      "provenance": [],
      "collapsed_sections": [],
      "include_colab_link": true
    },
    "kernelspec": {
      "display_name": "Python 3",
      "language": "python",
      "name": "python3"
    }
  },
  "cells": [
    {
      "cell_type": "markdown",
      "metadata": {
        "id": "view-in-github",
        "colab_type": "text"
      },
      "source": [
        "<a href=\"https://colab.research.google.com/github/fintechsteve/modeling-volatility/blob/master/Part_04_Understanding_Turbulence_Signals.ipynb\" target=\"_parent\"><img src=\"https://colab.research.google.com/assets/colab-badge.svg\" alt=\"Open In Colab\"/></a>"
      ]
    },
    {
      "metadata": {
        "id": "BtCSSGGdu4Qt",
        "colab_type": "text"
      },
      "cell_type": "markdown",
      "source": [
        "## Part 04: Understanding Turbulence Signals\n",
        "\n",
        "### In this section you will:\n",
        "\n",
        "\n",
        "*   Learn about Turbulence and its use in investment management\n",
        "*   Use a matrix of currency returns to calculate turbulence.\n",
        "*   Explore the time series properties of turbulence\n",
        "\n",
        "### Intro\n",
        "\n",
        "Turbulence is a heuristic measure of volatility made popular by Chow et al. (1999) in \"[Optimal Portfolios in Good Times and Bad](https://doi.org/10.2469/faj.v55.n3.2273)\" based on the distance metric proposed by Mahalanobis in \"[On the generalised distance in statistics](http://insa.nic.in/writereaddata/UpLoadedFiles/PINSA/Vol02_1936_1_Art05.pdf)\".\n",
        "\n",
        "In statistical terms, the metric $d_t$ describes how abnormal a set of returns are by comparing them against a normal approximation of the historic distribution of returns:\n",
        "\n",
        "\\begin{equation*}\n",
        "d_t = \\left( r_t - \\mathbf{\\mu} \\right) \\mathbf{\\Sigma}^{-1} \\left( r_t - \\mathbf{\\mu} \\right)'\n",
        "\\end{equation*}\n",
        "\n",
        "Where $\\mathbf{\\Sigma}$ and $\\mathbf{\\mu}$ are the covariance and mean return measured over the past $n$ days."
      ]
    },
    {
      "metadata": {
        "id": "ETMoGdnNrtjj",
        "colab_type": "text"
      },
      "cell_type": "markdown",
      "source": [
        "## Import all necessary libraries\n",
        "\n",
        "For this piece, we will need the following packages to be available to our environment:\n",
        "\n",
        "*   Numpy and Pandas (For data manipulation)\n",
        "*   DateTime (For basic date manipulation)\n",
        "*   Matplotlib (For timeseries vizualization)\n",
        "\n",
        "If the packages are not available, install the with \"pip install X\""
      ]
    },
    {
      "metadata": {
        "id": "FS6GYKq6T-ih",
        "colab_type": "code",
        "colab": {}
      },
      "cell_type": "code",
      "source": [
        "import numpy as np, pandas as pd\n",
        "import statistics\n",
        "from datetime import datetime, timedelta\n",
        "import pickle\n",
        "import matplotlib.pyplot as plt"
      ],
      "execution_count": 0,
      "outputs": []
    },
    {
      "metadata": {
        "id": "wBoMCDKYsdli",
        "colab_type": "text"
      },
      "cell_type": "markdown",
      "source": [
        "### Read in data from previously stored returns.pkl file\n",
        "\n"
      ]
    },
    {
      "metadata": {
        "id": "cFySsoztT-i9",
        "colab_type": "code",
        "cellView": "both",
        "outputId": "8495eefc-671e-4942-a0ee-56543c378082",
        "colab": {
          "base_uri": "https://localhost:8080/",
          "height": 549
        }
      },
      "cell_type": "code",
      "source": [
        "with open('./returns.pkl', 'rb') as f:\n",
        "    returns = pickle.load(f)\n",
        "    f.close()\n",
        "returns.head(10)"
      ],
      "execution_count": 0,
      "outputs": [
        {
          "output_type": "execute_result",
          "data": {
            "text/html": [
              "<div>\n",
              "<style scoped>\n",
              "    .dataframe tbody tr th:only-of-type {\n",
              "        vertical-align: middle;\n",
              "    }\n",
              "\n",
              "    .dataframe tbody tr th {\n",
              "        vertical-align: top;\n",
              "    }\n",
              "\n",
              "    .dataframe thead th {\n",
              "        text-align: right;\n",
              "    }\n",
              "</style>\n",
              "<table border=\"1\" class=\"dataframe\">\n",
              "  <thead>\n",
              "    <tr style=\"text-align: right;\">\n",
              "      <th></th>\n",
              "      <th>AUD</th>\n",
              "      <th>CAD</th>\n",
              "      <th>CHF</th>\n",
              "      <th>EUR</th>\n",
              "      <th>GBP</th>\n",
              "      <th>JPY</th>\n",
              "      <th>NOK</th>\n",
              "      <th>NZD</th>\n",
              "      <th>SEK</th>\n",
              "    </tr>\n",
              "  </thead>\n",
              "  <tbody>\n",
              "    <tr>\n",
              "      <th>1975-01-02</th>\n",
              "      <td>-0.002129</td>\n",
              "      <td>-1.712061e-03</td>\n",
              "      <td>-0.009915</td>\n",
              "      <td>-0.003544</td>\n",
              "      <td>-0.005745</td>\n",
              "      <td>-0.001502</td>\n",
              "      <td>-0.003299</td>\n",
              "      <td>0.000536</td>\n",
              "      <td>-0.004704</td>\n",
              "    </tr>\n",
              "    <tr>\n",
              "      <th>1975-01-03</th>\n",
              "      <td>-0.000947</td>\n",
              "      <td>1.517425e-05</td>\n",
              "      <td>0.008500</td>\n",
              "      <td>0.007886</td>\n",
              "      <td>0.003424</td>\n",
              "      <td>0.002711</td>\n",
              "      <td>0.008801</td>\n",
              "      <td>-0.001924</td>\n",
              "      <td>0.007113</td>\n",
              "    </tr>\n",
              "    <tr>\n",
              "      <th>1975-01-06</th>\n",
              "      <td>-0.001158</td>\n",
              "      <td>6.677374e-04</td>\n",
              "      <td>-0.001023</td>\n",
              "      <td>0.008174</td>\n",
              "      <td>0.002346</td>\n",
              "      <td>-0.004728</td>\n",
              "      <td>0.002759</td>\n",
              "      <td>-0.001129</td>\n",
              "      <td>0.009237</td>\n",
              "    </tr>\n",
              "    <tr>\n",
              "      <th>1975-01-07</th>\n",
              "      <td>0.004193</td>\n",
              "      <td>-1.726304e-03</td>\n",
              "      <td>0.001702</td>\n",
              "      <td>0.002150</td>\n",
              "      <td>0.001702</td>\n",
              "      <td>0.002410</td>\n",
              "      <td>0.005434</td>\n",
              "      <td>0.004567</td>\n",
              "      <td>-0.001466</td>\n",
              "    </tr>\n",
              "    <tr>\n",
              "      <th>1975-01-08</th>\n",
              "      <td>-0.001489</td>\n",
              "      <td>-2.000930e-04</td>\n",
              "      <td>-0.015237</td>\n",
              "      <td>-0.008650</td>\n",
              "      <td>-0.001997</td>\n",
              "      <td>0.000122</td>\n",
              "      <td>-0.006315</td>\n",
              "      <td>-0.000034</td>\n",
              "      <td>-0.006188</td>\n",
              "    </tr>\n",
              "    <tr>\n",
              "      <th>1975-01-09</th>\n",
              "      <td>-0.000324</td>\n",
              "      <td>-3.120108e-03</td>\n",
              "      <td>0.000298</td>\n",
              "      <td>0.004764</td>\n",
              "      <td>0.000298</td>\n",
              "      <td>-0.000409</td>\n",
              "      <td>-0.000114</td>\n",
              "      <td>-0.001217</td>\n",
              "      <td>-0.000751</td>\n",
              "    </tr>\n",
              "    <tr>\n",
              "      <th>1975-01-10</th>\n",
              "      <td>0.000077</td>\n",
              "      <td>-1.283429e-03</td>\n",
              "      <td>0.001489</td>\n",
              "      <td>0.001489</td>\n",
              "      <td>0.001489</td>\n",
              "      <td>0.000075</td>\n",
              "      <td>0.006256</td>\n",
              "      <td>0.000311</td>\n",
              "      <td>0.001489</td>\n",
              "    </tr>\n",
              "    <tr>\n",
              "      <th>1975-01-13</th>\n",
              "      <td>0.000579</td>\n",
              "      <td>-3.152212e-07</td>\n",
              "      <td>0.001789</td>\n",
              "      <td>-0.001210</td>\n",
              "      <td>0.000127</td>\n",
              "      <td>-0.000578</td>\n",
              "      <td>0.000542</td>\n",
              "      <td>0.000969</td>\n",
              "      <td>-0.002488</td>\n",
              "    </tr>\n",
              "    <tr>\n",
              "      <th>1975-01-14</th>\n",
              "      <td>-0.000699</td>\n",
              "      <td>7.303998e-04</td>\n",
              "      <td>-0.005132</td>\n",
              "      <td>-0.006698</td>\n",
              "      <td>-0.001827</td>\n",
              "      <td>0.000291</td>\n",
              "      <td>-0.006558</td>\n",
              "      <td>-0.000762</td>\n",
              "      <td>-0.007795</td>\n",
              "    </tr>\n",
              "    <tr>\n",
              "      <th>1975-01-15</th>\n",
              "      <td>-0.000934</td>\n",
              "      <td>1.198868e-03</td>\n",
              "      <td>-0.002078</td>\n",
              "      <td>0.001797</td>\n",
              "      <td>-0.000426</td>\n",
              "      <td>-0.002542</td>\n",
              "      <td>-0.002276</td>\n",
              "      <td>-0.000594</td>\n",
              "      <td>0.000094</td>\n",
              "    </tr>\n",
              "  </tbody>\n",
              "</table>\n",
              "</div>"
            ],
            "text/plain": [
              "                 AUD           CAD       CHF       EUR       GBP       JPY  \\\n",
              "1975-01-02 -0.002129 -1.712061e-03 -0.009915 -0.003544 -0.005745 -0.001502   \n",
              "1975-01-03 -0.000947  1.517425e-05  0.008500  0.007886  0.003424  0.002711   \n",
              "1975-01-06 -0.001158  6.677374e-04 -0.001023  0.008174  0.002346 -0.004728   \n",
              "1975-01-07  0.004193 -1.726304e-03  0.001702  0.002150  0.001702  0.002410   \n",
              "1975-01-08 -0.001489 -2.000930e-04 -0.015237 -0.008650 -0.001997  0.000122   \n",
              "1975-01-09 -0.000324 -3.120108e-03  0.000298  0.004764  0.000298 -0.000409   \n",
              "1975-01-10  0.000077 -1.283429e-03  0.001489  0.001489  0.001489  0.000075   \n",
              "1975-01-13  0.000579 -3.152212e-07  0.001789 -0.001210  0.000127 -0.000578   \n",
              "1975-01-14 -0.000699  7.303998e-04 -0.005132 -0.006698 -0.001827  0.000291   \n",
              "1975-01-15 -0.000934  1.198868e-03 -0.002078  0.001797 -0.000426 -0.002542   \n",
              "\n",
              "                 NOK       NZD       SEK  \n",
              "1975-01-02 -0.003299  0.000536 -0.004704  \n",
              "1975-01-03  0.008801 -0.001924  0.007113  \n",
              "1975-01-06  0.002759 -0.001129  0.009237  \n",
              "1975-01-07  0.005434  0.004567 -0.001466  \n",
              "1975-01-08 -0.006315 -0.000034 -0.006188  \n",
              "1975-01-09 -0.000114 -0.001217 -0.000751  \n",
              "1975-01-10  0.006256  0.000311  0.001489  \n",
              "1975-01-13  0.000542  0.000969 -0.002488  \n",
              "1975-01-14 -0.006558 -0.000762 -0.007795  \n",
              "1975-01-15 -0.002276 -0.000594  0.000094  "
            ]
          },
          "metadata": {
            "tags": []
          },
          "execution_count": 3
        }
      ]
    },
    {
      "metadata": {
        "id": "WPfZk0NLtIaU",
        "colab_type": "text"
      },
      "cell_type": "markdown",
      "source": [
        "### Calculate a covariance and mean of returns\n",
        "For now, we will calcualte turbulence using the full sample covariance and mean.\n",
        "\n",
        "df.cov() and df.mean() are needed."
      ]
    },
    {
      "metadata": {
        "id": "cyFwsRh7T-jC",
        "colab_type": "code",
        "outputId": "981bfe2a-8689-4ae8-fdd8-2f2bb65b04df",
        "colab": {
          "base_uri": "https://localhost:8080/",
          "height": 348
        }
      },
      "cell_type": "code",
      "source": [
        "retcov = returns.cov()\n",
        "retcov"
      ],
      "execution_count": 0,
      "outputs": [
        {
          "output_type": "execute_result",
          "data": {
            "text/html": [
              "<div>\n",
              "<style scoped>\n",
              "    .dataframe tbody tr th:only-of-type {\n",
              "        vertical-align: middle;\n",
              "    }\n",
              "\n",
              "    .dataframe tbody tr th {\n",
              "        vertical-align: top;\n",
              "    }\n",
              "\n",
              "    .dataframe thead th {\n",
              "        text-align: right;\n",
              "    }\n",
              "</style>\n",
              "<table border=\"1\" class=\"dataframe\">\n",
              "  <thead>\n",
              "    <tr style=\"text-align: right;\">\n",
              "      <th></th>\n",
              "      <th>AUD</th>\n",
              "      <th>CAD</th>\n",
              "      <th>CHF</th>\n",
              "      <th>EUR</th>\n",
              "      <th>GBP</th>\n",
              "      <th>JPY</th>\n",
              "      <th>NOK</th>\n",
              "      <th>NZD</th>\n",
              "      <th>SEK</th>\n",
              "    </tr>\n",
              "  </thead>\n",
              "  <tbody>\n",
              "    <tr>\n",
              "      <th>AUD</th>\n",
              "      <td>0.000052</td>\n",
              "      <td>0.000015</td>\n",
              "      <td>0.000016</td>\n",
              "      <td>0.000017</td>\n",
              "      <td>0.000017</td>\n",
              "      <td>0.000007</td>\n",
              "      <td>0.000020</td>\n",
              "      <td>0.000037</td>\n",
              "      <td>0.000019</td>\n",
              "    </tr>\n",
              "    <tr>\n",
              "      <th>CAD</th>\n",
              "      <td>0.000015</td>\n",
              "      <td>0.000020</td>\n",
              "      <td>0.000007</td>\n",
              "      <td>0.000009</td>\n",
              "      <td>0.000009</td>\n",
              "      <td>0.000002</td>\n",
              "      <td>0.000011</td>\n",
              "      <td>0.000014</td>\n",
              "      <td>0.000011</td>\n",
              "    </tr>\n",
              "    <tr>\n",
              "      <th>CHF</th>\n",
              "      <td>0.000016</td>\n",
              "      <td>0.000007</td>\n",
              "      <td>0.000051</td>\n",
              "      <td>0.000038</td>\n",
              "      <td>0.000026</td>\n",
              "      <td>0.000023</td>\n",
              "      <td>0.000032</td>\n",
              "      <td>0.000017</td>\n",
              "      <td>0.000030</td>\n",
              "    </tr>\n",
              "    <tr>\n",
              "      <th>EUR</th>\n",
              "      <td>0.000017</td>\n",
              "      <td>0.000009</td>\n",
              "      <td>0.000038</td>\n",
              "      <td>0.000039</td>\n",
              "      <td>0.000026</td>\n",
              "      <td>0.000019</td>\n",
              "      <td>0.000032</td>\n",
              "      <td>0.000019</td>\n",
              "      <td>0.000032</td>\n",
              "    </tr>\n",
              "    <tr>\n",
              "      <th>GBP</th>\n",
              "      <td>0.000017</td>\n",
              "      <td>0.000009</td>\n",
              "      <td>0.000026</td>\n",
              "      <td>0.000026</td>\n",
              "      <td>0.000036</td>\n",
              "      <td>0.000012</td>\n",
              "      <td>0.000024</td>\n",
              "      <td>0.000018</td>\n",
              "      <td>0.000023</td>\n",
              "    </tr>\n",
              "    <tr>\n",
              "      <th>JPY</th>\n",
              "      <td>0.000007</td>\n",
              "      <td>0.000002</td>\n",
              "      <td>0.000023</td>\n",
              "      <td>0.000019</td>\n",
              "      <td>0.000012</td>\n",
              "      <td>0.000043</td>\n",
              "      <td>0.000015</td>\n",
              "      <td>0.000009</td>\n",
              "      <td>0.000014</td>\n",
              "    </tr>\n",
              "    <tr>\n",
              "      <th>NOK</th>\n",
              "      <td>0.000020</td>\n",
              "      <td>0.000011</td>\n",
              "      <td>0.000032</td>\n",
              "      <td>0.000032</td>\n",
              "      <td>0.000024</td>\n",
              "      <td>0.000015</td>\n",
              "      <td>0.000044</td>\n",
              "      <td>0.000020</td>\n",
              "      <td>0.000034</td>\n",
              "    </tr>\n",
              "    <tr>\n",
              "      <th>NZD</th>\n",
              "      <td>0.000037</td>\n",
              "      <td>0.000014</td>\n",
              "      <td>0.000017</td>\n",
              "      <td>0.000019</td>\n",
              "      <td>0.000018</td>\n",
              "      <td>0.000009</td>\n",
              "      <td>0.000020</td>\n",
              "      <td>0.000059</td>\n",
              "      <td>0.000020</td>\n",
              "    </tr>\n",
              "    <tr>\n",
              "      <th>SEK</th>\n",
              "      <td>0.000019</td>\n",
              "      <td>0.000011</td>\n",
              "      <td>0.000030</td>\n",
              "      <td>0.000032</td>\n",
              "      <td>0.000023</td>\n",
              "      <td>0.000014</td>\n",
              "      <td>0.000034</td>\n",
              "      <td>0.000020</td>\n",
              "      <td>0.000044</td>\n",
              "    </tr>\n",
              "  </tbody>\n",
              "</table>\n",
              "</div>"
            ],
            "text/plain": [
              "          AUD       CAD       CHF       EUR       GBP       JPY       NOK  \\\n",
              "AUD  0.000052  0.000015  0.000016  0.000017  0.000017  0.000007  0.000020   \n",
              "CAD  0.000015  0.000020  0.000007  0.000009  0.000009  0.000002  0.000011   \n",
              "CHF  0.000016  0.000007  0.000051  0.000038  0.000026  0.000023  0.000032   \n",
              "EUR  0.000017  0.000009  0.000038  0.000039  0.000026  0.000019  0.000032   \n",
              "GBP  0.000017  0.000009  0.000026  0.000026  0.000036  0.000012  0.000024   \n",
              "JPY  0.000007  0.000002  0.000023  0.000019  0.000012  0.000043  0.000015   \n",
              "NOK  0.000020  0.000011  0.000032  0.000032  0.000024  0.000015  0.000044   \n",
              "NZD  0.000037  0.000014  0.000017  0.000019  0.000018  0.000009  0.000020   \n",
              "SEK  0.000019  0.000011  0.000030  0.000032  0.000023  0.000014  0.000034   \n",
              "\n",
              "          NZD       SEK  \n",
              "AUD  0.000037  0.000019  \n",
              "CAD  0.000014  0.000011  \n",
              "CHF  0.000017  0.000030  \n",
              "EUR  0.000019  0.000032  \n",
              "GBP  0.000018  0.000023  \n",
              "JPY  0.000009  0.000014  \n",
              "NOK  0.000020  0.000034  \n",
              "NZD  0.000059  0.000020  \n",
              "SEK  0.000020  0.000044  "
            ]
          },
          "metadata": {
            "tags": []
          },
          "execution_count": 9
        }
      ]
    },
    {
      "metadata": {
        "id": "ZYRisZw66GDy",
        "colab_type": "code",
        "outputId": "7df8432f-d2a4-47c1-856c-49d0d99972cc",
        "colab": {
          "base_uri": "https://localhost:8080/",
          "height": 187
        }
      },
      "cell_type": "code",
      "source": [
        "retmean = returns.mean()\n",
        "retmean"
      ],
      "execution_count": 0,
      "outputs": [
        {
          "output_type": "execute_result",
          "data": {
            "text/plain": [
              "AUD   -0.000021\n",
              "CAD   -0.000013\n",
              "CHF    0.000110\n",
              "EUR    0.000053\n",
              "GBP   -0.000032\n",
              "JPY    0.000108\n",
              "NOK   -0.000020\n",
              "NZD   -0.000026\n",
              "SEK   -0.000042\n",
              "dtype: float64"
            ]
          },
          "metadata": {
            "tags": []
          },
          "execution_count": 10
        }
      ]
    },
    {
      "metadata": {
        "id": "nrZTZ568uGXu",
        "colab_type": "text"
      },
      "cell_type": "markdown",
      "source": [
        "### Calculate turbulence by demeaning and applying inverse covariance matrix\n",
        "\n",
        "np.linalg.pinv is a quick way of calculating the inverse of a covariance matrix.\n",
        "np.einsum is a useful tool for matrix algebra. einsum('ij,ij->i',A, B) calculates the sumproduct of rows of A and B."
      ]
    },
    {
      "metadata": {
        "id": "5GYgPevt22DJ",
        "colab_type": "code",
        "outputId": "0d71aed7-94e6-4945-e662-ca8297bae002",
        "colab": {
          "base_uri": "https://localhost:8080/",
          "height": 204
        }
      },
      "cell_type": "code",
      "source": [
        "retinvcov = np.linalg.pinv(retcov)\n",
        "turbulence = pd.DataFrame(np.einsum('ij,ij->i',(returns - retmean),(returns-retmean)@retinvcov),index=returns.index,columns=['daily'])\n",
        "turbulence.head()"
      ],
      "execution_count": 66,
      "outputs": [
        {
          "output_type": "execute_result",
          "data": {
            "text/html": [
              "<div>\n",
              "<style scoped>\n",
              "    .dataframe tbody tr th:only-of-type {\n",
              "        vertical-align: middle;\n",
              "    }\n",
              "\n",
              "    .dataframe tbody tr th {\n",
              "        vertical-align: top;\n",
              "    }\n",
              "\n",
              "    .dataframe thead th {\n",
              "        text-align: right;\n",
              "    }\n",
              "</style>\n",
              "<table border=\"1\" class=\"dataframe\">\n",
              "  <thead>\n",
              "    <tr style=\"text-align: right;\">\n",
              "      <th></th>\n",
              "      <th>daily</th>\n",
              "    </tr>\n",
              "  </thead>\n",
              "  <tbody>\n",
              "    <tr>\n",
              "      <th>1975-01-02</th>\n",
              "      <td>4.395193</td>\n",
              "    </tr>\n",
              "    <tr>\n",
              "      <th>1975-01-03</th>\n",
              "      <td>3.027115</td>\n",
              "    </tr>\n",
              "    <tr>\n",
              "      <th>1975-01-06</th>\n",
              "      <td>10.848104</td>\n",
              "    </tr>\n",
              "    <tr>\n",
              "      <th>1975-01-07</th>\n",
              "      <td>3.508664</td>\n",
              "    </tr>\n",
              "    <tr>\n",
              "      <th>1975-01-08</th>\n",
              "      <td>7.552612</td>\n",
              "    </tr>\n",
              "  </tbody>\n",
              "</table>\n",
              "</div>"
            ],
            "text/plain": [
              "                daily\n",
              "1975-01-02   4.395193\n",
              "1975-01-03   3.027115\n",
              "1975-01-06  10.848104\n",
              "1975-01-07   3.508664\n",
              "1975-01-08   7.552612"
            ]
          },
          "metadata": {
            "tags": []
          },
          "execution_count": 66
        }
      ]
    },
    {
      "metadata": {
        "id": "MjKhquX373So",
        "colab_type": "code",
        "outputId": "b033ec1e-7d2d-45fc-8012-a23a37ae487f",
        "colab": {
          "base_uri": "https://localhost:8080/",
          "height": 354
        }
      },
      "cell_type": "code",
      "source": [
        "fig, axes = plt.subplots(1, 1, figsize=(10, 5))\n",
        "turbulence.plot(subplots=True, ax=axes, sharex=False, sharey=False, legend=False)"
      ],
      "execution_count": 67,
      "outputs": [
        {
          "output_type": "execute_result",
          "data": {
            "text/plain": [
              "array([<matplotlib.axes._subplots.AxesSubplot object at 0x7fa7d4283048>],\n",
              "      dtype=object)"
            ]
          },
          "metadata": {
            "tags": []
          },
          "execution_count": 67
        },
        {
          "output_type": "display_data",
          "data": {
            "image/png": "[encoded data removed]",
            "text/plain": [
              "<Figure size 720x360 with 1 Axes>"
            ]
          },
          "metadata": {
            "tags": []
          }
        }
      ]
    },
    {
      "metadata": {
        "id": "N20M0VTMyxil",
        "colab_type": "text"
      },
      "cell_type": "markdown",
      "source": [
        "### Demonstrate that contemporaneously turbulence is concurrrent with high index volatility\n",
        "\n"
      ]
    },
    {
      "metadata": {
        "id": "naWuvBdzu-NZ",
        "colab_type": "code",
        "colab": {}
      },
      "cell_type": "code",
      "source": [
        "dxy_weight = [0, 0.119, 0.036, 0, 0.136, 0.576, 0, 0, 0.091]\n",
        "dxy = returns.dot(dxy_weight)"
      ],
      "execution_count": 0,
      "outputs": []
    },
    {
      "metadata": {
        "id": "VL5tpBzRSQJp",
        "colab_type": "code",
        "colab": {
          "base_uri": "https://localhost:8080/",
          "height": 111
        },
        "outputId": "533863c3-6f28-4897-bad5-eb371fdb37c4"
      },
      "cell_type": "code",
      "source": [
        "highturbulence = turbulence['daily']>np.percentile(turbulence['daily'],80)\n",
        "pd.DataFrame([[np.sqrt(261)*dxy[highturbulence].std(), np.sqrt(261)*dxy[~highturbulence].std()], [sum(highturbulence), sum(~highturbulence)]], index=['std','N'], columns=['High Turb','Low Turb'])"
      ],
      "execution_count": 97,
      "outputs": [
        {
          "output_type": "execute_result",
          "data": {
            "text/html": [
              "<div>\n",
              "<style scoped>\n",
              "    .dataframe tbody tr th:only-of-type {\n",
              "        vertical-align: middle;\n",
              "    }\n",
              "\n",
              "    .dataframe tbody tr th {\n",
              "        vertical-align: top;\n",
              "    }\n",
              "\n",
              "    .dataframe thead th {\n",
              "        text-align: right;\n",
              "    }\n",
              "</style>\n",
              "<table border=\"1\" class=\"dataframe\">\n",
              "  <thead>\n",
              "    <tr style=\"text-align: right;\">\n",
              "      <th></th>\n",
              "      <th>High Turb</th>\n",
              "      <th>Low Turb</th>\n",
              "    </tr>\n",
              "  </thead>\n",
              "  <tbody>\n",
              "    <tr>\n",
              "      <th>std</th>\n",
              "      <td>0.122616</td>\n",
              "      <td>0.057833</td>\n",
              "    </tr>\n",
              "    <tr>\n",
              "      <th>N</th>\n",
              "      <td>2243.000000</td>\n",
              "      <td>8971.000000</td>\n",
              "    </tr>\n",
              "  </tbody>\n",
              "</table>\n",
              "</div>"
            ],
            "text/plain": [
              "       High Turb     Low Turb\n",
              "std     0.122616     0.057833\n",
              "N    2243.000000  8971.000000"
            ]
          },
          "metadata": {
            "tags": []
          },
          "execution_count": 97
        }
      ]
    },
    {
      "metadata": {
        "id": "byOlnZO40EDx",
        "colab_type": "text"
      },
      "cell_type": "markdown",
      "source": [
        "### Demonstrate that turbulence leads to persistently high volatility days"
      ]
    },
    {
      "metadata": {
        "id": "stRMHt7qy6Pr",
        "colab_type": "code",
        "colab": {
          "base_uri": "https://localhost:8080/",
          "height": 390
        },
        "outputId": "d3feb0f9-2659-4159-f484-7706411d3029"
      },
      "cell_type": "code",
      "source": [
        "leading_dxy = pd.DataFrame([dxy.shift(-i) for i in range(0, 11)]).T\n",
        "subsequent_vol = pd.DataFrame([leading_dxy[highturbulence].std(), leading_dxy[~highturbulence].std()],index=['High Turb','Low Turb']).T\n",
        "subsequent_vol"
      ],
      "execution_count": 123,
      "outputs": [
        {
          "output_type": "execute_result",
          "data": {
            "text/html": [
              "<div>\n",
              "<style scoped>\n",
              "    .dataframe tbody tr th:only-of-type {\n",
              "        vertical-align: middle;\n",
              "    }\n",
              "\n",
              "    .dataframe tbody tr th {\n",
              "        vertical-align: top;\n",
              "    }\n",
              "\n",
              "    .dataframe thead th {\n",
              "        text-align: right;\n",
              "    }\n",
              "</style>\n",
              "<table border=\"1\" class=\"dataframe\">\n",
              "  <thead>\n",
              "    <tr style=\"text-align: right;\">\n",
              "      <th></th>\n",
              "      <th>High Turb</th>\n",
              "      <th>Low Turb</th>\n",
              "    </tr>\n",
              "  </thead>\n",
              "  <tbody>\n",
              "    <tr>\n",
              "      <th>0</th>\n",
              "      <td>0.007590</td>\n",
              "      <td>0.003580</td>\n",
              "    </tr>\n",
              "    <tr>\n",
              "      <th>1</th>\n",
              "      <td>0.005493</td>\n",
              "      <td>0.004446</td>\n",
              "    </tr>\n",
              "    <tr>\n",
              "      <th>2</th>\n",
              "      <td>0.005453</td>\n",
              "      <td>0.004458</td>\n",
              "    </tr>\n",
              "    <tr>\n",
              "      <th>3</th>\n",
              "      <td>0.005319</td>\n",
              "      <td>0.004499</td>\n",
              "    </tr>\n",
              "    <tr>\n",
              "      <th>4</th>\n",
              "      <td>0.005441</td>\n",
              "      <td>0.004461</td>\n",
              "    </tr>\n",
              "    <tr>\n",
              "      <th>5</th>\n",
              "      <td>0.005424</td>\n",
              "      <td>0.004467</td>\n",
              "    </tr>\n",
              "    <tr>\n",
              "      <th>6</th>\n",
              "      <td>0.005321</td>\n",
              "      <td>0.004499</td>\n",
              "    </tr>\n",
              "    <tr>\n",
              "      <th>7</th>\n",
              "      <td>0.005109</td>\n",
              "      <td>0.004560</td>\n",
              "    </tr>\n",
              "    <tr>\n",
              "      <th>8</th>\n",
              "      <td>0.005221</td>\n",
              "      <td>0.004529</td>\n",
              "    </tr>\n",
              "    <tr>\n",
              "      <th>9</th>\n",
              "      <td>0.005095</td>\n",
              "      <td>0.004565</td>\n",
              "    </tr>\n",
              "    <tr>\n",
              "      <th>10</th>\n",
              "      <td>0.005267</td>\n",
              "      <td>0.004516</td>\n",
              "    </tr>\n",
              "  </tbody>\n",
              "</table>\n",
              "</div>"
            ],
            "text/plain": [
              "    High Turb  Low Turb\n",
              "0    0.007590  0.003580\n",
              "1    0.005493  0.004446\n",
              "2    0.005453  0.004458\n",
              "3    0.005319  0.004499\n",
              "4    0.005441  0.004461\n",
              "5    0.005424  0.004467\n",
              "6    0.005321  0.004499\n",
              "7    0.005109  0.004560\n",
              "8    0.005221  0.004529\n",
              "9    0.005095  0.004565\n",
              "10   0.005267  0.004516"
            ]
          },
          "metadata": {
            "tags": []
          },
          "execution_count": 123
        }
      ]
    },
    {
      "metadata": {
        "id": "-93ZyVJIPwv6",
        "colab_type": "code",
        "colab": {
          "base_uri": "https://localhost:8080/",
          "height": 364
        },
        "outputId": "2c18930d-c218-480e-e971-25f8ab0bfc92"
      },
      "cell_type": "code",
      "source": [
        "subsequent_vol.plot()"
      ],
      "execution_count": 124,
      "outputs": [
        {
          "output_type": "execute_result",
          "data": {
            "text/plain": [
              "<matplotlib.axes._subplots.AxesSubplot at 0x7fa7d435cda0>"
            ]
          },
          "metadata": {
            "tags": []
          },
          "execution_count": 124
        },
        {
          "output_type": "display_data",
          "data": {
            "image/png": "[encoded data removed]",
            "text/plain": [
              "<Figure size 576x396 with 1 Axes>"
            ]
          },
          "metadata": {
            "tags": []
          }
        }
      ]
    },
    {
      "metadata": {
        "id": "Zcaj07aCaX6o",
        "colab_type": "code",
        "colab": {}
      },
      "cell_type": "code",
      "source": [
        ""
      ],
      "execution_count": 0,
      "outputs": []
    }
  ]
}