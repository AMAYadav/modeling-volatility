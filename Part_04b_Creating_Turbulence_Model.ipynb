{
 "cells": [
  {
   "cell_type": "markdown",
   "metadata": {
    "colab_type": "text",
    "id": "view-in-github"
   },
   "source": [
    "<a href=\"https://colab.research.google.com/github/fintechsteve/modeling-volatility/blob/master/Part_04b_Creating_Turbulence_Model.ipynb\" target=\"_parent\"><img src=\"https://colab.research.google.com/assets/colab-badge.svg\" alt=\"Open In Colab\"/></a>"
   ]
  },
  {
   "cell_type": "markdown",
   "metadata": {
    "colab_type": "text",
    "id": "BtCSSGGdu4Qt"
   },
   "source": [
    "## Part 04 (b): Creating a Turbulence Model\n",
    "\n",
    "### In this section you will:\n",
    "\n",
    "\n",
    "*   Create a turbulence function that estimates turbulence with a rolling window.\n",
    "*   Transform a turbulence signal into set of dynamic weights. Track performance of the model.\n",
    "*   Optimize the lookback and smoothing window.\n"
   ]
  },
  {
   "cell_type": "markdown",
   "metadata": {
    "colab_type": "text",
    "id": "ETMoGdnNrtjj"
   },
   "source": [
    "## Import all necessary libraries\n",
    "\n",
    "For this piece, we will need the following packages to be available to our environment:\n",
    "\n",
    "*   Numpy and Pandas (For data manipulation)\n",
    "*   DateTime (For basic date manipulation)\n",
    "*   Matplotlib (For timeseries vizualization)\n",
    "\n",
    "If the packages are not available, install the with \"pip install X\""
   ]
  },
  {
   "cell_type": "code",
   "execution_count": 1,
   "metadata": {
    "colab": {},
    "colab_type": "code",
    "id": "FS6GYKq6T-ih"
   },
   "outputs": [],
   "source": [
    "import numpy as np, pandas as pd\n",
    "from datetime import datetime, timedelta\n",
    "import pickle\n",
    "import matplotlib.pyplot as plt\n",
    "import bisect\n",
    "from scipy import stats"
   ]
  },
  {
   "cell_type": "markdown",
   "metadata": {
    "colab_type": "text",
    "id": "wBoMCDKYsdli"
   },
   "source": [
    "### Read in data from previously stored returns.pkl file\n",
    "\n"
   ]
  },
  {
   "cell_type": "code",
   "execution_count": 2,
   "metadata": {
    "cellView": "both",
    "colab": {
     "base_uri": "https://localhost:8080/",
     "height": 359
    },
    "colab_type": "code",
    "id": "cFySsoztT-i9",
    "outputId": "b9d576fc-9915-4c7e-cba7-1daa1e965846"
   },
   "outputs": [
    {
     "data": {
      "text/html": [
       "<div>\n",
       "<style scoped>\n",
       "    .dataframe tbody tr th:only-of-type {\n",
       "        vertical-align: middle;\n",
       "    }\n",
       "\n",
       "    .dataframe tbody tr th {\n",
       "        vertical-align: top;\n",
       "    }\n",
       "\n",
       "    .dataframe thead th {\n",
       "        text-align: right;\n",
       "    }\n",
       "</style>\n",
       "<table border=\"1\" class=\"dataframe\">\n",
       "  <thead>\n",
       "    <tr style=\"text-align: right;\">\n",
       "      <th></th>\n",
       "      <th>AUD</th>\n",
       "      <th>CAD</th>\n",
       "      <th>CHF</th>\n",
       "      <th>EUR</th>\n",
       "      <th>GBP</th>\n",
       "      <th>JPY</th>\n",
       "      <th>NOK</th>\n",
       "      <th>NZD</th>\n",
       "      <th>SEK</th>\n",
       "    </tr>\n",
       "  </thead>\n",
       "  <tbody>\n",
       "    <tr>\n",
       "      <th>1975-01-02</th>\n",
       "      <td>-0.002129</td>\n",
       "      <td>-1.712061e-03</td>\n",
       "      <td>-0.009915</td>\n",
       "      <td>-0.003544</td>\n",
       "      <td>-0.005745</td>\n",
       "      <td>-0.001502</td>\n",
       "      <td>-0.003299</td>\n",
       "      <td>0.000536</td>\n",
       "      <td>-0.004704</td>\n",
       "    </tr>\n",
       "    <tr>\n",
       "      <th>1975-01-03</th>\n",
       "      <td>-0.000947</td>\n",
       "      <td>1.517425e-05</td>\n",
       "      <td>0.008500</td>\n",
       "      <td>0.007886</td>\n",
       "      <td>0.003424</td>\n",
       "      <td>0.002711</td>\n",
       "      <td>0.008801</td>\n",
       "      <td>-0.001924</td>\n",
       "      <td>0.007113</td>\n",
       "    </tr>\n",
       "    <tr>\n",
       "      <th>1975-01-06</th>\n",
       "      <td>-0.001158</td>\n",
       "      <td>6.677374e-04</td>\n",
       "      <td>-0.001023</td>\n",
       "      <td>0.008174</td>\n",
       "      <td>0.002346</td>\n",
       "      <td>-0.004728</td>\n",
       "      <td>0.002759</td>\n",
       "      <td>-0.001129</td>\n",
       "      <td>0.009237</td>\n",
       "    </tr>\n",
       "    <tr>\n",
       "      <th>1975-01-07</th>\n",
       "      <td>0.004193</td>\n",
       "      <td>-1.726304e-03</td>\n",
       "      <td>0.001702</td>\n",
       "      <td>0.002150</td>\n",
       "      <td>0.001702</td>\n",
       "      <td>0.002410</td>\n",
       "      <td>0.005434</td>\n",
       "      <td>0.004567</td>\n",
       "      <td>-0.001466</td>\n",
       "    </tr>\n",
       "    <tr>\n",
       "      <th>1975-01-08</th>\n",
       "      <td>-0.001489</td>\n",
       "      <td>-2.000930e-04</td>\n",
       "      <td>-0.015237</td>\n",
       "      <td>-0.008650</td>\n",
       "      <td>-0.001997</td>\n",
       "      <td>0.000122</td>\n",
       "      <td>-0.006315</td>\n",
       "      <td>-0.000034</td>\n",
       "      <td>-0.006188</td>\n",
       "    </tr>\n",
       "    <tr>\n",
       "      <th>1975-01-09</th>\n",
       "      <td>-0.000324</td>\n",
       "      <td>-3.120108e-03</td>\n",
       "      <td>0.000298</td>\n",
       "      <td>0.004764</td>\n",
       "      <td>0.000298</td>\n",
       "      <td>-0.000409</td>\n",
       "      <td>-0.000114</td>\n",
       "      <td>-0.001217</td>\n",
       "      <td>-0.000751</td>\n",
       "    </tr>\n",
       "    <tr>\n",
       "      <th>1975-01-10</th>\n",
       "      <td>0.000077</td>\n",
       "      <td>-1.283429e-03</td>\n",
       "      <td>0.001489</td>\n",
       "      <td>0.001489</td>\n",
       "      <td>0.001489</td>\n",
       "      <td>0.000075</td>\n",
       "      <td>0.006256</td>\n",
       "      <td>0.000311</td>\n",
       "      <td>0.001489</td>\n",
       "    </tr>\n",
       "    <tr>\n",
       "      <th>1975-01-13</th>\n",
       "      <td>0.000579</td>\n",
       "      <td>-3.152212e-07</td>\n",
       "      <td>0.001789</td>\n",
       "      <td>-0.001210</td>\n",
       "      <td>0.000127</td>\n",
       "      <td>-0.000578</td>\n",
       "      <td>0.000542</td>\n",
       "      <td>0.000969</td>\n",
       "      <td>-0.002488</td>\n",
       "    </tr>\n",
       "    <tr>\n",
       "      <th>1975-01-14</th>\n",
       "      <td>-0.000699</td>\n",
       "      <td>7.303998e-04</td>\n",
       "      <td>-0.005132</td>\n",
       "      <td>-0.006698</td>\n",
       "      <td>-0.001827</td>\n",
       "      <td>0.000291</td>\n",
       "      <td>-0.006558</td>\n",
       "      <td>-0.000762</td>\n",
       "      <td>-0.007795</td>\n",
       "    </tr>\n",
       "    <tr>\n",
       "      <th>1975-01-15</th>\n",
       "      <td>-0.000934</td>\n",
       "      <td>1.198868e-03</td>\n",
       "      <td>-0.002078</td>\n",
       "      <td>0.001797</td>\n",
       "      <td>-0.000426</td>\n",
       "      <td>-0.002542</td>\n",
       "      <td>-0.002276</td>\n",
       "      <td>-0.000594</td>\n",
       "      <td>0.000094</td>\n",
       "    </tr>\n",
       "  </tbody>\n",
       "</table>\n",
       "</div>"
      ],
      "text/plain": [
       "                 AUD           CAD       CHF       EUR       GBP       JPY  \\\n",
       "1975-01-02 -0.002129 -1.712061e-03 -0.009915 -0.003544 -0.005745 -0.001502   \n",
       "1975-01-03 -0.000947  1.517425e-05  0.008500  0.007886  0.003424  0.002711   \n",
       "1975-01-06 -0.001158  6.677374e-04 -0.001023  0.008174  0.002346 -0.004728   \n",
       "1975-01-07  0.004193 -1.726304e-03  0.001702  0.002150  0.001702  0.002410   \n",
       "1975-01-08 -0.001489 -2.000930e-04 -0.015237 -0.008650 -0.001997  0.000122   \n",
       "1975-01-09 -0.000324 -3.120108e-03  0.000298  0.004764  0.000298 -0.000409   \n",
       "1975-01-10  0.000077 -1.283429e-03  0.001489  0.001489  0.001489  0.000075   \n",
       "1975-01-13  0.000579 -3.152212e-07  0.001789 -0.001210  0.000127 -0.000578   \n",
       "1975-01-14 -0.000699  7.303998e-04 -0.005132 -0.006698 -0.001827  0.000291   \n",
       "1975-01-15 -0.000934  1.198868e-03 -0.002078  0.001797 -0.000426 -0.002542   \n",
       "\n",
       "                 NOK       NZD       SEK  \n",
       "1975-01-02 -0.003299  0.000536 -0.004704  \n",
       "1975-01-03  0.008801 -0.001924  0.007113  \n",
       "1975-01-06  0.002759 -0.001129  0.009237  \n",
       "1975-01-07  0.005434  0.004567 -0.001466  \n",
       "1975-01-08 -0.006315 -0.000034 -0.006188  \n",
       "1975-01-09 -0.000114 -0.001217 -0.000751  \n",
       "1975-01-10  0.006256  0.000311  0.001489  \n",
       "1975-01-13  0.000542  0.000969 -0.002488  \n",
       "1975-01-14 -0.006558 -0.000762 -0.007795  \n",
       "1975-01-15 -0.002276 -0.000594  0.000094  "
      ]
     },
     "execution_count": 2,
     "metadata": {},
     "output_type": "execute_result"
    }
   ],
   "source": [
    "with open('./returns.pkl', 'rb') as f:\n",
    "    returns = pickle.load(f)\n",
    "    f.close()\n",
    "returns.head(10)"
   ]
  },
  {
   "cell_type": "markdown",
   "metadata": {
    "colab_type": "text",
    "id": "WPfZk0NLtIaU"
   },
   "source": [
    "### Create a function that calculates turbulence for the whole window supplied using the last row as the observed return\n",
    "\n",
    "Note that for faster computation we can replace ``` np.linalg.pinv(covmat)@(r - mu) ``` with ``` np.linalg.lstsq(covmat, r - mu)[0] ```\n",
    "\n",
    "Also note that a more proper calculation of turbulence would only use rows 1:n-1 to calculate mean and covariance. But everybody seems to include n, so we aren't going to get upset here because it is simpler."
   ]
  },
  {
   "cell_type": "code",
   "execution_count": 23,
   "metadata": {
    "colab": {},
    "colab_type": "code",
    "id": "cyFwsRh7T-jC"
   },
   "outputs": [],
   "source": [
    "def simple_turbulence(rets):\n",
    "  meanret = rets.mean()\n",
    "  covrets = rets.cov()\n",
    "  turbvalue = pd.DataFrame((rets[-1:]-meanret)@np.linalg.lstsq(covrets,(rets[-1:]-meanret).T, rcond=None)[0],index=[rets.index[-1]],columns=['daily'])\n",
    "  return turbvalue"
   ]
  },
  {
   "cell_type": "code",
   "execution_count": 24,
   "metadata": {
    "colab": {
     "base_uri": "https://localhost:8080/",
     "height": 80
    },
    "colab_type": "code",
    "id": "qinK625FmwO3",
    "outputId": "6afc9696-e2a0-4e7e-f408-d5a22046bef2"
   },
   "outputs": [
    {
     "data": {
      "text/html": [
       "<div>\n",
       "<style scoped>\n",
       "    .dataframe tbody tr th:only-of-type {\n",
       "        vertical-align: middle;\n",
       "    }\n",
       "\n",
       "    .dataframe tbody tr th {\n",
       "        vertical-align: top;\n",
       "    }\n",
       "\n",
       "    .dataframe thead th {\n",
       "        text-align: right;\n",
       "    }\n",
       "</style>\n",
       "<table border=\"1\" class=\"dataframe\">\n",
       "  <thead>\n",
       "    <tr style=\"text-align: right;\">\n",
       "      <th></th>\n",
       "      <th>daily</th>\n",
       "    </tr>\n",
       "  </thead>\n",
       "  <tbody>\n",
       "    <tr>\n",
       "      <th>2017-12-26</th>\n",
       "      <td>1.944164</td>\n",
       "    </tr>\n",
       "  </tbody>\n",
       "</table>\n",
       "</div>"
      ],
      "text/plain": [
       "               daily\n",
       "2017-12-26  1.944164"
      ]
     },
     "execution_count": 24,
     "metadata": {},
     "output_type": "execute_result"
    }
   ],
   "source": [
    "turb_singleday = simple_turbulence(returns)\n",
    "turb_singleday"
   ]
  },
  {
   "cell_type": "markdown",
   "metadata": {
    "colab_type": "text",
    "id": "6rL7V05_kAzg"
   },
   "source": [
    "### Create a function that calculates rolling turbulence given a lookback window and a smoothing window\n",
    "\n",
    "To do this, we are going to create a function ```roll``` that generates a rolling window of returns for a specified window length, and a function that applies the turbulence calculation to that window."
   ]
  },
  {
   "cell_type": "code",
   "execution_count": 25,
   "metadata": {
    "colab": {},
    "colab_type": "code",
    "id": "ZYRisZw66GDy"
   },
   "outputs": [],
   "source": [
    "def roll(df, w):\n",
    "    for i in range(df.shape[0] - w + 1):\n",
    "        yield pd.DataFrame(df.values[i:i+w, :], df.index[i:i+w], df.columns)\n",
    "  \n",
    "def rolling_turbulence(rets, lookback=260, smoothing=20):\n",
    "    roll_turb = pd.concat([simple_turbulence(retwindow) for retwindow in roll(rets, lookback)], axis=0)\n",
    "    roll_turb_smooth = pd.DataFrame(roll_turb.rolling(smoothing).mean()).rename(columns={'daily':'smoothed'})\n",
    "    rets = rets.join(roll_turb)\n",
    "    rets = rets.join(roll_turb_smooth)\n",
    "    return rets[['daily','smoothed']]"
   ]
  },
  {
   "cell_type": "code",
   "execution_count": 26,
   "metadata": {
    "colab": {
     "base_uri": "https://localhost:8080/",
     "height": 669
    },
    "colab_type": "code",
    "id": "al1TiJa-msmW",
    "outputId": "972c71e9-2991-4876-a9ed-c93885015b9e"
   },
   "outputs": [
    {
     "data": {
      "text/html": [
       "<div>\n",
       "<style scoped>\n",
       "    .dataframe tbody tr th:only-of-type {\n",
       "        vertical-align: middle;\n",
       "    }\n",
       "\n",
       "    .dataframe tbody tr th {\n",
       "        vertical-align: top;\n",
       "    }\n",
       "\n",
       "    .dataframe thead th {\n",
       "        text-align: right;\n",
       "    }\n",
       "</style>\n",
       "<table border=\"1\" class=\"dataframe\">\n",
       "  <thead>\n",
       "    <tr style=\"text-align: right;\">\n",
       "      <th></th>\n",
       "      <th>daily</th>\n",
       "      <th>smoothed</th>\n",
       "    </tr>\n",
       "  </thead>\n",
       "  <tbody>\n",
       "    <tr>\n",
       "      <th>2017-11-29</th>\n",
       "      <td>11.708329</td>\n",
       "      <td>8.198902</td>\n",
       "    </tr>\n",
       "    <tr>\n",
       "      <th>2017-11-30</th>\n",
       "      <td>19.434739</td>\n",
       "      <td>8.275519</td>\n",
       "    </tr>\n",
       "    <tr>\n",
       "      <th>2017-12-01</th>\n",
       "      <td>16.035338</td>\n",
       "      <td>8.625853</td>\n",
       "    </tr>\n",
       "    <tr>\n",
       "      <th>2017-12-04</th>\n",
       "      <td>3.472929</td>\n",
       "      <td>8.539207</td>\n",
       "    </tr>\n",
       "    <tr>\n",
       "      <th>2017-12-05</th>\n",
       "      <td>4.495685</td>\n",
       "      <td>8.672033</td>\n",
       "    </tr>\n",
       "    <tr>\n",
       "      <th>2017-12-06</th>\n",
       "      <td>15.095148</td>\n",
       "      <td>9.194906</td>\n",
       "    </tr>\n",
       "    <tr>\n",
       "      <th>2017-12-07</th>\n",
       "      <td>6.858294</td>\n",
       "      <td>9.277124</td>\n",
       "    </tr>\n",
       "    <tr>\n",
       "      <th>2017-12-08</th>\n",
       "      <td>4.493710</td>\n",
       "      <td>9.385128</td>\n",
       "    </tr>\n",
       "    <tr>\n",
       "      <th>2017-12-11</th>\n",
       "      <td>15.851664</td>\n",
       "      <td>9.848611</td>\n",
       "    </tr>\n",
       "    <tr>\n",
       "      <th>2017-12-12</th>\n",
       "      <td>14.919482</td>\n",
       "      <td>9.333394</td>\n",
       "    </tr>\n",
       "    <tr>\n",
       "      <th>2017-12-13</th>\n",
       "      <td>7.104382</td>\n",
       "      <td>9.255318</td>\n",
       "    </tr>\n",
       "    <tr>\n",
       "      <th>2017-12-14</th>\n",
       "      <td>14.024887</td>\n",
       "      <td>9.301566</td>\n",
       "    </tr>\n",
       "    <tr>\n",
       "      <th>2017-12-15</th>\n",
       "      <td>9.508751</td>\n",
       "      <td>9.201255</td>\n",
       "    </tr>\n",
       "    <tr>\n",
       "      <th>2017-12-18</th>\n",
       "      <td>10.218734</td>\n",
       "      <td>9.534421</td>\n",
       "    </tr>\n",
       "    <tr>\n",
       "      <th>2017-12-19</th>\n",
       "      <td>2.355405</td>\n",
       "      <td>9.312686</td>\n",
       "    </tr>\n",
       "    <tr>\n",
       "      <th>2017-12-20</th>\n",
       "      <td>9.792659</td>\n",
       "      <td>9.515570</td>\n",
       "    </tr>\n",
       "    <tr>\n",
       "      <th>2017-12-21</th>\n",
       "      <td>11.585900</td>\n",
       "      <td>9.753695</td>\n",
       "    </tr>\n",
       "    <tr>\n",
       "      <th>2017-12-22</th>\n",
       "      <td>10.544862</td>\n",
       "      <td>9.921964</td>\n",
       "    </tr>\n",
       "    <tr>\n",
       "      <th>2017-12-25</th>\n",
       "      <td>0.023829</td>\n",
       "      <td>9.718984</td>\n",
       "    </tr>\n",
       "    <tr>\n",
       "      <th>2017-12-26</th>\n",
       "      <td>2.041302</td>\n",
       "      <td>9.478301</td>\n",
       "    </tr>\n",
       "  </tbody>\n",
       "</table>\n",
       "</div>"
      ],
      "text/plain": [
       "                daily  smoothed\n",
       "2017-11-29  11.708329  8.198902\n",
       "2017-11-30  19.434739  8.275519\n",
       "2017-12-01  16.035338  8.625853\n",
       "2017-12-04   3.472929  8.539207\n",
       "2017-12-05   4.495685  8.672033\n",
       "2017-12-06  15.095148  9.194906\n",
       "2017-12-07   6.858294  9.277124\n",
       "2017-12-08   4.493710  9.385128\n",
       "2017-12-11  15.851664  9.848611\n",
       "2017-12-12  14.919482  9.333394\n",
       "2017-12-13   7.104382  9.255318\n",
       "2017-12-14  14.024887  9.301566\n",
       "2017-12-15   9.508751  9.201255\n",
       "2017-12-18  10.218734  9.534421\n",
       "2017-12-19   2.355405  9.312686\n",
       "2017-12-20   9.792659  9.515570\n",
       "2017-12-21  11.585900  9.753695\n",
       "2017-12-22  10.544862  9.921964\n",
       "2017-12-25   0.023829  9.718984\n",
       "2017-12-26   2.041302  9.478301"
      ]
     },
     "execution_count": 26,
     "metadata": {},
     "output_type": "execute_result"
    }
   ],
   "source": [
    "roll_turb = rolling_turbulence(returns, lookback=260, smoothing=20)\n",
    "roll_turb.tail(20)"
   ]
  },
  {
   "cell_type": "code",
   "execution_count": 27,
   "metadata": {
    "colab": {
     "base_uri": "https://localhost:8080/",
     "height": 286
    },
    "colab_type": "code",
    "id": "lX2SH9yqI1e7",
    "outputId": "1e0bdcfe-bc87-4256-d19d-8453e1fe75e4"
   },
   "outputs": [
    {
     "data": {
      "text/plain": [
       "<matplotlib.axes._subplots.AxesSubplot at 0x7f4e3c5a1860>"
      ]
     },
     "execution_count": 27,
     "metadata": {},
     "output_type": "execute_result"
    },
    {
     "data": {
      "image/png": "[encoded data removed]",
      "text/plain": [
       "<Figure size 432x288 with 1 Axes>"
      ]
     },
     "metadata": {},
     "output_type": "display_data"
    }
   ],
   "source": [
    "roll_turb.plot()"
   ]
  },
  {
   "cell_type": "markdown",
   "metadata": {
    "colab_type": "text",
    "id": "nrZTZ568uGXu"
   },
   "source": [
    "### Convert rolling turbulence into a weight (And do so in a function)\n",
    "\n",
    "Turbulence as a raw statistic ranges between 0 and infinity. It cannot be directly used for investment strategies without some kind of transformation into model weights.\n",
    "\n",
    "Our most obvious optiions are to create a binary cutoff or linear ranking. We are going to use linear ranking, though there are reasons why you might want to use a binary cutoff (simple on/off model).\n",
    "\n",
    "The linear ranking, when used in-sample, should map results to a uniform distribution."
   ]
  },
  {
   "cell_type": "code",
   "execution_count": 28,
   "metadata": {
    "colab": {
     "base_uri": "https://localhost:8080/",
     "height": 286
    },
    "colab_type": "code",
    "id": "lCW0NX0odY_R",
    "outputId": "b1aba278-ea8c-4055-8bf8-71bb35044119"
   },
   "outputs": [
    {
     "data": {
      "text/plain": [
       "<matplotlib.axes._subplots.AxesSubplot at 0x7f4e3b3b78d0>"
      ]
     },
     "execution_count": 28,
     "metadata": {},
     "output_type": "execute_result"
    },
    {
     "data": {
      "image/png": "[encoded data removed]",
      "text/plain": [
       "<Figure size 432x288 with 1 Axes>"
      ]
     },
     "metadata": {},
     "output_type": "display_data"
    }
   ],
   "source": [
    "roll_turb['smoothed'].hist(bins=50)"
   ]
  },
  {
   "cell_type": "code",
   "execution_count": 29,
   "metadata": {
    "colab": {
     "base_uri": "https://localhost:8080/",
     "height": 286
    },
    "colab_type": "code",
    "id": "zqf9ivy6XYe4",
    "outputId": "2f1707ba-2cb5-43a0-9576-501a89d6c6cb"
   },
   "outputs": [
    {
     "data": {
      "text/plain": [
       "<matplotlib.axes._subplots.AxesSubplot at 0x7f4e3b246978>"
      ]
     },
     "execution_count": 29,
     "metadata": {},
     "output_type": "execute_result"
    },
    {
     "data": {
      "image/png": "[encoded data removed]",
      "text/plain": [
       "<Figure size 432x288 with 1 Axes>"
      ]
     },
     "metadata": {},
     "output_type": "display_data"
    }
   ],
   "source": [
    "historical_turb_rank = roll_turb['smoothed'].dropna().rank()/roll_turb['smoothed'].count()\n",
    "historical_turb_rank.hist(bins=50)\n"
   ]
  },
  {
   "cell_type": "code",
   "execution_count": 30,
   "metadata": {
    "colab": {
     "base_uri": "https://localhost:8080/",
     "height": 286
    },
    "colab_type": "code",
    "id": "X4bJWUpHE1pR",
    "outputId": "9f608dfe-4c59-49ad-c2a8-bdc9d10300f5"
   },
   "outputs": [
    {
     "data": {
      "text/plain": [
       "<matplotlib.axes._subplots.AxesSubplot at 0x7f4e3b17ee48>"
      ]
     },
     "execution_count": 30,
     "metadata": {},
     "output_type": "execute_result"
    },
    {
     "data": {
      "image/png": "[encoded data removed]",
      "text/plain": [
       "<Figure size 432x288 with 1 Axes>"
      ]
     },
     "metadata": {},
     "output_type": "display_data"
    }
   ],
   "source": [
    "insample_start_date = '1975-01-02'\n",
    "insample_end_date = '2000-01-01'\n",
    "insample_turb = (roll_turb['smoothed'].loc[insample_start_date:insample_end_date]).dropna().values\n",
    "insample_turb.sort()\n",
    "num_insample = np.size(insample_turb)\n",
    "roll_turb['ranked'] = np.true_divide(list(map(lambda x:float('NaN') if np.isnan(x) else bisect.bisect_left(insample_turb,x), roll_turb['smoothed'])),num_insample)\n",
    "roll_turb['ranked'].plot()"
   ]
  },
  {
   "cell_type": "code",
   "execution_count": 31,
   "metadata": {
    "colab": {},
    "colab_type": "code",
    "id": "5GYgPevt22DJ"
   },
   "outputs": [],
   "source": [
    "def turbulence_weights(roll_turb, insample_start_date, insample_end_date):\n",
    "  insample_turb = (roll_turb['smoothed'].loc[insample_start_date:insample_end_date]).dropna().values\n",
    "  insample_turb.sort()\n",
    "  num_insample = np.size(insample_turb)\n",
    "  turb_weights = pd.DataFrame(np.true_divide(list(map(lambda x:float('NaN') if np.isnan(x) else bisect.bisect_left(insample_turb,x), roll_turb['smoothed'])),num_insample), index=roll_turb.index)\n",
    "  turb_weights.columns=['weights']\n",
    "  return turb_weights"
   ]
  },
  {
   "cell_type": "code",
   "execution_count": 32,
   "metadata": {
    "colab": {
     "base_uri": "https://localhost:8080/",
     "height": 669
    },
    "colab_type": "code",
    "id": "MjKhquX373So",
    "outputId": "34da9642-1249-470c-9307-d7a017d2da9a"
   },
   "outputs": [
    {
     "data": {
      "text/html": [
       "<div>\n",
       "<style scoped>\n",
       "    .dataframe tbody tr th:only-of-type {\n",
       "        vertical-align: middle;\n",
       "    }\n",
       "\n",
       "    .dataframe tbody tr th {\n",
       "        vertical-align: top;\n",
       "    }\n",
       "\n",
       "    .dataframe thead th {\n",
       "        text-align: right;\n",
       "    }\n",
       "</style>\n",
       "<table border=\"1\" class=\"dataframe\">\n",
       "  <thead>\n",
       "    <tr style=\"text-align: right;\">\n",
       "      <th></th>\n",
       "      <th>weights</th>\n",
       "    </tr>\n",
       "  </thead>\n",
       "  <tbody>\n",
       "    <tr>\n",
       "      <th>2017-11-29</th>\n",
       "      <td>0.504805</td>\n",
       "    </tr>\n",
       "    <tr>\n",
       "      <th>2017-11-30</th>\n",
       "      <td>0.510730</td>\n",
       "    </tr>\n",
       "    <tr>\n",
       "      <th>2017-12-01</th>\n",
       "      <td>0.543722</td>\n",
       "    </tr>\n",
       "    <tr>\n",
       "      <th>2017-12-04</th>\n",
       "      <td>0.536355</td>\n",
       "    </tr>\n",
       "    <tr>\n",
       "      <th>2017-12-05</th>\n",
       "      <td>0.547406</td>\n",
       "    </tr>\n",
       "    <tr>\n",
       "      <th>2017-12-06</th>\n",
       "      <td>0.593530</td>\n",
       "    </tr>\n",
       "    <tr>\n",
       "      <th>2017-12-07</th>\n",
       "      <td>0.600897</td>\n",
       "    </tr>\n",
       "    <tr>\n",
       "      <th>2017-12-08</th>\n",
       "      <td>0.608424</td>\n",
       "    </tr>\n",
       "    <tr>\n",
       "      <th>2017-12-11</th>\n",
       "      <td>0.647822</td>\n",
       "    </tr>\n",
       "    <tr>\n",
       "      <th>2017-12-12</th>\n",
       "      <td>0.604901</td>\n",
       "    </tr>\n",
       "    <tr>\n",
       "      <th>2017-12-13</th>\n",
       "      <td>0.598014</td>\n",
       "    </tr>\n",
       "    <tr>\n",
       "      <th>2017-12-14</th>\n",
       "      <td>0.602498</td>\n",
       "    </tr>\n",
       "    <tr>\n",
       "      <th>2017-12-15</th>\n",
       "      <td>0.594170</td>\n",
       "    </tr>\n",
       "    <tr>\n",
       "      <th>2017-12-18</th>\n",
       "      <td>0.618834</td>\n",
       "    </tr>\n",
       "    <tr>\n",
       "      <th>2017-12-19</th>\n",
       "      <td>0.603139</td>\n",
       "    </tr>\n",
       "    <tr>\n",
       "      <th>2017-12-20</th>\n",
       "      <td>0.617553</td>\n",
       "    </tr>\n",
       "    <tr>\n",
       "      <th>2017-12-21</th>\n",
       "      <td>0.639494</td>\n",
       "    </tr>\n",
       "    <tr>\n",
       "      <th>2017-12-22</th>\n",
       "      <td>0.652627</td>\n",
       "    </tr>\n",
       "    <tr>\n",
       "      <th>2017-12-25</th>\n",
       "      <td>0.635650</td>\n",
       "    </tr>\n",
       "    <tr>\n",
       "      <th>2017-12-26</th>\n",
       "      <td>0.615471</td>\n",
       "    </tr>\n",
       "  </tbody>\n",
       "</table>\n",
       "</div>"
      ],
      "text/plain": [
       "             weights\n",
       "2017-11-29  0.504805\n",
       "2017-11-30  0.510730\n",
       "2017-12-01  0.543722\n",
       "2017-12-04  0.536355\n",
       "2017-12-05  0.547406\n",
       "2017-12-06  0.593530\n",
       "2017-12-07  0.600897\n",
       "2017-12-08  0.608424\n",
       "2017-12-11  0.647822\n",
       "2017-12-12  0.604901\n",
       "2017-12-13  0.598014\n",
       "2017-12-14  0.602498\n",
       "2017-12-15  0.594170\n",
       "2017-12-18  0.618834\n",
       "2017-12-19  0.603139\n",
       "2017-12-20  0.617553\n",
       "2017-12-21  0.639494\n",
       "2017-12-22  0.652627\n",
       "2017-12-25  0.635650\n",
       "2017-12-26  0.615471"
      ]
     },
     "execution_count": 32,
     "metadata": {},
     "output_type": "execute_result"
    }
   ],
   "source": [
    "turb_weights = turbulence_weights(roll_turb, '1975-01-02', '2000-01-01')\n",
    "turb_weights.tail(20)"
   ]
  },
  {
   "cell_type": "markdown",
   "metadata": {
    "colab_type": "text",
    "id": "N20M0VTMyxil"
   },
   "source": [
    "### Calculate the performance of the turbulence model\n",
    "\n",
    "Leveraging the framework we developed in Part 3, we calculate the excess performance of the model.\n"
   ]
  },
  {
   "cell_type": "code",
   "execution_count": 38,
   "metadata": {
    "colab": {},
    "colab_type": "code",
    "id": "naWuvBdzu-NZ"
   },
   "outputs": [],
   "source": [
    "def model_perf(model_wts, dxyfsq, framework_params):\n",
    "  # Note, since chapter 3, modified the code a little to handle the possibility that column headings are not constant\n",
    "  # Also added an estimation window, which we will use later\n",
    "    \n",
    "  model_vol = pd.DataFrame()\n",
    "  model_vol['total'] = model_wts[model_wts.columns[0]]*dxyfsq[dxyfsq.columns[0]] \n",
    "  model_vol['avg'] = (np.mean(model_wts.loc[framework_params['insample_start_date']:framework_params['insample_end_date']].dropna()[model_wts.columns[0]])*dxyfsq)\n",
    "\n",
    "  is_model_vol = model_vol.loc[framework_params['insample_start_date']:framework_params['insample_end_date']].dropna() \n",
    "  is_vol_rmse = np.sqrt(np.mean(is_model_vol))\n",
    "\n",
    "  out_model_vol = model_vol.loc[framework_params['outofsample_start_date']:framework_params['outofsample_end_date']].dropna()\n",
    "  out_vol_rmse = np.sqrt(np.mean(out_model_vol))\n",
    "  \n",
    "  model_perf_stats = {'insample rmse': is_vol_rmse['total'], 'insample excess rmse': is_vol_rmse['total'] - is_vol_rmse['avg'],\n",
    "                        'out-of-sample rmse': out_vol_rmse['total'], 'out-of-sample excess rmse': out_vol_rmse['total'] - out_vol_rmse['avg']}\n",
    "    \n",
    "  if framework_params.get('estimationsample_start_date'):\n",
    "    est_model_vol = model_vol.loc[framework_params['estimationsample_start_date']:framework_params['estimationsample_end_date']].dropna()\n",
    "    est_vol_rmse = np.sqrt(np.mean(est_model_vol))\n",
    "    model_perf_stats['estimation rmse'] = est_vol_rmse['total']\n",
    "    model_perf_stats['estimation excess rmse'] = est_vol_rmse['total'] - est_vol_rmse['avg']\n",
    "        \n",
    "  if framework_params.get('verbose',False):\n",
    "    model_perf_stats['insample model volatility'] = is_model_vol\n",
    "    model_perf_stats['out-of-sample model volatility'] = out_model_vol\n",
    "    \n",
    "  return model_perf_stats"
   ]
  },
  {
   "cell_type": "code",
   "execution_count": 39,
   "metadata": {
    "colab": {
     "base_uri": "https://localhost:8080/",
     "height": 85
    },
    "colab_type": "code",
    "id": "VL5tpBzRSQJp",
    "outputId": "ec6dbff2-a4ad-4be2-d229-a9db27c035ec"
   },
   "outputs": [
    {
     "data": {
      "text/plain": [
       "{'insample rmse': 0.0036668027909790577,\n",
       " 'insample excess rmse': 0.0002099394644574184,\n",
       " 'out-of-sample rmse': 0.0033668848494255734,\n",
       " 'out-of-sample excess rmse': 0.0002046628705417203}"
      ]
     },
     "execution_count": 39,
     "metadata": {},
     "output_type": "execute_result"
    }
   ],
   "source": [
    "framework_params = {'insample_start_date': '1975-01-02',\n",
    "                    'insample_end_date': '2000-01-01',\n",
    "                    'outofsample_start_date': '2000-01-02',\n",
    "                    'outofsample_end_date': '2017-12-26',\n",
    "                    'verbose': False}\n",
    "\n",
    "dxy_weight = [0, 0.119, 0.036, 0, 0.136, 0.576, 0, 0, 0.091]\n",
    "dxy = pd.DataFrame(returns.dot(dxy_weight))\n",
    "dxy_forward = dxy.shift(-1)\n",
    "dxy_forward_sq = dxy_forward**2\n",
    "\n",
    "model_perf(turb_weights, dxy_forward_sq, framework_params)"
   ]
  },
  {
   "cell_type": "markdown",
   "metadata": {
    "colab_type": "text",
    "id": "tizAz_Mr_ivO"
   },
   "source": [
    "### "
   ]
  },
  {
   "cell_type": "markdown",
   "metadata": {
    "colab_type": "text",
    "id": "byOlnZO40EDx"
   },
   "source": [
    "### Test significance of excess volatility\n",
    "\n",
    "A simple test of the ability of a turbulence model to outperform a random model is to calculate the significance of the average excess volatility.\n",
    "\n",
    "We can calculate this by looking at the difference between the volatility for the model and the volatility of a model that assigns an average weight to volatility and calculating a t-statistic:"
   ]
  },
  {
   "cell_type": "code",
   "execution_count": 35,
   "metadata": {
    "colab": {
     "base_uri": "https://localhost:8080/",
     "height": 34
    },
    "colab_type": "code",
    "id": "stRMHt7qy6Pr",
    "outputId": "be6dd68a-cf72-4125-914d-dd6b991054c9"
   },
   "outputs": [
    {
     "data": {
      "text/plain": [
       "Ttest_relResult(statistic=5.683095936183465, pvalue=1.3825260997270177e-08)"
      ]
     },
     "execution_count": 35,
     "metadata": {},
     "output_type": "execute_result"
    }
   ],
   "source": [
    "framework_params = {'insample_start_date': '1975-01-02',\n",
    "                    'insample_end_date': '2000-01-01',\n",
    "                    'outofsample_start_date': '2000-01-02',\n",
    "                    'outofsample_end_date': '2017-12-26',\n",
    "                    'verbose': True}\n",
    "\n",
    "model_perf_stats = model_perf(turb_weights, dxy_forward_sq, framework_params)\n",
    "\n",
    "stats.ttest_rel(model_perf_stats['insample model volatility']['total'], model_perf_stats['insample model volatility']['avg'])"
   ]
  },
  {
   "cell_type": "code",
   "execution_count": 36,
   "metadata": {
    "colab": {
     "base_uri": "https://localhost:8080/",
     "height": 34
    },
    "colab_type": "code",
    "id": "-93ZyVJIPwv6",
    "outputId": "921f3d48-2a8f-442c-85eb-263dcc606d9a"
   },
   "outputs": [
    {
     "data": {
      "text/plain": [
       "Ttest_relResult(statistic=6.578732513461931, pvalue=5.263650715914841e-11)"
      ]
     },
     "execution_count": 36,
     "metadata": {},
     "output_type": "execute_result"
    }
   ],
   "source": [
    "stats.ttest_rel(model_perf_stats['out-of-sample model volatility']['total'], model_perf_stats['out-of-sample model volatility']['avg'])"
   ]
  },
  {
   "cell_type": "markdown",
   "metadata": {},
   "source": [
    "### Grid search for the optimal parameters\n",
    "\n",
    "We chose a smoothing window of 20 days and a lookback of 260 days. How do we pick the correct parameters?\n",
    "\n",
    "We need to be careful about holdback periods with this kind of analysis. Let's start by being careful with our sample windows."
   ]
  },
  {
   "cell_type": "markdown",
   "metadata": {},
   "source": [
    "### Splitting the sample for hyperparameter tuning\n",
    "\n",
    "We will limit ourselves to the following sample windows:\n",
    "\n",
    "insample_start_date: '1975-01-02'\n",
    "insample_end_date: '1994-12-31'\n",
    "estimationsample_start_date: '1995-01-01'\n",
    "estimationsample_end_date: '2004-12-31'\n",
    "outofsample_start_date: '2005-01-01'\n",
    "outofsample_end_date: '2017-12-26'"
   ]
  },
  {
   "cell_type": "code",
   "execution_count": 97,
   "metadata": {},
   "outputs": [
    {
     "data": {
      "text/plain": [
       "{'insample rmse': 0.003524952383966531,\n",
       " 'insample excess rmse': 0.00014001396118930092,\n",
       " 'out-of-sample rmse': 0.0034185300312204302,\n",
       " 'out-of-sample excess rmse': 0.00021245674021054236,\n",
       " 'estimation rmse': 0.0037508147904179467,\n",
       " 'estimation excess rmse': 0.0003535025870098885}"
      ]
     },
     "execution_count": 97,
     "metadata": {},
     "output_type": "execute_result"
    }
   ],
   "source": [
    "framework_params = {'insample_start_date': '1975-01-02',\n",
    "                    'insample_end_date': '1994-12-31',\n",
    "                    'estimationsample_start_date': '1995-01-01',\n",
    "                    'estimationsample_end_date': '2004-12-31',\n",
    "                    'outofsample_start_date': '2005-01-01',\n",
    "                    'outofsample_end_date': '2017-12-26',\n",
    "                    'verbose': False}\n",
    "\n",
    "def turbulence_models_performance(rets, framework_params, lookback, smoothing):\n",
    "  roll_turb_signal = rolling_turbulence(rets, lookback=lookback, smoothing=smoothing)\n",
    "  turb_wts = turbulence_weights(roll_turb_signal, framework_params['insample_start_date'], framework_params['insample_end_date'])\n",
    "  model_perf_stats = model_perf(turb_wts, dxy_forward_sq, framework_params)\n",
    "  return model_perf_stats\n",
    "\n",
    "some_model_perf_stats = turbulence_models_performance(returns, framework_params, 260, 20)\n",
    "some_model_perf_stats"
   ]
  },
  {
   "cell_type": "markdown",
   "metadata": {},
   "source": [
    "We will run for the following lookback windows:\n",
    "65 days (1 Quarter), 130 days (Half year), 260 days (1 year), 390 days (1.5 years), 520 days (2 years)\n",
    "\n",
    "and the following smoothing windows:\n",
    "1 day (daily), 5 days (weekly), 10 days (fortnightly), 20 days (monthishly), 40 days (bimonthly)"
   ]
  },
  {
   "cell_type": "code",
   "execution_count": 100,
   "metadata": {},
   "outputs": [
    {
     "data": {
      "text/html": [
       "<div>\n",
       "<style scoped>\n",
       "    .dataframe tbody tr th:only-of-type {\n",
       "        vertical-align: middle;\n",
       "    }\n",
       "\n",
       "    .dataframe tbody tr th {\n",
       "        vertical-align: top;\n",
       "    }\n",
       "\n",
       "    .dataframe thead th {\n",
       "        text-align: right;\n",
       "    }\n",
       "</style>\n",
       "<table border=\"1\" class=\"dataframe\">\n",
       "  <thead>\n",
       "    <tr style=\"text-align: right;\">\n",
       "      <th></th>\n",
       "      <th></th>\n",
       "      <th>insample rmse</th>\n",
       "      <th>insample excess rmse</th>\n",
       "      <th>out-of-sample rmse</th>\n",
       "      <th>out-of-sample excess rmse</th>\n",
       "      <th>estimation rmse</th>\n",
       "      <th>estimation excess rmse</th>\n",
       "    </tr>\n",
       "    <tr>\n",
       "      <th>lookbacks</th>\n",
       "      <th>smoothings</th>\n",
       "      <th></th>\n",
       "      <th></th>\n",
       "      <th></th>\n",
       "      <th></th>\n",
       "      <th></th>\n",
       "      <th></th>\n",
       "    </tr>\n",
       "  </thead>\n",
       "  <tbody>\n",
       "    <tr>\n",
       "      <th rowspan=\"5\" valign=\"top\">65</th>\n",
       "      <th>1</th>\n",
       "      <td>0.00338469</td>\n",
       "      <td>5.3944e-05</td>\n",
       "      <td>0.00327049</td>\n",
       "      <td>6.4404e-05</td>\n",
       "      <td>0.00362153</td>\n",
       "      <td>0.000224207</td>\n",
       "    </tr>\n",
       "    <tr>\n",
       "      <th>5</th>\n",
       "      <td>0.0035065</td>\n",
       "      <td>0.000174739</td>\n",
       "      <td>0.00328465</td>\n",
       "      <td>7.85653e-05</td>\n",
       "      <td>0.0036441</td>\n",
       "      <td>0.000246778</td>\n",
       "    </tr>\n",
       "    <tr>\n",
       "      <th>10</th>\n",
       "      <td>0.00347029</td>\n",
       "      <td>0.000137583</td>\n",
       "      <td>0.00323582</td>\n",
       "      <td>2.97307e-05</td>\n",
       "      <td>0.00361534</td>\n",
       "      <td>0.000218016</td>\n",
       "    </tr>\n",
       "    <tr>\n",
       "      <th>20</th>\n",
       "      <td>0.00349785</td>\n",
       "      <td>0.000162723</td>\n",
       "      <td>0.00319582</td>\n",
       "      <td>-1.02665e-05</td>\n",
       "      <td>0.0036081</td>\n",
       "      <td>0.00021077</td>\n",
       "    </tr>\n",
       "    <tr>\n",
       "      <th>40</th>\n",
       "      <td>0.00347482</td>\n",
       "      <td>0.000134439</td>\n",
       "      <td>0.00320854</td>\n",
       "      <td>2.45479e-06</td>\n",
       "      <td>0.00358127</td>\n",
       "      <td>0.000183941</td>\n",
       "    </tr>\n",
       "    <tr>\n",
       "      <th rowspan=\"5\" valign=\"top\">130</th>\n",
       "      <th>1</th>\n",
       "      <td>0.00342055</td>\n",
       "      <td>7.67317e-05</td>\n",
       "      <td>0.00335637</td>\n",
       "      <td>0.000150285</td>\n",
       "      <td>0.00368992</td>\n",
       "      <td>0.000292598</td>\n",
       "    </tr>\n",
       "    <tr>\n",
       "      <th>5</th>\n",
       "      <td>0.00353783</td>\n",
       "      <td>0.000193303</td>\n",
       "      <td>0.00340019</td>\n",
       "      <td>0.000194109</td>\n",
       "      <td>0.00373967</td>\n",
       "      <td>0.000342344</td>\n",
       "    </tr>\n",
       "    <tr>\n",
       "      <th>10</th>\n",
       "      <td>0.0035047</td>\n",
       "      <td>0.000158729</td>\n",
       "      <td>0.00336524</td>\n",
       "      <td>0.000159162</td>\n",
       "      <td>0.00369732</td>\n",
       "      <td>0.000300003</td>\n",
       "    </tr>\n",
       "    <tr>\n",
       "      <th>20</th>\n",
       "      <td>0.00349591</td>\n",
       "      <td>0.000148547</td>\n",
       "      <td>0.00332523</td>\n",
       "      <td>0.00011915</td>\n",
       "      <td>0.00367064</td>\n",
       "      <td>0.000273321</td>\n",
       "    </tr>\n",
       "    <tr>\n",
       "      <th>40</th>\n",
       "      <td>0.00345148</td>\n",
       "      <td>9.90474e-05</td>\n",
       "      <td>0.00331948</td>\n",
       "      <td>0.000113403</td>\n",
       "      <td>0.00362999</td>\n",
       "      <td>0.000232669</td>\n",
       "    </tr>\n",
       "    <tr>\n",
       "      <th rowspan=\"5\" valign=\"top\">260</th>\n",
       "      <th>1</th>\n",
       "      <td>0.0034594</td>\n",
       "      <td>8.03574e-05</td>\n",
       "      <td>0.00342442</td>\n",
       "      <td>0.000218347</td>\n",
       "      <td>0.00375885</td>\n",
       "      <td>0.000361534</td>\n",
       "    </tr>\n",
       "    <tr>\n",
       "      <th>5</th>\n",
       "      <td>0.00356858</td>\n",
       "      <td>0.000188231</td>\n",
       "      <td>0.00348605</td>\n",
       "      <td>0.000279974</td>\n",
       "      <td>0.00381321</td>\n",
       "      <td>0.0004159</td>\n",
       "    </tr>\n",
       "    <tr>\n",
       "      <th>10</th>\n",
       "      <td>0.00353431</td>\n",
       "      <td>0.000152531</td>\n",
       "      <td>0.00345548</td>\n",
       "      <td>0.000249409</td>\n",
       "      <td>0.00378117</td>\n",
       "      <td>0.000383858</td>\n",
       "    </tr>\n",
       "    <tr>\n",
       "      <th>20</th>\n",
       "      <td>0.00352495</td>\n",
       "      <td>0.000140014</td>\n",
       "      <td>0.00341853</td>\n",
       "      <td>0.000212457</td>\n",
       "      <td>0.00375081</td>\n",
       "      <td>0.000353503</td>\n",
       "    </tr>\n",
       "    <tr>\n",
       "      <th>40</th>\n",
       "      <td>0.00347286</td>\n",
       "      <td>8.19847e-05</td>\n",
       "      <td>0.0034061</td>\n",
       "      <td>0.00020003</td>\n",
       "      <td>0.00368741</td>\n",
       "      <td>0.000290101</td>\n",
       "    </tr>\n",
       "    <tr>\n",
       "      <th rowspan=\"5\" valign=\"top\">390</th>\n",
       "      <th>1</th>\n",
       "      <td>0.00352286</td>\n",
       "      <td>0.000102914</td>\n",
       "      <td>0.00345818</td>\n",
       "      <td>0.000252113</td>\n",
       "      <td>0.00379127</td>\n",
       "      <td>0.000393965</td>\n",
       "    </tr>\n",
       "    <tr>\n",
       "      <th>5</th>\n",
       "      <td>0.00364353</td>\n",
       "      <td>0.000222512</td>\n",
       "      <td>0.00351938</td>\n",
       "      <td>0.000313315</td>\n",
       "      <td>0.00386621</td>\n",
       "      <td>0.000468902</td>\n",
       "    </tr>\n",
       "    <tr>\n",
       "      <th>10</th>\n",
       "      <td>0.00360981</td>\n",
       "      <td>0.000187234</td>\n",
       "      <td>0.00348702</td>\n",
       "      <td>0.000280955</td>\n",
       "      <td>0.00383627</td>\n",
       "      <td>0.000438966</td>\n",
       "    </tr>\n",
       "    <tr>\n",
       "      <th>20</th>\n",
       "      <td>0.00359242</td>\n",
       "      <td>0.000166642</td>\n",
       "      <td>0.0034382</td>\n",
       "      <td>0.000232137</td>\n",
       "      <td>0.00379683</td>\n",
       "      <td>0.000399525</td>\n",
       "    </tr>\n",
       "    <tr>\n",
       "      <th>40</th>\n",
       "      <td>0.00353609</td>\n",
       "      <td>0.00010466</td>\n",
       "      <td>0.00341106</td>\n",
       "      <td>0.000204997</td>\n",
       "      <td>0.00372603</td>\n",
       "      <td>0.000328726</td>\n",
       "    </tr>\n",
       "    <tr>\n",
       "      <th rowspan=\"5\" valign=\"top\">520</th>\n",
       "      <th>1</th>\n",
       "      <td>0.00356624</td>\n",
       "      <td>0.000108529</td>\n",
       "      <td>0.00345687</td>\n",
       "      <td>0.000250815</td>\n",
       "      <td>0.00380735</td>\n",
       "      <td>0.000410052</td>\n",
       "    </tr>\n",
       "    <tr>\n",
       "      <th>5</th>\n",
       "      <td>0.00369588</td>\n",
       "      <td>0.000236955</td>\n",
       "      <td>0.00350463</td>\n",
       "      <td>0.000298569</td>\n",
       "      <td>0.00388792</td>\n",
       "      <td>0.000490622</td>\n",
       "    </tr>\n",
       "    <tr>\n",
       "      <th>10</th>\n",
       "      <td>0.00366497</td>\n",
       "      <td>0.000204306</td>\n",
       "      <td>0.00346986</td>\n",
       "      <td>0.000263799</td>\n",
       "      <td>0.00386352</td>\n",
       "      <td>0.000466231</td>\n",
       "    </tr>\n",
       "    <tr>\n",
       "      <th>20</th>\n",
       "      <td>0.0036487</td>\n",
       "      <td>0.00018458</td>\n",
       "      <td>0.00341691</td>\n",
       "      <td>0.000210851</td>\n",
       "      <td>0.00382881</td>\n",
       "      <td>0.000431516</td>\n",
       "    </tr>\n",
       "    <tr>\n",
       "      <th>40</th>\n",
       "      <td>0.00359163</td>\n",
       "      <td>0.000121793</td>\n",
       "      <td>0.00337836</td>\n",
       "      <td>0.000172306</td>\n",
       "      <td>0.00376077</td>\n",
       "      <td>0.000363477</td>\n",
       "    </tr>\n",
       "  </tbody>\n",
       "</table>\n",
       "</div>"
      ],
      "text/plain": [
       "                     insample rmse insample excess rmse out-of-sample rmse  \\\n",
       "lookbacks smoothings                                                         \n",
       "65        1             0.00338469           5.3944e-05         0.00327049   \n",
       "          5              0.0035065          0.000174739         0.00328465   \n",
       "          10            0.00347029          0.000137583         0.00323582   \n",
       "          20            0.00349785          0.000162723         0.00319582   \n",
       "          40            0.00347482          0.000134439         0.00320854   \n",
       "130       1             0.00342055          7.67317e-05         0.00335637   \n",
       "          5             0.00353783          0.000193303         0.00340019   \n",
       "          10             0.0035047          0.000158729         0.00336524   \n",
       "          20            0.00349591          0.000148547         0.00332523   \n",
       "          40            0.00345148          9.90474e-05         0.00331948   \n",
       "260       1              0.0034594          8.03574e-05         0.00342442   \n",
       "          5             0.00356858          0.000188231         0.00348605   \n",
       "          10            0.00353431          0.000152531         0.00345548   \n",
       "          20            0.00352495          0.000140014         0.00341853   \n",
       "          40            0.00347286          8.19847e-05          0.0034061   \n",
       "390       1             0.00352286          0.000102914         0.00345818   \n",
       "          5             0.00364353          0.000222512         0.00351938   \n",
       "          10            0.00360981          0.000187234         0.00348702   \n",
       "          20            0.00359242          0.000166642          0.0034382   \n",
       "          40            0.00353609           0.00010466         0.00341106   \n",
       "520       1             0.00356624          0.000108529         0.00345687   \n",
       "          5             0.00369588          0.000236955         0.00350463   \n",
       "          10            0.00366497          0.000204306         0.00346986   \n",
       "          20             0.0036487           0.00018458         0.00341691   \n",
       "          40            0.00359163          0.000121793         0.00337836   \n",
       "\n",
       "                     out-of-sample excess rmse estimation rmse  \\\n",
       "lookbacks smoothings                                             \n",
       "65        1                         6.4404e-05      0.00362153   \n",
       "          5                        7.85653e-05       0.0036441   \n",
       "          10                       2.97307e-05      0.00361534   \n",
       "          20                      -1.02665e-05       0.0036081   \n",
       "          40                       2.45479e-06      0.00358127   \n",
       "130       1                        0.000150285      0.00368992   \n",
       "          5                        0.000194109      0.00373967   \n",
       "          10                       0.000159162      0.00369732   \n",
       "          20                        0.00011915      0.00367064   \n",
       "          40                       0.000113403      0.00362999   \n",
       "260       1                        0.000218347      0.00375885   \n",
       "          5                        0.000279974      0.00381321   \n",
       "          10                       0.000249409      0.00378117   \n",
       "          20                       0.000212457      0.00375081   \n",
       "          40                        0.00020003      0.00368741   \n",
       "390       1                        0.000252113      0.00379127   \n",
       "          5                        0.000313315      0.00386621   \n",
       "          10                       0.000280955      0.00383627   \n",
       "          20                       0.000232137      0.00379683   \n",
       "          40                       0.000204997      0.00372603   \n",
       "520       1                        0.000250815      0.00380735   \n",
       "          5                        0.000298569      0.00388792   \n",
       "          10                       0.000263799      0.00386352   \n",
       "          20                       0.000210851      0.00382881   \n",
       "          40                       0.000172306      0.00376077   \n",
       "\n",
       "                     estimation excess rmse  \n",
       "lookbacks smoothings                         \n",
       "65        1                     0.000224207  \n",
       "          5                     0.000246778  \n",
       "          10                    0.000218016  \n",
       "          20                     0.00021077  \n",
       "          40                    0.000183941  \n",
       "130       1                     0.000292598  \n",
       "          5                     0.000342344  \n",
       "          10                    0.000300003  \n",
       "          20                    0.000273321  \n",
       "          40                    0.000232669  \n",
       "260       1                     0.000361534  \n",
       "          5                       0.0004159  \n",
       "          10                    0.000383858  \n",
       "          20                    0.000353503  \n",
       "          40                    0.000290101  \n",
       "390       1                     0.000393965  \n",
       "          5                     0.000468902  \n",
       "          10                    0.000438966  \n",
       "          20                    0.000399525  \n",
       "          40                    0.000328726  \n",
       "520       1                     0.000410052  \n",
       "          5                     0.000490622  \n",
       "          10                    0.000466231  \n",
       "          20                    0.000431516  \n",
       "          40                    0.000363477  "
      ]
     },
     "execution_count": 100,
     "metadata": {},
     "output_type": "execute_result"
    }
   ],
   "source": [
    "lookbacks = [65,130,260,390,520]\n",
    "smoothings = [1, 5, 10, 20, 40]\n",
    "\n",
    "index = pd.MultiIndex.from_product([lookbacks,smoothings],names=['lookbacks','smoothings'])\n",
    "\n",
    "model_perf_stats = pd.DataFrame(index = index, columns = some_model_perf_stats.keys())\n",
    "\n",
    "for lookback in lookbacks:\n",
    "  for smoothing in smoothings:\n",
    "    model_perf_stats.loc[lookback,smoothing] = turbulence_models_performance(returns, framework_params, lookback=lookback, smoothing=smoothing)\n",
    "\n",
    "model_perf_stats"
   ]
  },
  {
   "cell_type": "markdown",
   "metadata": {
    "colab_type": "text",
    "id": "Ns85W-Cf5CT4"
   },
   "source": [
    "### Sanity checking with random returns\n",
    "\n",
    "Before you get too far with any model, it is worthwhile testing how your model performs if the inputs are randomized. This is a good way of identifying information leakage inside the model code.\n",
    "\n",
    "To do this with turbulence, we are going to simulate 1000 random samples of returns, calculate turbulence on these simulated returns and look at the relationship to subsequent simulated DXY. If we use IID normal returns, there should be no predictive power out of sample.\n",
    "\n",
    "** Note: This step takes a while to run, depending on computational power **"
   ]
  },
  {
   "cell_type": "code",
   "execution_count": 40,
   "metadata": {
    "colab": {},
    "colab_type": "code",
    "id": "Zcaj07aCaX6o"
   },
   "outputs": [],
   "source": [
    "framework_params = {'insample_start_date': '1975-01-02',\n",
    "                    'insample_end_date': '2000-01-01',\n",
    "                    'outofsample_start_date': '2000-01-02',\n",
    "                    'outofsample_end_date': '2017-12-26',\n",
    "                    'verbose': False}\n",
    "\n",
    "def random_turbulence_models_by_seed(rets,framework_params, seed):\n",
    "  np.random.seed(seed=seed)\n",
    "  randreturns = pd.DataFrame(np.random.randn(rets['AUD'].count(),9), index=rets.index, columns=rets.columns)\n",
    "  roll_turb = rolling_turbulence(randreturns, lookback=260, smoothing=20)\n",
    "  turb_wts = turbulence_weights(roll_turb, framework_params['insample_start_date'], framework_params['insample_end_date'])\n",
    "  model_perf_stats = model_perf(turb_weights, dxy_forward_sq, framework_params)\n",
    "  return model_perf_stats\n",
    "\n",
    "# random_turbulence_models_by_seed(returns,framework_params, 1)\n",
    "\n",
    "rand_perf = pd.DataFrame(list(map(lambda x:random_turbulence_models_by_seed(returns, framework_params, x), range(0,10))))"
   ]
  },
  {
   "cell_type": "code",
   "execution_count": null,
   "metadata": {
    "colab": {},
    "colab_type": "code",
    "id": "s_yNmqfs6rXx"
   },
   "outputs": [],
   "source": []
  }
 ],
 "metadata": {
  "colab": {
   "collapsed_sections": [],
   "include_colab_link": true,
   "name": "Part_04b_Creating_Turbulence_Model.ipynb",
   "provenance": [],
   "version": "0.3.2"
  },
  "kernelspec": {
   "display_name": "conda_python3",
   "language": "python",
   "name": "conda_python3"
  },
  "language_info": {
   "codemirror_mode": {
    "name": "ipython",
    "version": 3
   },
   "file_extension": ".py",
   "mimetype": "text/x-python",
   "name": "python",
   "nbconvert_exporter": "python",
   "pygments_lexer": "ipython3",
   "version": "3.6.5"
  }
 },
 "nbformat": 4,
 "nbformat_minor": 1
}
