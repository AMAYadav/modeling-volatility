{
 "cells": [
  {
   "cell_type": "markdown",
   "metadata": {
    "colab_type": "text",
    "id": "view-in-github"
   },
   "source": [
    "<a href=\"https://colab.research.google.com/github/fintechsteve/modeling-volatility/blob/master/Part_04b_Creating_Turbulence_Model.ipynb\" target=\"_parent\"><img src=\"https://colab.research.google.com/assets/colab-badge.svg\" alt=\"Open In Colab\"/></a>"
   ]
  },
  {
   "cell_type": "markdown",
   "metadata": {
    "colab_type": "text",
    "id": "BtCSSGGdu4Qt"
   },
   "source": [
    "## Part 04 (b): Creating a Turbulence Model\n",
    "\n",
    "### In this section you will:\n",
    "\n",
    "\n",
    "*   Create a turbulence function that estimates turbulence with a rolling window.\n",
    "*   Transform a turbulence signal into set of dynamic weights. Track performance of the model.\n",
    "*   Optimize the lookback and smoothing window.\n"
   ]
  },
  {
   "cell_type": "markdown",
   "metadata": {
    "colab_type": "text",
    "id": "ETMoGdnNrtjj"
   },
   "source": [
    "## Import all necessary libraries\n",
    "\n",
    "For this piece, we will need the following packages to be available to our environment:\n",
    "\n",
    "*   Numpy and Pandas (For data manipulation)\n",
    "*   DateTime (For basic date manipulation)\n",
    "*   Matplotlib (For timeseries vizualization)\n",
    "\n",
    "If the packages are not available, install the with \"pip install X\""
   ]
  },
  {
   "cell_type": "code",
   "execution_count": 1,
   "metadata": {
    "colab": {},
    "colab_type": "code",
    "id": "FS6GYKq6T-ih"
   },
   "outputs": [],
   "source": [
    "import numpy as np, pandas as pd\n",
    "from datetime import datetime, timedelta\n",
    "import pickle\n",
    "import matplotlib.pyplot as plt\n",
    "%matplotlib inline\n",
    "import bisect\n",
    "from scipy import stats\n",
    "import seaborn as sns"
   ]
  },
  {
   "cell_type": "markdown",
   "metadata": {
    "colab_type": "text",
    "id": "wBoMCDKYsdli"
   },
   "source": [
    "### Read in data from previously stored returns.pkl file\n",
    "\n"
   ]
  },
  {
   "cell_type": "code",
   "execution_count": 2,
   "metadata": {
    "cellView": "both",
    "colab": {
     "base_uri": "https://localhost:8080/",
     "height": 359
    },
    "colab_type": "code",
    "id": "cFySsoztT-i9",
    "outputId": "b9d576fc-9915-4c7e-cba7-1daa1e965846"
   },
   "outputs": [
    {
     "data": {
      "text/html": [
       "<div>\n",
       "<style scoped>\n",
       "    .dataframe tbody tr th:only-of-type {\n",
       "        vertical-align: middle;\n",
       "    }\n",
       "\n",
       "    .dataframe tbody tr th {\n",
       "        vertical-align: top;\n",
       "    }\n",
       "\n",
       "    .dataframe thead th {\n",
       "        text-align: right;\n",
       "    }\n",
       "</style>\n",
       "<table border=\"1\" class=\"dataframe\">\n",
       "  <thead>\n",
       "    <tr style=\"text-align: right;\">\n",
       "      <th></th>\n",
       "      <th>AUD</th>\n",
       "      <th>CAD</th>\n",
       "      <th>CHF</th>\n",
       "      <th>EUR</th>\n",
       "      <th>GBP</th>\n",
       "      <th>JPY</th>\n",
       "      <th>NOK</th>\n",
       "      <th>NZD</th>\n",
       "      <th>SEK</th>\n",
       "    </tr>\n",
       "  </thead>\n",
       "  <tbody>\n",
       "    <tr>\n",
       "      <th>1975-01-02</th>\n",
       "      <td>-0.002129</td>\n",
       "      <td>-1.712061e-03</td>\n",
       "      <td>-0.009915</td>\n",
       "      <td>-0.003544</td>\n",
       "      <td>-0.005745</td>\n",
       "      <td>-0.001502</td>\n",
       "      <td>-0.003299</td>\n",
       "      <td>0.000536</td>\n",
       "      <td>-0.004704</td>\n",
       "    </tr>\n",
       "    <tr>\n",
       "      <th>1975-01-03</th>\n",
       "      <td>-0.000947</td>\n",
       "      <td>1.517425e-05</td>\n",
       "      <td>0.008500</td>\n",
       "      <td>0.007886</td>\n",
       "      <td>0.003424</td>\n",
       "      <td>0.002711</td>\n",
       "      <td>0.008801</td>\n",
       "      <td>-0.001924</td>\n",
       "      <td>0.007113</td>\n",
       "    </tr>\n",
       "    <tr>\n",
       "      <th>1975-01-06</th>\n",
       "      <td>-0.001158</td>\n",
       "      <td>6.677374e-04</td>\n",
       "      <td>-0.001023</td>\n",
       "      <td>0.008174</td>\n",
       "      <td>0.002346</td>\n",
       "      <td>-0.004728</td>\n",
       "      <td>0.002759</td>\n",
       "      <td>-0.001129</td>\n",
       "      <td>0.009237</td>\n",
       "    </tr>\n",
       "    <tr>\n",
       "      <th>1975-01-07</th>\n",
       "      <td>0.004193</td>\n",
       "      <td>-1.726304e-03</td>\n",
       "      <td>0.001702</td>\n",
       "      <td>0.002150</td>\n",
       "      <td>0.001702</td>\n",
       "      <td>0.002410</td>\n",
       "      <td>0.005434</td>\n",
       "      <td>0.004567</td>\n",
       "      <td>-0.001466</td>\n",
       "    </tr>\n",
       "    <tr>\n",
       "      <th>1975-01-08</th>\n",
       "      <td>-0.001489</td>\n",
       "      <td>-2.000930e-04</td>\n",
       "      <td>-0.015237</td>\n",
       "      <td>-0.008650</td>\n",
       "      <td>-0.001997</td>\n",
       "      <td>0.000122</td>\n",
       "      <td>-0.006315</td>\n",
       "      <td>-0.000034</td>\n",
       "      <td>-0.006188</td>\n",
       "    </tr>\n",
       "    <tr>\n",
       "      <th>1975-01-09</th>\n",
       "      <td>-0.000324</td>\n",
       "      <td>-3.120108e-03</td>\n",
       "      <td>0.000298</td>\n",
       "      <td>0.004764</td>\n",
       "      <td>0.000298</td>\n",
       "      <td>-0.000409</td>\n",
       "      <td>-0.000114</td>\n",
       "      <td>-0.001217</td>\n",
       "      <td>-0.000751</td>\n",
       "    </tr>\n",
       "    <tr>\n",
       "      <th>1975-01-10</th>\n",
       "      <td>0.000077</td>\n",
       "      <td>-1.283429e-03</td>\n",
       "      <td>0.001489</td>\n",
       "      <td>0.001489</td>\n",
       "      <td>0.001489</td>\n",
       "      <td>0.000075</td>\n",
       "      <td>0.006256</td>\n",
       "      <td>0.000311</td>\n",
       "      <td>0.001489</td>\n",
       "    </tr>\n",
       "    <tr>\n",
       "      <th>1975-01-13</th>\n",
       "      <td>0.000579</td>\n",
       "      <td>-3.152212e-07</td>\n",
       "      <td>0.001789</td>\n",
       "      <td>-0.001210</td>\n",
       "      <td>0.000127</td>\n",
       "      <td>-0.000578</td>\n",
       "      <td>0.000542</td>\n",
       "      <td>0.000969</td>\n",
       "      <td>-0.002488</td>\n",
       "    </tr>\n",
       "    <tr>\n",
       "      <th>1975-01-14</th>\n",
       "      <td>-0.000699</td>\n",
       "      <td>7.303998e-04</td>\n",
       "      <td>-0.005132</td>\n",
       "      <td>-0.006698</td>\n",
       "      <td>-0.001827</td>\n",
       "      <td>0.000291</td>\n",
       "      <td>-0.006558</td>\n",
       "      <td>-0.000762</td>\n",
       "      <td>-0.007795</td>\n",
       "    </tr>\n",
       "    <tr>\n",
       "      <th>1975-01-15</th>\n",
       "      <td>-0.000934</td>\n",
       "      <td>1.198868e-03</td>\n",
       "      <td>-0.002078</td>\n",
       "      <td>0.001797</td>\n",
       "      <td>-0.000426</td>\n",
       "      <td>-0.002542</td>\n",
       "      <td>-0.002276</td>\n",
       "      <td>-0.000594</td>\n",
       "      <td>0.000094</td>\n",
       "    </tr>\n",
       "  </tbody>\n",
       "</table>\n",
       "</div>"
      ],
      "text/plain": [
       "                 AUD           CAD       CHF       EUR       GBP       JPY  \\\n",
       "1975-01-02 -0.002129 -1.712061e-03 -0.009915 -0.003544 -0.005745 -0.001502   \n",
       "1975-01-03 -0.000947  1.517425e-05  0.008500  0.007886  0.003424  0.002711   \n",
       "1975-01-06 -0.001158  6.677374e-04 -0.001023  0.008174  0.002346 -0.004728   \n",
       "1975-01-07  0.004193 -1.726304e-03  0.001702  0.002150  0.001702  0.002410   \n",
       "1975-01-08 -0.001489 -2.000930e-04 -0.015237 -0.008650 -0.001997  0.000122   \n",
       "1975-01-09 -0.000324 -3.120108e-03  0.000298  0.004764  0.000298 -0.000409   \n",
       "1975-01-10  0.000077 -1.283429e-03  0.001489  0.001489  0.001489  0.000075   \n",
       "1975-01-13  0.000579 -3.152212e-07  0.001789 -0.001210  0.000127 -0.000578   \n",
       "1975-01-14 -0.000699  7.303998e-04 -0.005132 -0.006698 -0.001827  0.000291   \n",
       "1975-01-15 -0.000934  1.198868e-03 -0.002078  0.001797 -0.000426 -0.002542   \n",
       "\n",
       "                 NOK       NZD       SEK  \n",
       "1975-01-02 -0.003299  0.000536 -0.004704  \n",
       "1975-01-03  0.008801 -0.001924  0.007113  \n",
       "1975-01-06  0.002759 -0.001129  0.009237  \n",
       "1975-01-07  0.005434  0.004567 -0.001466  \n",
       "1975-01-08 -0.006315 -0.000034 -0.006188  \n",
       "1975-01-09 -0.000114 -0.001217 -0.000751  \n",
       "1975-01-10  0.006256  0.000311  0.001489  \n",
       "1975-01-13  0.000542  0.000969 -0.002488  \n",
       "1975-01-14 -0.006558 -0.000762 -0.007795  \n",
       "1975-01-15 -0.002276 -0.000594  0.000094  "
      ]
     },
     "execution_count": 2,
     "metadata": {},
     "output_type": "execute_result"
    }
   ],
   "source": [
    "with open('./returns.pkl', 'rb') as f:\n",
    "    returns = pickle.load(f)\n",
    "    f.close()\n",
    "returns.head(10)"
   ]
  },
  {
   "cell_type": "markdown",
   "metadata": {
    "colab_type": "text",
    "id": "WPfZk0NLtIaU"
   },
   "source": [
    "### Create a function that calculates turbulence for the whole window supplied using the last row as the observed return\n",
    "\n",
    "Note that for faster computation we can replace ``` np.linalg.pinv(covmat)@(r - mu) ``` with ``` np.linalg.lstsq(covmat, r - mu)[0] ```\n",
    "\n",
    "Also note that a more proper calculation of turbulence would only use rows 1:n-1 to calculate mean and covariance. But everybody seems to include n, so we aren't going to get upset here because it is simpler."
   ]
  },
  {
   "cell_type": "code",
   "execution_count": 3,
   "metadata": {
    "colab": {},
    "colab_type": "code",
    "id": "cyFwsRh7T-jC"
   },
   "outputs": [],
   "source": [
    "def simple_turbulence(rets):\n",
    "  meanret = rets.mean()\n",
    "  covrets = rets.cov()\n",
    "  turbvalue = pd.DataFrame((rets[-1:]-meanret)@np.linalg.lstsq(covrets,(rets[-1:]-meanret).T, rcond=None)[0],index=[rets.index[-1]])\n",
    "  return turbvalue"
   ]
  },
  {
   "cell_type": "code",
   "execution_count": 4,
   "metadata": {
    "colab": {
     "base_uri": "https://localhost:8080/",
     "height": 80
    },
    "colab_type": "code",
    "id": "qinK625FmwO3",
    "outputId": "6afc9696-e2a0-4e7e-f408-d5a22046bef2"
   },
   "outputs": [
    {
     "name": "stdout",
     "output_type": "stream",
     "text": [
      "CPU times: user 1 µs, sys: 1 µs, total: 2 µs\n",
      "Wall time: 3.81 µs\n"
     ]
    },
    {
     "data": {
      "text/html": [
       "<div>\n",
       "<style scoped>\n",
       "    .dataframe tbody tr th:only-of-type {\n",
       "        vertical-align: middle;\n",
       "    }\n",
       "\n",
       "    .dataframe tbody tr th {\n",
       "        vertical-align: top;\n",
       "    }\n",
       "\n",
       "    .dataframe thead th {\n",
       "        text-align: right;\n",
       "    }\n",
       "</style>\n",
       "<table border=\"1\" class=\"dataframe\">\n",
       "  <thead>\n",
       "    <tr style=\"text-align: right;\">\n",
       "      <th></th>\n",
       "      <th>0</th>\n",
       "    </tr>\n",
       "  </thead>\n",
       "  <tbody>\n",
       "    <tr>\n",
       "      <th>2017-12-26</th>\n",
       "      <td>1.944164</td>\n",
       "    </tr>\n",
       "  </tbody>\n",
       "</table>\n",
       "</div>"
      ],
      "text/plain": [
       "                   0\n",
       "2017-12-26  1.944164"
      ]
     },
     "execution_count": 4,
     "metadata": {},
     "output_type": "execute_result"
    }
   ],
   "source": [
    "turb_singleday = simple_turbulence(returns)\n",
    "turb_singleday"
   ]
  },
  {
   "cell_type": "markdown",
   "metadata": {
    "colab_type": "text",
    "id": "6rL7V05_kAzg"
   },
   "source": [
    "### Create a function that calculates rolling turbulence given a lookback window and a smoothing window\n",
    "\n",
    "To do this, we are going to create a function ```roll``` that generates a rolling window of returns for a specified window length, and a function that applies the turbulence calculation to that window."
   ]
  },
  {
   "cell_type": "code",
   "execution_count": 5,
   "metadata": {
    "colab": {},
    "colab_type": "code",
    "id": "ZYRisZw66GDy"
   },
   "outputs": [],
   "source": [
    "def roll(df, w):\n",
    "    for i in range(df.shape[0] - w + 1):\n",
    "        yield pd.DataFrame(df.values[i:i+w, :], df.index[i:i+w], df.columns)\n",
    "  \n",
    "def rolling_turbulence(rets, lookback=260, smoothing=20):\n",
    "    roll_turb = pd.concat([simple_turbulence(retwindow) for retwindow in roll(rets, lookback)], axis=0)\n",
    "    roll_turb.columns = ['daily']\n",
    "    roll_turb_smooth = pd.DataFrame(roll_turb.rolling(smoothing).mean()).rename(columns={'daily':'smoothed'})\n",
    "    rets = rets.join(roll_turb)\n",
    "    rets = rets.join(roll_turb_smooth)\n",
    "    return rets[['daily','smoothed']]"
   ]
  },
  {
   "cell_type": "code",
   "execution_count": 6,
   "metadata": {
    "colab": {
     "base_uri": "https://localhost:8080/",
     "height": 669
    },
    "colab_type": "code",
    "id": "al1TiJa-msmW",
    "outputId": "972c71e9-2991-4876-a9ed-c93885015b9e"
   },
   "outputs": [
    {
     "name": "stdout",
     "output_type": "stream",
     "text": [
      "CPU times: user 21.2 s, sys: 113 ms, total: 21.4 s\n",
      "Wall time: 21.4 s\n"
     ]
    }
   ],
   "source": [
    "roll_turb = rolling_turbulence(returns, lookback=260, smoothing=20)\n",
    "roll_turb.tail(20)"
   ]
  },
  {
   "cell_type": "code",
   "execution_count": 7,
   "metadata": {
    "colab": {
     "base_uri": "https://localhost:8080/",
     "height": 286
    },
    "colab_type": "code",
    "id": "lX2SH9yqI1e7",
    "outputId": "1e0bdcfe-bc87-4256-d19d-8453e1fe75e4"
   },
   "outputs": [
    {
     "data": {
      "text/plain": [
       "<matplotlib.axes._subplots.AxesSubplot at 0x7f541c7884a8>"
      ]
     },
     "execution_count": 7,
     "metadata": {},
     "output_type": "execute_result"
    },
    {
     "data": {
      "image/png": "[encoded data removed]",
      "text/plain": [
       "<Figure size 432x288 with 1 Axes>"
      ]
     },
     "metadata": {},
     "output_type": "display_data"
    }
   ],
   "source": [
    "roll_turb.plot()"
   ]
  },
  {
   "cell_type": "markdown",
   "metadata": {
    "colab_type": "text",
    "id": "nrZTZ568uGXu"
   },
   "source": [
    "### Convert rolling turbulence into a weight (And do so in a function)\n",
    "\n",
    "Turbulence as a raw statistic ranges between 0 and infinity. It cannot be directly used for investment strategies without some kind of transformation into model weights.\n",
    "\n",
    "Our most obvious optiions are to create a binary cutoff or linear ranking. We are going to use linear ranking, though there are reasons why you might want to use a binary cutoff (simple on/off model).\n",
    "\n",
    "The linear ranking, when used in-sample, should map results to a uniform distribution."
   ]
  },
  {
   "cell_type": "code",
   "execution_count": 8,
   "metadata": {
    "colab": {
     "base_uri": "https://localhost:8080/",
     "height": 286
    },
    "colab_type": "code",
    "id": "lCW0NX0odY_R",
    "outputId": "b1aba278-ea8c-4055-8bf8-71bb35044119"
   },
   "outputs": [
    {
     "data": {
      "text/plain": [
       "<matplotlib.axes._subplots.AxesSubplot at 0x7f5412138240>"
      ]
     },
     "execution_count": 8,
     "metadata": {},
     "output_type": "execute_result"
    },
    {
     "data": {
      "image/png": "[encoded data removed]",
      "text/plain": [
       "<Figure size 432x288 with 1 Axes>"
      ]
     },
     "metadata": {},
     "output_type": "display_data"
    }
   ],
   "source": [
    "roll_turb['smoothed'].hist(bins=50)"
   ]
  },
  {
   "cell_type": "code",
   "execution_count": 9,
   "metadata": {
    "colab": {
     "base_uri": "https://localhost:8080/",
     "height": 286
    },
    "colab_type": "code",
    "id": "zqf9ivy6XYe4",
    "outputId": "2f1707ba-2cb5-43a0-9576-501a89d6c6cb"
   },
   "outputs": [
    {
     "data": {
      "text/plain": [
       "<matplotlib.axes._subplots.AxesSubplot at 0x7f5412020160>"
      ]
     },
     "execution_count": 9,
     "metadata": {},
     "output_type": "execute_result"
    },
    {
     "data": {
      "image/png": "[encoded data removed]",
      "text/plain": [
       "<Figure size 432x288 with 1 Axes>"
      ]
     },
     "metadata": {},
     "output_type": "display_data"
    }
   ],
   "source": [
    "historical_turb_rank = roll_turb['smoothed'].dropna().rank()/roll_turb['smoothed'].count()\n",
    "historical_turb_rank.hist(bins=50)"
   ]
  },
  {
   "cell_type": "code",
   "execution_count": 10,
   "metadata": {
    "colab": {
     "base_uri": "https://localhost:8080/",
     "height": 286
    },
    "colab_type": "code",
    "id": "X4bJWUpHE1pR",
    "outputId": "9f608dfe-4c59-49ad-c2a8-bdc9d10300f5"
   },
   "outputs": [
    {
     "data": {
      "text/plain": [
       "<matplotlib.axes._subplots.AxesSubplot at 0x7f5411ef1438>"
      ]
     },
     "execution_count": 10,
     "metadata": {},
     "output_type": "execute_result"
    },
    {
     "data": {
      "image/png": "[encoded data removed]",
      "text/plain": [
       "<Figure size 432x288 with 1 Axes>"
      ]
     },
     "metadata": {},
     "output_type": "display_data"
    }
   ],
   "source": [
    "insample_start_date = '1975-01-02'\n",
    "insample_end_date = '2000-01-01'\n",
    "insample_turb = (roll_turb['smoothed'].loc[insample_start_date:insample_end_date]).dropna().values\n",
    "insample_turb.sort()\n",
    "num_insample = np.size(insample_turb)\n",
    "roll_turb['ranked'] = 1-np.true_divide(list(map(lambda x:float('NaN') if np.isnan(x) else bisect.bisect_left(insample_turb,x), roll_turb['smoothed'])),num_insample)\n",
    "roll_turb['ranked'].plot()"
   ]
  },
  {
   "cell_type": "code",
   "execution_count": 11,
   "metadata": {
    "colab": {},
    "colab_type": "code",
    "id": "5GYgPevt22DJ"
   },
   "outputs": [],
   "source": [
    "def turbulence_weights(roll_turb, insample_start_date, insample_end_date):\n",
    "  insample_turb = (roll_turb['smoothed'].loc[insample_start_date:insample_end_date]).dropna().values\n",
    "  insample_turb.sort()\n",
    "  num_insample = np.size(insample_turb)\n",
    "  turb_weights = pd.DataFrame(1-np.true_divide(list(map(lambda x:float('NaN') if np.isnan(x) else bisect.bisect_left(insample_turb,x), roll_turb['smoothed'])),num_insample), index=roll_turb.index)\n",
    "  turb_weights.columns=['weights']\n",
    "  return turb_weights"
   ]
  },
  {
   "cell_type": "code",
   "execution_count": 12,
   "metadata": {
    "colab": {
     "base_uri": "https://localhost:8080/",
     "height": 669
    },
    "colab_type": "code",
    "id": "MjKhquX373So",
    "outputId": "34da9642-1249-470c-9307-d7a017d2da9a"
   },
   "outputs": [
    {
     "data": {
      "text/html": [
       "<div>\n",
       "<style scoped>\n",
       "    .dataframe tbody tr th:only-of-type {\n",
       "        vertical-align: middle;\n",
       "    }\n",
       "\n",
       "    .dataframe tbody tr th {\n",
       "        vertical-align: top;\n",
       "    }\n",
       "\n",
       "    .dataframe thead th {\n",
       "        text-align: right;\n",
       "    }\n",
       "</style>\n",
       "<table border=\"1\" class=\"dataframe\">\n",
       "  <thead>\n",
       "    <tr style=\"text-align: right;\">\n",
       "      <th></th>\n",
       "      <th>weights</th>\n",
       "    </tr>\n",
       "  </thead>\n",
       "  <tbody>\n",
       "    <tr>\n",
       "      <th>2017-11-29</th>\n",
       "      <td>0.495195</td>\n",
       "    </tr>\n",
       "    <tr>\n",
       "      <th>2017-11-30</th>\n",
       "      <td>0.489270</td>\n",
       "    </tr>\n",
       "    <tr>\n",
       "      <th>2017-12-01</th>\n",
       "      <td>0.456278</td>\n",
       "    </tr>\n",
       "    <tr>\n",
       "      <th>2017-12-04</th>\n",
       "      <td>0.463645</td>\n",
       "    </tr>\n",
       "    <tr>\n",
       "      <th>2017-12-05</th>\n",
       "      <td>0.452594</td>\n",
       "    </tr>\n",
       "    <tr>\n",
       "      <th>2017-12-06</th>\n",
       "      <td>0.406470</td>\n",
       "    </tr>\n",
       "    <tr>\n",
       "      <th>2017-12-07</th>\n",
       "      <td>0.399103</td>\n",
       "    </tr>\n",
       "    <tr>\n",
       "      <th>2017-12-08</th>\n",
       "      <td>0.391576</td>\n",
       "    </tr>\n",
       "    <tr>\n",
       "      <th>2017-12-11</th>\n",
       "      <td>0.352178</td>\n",
       "    </tr>\n",
       "    <tr>\n",
       "      <th>2017-12-12</th>\n",
       "      <td>0.395099</td>\n",
       "    </tr>\n",
       "    <tr>\n",
       "      <th>2017-12-13</th>\n",
       "      <td>0.401986</td>\n",
       "    </tr>\n",
       "    <tr>\n",
       "      <th>2017-12-14</th>\n",
       "      <td>0.397502</td>\n",
       "    </tr>\n",
       "    <tr>\n",
       "      <th>2017-12-15</th>\n",
       "      <td>0.405830</td>\n",
       "    </tr>\n",
       "    <tr>\n",
       "      <th>2017-12-18</th>\n",
       "      <td>0.381166</td>\n",
       "    </tr>\n",
       "    <tr>\n",
       "      <th>2017-12-19</th>\n",
       "      <td>0.396861</td>\n",
       "    </tr>\n",
       "    <tr>\n",
       "      <th>2017-12-20</th>\n",
       "      <td>0.382447</td>\n",
       "    </tr>\n",
       "    <tr>\n",
       "      <th>2017-12-21</th>\n",
       "      <td>0.360506</td>\n",
       "    </tr>\n",
       "    <tr>\n",
       "      <th>2017-12-22</th>\n",
       "      <td>0.347373</td>\n",
       "    </tr>\n",
       "    <tr>\n",
       "      <th>2017-12-25</th>\n",
       "      <td>0.364350</td>\n",
       "    </tr>\n",
       "    <tr>\n",
       "      <th>2017-12-26</th>\n",
       "      <td>0.384529</td>\n",
       "    </tr>\n",
       "  </tbody>\n",
       "</table>\n",
       "</div>"
      ],
      "text/plain": [
       "             weights\n",
       "2017-11-29  0.495195\n",
       "2017-11-30  0.489270\n",
       "2017-12-01  0.456278\n",
       "2017-12-04  0.463645\n",
       "2017-12-05  0.452594\n",
       "2017-12-06  0.406470\n",
       "2017-12-07  0.399103\n",
       "2017-12-08  0.391576\n",
       "2017-12-11  0.352178\n",
       "2017-12-12  0.395099\n",
       "2017-12-13  0.401986\n",
       "2017-12-14  0.397502\n",
       "2017-12-15  0.405830\n",
       "2017-12-18  0.381166\n",
       "2017-12-19  0.396861\n",
       "2017-12-20  0.382447\n",
       "2017-12-21  0.360506\n",
       "2017-12-22  0.347373\n",
       "2017-12-25  0.364350\n",
       "2017-12-26  0.384529"
      ]
     },
     "execution_count": 12,
     "metadata": {},
     "output_type": "execute_result"
    }
   ],
   "source": [
    "turb_weights = turbulence_weights(roll_turb, '1975-01-02', '2000-01-01')\n",
    "turb_weights.tail(20)"
   ]
  },
  {
   "cell_type": "markdown",
   "metadata": {},
   "source": [
    "### Quick sanity checks\n",
    "\n",
    "1) Are the weights aligned with decreasing turbulence?\n",
    "2) Does the weight inversely correlate with subsequent volatility?"
   ]
  },
  {
   "cell_type": "code",
   "execution_count": 13,
   "metadata": {},
   "outputs": [
    {
     "data": {
      "text/plain": [
       "<matplotlib.axes._subplots.AxesSubplot at 0x7f5411ecdda0>"
      ]
     },
     "execution_count": 13,
     "metadata": {},
     "output_type": "execute_result"
    },
    {
     "data": {
      "image/png": "[encoded data removed]",
      "text/plain": [
       "<Figure size 432x288 with 1 Axes>"
      ]
     },
     "metadata": {},
     "output_type": "display_data"
    }
   ],
   "source": [
    "pd.concat([roll_turb, turb_weights],axis=1).plot(kind='scatter', x='weights', y='smoothed',\n",
    "                                           color='Red', label='')"
   ]
  },
  {
   "cell_type": "code",
   "execution_count": 14,
   "metadata": {},
   "outputs": [],
   "source": [
    "dxy_weight = [0, 0.119, 0.036, 0, 0.136, 0.576, 0, 0, 0.091]\n",
    "dxy = pd.DataFrame(returns.dot(dxy_weight))\n",
    "dxy_forward = dxy.shift(-1)\n",
    "dxy_forward_sq = (dxy_forward**2).rename(columns={0:'dxyfsq'})"
   ]
  },
  {
   "cell_type": "code",
   "execution_count": 15,
   "metadata": {},
   "outputs": [
    {
     "data": {
      "text/html": [
       "<div>\n",
       "<style scoped>\n",
       "    .dataframe tbody tr th:only-of-type {\n",
       "        vertical-align: middle;\n",
       "    }\n",
       "\n",
       "    .dataframe tbody tr th {\n",
       "        vertical-align: top;\n",
       "    }\n",
       "\n",
       "    .dataframe thead th {\n",
       "        text-align: right;\n",
       "    }\n",
       "</style>\n",
       "<table border=\"1\" class=\"dataframe\">\n",
       "  <thead>\n",
       "    <tr style=\"text-align: right;\">\n",
       "      <th></th>\n",
       "      <th>High Turb</th>\n",
       "      <th>Low Turb</th>\n",
       "    </tr>\n",
       "  </thead>\n",
       "  <tbody>\n",
       "    <tr>\n",
       "      <th>std</th>\n",
       "      <td>0    0.090019\n",
       "dtype: float64</td>\n",
       "      <td>0    0.070485\n",
       "dtype: float64</td>\n",
       "    </tr>\n",
       "    <tr>\n",
       "      <th>N</th>\n",
       "      <td>2627</td>\n",
       "      <td>8587</td>\n",
       "    </tr>\n",
       "  </tbody>\n",
       "</table>\n",
       "</div>"
      ],
      "text/plain": [
       "                        High Turb                      Low Turb\n",
       "std  0    0.090019\n",
       "dtype: float64  0    0.070485\n",
       "dtype: float64\n",
       "N                            2627                          8587"
      ]
     },
     "execution_count": 15,
     "metadata": {},
     "output_type": "execute_result"
    }
   ],
   "source": [
    "highturbulence = turb_weights['weights']<.25\n",
    "pd.DataFrame([[np.sqrt(261)*dxy[highturbulence].std(), np.sqrt(261)*dxy[~highturbulence].std()], [sum(highturbulence), sum(~highturbulence)]], index=['std','N'], columns=['High Turb','Low Turb'])"
   ]
  },
  {
   "cell_type": "markdown",
   "metadata": {
    "colab_type": "text",
    "id": "N20M0VTMyxil"
   },
   "source": [
    "### Calculate the performance of the turbulence model\n",
    "\n",
    "Leveraging the framework we developed in Part 3, we calculate the excess performance of the model.\n"
   ]
  },
  {
   "cell_type": "code",
   "execution_count": 16,
   "metadata": {
    "colab": {},
    "colab_type": "code",
    "id": "naWuvBdzu-NZ"
   },
   "outputs": [],
   "source": [
    "def model_perf(model_wts, dxyfsq, framework_params):\n",
    "  # Note, since chapter 3, modified the code a little to handle the possibility that column headings are not constant\n",
    "  # Also added an estimation window, which we will use later\n",
    "    \n",
    "  model_vol = pd.DataFrame()\n",
    "  model_vol['total'] = model_wts[model_wts.columns[0]]*dxyfsq[dxyfsq.columns[0]] \n",
    "  model_vol['avg'] = (np.mean(model_wts.loc[framework_params['insample_start_date']:framework_params['insample_end_date']].dropna()[model_wts.columns[0]])*dxyfsq)\n",
    "\n",
    "  is_model_vol = model_vol.loc[framework_params['insample_start_date']:framework_params['insample_end_date']].dropna() \n",
    "  is_vol_rmse = np.sqrt(np.mean(is_model_vol))\n",
    "\n",
    "  out_model_vol = model_vol.loc[framework_params['outofsample_start_date']:framework_params['outofsample_end_date']].dropna()\n",
    "  out_vol_rmse = np.sqrt(np.mean(out_model_vol))\n",
    "  \n",
    "  model_perf_stats = {'insample rmse': is_vol_rmse['total'], 'insample excess rmse': is_vol_rmse['total'] - is_vol_rmse['avg'],\n",
    "                        'out-of-sample rmse': out_vol_rmse['total'], 'out-of-sample excess rmse': out_vol_rmse['total'] - out_vol_rmse['avg']}\n",
    "    \n",
    "  if framework_params.get('estimationsample_start_date'):\n",
    "    est_model_vol = model_vol.loc[framework_params['estimationsample_start_date']:framework_params['estimationsample_end_date']].dropna()\n",
    "    est_vol_rmse = np.sqrt(np.mean(est_model_vol))\n",
    "    model_perf_stats['estimation rmse'] = est_vol_rmse['total']\n",
    "    model_perf_stats['estimation excess rmse'] = est_vol_rmse['total'] - est_vol_rmse['avg']\n",
    "        \n",
    "  if framework_params.get('verbose',False):\n",
    "    model_perf_stats['insample model volatility'] = is_model_vol\n",
    "    model_perf_stats['out-of-sample model volatility'] = out_model_vol\n",
    "    \n",
    "  return model_perf_stats"
   ]
  },
  {
   "cell_type": "code",
   "execution_count": 17,
   "metadata": {
    "colab": {
     "base_uri": "https://localhost:8080/",
     "height": 85
    },
    "colab_type": "code",
    "id": "VL5tpBzRSQJp",
    "outputId": "ec6dbff2-a4ad-4be2-d229-a9db27c035ec"
   },
   "outputs": [
    {
     "data": {
      "text/plain": [
       "{'insample rmse': 0.003233913057816355,\n",
       " 'insample excess rmse': -0.00022350394266198916,\n",
       " 'out-of-sample rmse': 0.0029439065157343116,\n",
       " 'out-of-sample excess rmse': -0.00021882194541095017}"
      ]
     },
     "execution_count": 17,
     "metadata": {},
     "output_type": "execute_result"
    }
   ],
   "source": [
    "framework_params = {'insample_start_date': '1975-01-02',\n",
    "                    'insample_end_date': '2000-01-01',\n",
    "                    'outofsample_start_date': '2000-01-02',\n",
    "                    'outofsample_end_date': '2017-12-26',\n",
    "                    'verbose': False}\n",
    "\n",
    "model_perf(turb_weights, dxy_forward_sq, framework_params)"
   ]
  },
  {
   "cell_type": "markdown",
   "metadata": {
    "colab_type": "text",
    "id": "byOlnZO40EDx"
   },
   "source": [
    "## Test significance of excess volatility\n",
    "\n",
    "A simple test of the ability of a turbulence model to outperform a random model is to calculate the significance of the average excess volatility.\n",
    "\n",
    "We want this statistic to be negative, because a good model should reduce volatility.\n",
    "\n",
    "We can calculate this by looking at the difference between the volatility for the model and the volatility of a model that assigns an average weight to volatility and calculating a t-statistic:"
   ]
  },
  {
   "cell_type": "code",
   "execution_count": 18,
   "metadata": {
    "colab": {
     "base_uri": "https://localhost:8080/",
     "height": 34
    },
    "colab_type": "code",
    "id": "stRMHt7qy6Pr",
    "outputId": "be6dd68a-cf72-4125-914d-dd6b991054c9"
   },
   "outputs": [
    {
     "data": {
      "text/plain": [
       "Ttest_relResult(statistic=-5.683095936183485, pvalue=1.3825260997268557e-08)"
      ]
     },
     "execution_count": 18,
     "metadata": {},
     "output_type": "execute_result"
    }
   ],
   "source": [
    "framework_params = {'insample_start_date': '1975-01-02',\n",
    "                    'insample_end_date': '2000-01-01',\n",
    "                    'outofsample_start_date': '2000-01-02',\n",
    "                    'outofsample_end_date': '2017-12-26',\n",
    "                    'verbose': True}\n",
    "\n",
    "model_perf_stats = model_perf(turb_weights, dxy_forward_sq, framework_params)\n",
    "\n",
    "stats.ttest_rel(model_perf_stats['insample model volatility']['total'], model_perf_stats['insample model volatility']['avg'])\n"
   ]
  },
  {
   "cell_type": "code",
   "execution_count": 19,
   "metadata": {
    "colab": {
     "base_uri": "https://localhost:8080/",
     "height": 34
    },
    "colab_type": "code",
    "id": "-93ZyVJIPwv6",
    "outputId": "921f3d48-2a8f-442c-85eb-263dcc606d9a"
   },
   "outputs": [
    {
     "data": {
      "text/plain": [
       "Ttest_relResult(statistic=-6.578732513461949, pvalue=5.2636507159142104e-11)"
      ]
     },
     "execution_count": 19,
     "metadata": {},
     "output_type": "execute_result"
    }
   ],
   "source": [
    "stats.ttest_rel(model_perf_stats['out-of-sample model volatility']['total'], model_perf_stats['out-of-sample model volatility']['avg'])"
   ]
  },
  {
   "cell_type": "markdown",
   "metadata": {},
   "source": [
    "### Grid search for the optimal parameters\n",
    "\n",
    "We chose a smoothing window of 20 days and a lookback of 260 days. How do we pick the correct parameters?\n",
    "\n",
    "We need to be careful about holdback periods with this kind of analysis. Let's start by being careful with our sample windows."
   ]
  },
  {
   "cell_type": "markdown",
   "metadata": {},
   "source": [
    "### Splitting the sample for hyperparameter tuning\n",
    "\n",
    "We will limit ourselves to the following sample windows:\n",
    "\n",
    "insample_start_date: '1975-01-02'\n",
    "insample_end_date: '1994-12-31'\n",
    "estimationsample_start_date: '1995-01-01'\n",
    "estimationsample_end_date: '2004-12-31'\n",
    "outofsample_start_date: '2005-01-01'\n",
    "outofsample_end_date: '2017-12-26'"
   ]
  },
  {
   "cell_type": "code",
   "execution_count": 20,
   "metadata": {},
   "outputs": [
    {
     "data": {
      "text/plain": [
       "{'insample rmse': 0.00323959374154902,\n",
       " 'insample excess rmse': -0.00014603009956524592,\n",
       " 'out-of-sample rmse': 0.0029791991383896726,\n",
       " 'out-of-sample excess rmse': -0.00022752335244280095,\n",
       " 'estimation rmse': 0.003003252150698102,\n",
       " 'estimation excess rmse': -0.00039474797662171837}"
      ]
     },
     "execution_count": 20,
     "metadata": {},
     "output_type": "execute_result"
    }
   ],
   "source": [
    "framework_params = {'insample_start_date': '1975-01-02',\n",
    "                    'insample_end_date': '1994-12-31',\n",
    "                    'estimationsample_start_date': '1995-01-01',\n",
    "                    'estimationsample_end_date': '2004-12-31',\n",
    "                    'outofsample_start_date': '2005-01-01',\n",
    "                    'outofsample_end_date': '2017-12-26',\n",
    "                    'verbose': False}\n",
    "\n",
    "def turbulence_models_performance(rets, framework_params, lookback, smoothing):\n",
    "  roll_turb_signal = rolling_turbulence(rets, lookback=lookback, smoothing=smoothing)\n",
    "  turb_wts = turbulence_weights(roll_turb_signal, framework_params['insample_start_date'], framework_params['insample_end_date'])\n",
    "  model_perf_stats = model_perf(turb_wts, dxy_forward_sq, framework_params)\n",
    "  return {'model_perf_stats':model_perf_stats, 'turb_wts':turb_wts}\n",
    "\n",
    "some_model_perf_stats = turbulence_models_performance(returns, framework_params, 260, 20)\n",
    "some_model_perf_stats['model_perf_stats']"
   ]
  },
  {
   "cell_type": "markdown",
   "metadata": {},
   "source": [
    "We will run for the following lookback windows:\n",
    "65 days (1 Quarter), 130 days (Half year), 260 days (1 year), 390 days (1.5 years), 520 days (2 years)\n",
    "\n",
    "and the following smoothing windows:\n",
    "1 day (daily), 5 days (weekly), 10 days (fortnightly), 20 days (monthishly), 40 days (bimonthly)\n",
    "\n",
    "**Note this takes a little time to run for all 25 models**"
   ]
  },
  {
   "cell_type": "code",
   "execution_count": 21,
   "metadata": {},
   "outputs": [
    {
     "name": "stdout",
     "output_type": "stream",
     "text": [
      "CPU times: user 8min 55s, sys: 2.28 s, total: 8min 57s\n",
      "Wall time: 8min 57s\n"
     ]
    }
   ],
   "source": [
    "lookbacks = [65,130,260,390,520]\n",
    "smoothings = [1, 5, 10, 20, 40]\n",
    "\n",
    "index = pd.MultiIndex.from_product([lookbacks,smoothings],names=['lookbacks','smoothings'])\n",
    "\n",
    "turb_model_perf_stats = pd.DataFrame(index = index, columns = some_model_perf_stats['model_perf_stats'].keys())\n",
    "turb_model_weights = pd.DataFrame(index = returns.index, columns = index)\n",
    "\n",
    "for lookback in lookbacks:\n",
    "  for smoothing in smoothings:\n",
    "    model_output = turbulence_models_performance(returns, framework_params, lookback=lookback, smoothing=smoothing)\n",
    "    turb_model_perf_stats.loc[(lookback,smoothing)] = model_output['model_perf_stats']\n",
    "    turb_model_weights.loc[:,(lookback,smoothing)] = model_output['turb_wts']['weights']\n",
    "\n",
    "turb_model_perf_stats"
   ]
  },
  {
   "cell_type": "code",
   "execution_count": 22,
   "metadata": {},
   "outputs": [
    {
     "data": {
      "text/html": [
       "<div>\n",
       "<style scoped>\n",
       "    .dataframe tbody tr th:only-of-type {\n",
       "        vertical-align: middle;\n",
       "    }\n",
       "\n",
       "    .dataframe tbody tr th {\n",
       "        vertical-align: top;\n",
       "    }\n",
       "\n",
       "    .dataframe thead tr th {\n",
       "        text-align: left;\n",
       "    }\n",
       "</style>\n",
       "<table border=\"1\" class=\"dataframe\">\n",
       "  <thead>\n",
       "    <tr>\n",
       "      <th>lookbacks</th>\n",
       "      <th colspan=\"5\" halign=\"left\">65</th>\n",
       "      <th colspan=\"5\" halign=\"left\">130</th>\n",
       "      <th>...</th>\n",
       "      <th colspan=\"5\" halign=\"left\">390</th>\n",
       "      <th colspan=\"5\" halign=\"left\">520</th>\n",
       "    </tr>\n",
       "    <tr>\n",
       "      <th>smoothings</th>\n",
       "      <th>1</th>\n",
       "      <th>5</th>\n",
       "      <th>10</th>\n",
       "      <th>20</th>\n",
       "      <th>40</th>\n",
       "      <th>1</th>\n",
       "      <th>5</th>\n",
       "      <th>10</th>\n",
       "      <th>20</th>\n",
       "      <th>40</th>\n",
       "      <th>...</th>\n",
       "      <th>1</th>\n",
       "      <th>5</th>\n",
       "      <th>10</th>\n",
       "      <th>20</th>\n",
       "      <th>40</th>\n",
       "      <th>1</th>\n",
       "      <th>5</th>\n",
       "      <th>10</th>\n",
       "      <th>20</th>\n",
       "      <th>40</th>\n",
       "    </tr>\n",
       "  </thead>\n",
       "  <tbody>\n",
       "    <tr>\n",
       "      <th>2017-11-29</th>\n",
       "      <td>0.311275</td>\n",
       "      <td>0.573509</td>\n",
       "      <td>0.646384</td>\n",
       "      <td>0.613362</td>\n",
       "      <td>0.625147</td>\n",
       "      <td>0.239780</td>\n",
       "      <td>0.524980</td>\n",
       "      <td>0.563300</td>\n",
       "      <td>0.568751</td>\n",
       "      <td>0.550406</td>\n",
       "      <td>...</td>\n",
       "      <td>0.383596</td>\n",
       "      <td>0.619403</td>\n",
       "      <td>0.590786</td>\n",
       "      <td>0.581202</td>\n",
       "      <td>0.617665</td>\n",
       "      <td>0.358238</td>\n",
       "      <td>0.619088</td>\n",
       "      <td>0.638089</td>\n",
       "      <td>0.633041</td>\n",
       "      <td>0.677613</td>\n",
       "    </tr>\n",
       "    <tr>\n",
       "      <th>2017-11-30</th>\n",
       "      <td>0.105764</td>\n",
       "      <td>0.381822</td>\n",
       "      <td>0.539269</td>\n",
       "      <td>0.609466</td>\n",
       "      <td>0.576848</td>\n",
       "      <td>0.128341</td>\n",
       "      <td>0.362313</td>\n",
       "      <td>0.506990</td>\n",
       "      <td>0.571908</td>\n",
       "      <td>0.526837</td>\n",
       "      <td>...</td>\n",
       "      <td>0.097556</td>\n",
       "      <td>0.407960</td>\n",
       "      <td>0.525835</td>\n",
       "      <td>0.551882</td>\n",
       "      <td>0.561913</td>\n",
       "      <td>0.110685</td>\n",
       "      <td>0.427993</td>\n",
       "      <td>0.568565</td>\n",
       "      <td>0.611242</td>\n",
       "      <td>0.628246</td>\n",
       "    </tr>\n",
       "    <tr>\n",
       "      <th>2017-12-01</th>\n",
       "      <td>0.116825</td>\n",
       "      <td>0.227423</td>\n",
       "      <td>0.445373</td>\n",
       "      <td>0.577717</td>\n",
       "      <td>0.518772</td>\n",
       "      <td>0.153302</td>\n",
       "      <td>0.259048</td>\n",
       "      <td>0.462493</td>\n",
       "      <td>0.542513</td>\n",
       "      <td>0.496732</td>\n",
       "      <td>...</td>\n",
       "      <td>0.160936</td>\n",
       "      <td>0.324834</td>\n",
       "      <td>0.482880</td>\n",
       "      <td>0.525265</td>\n",
       "      <td>0.529338</td>\n",
       "      <td>0.209238</td>\n",
       "      <td>0.364721</td>\n",
       "      <td>0.519727</td>\n",
       "      <td>0.590297</td>\n",
       "      <td>0.599914</td>\n",
       "    </tr>\n",
       "    <tr>\n",
       "      <th>2017-12-04</th>\n",
       "      <td>0.852319</td>\n",
       "      <td>0.269761</td>\n",
       "      <td>0.446345</td>\n",
       "      <td>0.590183</td>\n",
       "      <td>0.526985</td>\n",
       "      <td>0.802869</td>\n",
       "      <td>0.275964</td>\n",
       "      <td>0.465249</td>\n",
       "      <td>0.551588</td>\n",
       "      <td>0.502278</td>\n",
       "      <td>...</td>\n",
       "      <td>0.754971</td>\n",
       "      <td>0.319030</td>\n",
       "      <td>0.482880</td>\n",
       "      <td>0.534415</td>\n",
       "      <td>0.532261</td>\n",
       "      <td>0.743295</td>\n",
       "      <td>0.355986</td>\n",
       "      <td>0.519300</td>\n",
       "      <td>0.598205</td>\n",
       "      <td>0.601631</td>\n",
       "    </tr>\n",
       "    <tr>\n",
       "      <th>2017-12-05</th>\n",
       "      <td>0.647972</td>\n",
       "      <td>0.285298</td>\n",
       "      <td>0.444984</td>\n",
       "      <td>0.562914</td>\n",
       "      <td>0.517990</td>\n",
       "      <td>0.685535</td>\n",
       "      <td>0.314713</td>\n",
       "      <td>0.475290</td>\n",
       "      <td>0.539554</td>\n",
       "      <td>0.501089</td>\n",
       "      <td>...</td>\n",
       "      <td>0.690762</td>\n",
       "      <td>0.329187</td>\n",
       "      <td>0.504669</td>\n",
       "      <td>0.524849</td>\n",
       "      <td>0.531217</td>\n",
       "      <td>0.740102</td>\n",
       "      <td>0.374521</td>\n",
       "      <td>0.543399</td>\n",
       "      <td>0.591579</td>\n",
       "      <td>0.600343</td>\n",
       "    </tr>\n",
       "    <tr>\n",
       "      <th>2017-12-06</th>\n",
       "      <td>0.241995</td>\n",
       "      <td>0.267236</td>\n",
       "      <td>0.411353</td>\n",
       "      <td>0.534086</td>\n",
       "      <td>0.480837</td>\n",
       "      <td>0.185142</td>\n",
       "      <td>0.288552</td>\n",
       "      <td>0.412877</td>\n",
       "      <td>0.493786</td>\n",
       "      <td>0.465637</td>\n",
       "      <td>...</td>\n",
       "      <td>0.138567</td>\n",
       "      <td>0.249171</td>\n",
       "      <td>0.414816</td>\n",
       "      <td>0.466209</td>\n",
       "      <td>0.497599</td>\n",
       "      <td>0.156024</td>\n",
       "      <td>0.295910</td>\n",
       "      <td>0.457454</td>\n",
       "      <td>0.542424</td>\n",
       "      <td>0.571797</td>\n",
       "    </tr>\n",
       "    <tr>\n",
       "      <th>2017-12-07</th>\n",
       "      <td>0.688919</td>\n",
       "      <td>0.475044</td>\n",
       "      <td>0.449456</td>\n",
       "      <td>0.551811</td>\n",
       "      <td>0.506648</td>\n",
       "      <td>0.543632</td>\n",
       "      <td>0.443155</td>\n",
       "      <td>0.419768</td>\n",
       "      <td>0.487867</td>\n",
       "      <td>0.479105</td>\n",
       "      <td>...</td>\n",
       "      <td>0.485501</td>\n",
       "      <td>0.395108</td>\n",
       "      <td>0.418967</td>\n",
       "      <td>0.459347</td>\n",
       "      <td>0.508666</td>\n",
       "      <td>0.500639</td>\n",
       "      <td>0.447380</td>\n",
       "      <td>0.464705</td>\n",
       "      <td>0.535371</td>\n",
       "      <td>0.576948</td>\n",
       "    </tr>\n",
       "    <tr>\n",
       "      <th>2017-12-08</th>\n",
       "      <td>0.494081</td>\n",
       "      <td>0.693339</td>\n",
       "      <td>0.431765</td>\n",
       "      <td>0.521231</td>\n",
       "      <td>0.528158</td>\n",
       "      <td>0.625983</td>\n",
       "      <td>0.632966</td>\n",
       "      <td>0.433156</td>\n",
       "      <td>0.474058</td>\n",
       "      <td>0.501089</td>\n",
       "      <td>...</td>\n",
       "      <td>0.693662</td>\n",
       "      <td>0.573383</td>\n",
       "      <td>0.455904</td>\n",
       "      <td>0.451445</td>\n",
       "      <td>0.523909</td>\n",
       "      <td>0.714559</td>\n",
       "      <td>0.603749</td>\n",
       "      <td>0.500107</td>\n",
       "      <td>0.528104</td>\n",
       "      <td>0.589826</td>\n",
       "    </tr>\n",
       "    <tr>\n",
       "      <th>2017-12-11</th>\n",
       "      <td>0.250922</td>\n",
       "      <td>0.487473</td>\n",
       "      <td>0.363919</td>\n",
       "      <td>0.481106</td>\n",
       "      <td>0.495698</td>\n",
       "      <td>0.166470</td>\n",
       "      <td>0.417978</td>\n",
       "      <td>0.354007</td>\n",
       "      <td>0.430460</td>\n",
       "      <td>0.469400</td>\n",
       "      <td>...</td>\n",
       "      <td>0.131732</td>\n",
       "      <td>0.363391</td>\n",
       "      <td>0.353600</td>\n",
       "      <td>0.409025</td>\n",
       "      <td>0.493422</td>\n",
       "      <td>0.145594</td>\n",
       "      <td>0.399233</td>\n",
       "      <td>0.404351</td>\n",
       "      <td>0.463988</td>\n",
       "      <td>0.565787</td>\n",
       "    </tr>\n",
       "    <tr>\n",
       "      <th>2017-12-12</th>\n",
       "      <td>0.207064</td>\n",
       "      <td>0.341231</td>\n",
       "      <td>0.302488</td>\n",
       "      <td>0.504090</td>\n",
       "      <td>0.468322</td>\n",
       "      <td>0.229756</td>\n",
       "      <td>0.311369</td>\n",
       "      <td>0.318370</td>\n",
       "      <td>0.472677</td>\n",
       "      <td>0.452367</td>\n",
       "      <td>...</td>\n",
       "      <td>0.144159</td>\n",
       "      <td>0.240050</td>\n",
       "      <td>0.289894</td>\n",
       "      <td>0.446870</td>\n",
       "      <td>0.457089</td>\n",
       "      <td>0.148787</td>\n",
       "      <td>0.261398</td>\n",
       "      <td>0.326296</td>\n",
       "      <td>0.513144</td>\n",
       "      <td>0.529942</td>\n",
       "    </tr>\n",
       "    <tr>\n",
       "      <th>2017-12-13</th>\n",
       "      <td>0.523190</td>\n",
       "      <td>0.436978</td>\n",
       "      <td>0.334565</td>\n",
       "      <td>0.512466</td>\n",
       "      <td>0.475362</td>\n",
       "      <td>0.423742</td>\n",
       "      <td>0.385523</td>\n",
       "      <td>0.350856</td>\n",
       "      <td>0.477214</td>\n",
       "      <td>0.451575</td>\n",
       "      <td>...</td>\n",
       "      <td>0.435377</td>\n",
       "      <td>0.326493</td>\n",
       "      <td>0.294667</td>\n",
       "      <td>0.451029</td>\n",
       "      <td>0.466277</td>\n",
       "      <td>0.447850</td>\n",
       "      <td>0.345974</td>\n",
       "      <td>0.336532</td>\n",
       "      <td>0.514854</td>\n",
       "      <td>0.541747</td>\n",
       "    </tr>\n",
       "    <tr>\n",
       "      <th>2017-12-14</th>\n",
       "      <td>0.199690</td>\n",
       "      <td>0.298505</td>\n",
       "      <td>0.383942</td>\n",
       "      <td>0.492209</td>\n",
       "      <td>0.517990</td>\n",
       "      <td>0.233294</td>\n",
       "      <td>0.310582</td>\n",
       "      <td>0.385509</td>\n",
       "      <td>0.471296</td>\n",
       "      <td>0.491979</td>\n",
       "      <td>...</td>\n",
       "      <td>0.193455</td>\n",
       "      <td>0.257463</td>\n",
       "      <td>0.329944</td>\n",
       "      <td>0.451237</td>\n",
       "      <td>0.522865</td>\n",
       "      <td>0.223074</td>\n",
       "      <td>0.282914</td>\n",
       "      <td>0.378759</td>\n",
       "      <td>0.515281</td>\n",
       "      <td>0.584460</td>\n",
       "    </tr>\n",
       "    <tr>\n",
       "      <th>2017-12-15</th>\n",
       "      <td>0.556763</td>\n",
       "      <td>0.308992</td>\n",
       "      <td>0.503110</td>\n",
       "      <td>0.507012</td>\n",
       "      <td>0.533242</td>\n",
       "      <td>0.426887</td>\n",
       "      <td>0.276751</td>\n",
       "      <td>0.447332</td>\n",
       "      <td>0.486092</td>\n",
       "      <td>0.502872</td>\n",
       "      <td>...</td>\n",
       "      <td>0.370961</td>\n",
       "      <td>0.220978</td>\n",
       "      <td>0.370409</td>\n",
       "      <td>0.456852</td>\n",
       "      <td>0.530173</td>\n",
       "      <td>0.356748</td>\n",
       "      <td>0.235194</td>\n",
       "      <td>0.409682</td>\n",
       "      <td>0.510579</td>\n",
       "      <td>0.588968</td>\n",
       "    </tr>\n",
       "    <tr>\n",
       "      <th>2017-12-18</th>\n",
       "      <td>0.262371</td>\n",
       "      <td>0.313070</td>\n",
       "      <td>0.407854</td>\n",
       "      <td>0.450331</td>\n",
       "      <td>0.494916</td>\n",
       "      <td>0.303656</td>\n",
       "      <td>0.328482</td>\n",
       "      <td>0.387872</td>\n",
       "      <td>0.450582</td>\n",
       "      <td>0.481481</td>\n",
       "      <td>...</td>\n",
       "      <td>0.286040</td>\n",
       "      <td>0.276741</td>\n",
       "      <td>0.328076</td>\n",
       "      <td>0.432314</td>\n",
       "      <td>0.512007</td>\n",
       "      <td>0.292891</td>\n",
       "      <td>0.291223</td>\n",
       "      <td>0.362977</td>\n",
       "      <td>0.471041</td>\n",
       "      <td>0.573514</td>\n",
       "    </tr>\n",
       "    <tr>\n",
       "      <th>2017-12-19</th>\n",
       "      <td>0.807297</td>\n",
       "      <td>0.480287</td>\n",
       "      <td>0.426905</td>\n",
       "      <td>0.462992</td>\n",
       "      <td>0.506648</td>\n",
       "      <td>0.845519</td>\n",
       "      <td>0.473249</td>\n",
       "      <td>0.404213</td>\n",
       "      <td>0.465772</td>\n",
       "      <td>0.496732</td>\n",
       "      <td>...</td>\n",
       "      <td>0.874275</td>\n",
       "      <td>0.440091</td>\n",
       "      <td>0.337829</td>\n",
       "      <td>0.449574</td>\n",
       "      <td>0.527668</td>\n",
       "      <td>0.859940</td>\n",
       "      <td>0.463357</td>\n",
       "      <td>0.368949</td>\n",
       "      <td>0.491558</td>\n",
       "      <td>0.585963</td>\n",
       "    </tr>\n",
       "    <tr>\n",
       "      <th>2017-12-20</th>\n",
       "      <td>0.296332</td>\n",
       "      <td>0.405904</td>\n",
       "      <td>0.440902</td>\n",
       "      <td>0.448968</td>\n",
       "      <td>0.543801</td>\n",
       "      <td>0.350629</td>\n",
       "      <td>0.455350</td>\n",
       "      <td>0.443591</td>\n",
       "      <td>0.455317</td>\n",
       "      <td>0.532581</td>\n",
       "      <td>...</td>\n",
       "      <td>0.266984</td>\n",
       "      <td>0.397595</td>\n",
       "      <td>0.373521</td>\n",
       "      <td>0.430859</td>\n",
       "      <td>0.544373</td>\n",
       "      <td>0.265432</td>\n",
       "      <td>0.405198</td>\n",
       "      <td>0.403924</td>\n",
       "      <td>0.460782</td>\n",
       "      <td>0.596480</td>\n",
       "    </tr>\n",
       "    <tr>\n",
       "      <th>2017-12-21</th>\n",
       "      <td>0.297108</td>\n",
       "      <td>0.453680</td>\n",
       "      <td>0.373445</td>\n",
       "      <td>0.435333</td>\n",
       "      <td>0.549863</td>\n",
       "      <td>0.305621</td>\n",
       "      <td>0.489575</td>\n",
       "      <td>0.408742</td>\n",
       "      <td>0.438153</td>\n",
       "      <td>0.538721</td>\n",
       "      <td>...</td>\n",
       "      <td>0.227423</td>\n",
       "      <td>0.413557</td>\n",
       "      <td>0.337207</td>\n",
       "      <td>0.413184</td>\n",
       "      <td>0.535811</td>\n",
       "      <td>0.304172</td>\n",
       "      <td>0.440562</td>\n",
       "      <td>0.374707</td>\n",
       "      <td>0.445608</td>\n",
       "      <td>0.595407</td>\n",
       "    </tr>\n",
       "    <tr>\n",
       "      <th>2017-12-22</th>\n",
       "      <td>0.560644</td>\n",
       "      <td>0.454846</td>\n",
       "      <td>0.383942</td>\n",
       "      <td>0.430269</td>\n",
       "      <td>0.571373</td>\n",
       "      <td>0.439662</td>\n",
       "      <td>0.493509</td>\n",
       "      <td>0.387675</td>\n",
       "      <td>0.432235</td>\n",
       "      <td>0.551000</td>\n",
       "      <td>...</td>\n",
       "      <td>0.228045</td>\n",
       "      <td>0.364842</td>\n",
       "      <td>0.291554</td>\n",
       "      <td>0.400083</td>\n",
       "      <td>0.543120</td>\n",
       "      <td>0.230736</td>\n",
       "      <td>0.395824</td>\n",
       "      <td>0.316272</td>\n",
       "      <td>0.425305</td>\n",
       "      <td>0.600129</td>\n",
       "    </tr>\n",
       "    <tr>\n",
       "      <th>2017-12-25</th>\n",
       "      <td>0.995343</td>\n",
       "      <td>0.723441</td>\n",
       "      <td>0.520801</td>\n",
       "      <td>0.473120</td>\n",
       "      <td>0.585452</td>\n",
       "      <td>0.995283</td>\n",
       "      <td>0.699646</td>\n",
       "      <td>0.519984</td>\n",
       "      <td>0.457289</td>\n",
       "      <td>0.561695</td>\n",
       "      <td>...</td>\n",
       "      <td>0.997929</td>\n",
       "      <td>0.515962</td>\n",
       "      <td>0.396555</td>\n",
       "      <td>0.409233</td>\n",
       "      <td>0.554395</td>\n",
       "      <td>0.997233</td>\n",
       "      <td>0.549638</td>\n",
       "      <td>0.426957</td>\n",
       "      <td>0.439410</td>\n",
       "      <td>0.609573</td>\n",
       "    </tr>\n",
       "    <tr>\n",
       "      <th>2017-12-26</th>\n",
       "      <td>0.878129</td>\n",
       "      <td>0.743445</td>\n",
       "      <td>0.658631</td>\n",
       "      <td>0.497663</td>\n",
       "      <td>0.598162</td>\n",
       "      <td>0.920008</td>\n",
       "      <td>0.721873</td>\n",
       "      <td>0.637527</td>\n",
       "      <td>0.487670</td>\n",
       "      <td>0.576352</td>\n",
       "      <td>...</td>\n",
       "      <td>0.829950</td>\n",
       "      <td>0.508914</td>\n",
       "      <td>0.509234</td>\n",
       "      <td>0.419838</td>\n",
       "      <td>0.560033</td>\n",
       "      <td>0.845040</td>\n",
       "      <td>0.546868</td>\n",
       "      <td>0.534869</td>\n",
       "      <td>0.452233</td>\n",
       "      <td>0.616227</td>\n",
       "    </tr>\n",
       "  </tbody>\n",
       "</table>\n",
       "<p>20 rows × 25 columns</p>\n",
       "</div>"
      ],
      "text/plain": [
       "lookbacks        65                                                130  \\\n",
       "smoothings        1         5         10        20        40        1    \n",
       "2017-11-29  0.311275  0.573509  0.646384  0.613362  0.625147  0.239780   \n",
       "2017-11-30  0.105764  0.381822  0.539269  0.609466  0.576848  0.128341   \n",
       "2017-12-01  0.116825  0.227423  0.445373  0.577717  0.518772  0.153302   \n",
       "2017-12-04  0.852319  0.269761  0.446345  0.590183  0.526985  0.802869   \n",
       "2017-12-05  0.647972  0.285298  0.444984  0.562914  0.517990  0.685535   \n",
       "2017-12-06  0.241995  0.267236  0.411353  0.534086  0.480837  0.185142   \n",
       "2017-12-07  0.688919  0.475044  0.449456  0.551811  0.506648  0.543632   \n",
       "2017-12-08  0.494081  0.693339  0.431765  0.521231  0.528158  0.625983   \n",
       "2017-12-11  0.250922  0.487473  0.363919  0.481106  0.495698  0.166470   \n",
       "2017-12-12  0.207064  0.341231  0.302488  0.504090  0.468322  0.229756   \n",
       "2017-12-13  0.523190  0.436978  0.334565  0.512466  0.475362  0.423742   \n",
       "2017-12-14  0.199690  0.298505  0.383942  0.492209  0.517990  0.233294   \n",
       "2017-12-15  0.556763  0.308992  0.503110  0.507012  0.533242  0.426887   \n",
       "2017-12-18  0.262371  0.313070  0.407854  0.450331  0.494916  0.303656   \n",
       "2017-12-19  0.807297  0.480287  0.426905  0.462992  0.506648  0.845519   \n",
       "2017-12-20  0.296332  0.405904  0.440902  0.448968  0.543801  0.350629   \n",
       "2017-12-21  0.297108  0.453680  0.373445  0.435333  0.549863  0.305621   \n",
       "2017-12-22  0.560644  0.454846  0.383942  0.430269  0.571373  0.439662   \n",
       "2017-12-25  0.995343  0.723441  0.520801  0.473120  0.585452  0.995283   \n",
       "2017-12-26  0.878129  0.743445  0.658631  0.497663  0.598162  0.920008   \n",
       "\n",
       "lookbacks                                             ...          390  \\\n",
       "smoothings        5         10        20        40    ...           1    \n",
       "2017-11-29  0.524980  0.563300  0.568751  0.550406    ...     0.383596   \n",
       "2017-11-30  0.362313  0.506990  0.571908  0.526837    ...     0.097556   \n",
       "2017-12-01  0.259048  0.462493  0.542513  0.496732    ...     0.160936   \n",
       "2017-12-04  0.275964  0.465249  0.551588  0.502278    ...     0.754971   \n",
       "2017-12-05  0.314713  0.475290  0.539554  0.501089    ...     0.690762   \n",
       "2017-12-06  0.288552  0.412877  0.493786  0.465637    ...     0.138567   \n",
       "2017-12-07  0.443155  0.419768  0.487867  0.479105    ...     0.485501   \n",
       "2017-12-08  0.632966  0.433156  0.474058  0.501089    ...     0.693662   \n",
       "2017-12-11  0.417978  0.354007  0.430460  0.469400    ...     0.131732   \n",
       "2017-12-12  0.311369  0.318370  0.472677  0.452367    ...     0.144159   \n",
       "2017-12-13  0.385523  0.350856  0.477214  0.451575    ...     0.435377   \n",
       "2017-12-14  0.310582  0.385509  0.471296  0.491979    ...     0.193455   \n",
       "2017-12-15  0.276751  0.447332  0.486092  0.502872    ...     0.370961   \n",
       "2017-12-18  0.328482  0.387872  0.450582  0.481481    ...     0.286040   \n",
       "2017-12-19  0.473249  0.404213  0.465772  0.496732    ...     0.874275   \n",
       "2017-12-20  0.455350  0.443591  0.455317  0.532581    ...     0.266984   \n",
       "2017-12-21  0.489575  0.408742  0.438153  0.538721    ...     0.227423   \n",
       "2017-12-22  0.493509  0.387675  0.432235  0.551000    ...     0.228045   \n",
       "2017-12-25  0.699646  0.519984  0.457289  0.561695    ...     0.997929   \n",
       "2017-12-26  0.721873  0.637527  0.487670  0.576352    ...     0.829950   \n",
       "\n",
       "lookbacks                                                520            \\\n",
       "smoothings        5         10        20        40        1         5    \n",
       "2017-11-29  0.619403  0.590786  0.581202  0.617665  0.358238  0.619088   \n",
       "2017-11-30  0.407960  0.525835  0.551882  0.561913  0.110685  0.427993   \n",
       "2017-12-01  0.324834  0.482880  0.525265  0.529338  0.209238  0.364721   \n",
       "2017-12-04  0.319030  0.482880  0.534415  0.532261  0.743295  0.355986   \n",
       "2017-12-05  0.329187  0.504669  0.524849  0.531217  0.740102  0.374521   \n",
       "2017-12-06  0.249171  0.414816  0.466209  0.497599  0.156024  0.295910   \n",
       "2017-12-07  0.395108  0.418967  0.459347  0.508666  0.500639  0.447380   \n",
       "2017-12-08  0.573383  0.455904  0.451445  0.523909  0.714559  0.603749   \n",
       "2017-12-11  0.363391  0.353600  0.409025  0.493422  0.145594  0.399233   \n",
       "2017-12-12  0.240050  0.289894  0.446870  0.457089  0.148787  0.261398   \n",
       "2017-12-13  0.326493  0.294667  0.451029  0.466277  0.447850  0.345974   \n",
       "2017-12-14  0.257463  0.329944  0.451237  0.522865  0.223074  0.282914   \n",
       "2017-12-15  0.220978  0.370409  0.456852  0.530173  0.356748  0.235194   \n",
       "2017-12-18  0.276741  0.328076  0.432314  0.512007  0.292891  0.291223   \n",
       "2017-12-19  0.440091  0.337829  0.449574  0.527668  0.859940  0.463357   \n",
       "2017-12-20  0.397595  0.373521  0.430859  0.544373  0.265432  0.405198   \n",
       "2017-12-21  0.413557  0.337207  0.413184  0.535811  0.304172  0.440562   \n",
       "2017-12-22  0.364842  0.291554  0.400083  0.543120  0.230736  0.395824   \n",
       "2017-12-25  0.515962  0.396555  0.409233  0.554395  0.997233  0.549638   \n",
       "2017-12-26  0.508914  0.509234  0.419838  0.560033  0.845040  0.546868   \n",
       "\n",
       "lookbacks                                 \n",
       "smoothings        10        20        40  \n",
       "2017-11-29  0.638089  0.633041  0.677613  \n",
       "2017-11-30  0.568565  0.611242  0.628246  \n",
       "2017-12-01  0.519727  0.590297  0.599914  \n",
       "2017-12-04  0.519300  0.598205  0.601631  \n",
       "2017-12-05  0.543399  0.591579  0.600343  \n",
       "2017-12-06  0.457454  0.542424  0.571797  \n",
       "2017-12-07  0.464705  0.535371  0.576948  \n",
       "2017-12-08  0.500107  0.528104  0.589826  \n",
       "2017-12-11  0.404351  0.463988  0.565787  \n",
       "2017-12-12  0.326296  0.513144  0.529942  \n",
       "2017-12-13  0.336532  0.514854  0.541747  \n",
       "2017-12-14  0.378759  0.515281  0.584460  \n",
       "2017-12-15  0.409682  0.510579  0.588968  \n",
       "2017-12-18  0.362977  0.471041  0.573514  \n",
       "2017-12-19  0.368949  0.491558  0.585963  \n",
       "2017-12-20  0.403924  0.460782  0.596480  \n",
       "2017-12-21  0.374707  0.445608  0.595407  \n",
       "2017-12-22  0.316272  0.425305  0.600129  \n",
       "2017-12-25  0.426957  0.439410  0.609573  \n",
       "2017-12-26  0.534869  0.452233  0.616227  \n",
       "\n",
       "[20 rows x 25 columns]"
      ]
     },
     "execution_count": 22,
     "metadata": {},
     "output_type": "execute_result"
    }
   ],
   "source": [
    "turb_model_weights.tail(20)"
   ]
  },
  {
   "cell_type": "code",
   "execution_count": 28,
   "metadata": {},
   "outputs": [],
   "source": [
    "turb_model_weights.to_pickle('./turb_model_weights.pkl')\n",
    "turb_model_perf_stats.to_pickle('./turb_model_perf_stats.pkl')"
   ]
  },
  {
   "cell_type": "markdown",
   "metadata": {},
   "source": [
    "### Evaluating the out of sample performance of the optimal model\n",
    "\n",
    "We plan on taking the model with the lowest estimation period excess RMSE as the optimal parameterization.\n",
    "\n",
    "Let's look at how well this aligns during the out of sample period."
   ]
  },
  {
   "cell_type": "code",
   "execution_count": 24,
   "metadata": {
    "scrolled": true
   },
   "outputs": [
    {
     "data": {
      "image/png": "[encoded data removed]",
      "text/plain": [
       "<Figure size 432x288 with 1 Axes>"
      ]
     },
     "metadata": {},
     "output_type": "display_data"
    }
   ],
   "source": [
    "fig, ax = plt.subplots()\n",
    "turb_model_perf_stats.plot(x='estimation excess rmse', y='out-of-sample excess rmse', ax=ax, style='o')\n",
    "\n",
    "for k, v in turb_model_perf_stats.iterrows():\n",
    "  ax.annotate(k, (v['estimation excess rmse'],v['out-of-sample excess rmse']))"
   ]
  },
  {
   "cell_type": "markdown",
   "metadata": {},
   "source": [
    "There is a strong (but by no means 1:1) relationship between performance in the estimation window and out of sample, suggesting that these models exhibit persistent performance associated with paramater choices.\n",
    "\n",
    "### Exploring a bad idea in a little more detail...\n",
    "\n",
    "Suppose instead we had used the insample performance to choose the best model."
   ]
  },
  {
   "cell_type": "code",
   "execution_count": 25,
   "metadata": {},
   "outputs": [
    {
     "data": {
      "image/png": "[encoded data removed]",
      "text/plain": [
       "<Figure size 432x288 with 1 Axes>"
      ]
     },
     "metadata": {},
     "output_type": "display_data"
    }
   ],
   "source": [
    "fig, ax = plt.subplots()\n",
    "turb_model_perf_stats.plot(x='insample excess rmse', y='out-of-sample excess rmse', ax=ax, style='o')\n",
    "\n",
    "for k, v in turb_model_perf_stats.iterrows():\n",
    "  ax.annotate(k, (v['insample excess rmse'],v['out-of-sample excess rmse']))"
   ]
  },
  {
   "cell_type": "markdown",
   "metadata": {},
   "source": [
    "While there is a positive relationship between the two, the relationship is weaker. This is because we are overfitting in sample.\n",
    "\n",
    "**In sample performance should never be used to determine the correct parameterization of a model.**"
   ]
  },
  {
   "cell_type": "markdown",
   "metadata": {
    "colab_type": "text",
    "id": "Ns85W-Cf5CT4"
   },
   "source": [
    "### Sanity checking with random returns\n",
    "\n",
    "Before you get too far with any model, it is worthwhile testing how your model performs if the inputs are randomized. This is a good way of identifying information leakage inside the model code.\n",
    "\n",
    "To do this with turbulence, we are going to simulate 1000 random samples of returns, calculate turbulence on these simulated returns and look at the relationship to subsequent simulated DXY. If we use IID normal returns, there should be no predictive power out of sample.\n",
    "\n",
    "** Note: This step takes a while to run, depending on computational power **"
   ]
  },
  {
   "cell_type": "code",
   "execution_count": null,
   "metadata": {
    "colab": {},
    "colab_type": "code",
    "id": "Zcaj07aCaX6o"
   },
   "outputs": [],
   "source": [
    "framework_params = {'insample_start_date': '1975-01-02',\n",
    "                    'insample_end_date': '2000-01-01',\n",
    "                    'outofsample_start_date': '2000-01-02',\n",
    "                    'outofsample_end_date': '2017-12-26',\n",
    "                    'verbose': False}\n",
    "\n",
    "def random_turbulence_models_by_seed(rets,framework_params, seed):\n",
    "  np.random.seed(seed=seed)\n",
    "  randreturns = pd.DataFrame(np.random.randn(rets['AUD'].count(),9), index=rets.index, columns=rets.columns)\n",
    "  roll_turb_signal = rolling_turbulence(randreturns, lookback=260, smoothing=20)\n",
    "  turb_wts = turbulence_weights(roll_turb_signal, framework_params['insample_start_date'], framework_params['insample_end_date'])\n",
    "  model_perf_stats = model_perf(turb_wts, dxy_forward_sq, framework_params)\n",
    "  return model_perf_stats\n",
    "\n",
    "# random_turbulence_models_by_seed(returns,framework_params, 1)\n",
    "\n",
    "rand_turb_perf = pd.DataFrame(list(map(lambda x:random_turbulence_models_by_seed(returns, framework_params, x), range(0,1000))))"
   ]
  },
  {
   "cell_type": "code",
   "execution_count": 32,
   "metadata": {},
   "outputs": [
    {
     "data": {
      "text/html": [
       "<div>\n",
       "<style scoped>\n",
       "    .dataframe tbody tr th:only-of-type {\n",
       "        vertical-align: middle;\n",
       "    }\n",
       "\n",
       "    .dataframe tbody tr th {\n",
       "        vertical-align: top;\n",
       "    }\n",
       "\n",
       "    .dataframe thead th {\n",
       "        text-align: right;\n",
       "    }\n",
       "</style>\n",
       "<table border=\"1\" class=\"dataframe\">\n",
       "  <thead>\n",
       "    <tr style=\"text-align: right;\">\n",
       "      <th></th>\n",
       "      <th>insample excess rmse</th>\n",
       "      <th>insample rmse</th>\n",
       "      <th>out-of-sample excess rmse</th>\n",
       "      <th>out-of-sample rmse</th>\n",
       "    </tr>\n",
       "  </thead>\n",
       "  <tbody>\n",
       "    <tr>\n",
       "      <th>count</th>\n",
       "      <td>1000.000000</td>\n",
       "      <td>1000.000000</td>\n",
       "      <td>1.000000e+03</td>\n",
       "      <td>1000.000000</td>\n",
       "    </tr>\n",
       "    <tr>\n",
       "      <th>mean</th>\n",
       "      <td>-0.000002</td>\n",
       "      <td>0.003455</td>\n",
       "      <td>-1.457792e-06</td>\n",
       "      <td>0.003161</td>\n",
       "    </tr>\n",
       "    <tr>\n",
       "      <th>std</th>\n",
       "      <td>0.000046</td>\n",
       "      <td>0.000046</td>\n",
       "      <td>4.652084e-05</td>\n",
       "      <td>0.000047</td>\n",
       "    </tr>\n",
       "    <tr>\n",
       "      <th>min</th>\n",
       "      <td>-0.000141</td>\n",
       "      <td>0.003317</td>\n",
       "      <td>-1.371522e-04</td>\n",
       "      <td>0.003026</td>\n",
       "    </tr>\n",
       "    <tr>\n",
       "      <th>25%</th>\n",
       "      <td>-0.000032</td>\n",
       "      <td>0.003425</td>\n",
       "      <td>-3.147497e-05</td>\n",
       "      <td>0.003131</td>\n",
       "    </tr>\n",
       "    <tr>\n",
       "      <th>50%</th>\n",
       "      <td>-0.000002</td>\n",
       "      <td>0.003456</td>\n",
       "      <td>9.324964e-07</td>\n",
       "      <td>0.003164</td>\n",
       "    </tr>\n",
       "    <tr>\n",
       "      <th>75%</th>\n",
       "      <td>0.000027</td>\n",
       "      <td>0.003485</td>\n",
       "      <td>2.929593e-05</td>\n",
       "      <td>0.003192</td>\n",
       "    </tr>\n",
       "    <tr>\n",
       "      <th>max</th>\n",
       "      <td>0.000140</td>\n",
       "      <td>0.003597</td>\n",
       "      <td>1.443963e-04</td>\n",
       "      <td>0.003307</td>\n",
       "    </tr>\n",
       "  </tbody>\n",
       "</table>\n",
       "</div>"
      ],
      "text/plain": [
       "       insample excess rmse  insample rmse  out-of-sample excess rmse  \\\n",
       "count           1000.000000    1000.000000               1.000000e+03   \n",
       "mean              -0.000002       0.003455              -1.457792e-06   \n",
       "std                0.000046       0.000046               4.652084e-05   \n",
       "min               -0.000141       0.003317              -1.371522e-04   \n",
       "25%               -0.000032       0.003425              -3.147497e-05   \n",
       "50%               -0.000002       0.003456               9.324964e-07   \n",
       "75%                0.000027       0.003485               2.929593e-05   \n",
       "max                0.000140       0.003597               1.443963e-04   \n",
       "\n",
       "       out-of-sample rmse  \n",
       "count         1000.000000  \n",
       "mean             0.003161  \n",
       "std              0.000047  \n",
       "min              0.003026  \n",
       "25%              0.003131  \n",
       "50%              0.003164  \n",
       "75%              0.003192  \n",
       "max              0.003307  "
      ]
     },
     "execution_count": 32,
     "metadata": {},
     "output_type": "execute_result"
    }
   ],
   "source": [
    "rand_turb_perf.describe()"
   ]
  },
  {
   "cell_type": "code",
   "execution_count": 34,
   "metadata": {
    "colab": {},
    "colab_type": "code",
    "id": "s_yNmqfs6rXx"
   },
   "outputs": [
    {
     "data": {
      "text/plain": [
       "<matplotlib.axes._subplots.AxesSubplot at 0x7f541231ab38>"
      ]
     },
     "execution_count": 34,
     "metadata": {},
     "output_type": "execute_result"
    },
    {
     "data": {
      "image/png": "[encoded data removed]",
      "text/plain": [
       "<Figure size 432x288 with 1 Axes>"
      ]
     },
     "metadata": {},
     "output_type": "display_data"
    }
   ],
   "source": [
    "rand_turb_perf.plot(x='insample excess rmse', y='out-of-sample excess rmse', style='o')"
   ]
  },
  {
   "cell_type": "markdown",
   "metadata": {},
   "source": [
    "There is no discernable pattern of performance either in- or out-of-sample."
   ]
  },
  {
   "cell_type": "code",
   "execution_count": 33,
   "metadata": {},
   "outputs": [],
   "source": [
    "rand_turb_perf.to_pickle('./rand_turb_perf.pkl')"
   ]
  },
  {
   "cell_type": "code",
   "execution_count": null,
   "metadata": {},
   "outputs": [],
   "source": []
  }
 ],
 "metadata": {
  "colab": {
   "collapsed_sections": [],
   "include_colab_link": true,
   "name": "Part_04b_Creating_Turbulence_Model.ipynb",
   "provenance": [],
   "version": "0.3.2"
  },
  "kernelspec": {
   "display_name": "Python [conda env:modeliing-volatility] *",
   "language": "python",
   "name": "conda-env-modeliing-volatility-py"
  },
  "language_info": {
   "codemirror_mode": {
    "name": "ipython",
    "version": 3
   },
   "file_extension": ".py",
   "mimetype": "text/x-python",
   "name": "python",
   "nbconvert_exporter": "python",
   "pygments_lexer": "ipython3",
   "version": "3.7.3"
  }
 },
 "nbformat": 4,
 "nbformat_minor": 1
}
